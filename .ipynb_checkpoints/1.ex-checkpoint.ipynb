{
 "cells": [
  {
   "cell_type": "code",
   "execution_count": 6,
   "metadata": {},
   "outputs": [],
   "source": [
    "from bs4 import BeautifulSoup"
   ]
  },
  {
   "cell_type": "code",
   "execution_count": 7,
   "metadata": {},
   "outputs": [],
   "source": [
    "html_text = '''\n",
    "<html>\n",
    "<body>\n",
    "<h1 id = \"title\"> 빅데이터 분석 수업 </h1>\n",
    "<p id = \"contents\"> 크롤링 수업 </p>\n",
    "</body>\n",
    "</html>\n",
    "'''"
   ]
  },
  {
   "cell_type": "code",
   "execution_count": 16,
   "metadata": {
    "scrolled": true
   },
   "outputs": [],
   "source": [
    "soup = BeautifulSoup(html_text, 'html')"
   ]
  },
  {
   "cell_type": "code",
   "execution_count": 17,
   "metadata": {},
   "outputs": [
    {
     "name": "stdout",
     "output_type": "stream",
     "text": [
      "지금 하고 있는 말은 안녕 이다.\n"
     ]
    }
   ],
   "source": [
    "a = '안녕'\n",
    "print(f\"지금 하고 있는 말은 {a} 이다.\")"
   ]
  },
  {
   "cell_type": "code",
   "execution_count": 22,
   "metadata": {},
   "outputs": [
    {
     "name": "stdout",
     "output_type": "stream",
     "text": [
      "html : \n",
      "<html>\n",
      "<body>\n",
      "<h1 id=\"title\"> 빅데이터 분석 수업 </h1>\n",
      "<p id=\"contents\"> 크롤링 수업 </p>\n",
      "</body>\n",
      "</html>\n",
      "----------------------------\n",
      "body : \n",
      "<body>\n",
      "<h1 id=\"title\"> 빅데이터 분석 수업 </h1>\n",
      "<p id=\"contents\"> 크롤링 수업 </p>\n",
      "</body>\n",
      "----------------------------\n",
      "h1 : \n",
      "<h1 id=\"title\"> 빅데이터 분석 수업 </h1>\n",
      "----------------------------\n",
      "text : \n",
      "\n",
      "\n",
      " 빅데이터 분석 수업 \n",
      " 크롤링 수업 \n",
      "\n",
      "\n"
     ]
    }
   ],
   "source": [
    "print(f\"html : \\n{soup.html}\")\n",
    "print(\"----------------------------\")\n",
    "print(f\"body : \\n{soup.html.body}\")\n",
    "print(\"----------------------------\")\n",
    "print(f\"h1 : \\n{soup.html.h1}\")\n",
    "print(\"----------------------------\")\n",
    "print(f\"text : \\n{soup.html.text}\")"
   ]
  },
  {
   "cell_type": "code",
   "execution_count": null,
   "metadata": {},
   "outputs": [],
   "source": []
  }
 ],
 "metadata": {
  "kernelspec": {
   "display_name": "deep",
   "language": "python",
   "name": "deep"
  },
  "language_info": {
   "codemirror_mode": {
    "name": "ipython",
    "version": 3
   },
   "file_extension": ".py",
   "mimetype": "text/x-python",
   "name": "python",
   "nbconvert_exporter": "python",
   "pygments_lexer": "ipython3",
   "version": "3.7.7"
  }
 },
 "nbformat": 4,
 "nbformat_minor": 4
}
