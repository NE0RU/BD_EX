{
 "cells": [
  {
   "cell_type": "code",
   "execution_count": 6,
   "metadata": {},
   "outputs": [
    {
     "name": "stdout",
     "output_type": "stream",
     "text": [
      "원래 문장 : 안녕하세요 빅데이터 시간 입니다.\n",
      " 로 분리한 문장 : ['안녕하세요', '빅데이터', '시간', '입니다.']\n",
      "\\.로 분리한 문장 : ['안녕하세요 빅데이터 시간 입니다', '']\n"
     ]
    }
   ],
   "source": [
    "import re\n",
    "\n",
    "text = \"안녕하세요 빅데이터 시간 입니다.\"\n",
    "sep1 = \" \"\n",
    "sep2 = \"\\.\"\n",
    "\n",
    "result1 = re.split(sep1, text)\n",
    "result2 = re.split(sep2, text)\n",
    "\n",
    "print(f'원래 문장 : {text}')\n",
    "print(f'{sep1}로 분리한 문장 : {result1}')\n",
    "print(f'{sep2}로 분리한 문장 : {result2}')"
   ]
  },
  {
   "cell_type": "code",
   "execution_count": 9,
   "metadata": {},
   "outputs": [
    {
     "name": "stdout",
     "output_type": "stream",
     "text": [
      "원래 문자 : 안녕하세요. 빅데이터 시간 입니다요.\n",
      "대체 문자 : <sub>. 빅데이터 시간 <sub>.\n"
     ]
    }
   ],
   "source": [
    "text = \"안녕하세요. 빅데이터 시간 입니다요.\"\n",
    "\n",
    "obj_word = '[가-힣]+요'\n",
    "sub_word = \"<sub>\"\n",
    "result = re.sub(obj_word, sub_word, text)\n",
    "\n",
    "print(f'원래 문자 : {text}')\n",
    "print(f'대체 문자 : {result}')"
   ]
  },
  {
   "cell_type": "code",
   "execution_count": 16,
   "metadata": {},
   "outputs": [
    {
     "name": "stdout",
     "output_type": "stream",
     "text": [
      "I love you  \n",
      "    사랑해\n"
     ]
    }
   ],
   "source": [
    "text = 'I love you. \\t 사랑해'\n",
    "\n",
    "eng = '[^a-zA-Z ]'\n",
    "kor = '[^가-힣ㄱ-ㅎㅏ-ㅢ ]'\n",
    "\n",
    "result1 = re.sub(eng, '', text)\n",
    "result2 = re.sub(kor, '', text)\n",
    "\n",
    "print(result1)\n",
    "print(result2)"
   ]
  },
  {
   "cell_type": "code",
   "execution_count": 23,
   "metadata": {},
   "outputs": [
    {
     "name": "stdout",
     "output_type": "stream",
     "text": [
      "제 이메일 주소는 <E-mail>.hs.kr 입니다.\n"
     ]
    }
   ],
   "source": [
    "text = \"제 이메일 주소는 gsmmy@gsm.hs.kr 입니다.\"\n",
    "\n",
    "sub_word = '<E-mail>'\n",
    "\n",
    "compiling = re.compile('[a-zA-Z0-9\\-_]+@+[a-zA-Z0-9\\-_]+')\n",
    "result = re.sub(compiling, sub_word, text)\n",
    "print(result)"
   ]
  },
  {
   "cell_type": "code",
   "execution_count": null,
   "metadata": {},
   "outputs": [],
   "source": []
  }
 ],
 "metadata": {
  "kernelspec": {
   "display_name": "deep",
   "language": "python",
   "name": "deep"
  },
  "language_info": {
   "codemirror_mode": {
    "name": "ipython",
    "version": 3
   },
   "file_extension": ".py",
   "mimetype": "text/x-python",
   "name": "python",
   "nbconvert_exporter": "python",
   "pygments_lexer": "ipython3",
   "version": "3.7.7"
  }
 },
 "nbformat": 4,
 "nbformat_minor": 4
}
