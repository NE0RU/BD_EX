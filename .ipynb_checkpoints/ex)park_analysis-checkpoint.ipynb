{
 "cells": [
  {
   "cell_type": "markdown",
   "metadata": {},
   "source": [
    "## 분석에 사용할 도구를 불러옵니다."
   ]
  },
  {
   "cell_type": "code",
   "execution_count": 1,
   "metadata": {},
   "outputs": [],
   "source": [
    "# 필요한 라이브러리를 로드합니다.\n",
    "# pandas, numpy, seaborn, matplotlib\n",
    "import pandas as pd\n",
    "import numpy as np\n",
    "import seaborn as sns\n",
    "import matplotlib.pyplot as plt"
   ]
  },
  {
   "cell_type": "markdown",
   "metadata": {},
   "source": [
    "## Seaborn 설정으로 시각화의 스타일, 폰트 설정하기\n",
    "* [matplotlib.pyplot.rc — Matplotlib 3.1.3 documentation](https://matplotlib.org/3.1.3/api/_as_gen/matplotlib.pyplot.rc.html)"
   ]
  },
  {
   "cell_type": "code",
   "execution_count": 2,
   "metadata": {},
   "outputs": [],
   "source": [
    "# seaborn 의 set 기능을 통해 폰트, 마이너스 폰트 설정, 스타일 설정을 합니다.\n",
    "# Wind : \"Malgun Gothic\", MAC:\"AppleGothic\"\n",
    "sns.set(font=\"Malgun Gothic\",\n",
    "       rc={\"axes.unicode_minus\":False},\n",
    "       style=\"whitegrid\")"
   ]
  },
  {
   "cell_type": "code",
   "execution_count": 3,
   "metadata": {
    "scrolled": false
   },
   "outputs": [
    {
     "data": {
      "text/plain": [
       "<matplotlib.axes._subplots.AxesSubplot at 0x24381bafb88>"
      ]
     },
     "execution_count": 3,
     "metadata": {},
     "output_type": "execute_result"
    },
    {
     "data": {
      "image/png": "[encoded data removed]",
      "text/plain": [
       "<Figure size 432x288 with 1 Axes>"
      ]
     },
     "metadata": {},
     "output_type": "display_data"
    }
   ],
   "source": [
    "# 한글폰트 설정 확인을 합니다.\n",
    "pd.Series([1, -1, 0 , 5, -5]).plot(title=\"한글폰트\")"
   ]
  },
  {
   "cell_type": "code",
   "execution_count": 4,
   "metadata": {},
   "outputs": [],
   "source": [
    "# 그래프가 선명하게 표시되도록 합니다.\n",
    "from IPython.display import set_matplotlib_formats\n",
    "\n",
    "set_matplotlib_formats(\"retina\")"
   ]
  },
  {
   "cell_type": "markdown",
   "metadata": {},
   "source": [
    "## 데이터 로드\n",
    "- https://www.data.go.kr/data/15012890/standard.do\n",
    "- csv 파일 다운로드"
   ]
  },
  {
   "cell_type": "code",
   "execution_count": 5,
   "metadata": {},
   "outputs": [
    {
     "data": {
      "text/plain": [
       "(19593, 19)"
      ]
     },
     "execution_count": 5,
     "metadata": {},
     "output_type": "execute_result"
    }
   ],
   "source": [
    "# 데이터를 로드해서 df 라는 변수에 담습니다.\n",
    "df = pd.read_csv(\"data/전국도시공원표준데이터.csv\",encoding=\"cp949\")\n",
    "df.shape"
   ]
  },
  {
   "cell_type": "code",
   "execution_count": 6,
   "metadata": {
    "scrolled": false
   },
   "outputs": [
    {
     "data": {
      "text/html": [
       "<div>\n",
       "<style scoped>\n",
       "    .dataframe tbody tr th:only-of-type {\n",
       "        vertical-align: middle;\n",
       "    }\n",
       "\n",
       "    .dataframe tbody tr th {\n",
       "        vertical-align: top;\n",
       "    }\n",
       "\n",
       "    .dataframe thead th {\n",
       "        text-align: right;\n",
       "    }\n",
       "</style>\n",
       "<table border=\"1\" class=\"dataframe\">\n",
       "  <thead>\n",
       "    <tr style=\"text-align: right;\">\n",
       "      <th></th>\n",
       "      <th>관리번호</th>\n",
       "      <th>공원명</th>\n",
       "      <th>공원구분</th>\n",
       "      <th>소재지도로명주소</th>\n",
       "      <th>소재지지번주소</th>\n",
       "      <th>위도</th>\n",
       "      <th>경도</th>\n",
       "      <th>공원면적</th>\n",
       "      <th>공원보유시설(운동시설)</th>\n",
       "      <th>공원보유시설(유희시설)</th>\n",
       "      <th>공원보유시설(편익시설)</th>\n",
       "      <th>공원보유시설(교양시설)</th>\n",
       "      <th>공원보유시설(기타시설)</th>\n",
       "      <th>지정고시일</th>\n",
       "      <th>관리기관명</th>\n",
       "      <th>전화번호</th>\n",
       "      <th>데이터기준일자</th>\n",
       "      <th>제공기관코드</th>\n",
       "      <th>제공기관명</th>\n",
       "    </tr>\n",
       "  </thead>\n",
       "  <tbody>\n",
       "    <tr>\n",
       "      <th>0</th>\n",
       "      <td>41135-00098</td>\n",
       "      <td>샘터공원</td>\n",
       "      <td>어린이공원</td>\n",
       "      <td>NaN</td>\n",
       "      <td>경기도 성남시 분당구 구미동 87</td>\n",
       "      <td>37.348802</td>\n",
       "      <td>127.118613</td>\n",
       "      <td>3620.1</td>\n",
       "      <td>NaN</td>\n",
       "      <td>어린이놀이터</td>\n",
       "      <td>벤치</td>\n",
       "      <td>NaN</td>\n",
       "      <td>NaN</td>\n",
       "      <td>1991-01-08</td>\n",
       "      <td>분당구녹지공원과</td>\n",
       "      <td>031-729-7461</td>\n",
       "      <td>2020-01-17</td>\n",
       "      <td>3780000</td>\n",
       "      <td>경기도 성남시</td>\n",
       "    </tr>\n",
       "    <tr>\n",
       "      <th>1</th>\n",
       "      <td>29200-00061</td>\n",
       "      <td>제2풍영정</td>\n",
       "      <td>근린공원</td>\n",
       "      <td>NaN</td>\n",
       "      <td>광주광역시 광산구 운남동 793-1, 780-1</td>\n",
       "      <td>35.177519</td>\n",
       "      <td>126.811916</td>\n",
       "      <td>26200.7</td>\n",
       "      <td>배드민턴장, 농구장</td>\n",
       "      <td>조합놀이대, 기타놀이기구</td>\n",
       "      <td>NaN</td>\n",
       "      <td>야외무대</td>\n",
       "      <td>관리사무소</td>\n",
       "      <td>1997-08-12</td>\n",
       "      <td>광주광역시 광산구청</td>\n",
       "      <td>062-960-8704</td>\n",
       "      <td>2020-07-16</td>\n",
       "      <td>3630000</td>\n",
       "      <td>광주광역시 광산구</td>\n",
       "    </tr>\n",
       "    <tr>\n",
       "      <th>2</th>\n",
       "      <td>29200-00062</td>\n",
       "      <td>맑은샘</td>\n",
       "      <td>어린이공원</td>\n",
       "      <td>광주광역시 광산구 풍영로 63</td>\n",
       "      <td>광주광역시 광산구 월곡동 681-1</td>\n",
       "      <td>35.178777</td>\n",
       "      <td>126.810674</td>\n",
       "      <td>1500.1</td>\n",
       "      <td>NaN</td>\n",
       "      <td>조합놀이, 기타놀이기구</td>\n",
       "      <td>NaN</td>\n",
       "      <td>NaN</td>\n",
       "      <td>NaN</td>\n",
       "      <td>1997-08-12</td>\n",
       "      <td>광주광역시 광산구청</td>\n",
       "      <td>062-960-8712</td>\n",
       "      <td>2020-07-16</td>\n",
       "      <td>3630000</td>\n",
       "      <td>광주광역시 광산구</td>\n",
       "    </tr>\n",
       "    <tr>\n",
       "      <th>3</th>\n",
       "      <td>29200-00063</td>\n",
       "      <td>야호숲</td>\n",
       "      <td>어린이공원</td>\n",
       "      <td>NaN</td>\n",
       "      <td>광주광역시 광산구 월곡동 685-2 (운남 2지구)</td>\n",
       "      <td>35.173388</td>\n",
       "      <td>126.810754</td>\n",
       "      <td>1500.3</td>\n",
       "      <td>NaN</td>\n",
       "      <td>그네, 조합놀이, 기타놀이기구</td>\n",
       "      <td>NaN</td>\n",
       "      <td>NaN</td>\n",
       "      <td>NaN</td>\n",
       "      <td>1997-08-12</td>\n",
       "      <td>광주광역시 광산구청</td>\n",
       "      <td>062-960-8712</td>\n",
       "      <td>2020-07-16</td>\n",
       "      <td>3630000</td>\n",
       "      <td>광주광역시 광산구</td>\n",
       "    </tr>\n",
       "    <tr>\n",
       "      <th>4</th>\n",
       "      <td>29200-00064</td>\n",
       "      <td>풍영정천</td>\n",
       "      <td>어린이공원</td>\n",
       "      <td>NaN</td>\n",
       "      <td>광주광역시 광산구 운남동 781-2 (운남 2지구)</td>\n",
       "      <td>35.177946</td>\n",
       "      <td>126.814155</td>\n",
       "      <td>1520</td>\n",
       "      <td>NaN</td>\n",
       "      <td>조합놀이</td>\n",
       "      <td>NaN</td>\n",
       "      <td>NaN</td>\n",
       "      <td>NaN</td>\n",
       "      <td>1997-08-12</td>\n",
       "      <td>광주광역시 광산구청</td>\n",
       "      <td>062-960-8712</td>\n",
       "      <td>2020-07-16</td>\n",
       "      <td>3630000</td>\n",
       "      <td>광주광역시 광산구</td>\n",
       "    </tr>\n",
       "  </tbody>\n",
       "</table>\n",
       "</div>"
      ],
      "text/plain": [
       "          관리번호    공원명   공원구분          소재지도로명주소                       소재지지번주소  \\\n",
       "0  41135-00098   샘터공원  어린이공원               NaN            경기도 성남시 분당구 구미동 87   \n",
       "1  29200-00061  제2풍영정   근린공원               NaN    광주광역시 광산구 운남동 793-1, 780-1   \n",
       "2  29200-00062    맑은샘  어린이공원  광주광역시 광산구 풍영로 63           광주광역시 광산구 월곡동 681-1   \n",
       "3  29200-00063    야호숲  어린이공원               NaN  광주광역시 광산구 월곡동 685-2 (운남 2지구)   \n",
       "4  29200-00064   풍영정천  어린이공원               NaN  광주광역시 광산구 운남동 781-2 (운남 2지구)   \n",
       "\n",
       "          위도          경도     공원면적 공원보유시설(운동시설)      공원보유시설(유희시설) 공원보유시설(편익시설)  \\\n",
       "0  37.348802  127.118613   3620.1          NaN            어린이놀이터           벤치   \n",
       "1  35.177519  126.811916  26200.7   배드민턴장, 농구장     조합놀이대, 기타놀이기구          NaN   \n",
       "2  35.178777  126.810674   1500.1          NaN      조합놀이, 기타놀이기구          NaN   \n",
       "3  35.173388  126.810754   1500.3          NaN  그네, 조합놀이, 기타놀이기구          NaN   \n",
       "4  35.177946  126.814155     1520          NaN              조합놀이          NaN   \n",
       "\n",
       "  공원보유시설(교양시설) 공원보유시설(기타시설)       지정고시일       관리기관명          전화번호     데이터기준일자  \\\n",
       "0          NaN          NaN  1991-01-08    분당구녹지공원과  031-729-7461  2020-01-17   \n",
       "1         야외무대        관리사무소  1997-08-12  광주광역시 광산구청  062-960-8704  2020-07-16   \n",
       "2          NaN          NaN  1997-08-12  광주광역시 광산구청  062-960-8712  2020-07-16   \n",
       "3          NaN          NaN  1997-08-12  광주광역시 광산구청  062-960-8712  2020-07-16   \n",
       "4          NaN          NaN  1997-08-12  광주광역시 광산구청  062-960-8712  2020-07-16   \n",
       "\n",
       "    제공기관코드      제공기관명  \n",
       "0  3780000    경기도 성남시  \n",
       "1  3630000  광주광역시 광산구  \n",
       "2  3630000  광주광역시 광산구  \n",
       "3  3630000  광주광역시 광산구  \n",
       "4  3630000  광주광역시 광산구  "
      ]
     },
     "execution_count": 6,
     "metadata": {},
     "output_type": "execute_result"
    }
   ],
   "source": [
    "# 미리보기를 합니다.\n",
    "df.head()"
   ]
  },
  {
   "cell_type": "markdown",
   "metadata": {},
   "source": [
    "## 기본 정보 보기"
   ]
  },
  {
   "cell_type": "code",
   "execution_count": 7,
   "metadata": {},
   "outputs": [
    {
     "name": "stdout",
     "output_type": "stream",
     "text": [
      "<class 'pandas.core.frame.DataFrame'>\n",
      "RangeIndex: 19593 entries, 0 to 19592\n",
      "Data columns (total 19 columns):\n",
      " #   Column        Non-Null Count  Dtype  \n",
      "---  ------        --------------  -----  \n",
      " 0   관리번호          19593 non-null  object \n",
      " 1   공원명           19593 non-null  object \n",
      " 2   공원구분          19593 non-null  object \n",
      " 3   소재지도로명주소      7730 non-null   object \n",
      " 4   소재지지번주소       18672 non-null  object \n",
      " 5   위도            19593 non-null  float64\n",
      " 6   경도            19593 non-null  float64\n",
      " 7   공원면적          19593 non-null  object \n",
      " 8   공원보유시설(운동시설)  5046 non-null   object \n",
      " 9   공원보유시설(유희시설)  7152 non-null   object \n",
      " 10  공원보유시설(편익시설)  5397 non-null   object \n",
      " 11  공원보유시설(교양시설)  1245 non-null   object \n",
      " 12  공원보유시설(기타시설)  3166 non-null   object \n",
      " 13  지정고시일         16604 non-null  object \n",
      " 14  관리기관명         18379 non-null  object \n",
      " 15  전화번호          17934 non-null  object \n",
      " 16  데이터기준일자       19593 non-null  object \n",
      " 17  제공기관코드        19593 non-null  object \n",
      " 18  제공기관명         19593 non-null  object \n",
      "dtypes: float64(2), object(17)\n",
      "memory usage: 2.8+ MB\n"
     ]
    }
   ],
   "source": [
    "# info로 기본 정보를 봅니다.\n",
    "df.info()\n"
   ]
  },
  {
   "cell_type": "code",
   "execution_count": 8,
   "metadata": {},
   "outputs": [
    {
     "data": {
      "text/plain": [
       "관리번호                0\n",
       "공원명                 0\n",
       "공원구분                0\n",
       "소재지도로명주소        11863\n",
       "소재지지번주소           921\n",
       "위도                  0\n",
       "경도                  0\n",
       "공원면적                0\n",
       "공원보유시설(운동시설)    14547\n",
       "공원보유시설(유희시설)    12441\n",
       "공원보유시설(편익시설)    14196\n",
       "공원보유시설(교양시설)    18348\n",
       "공원보유시설(기타시설)    16427\n",
       "지정고시일            2989\n",
       "관리기관명            1214\n",
       "전화번호             1659\n",
       "데이터기준일자             0\n",
       "제공기관코드              0\n",
       "제공기관명               0\n",
       "dtype: int64"
      ]
     },
     "execution_count": 8,
     "metadata": {},
     "output_type": "execute_result"
    }
   ],
   "source": [
    "# 결측치의 수를 구합니다.\n",
    "df.isnull().sum()\n"
   ]
  },
  {
   "cell_type": "code",
   "execution_count": 9,
   "metadata": {},
   "outputs": [
    {
     "data": {
      "text/plain": [
       "관리번호             0.00\n",
       "공원명              0.00\n",
       "공원구분             0.00\n",
       "소재지도로명주소        60.55\n",
       "소재지지번주소          4.70\n",
       "위도               0.00\n",
       "경도               0.00\n",
       "공원면적             0.00\n",
       "공원보유시설(운동시설)    74.25\n",
       "공원보유시설(유희시설)    63.50\n",
       "공원보유시설(편익시설)    72.45\n",
       "공원보유시설(교양시설)    93.65\n",
       "공원보유시설(기타시설)    83.84\n",
       "지정고시일           15.26\n",
       "관리기관명            6.20\n",
       "전화번호             8.47\n",
       "데이터기준일자          0.00\n",
       "제공기관코드           0.00\n",
       "제공기관명            0.00\n",
       "dtype: float64"
      ]
     },
     "execution_count": 9,
     "metadata": {},
     "output_type": "execute_result"
    }
   ],
   "source": [
    "# 결측치 비율 구하기\n",
    "# 결측의 평균을 통해 비율을 구하고 100을 곱해줍니다.\n",
    "round(df.isnull().mean() * 100, 2)\n"
   ]
  },
  {
   "cell_type": "markdown",
   "metadata": {},
   "source": [
    "## 결측치 시각화"
   ]
  },
  {
   "cell_type": "markdown",
   "metadata": {},
   "source": [
    "* 그래프의 색상 선택 : [Choosing Colormaps in Matplotlib — Matplotlib 3.1.0 documentation](https://matplotlib.org/3.1.0/tutorials/colors/colormaps.html)"
   ]
  },
  {
   "cell_type": "code",
   "execution_count": 10,
   "metadata": {},
   "outputs": [
    {
     "data": {
      "text/plain": [
       "<matplotlib.axes._subplots.AxesSubplot at 0x2438231ec08>"
      ]
     },
     "execution_count": 10,
     "metadata": {},
     "output_type": "execute_result"
    },
    {
     "data": {
      "image/png": "[encoded data removed]",
      "text/plain": [
       "<Figure size 1080x288 with 2 Axes>"
      ]
     },
     "metadata": {
      "image/png": {
       "height": 362,
       "width": 800
      }
     },
     "output_type": "display_data"
    }
   ],
   "source": [
    "# seaborn을 통해 결측치 그래프를 그려봅니다.\n",
    "\n",
    "null = df.isnull()\n",
    "plt.figure(figsize=(15,4))\n",
    "sns.heatmap(null, cmap=\"Blues_r\")"
   ]
  },
  {
   "cell_type": "markdown",
   "metadata": {},
   "source": [
    "# 데이터 전처리\n",
    "* 불필요한 컬럼 제거\n",
    "* 시도 결측치 처리\n",
    "    * 다른 데이터로 대체\n",
    "    * 도로명 혹은 지번 둘 중 하나만 있다면 있는 데이터로 대체\n",
    "* 아웃라이어 데이터 제거 혹은 대체\n",
    "    * 위경도가 국내 범위를 벗어나는 데이터의 경우 제외하고 그리도록 처리"
   ]
  },
  {
   "cell_type": "markdown",
   "metadata": {},
   "source": [
    "## 불필요한 컬럼 제거하기"
   ]
  },
  {
   "cell_type": "code",
   "execution_count": 11,
   "metadata": {},
   "outputs": [
    {
     "data": {
      "text/plain": [
       "Index(['관리번호', '공원명', '공원구분', '소재지도로명주소', '소재지지번주소', '위도', '경도', '공원면적',\n",
       "       '공원보유시설(운동시설)', '공원보유시설(유희시설)', '공원보유시설(편익시설)', '공원보유시설(교양시설)',\n",
       "       '공원보유시설(기타시설)', '지정고시일', '관리기관명', '전화번호', '데이터기준일자', '제공기관코드', '제공기관명'],\n",
       "      dtype='object')"
      ]
     },
     "execution_count": 11,
     "metadata": {},
     "output_type": "execute_result"
    }
   ],
   "source": [
    "# 전체 컬럼명을 출력해 봅니다.\n",
    "df.columns\n"
   ]
  },
  {
   "cell_type": "code",
   "execution_count": 12,
   "metadata": {},
   "outputs": [
    {
     "name": "stdout",
     "output_type": "stream",
     "text": [
      "(19593, 19)\n",
      "(19593, 19)\n"
     ]
    }
   ],
   "source": [
    "# drop 으로 'Unnamed: 19' 를 제거하기\n",
    "print(df.shape)\n",
    "#df = df.drop(['Unnamed: 19'], axis=1)\n",
    "print(df.shape)"
   ]
  },
  {
   "cell_type": "markdown",
   "metadata": {},
   "source": [
    "## 결측치 대체\n",
    "### 도로명 주소와 지번 주소 \n",
    "* 둘 중 하나만 있을 때 나머지 데이터로 결측치 대체하기"
   ]
  },
  {
   "cell_type": "code",
   "execution_count": 13,
   "metadata": {},
   "outputs": [
    {
     "data": {
      "text/plain": [
       "11863"
      ]
     },
     "execution_count": 13,
     "metadata": {},
     "output_type": "execute_result"
    }
   ],
   "source": [
    "# 도로명 주소의 널값 수\n",
    "df['소재지도로명주소'].isnull().sum()"
   ]
  },
  {
   "cell_type": "code",
   "execution_count": 14,
   "metadata": {},
   "outputs": [
    {
     "data": {
      "text/plain": [
       "921"
      ]
     },
     "execution_count": 14,
     "metadata": {},
     "output_type": "execute_result"
    }
   ],
   "source": [
    "# 지번 주소의 널값 수\n",
    "df['소재지지번주소'].isnull().sum()"
   ]
  },
  {
   "cell_type": "code",
   "execution_count": 15,
   "metadata": {},
   "outputs": [
    {
     "data": {
      "text/plain": [
       "(6809, 19)"
      ]
     },
     "execution_count": 15,
     "metadata": {},
     "output_type": "execute_result"
    }
   ],
   "source": [
    "# \"소재지도로명주소\"와 \"소재지지번주소\"가 모두 결측치가 아닌 데이터를 찾습니다.\n",
    "df[df['소재지도로명주소'].notnull() & df['소재지지번주소'].notnull()].shape\n"
   ]
  },
  {
   "cell_type": "code",
   "execution_count": 16,
   "metadata": {},
   "outputs": [],
   "source": [
    "# \"소재지도로명주소\"의 결측치를 fillna 를 통해 \"소재지지번주소\"로 채웁니다.\n",
    "df['소재지도로명주소'] = df['소재지도로명주소'].fillna(df['소재지지번주소'])\n"
   ]
  },
  {
   "cell_type": "code",
   "execution_count": 17,
   "metadata": {
    "scrolled": true
   },
   "outputs": [
    {
     "data": {
      "text/plain": [
       "0"
      ]
     },
     "execution_count": 17,
     "metadata": {},
     "output_type": "execute_result"
    }
   ],
   "source": [
    "# \"소재지도로명주소\"의 결측치수를 세어봅니다.\n",
    "df['소재지도로명주소'].isnull().sum()\n"
   ]
  },
  {
   "cell_type": "code",
   "execution_count": 18,
   "metadata": {},
   "outputs": [
    {
     "data": {
      "text/plain": [
       "(0, 19)"
      ]
     },
     "execution_count": 18,
     "metadata": {},
     "output_type": "execute_result"
    }
   ],
   "source": [
    "# \"소재지도로명주소\"와 \"소재지지번주소\"가 모두 결측치인 데이터를 찾습니다.\n",
    "df[df['소재지도로명주소'].isnull() & df['소재지지번주소'].isnull()].shape\n"
   ]
  },
  {
   "cell_type": "markdown",
   "metadata": {},
   "source": [
    "## 파생변수 만들기\n",
    "### 주소를 통한 시도, 구군 변수 생성하기"
   ]
  },
  {
   "cell_type": "code",
   "execution_count": 19,
   "metadata": {},
   "outputs": [
    {
     "data": {
      "text/html": [
       "<div>\n",
       "<style scoped>\n",
       "    .dataframe tbody tr th:only-of-type {\n",
       "        vertical-align: middle;\n",
       "    }\n",
       "\n",
       "    .dataframe tbody tr th {\n",
       "        vertical-align: top;\n",
       "    }\n",
       "\n",
       "    .dataframe thead th {\n",
       "        text-align: right;\n",
       "    }\n",
       "</style>\n",
       "<table border=\"1\" class=\"dataframe\">\n",
       "  <thead>\n",
       "    <tr style=\"text-align: right;\">\n",
       "      <th></th>\n",
       "      <th>관리번호</th>\n",
       "      <th>공원명</th>\n",
       "      <th>공원구분</th>\n",
       "      <th>소재지도로명주소</th>\n",
       "      <th>소재지지번주소</th>\n",
       "      <th>위도</th>\n",
       "      <th>경도</th>\n",
       "      <th>공원면적</th>\n",
       "      <th>공원보유시설(운동시설)</th>\n",
       "      <th>공원보유시설(유희시설)</th>\n",
       "      <th>공원보유시설(편익시설)</th>\n",
       "      <th>공원보유시설(교양시설)</th>\n",
       "      <th>공원보유시설(기타시설)</th>\n",
       "      <th>지정고시일</th>\n",
       "      <th>관리기관명</th>\n",
       "      <th>전화번호</th>\n",
       "      <th>데이터기준일자</th>\n",
       "      <th>제공기관코드</th>\n",
       "      <th>제공기관명</th>\n",
       "      <th>시도</th>\n",
       "    </tr>\n",
       "  </thead>\n",
       "  <tbody>\n",
       "    <tr>\n",
       "      <th>0</th>\n",
       "      <td>41135-00098</td>\n",
       "      <td>샘터공원</td>\n",
       "      <td>어린이공원</td>\n",
       "      <td>경기도 성남시 분당구 구미동 87</td>\n",
       "      <td>경기도 성남시 분당구 구미동 87</td>\n",
       "      <td>37.348802</td>\n",
       "      <td>127.118613</td>\n",
       "      <td>3620.1</td>\n",
       "      <td>NaN</td>\n",
       "      <td>어린이놀이터</td>\n",
       "      <td>벤치</td>\n",
       "      <td>NaN</td>\n",
       "      <td>NaN</td>\n",
       "      <td>1991-01-08</td>\n",
       "      <td>분당구녹지공원과</td>\n",
       "      <td>031-729-7461</td>\n",
       "      <td>2020-01-17</td>\n",
       "      <td>3780000</td>\n",
       "      <td>경기도 성남시</td>\n",
       "      <td>경기도</td>\n",
       "    </tr>\n",
       "    <tr>\n",
       "      <th>1</th>\n",
       "      <td>29200-00061</td>\n",
       "      <td>제2풍영정</td>\n",
       "      <td>근린공원</td>\n",
       "      <td>광주광역시 광산구 운남동 793-1, 780-1</td>\n",
       "      <td>광주광역시 광산구 운남동 793-1, 780-1</td>\n",
       "      <td>35.177519</td>\n",
       "      <td>126.811916</td>\n",
       "      <td>26200.7</td>\n",
       "      <td>배드민턴장, 농구장</td>\n",
       "      <td>조합놀이대, 기타놀이기구</td>\n",
       "      <td>NaN</td>\n",
       "      <td>야외무대</td>\n",
       "      <td>관리사무소</td>\n",
       "      <td>1997-08-12</td>\n",
       "      <td>광주광역시 광산구청</td>\n",
       "      <td>062-960-8704</td>\n",
       "      <td>2020-07-16</td>\n",
       "      <td>3630000</td>\n",
       "      <td>광주광역시 광산구</td>\n",
       "      <td>광주광역시</td>\n",
       "    </tr>\n",
       "    <tr>\n",
       "      <th>2</th>\n",
       "      <td>29200-00062</td>\n",
       "      <td>맑은샘</td>\n",
       "      <td>어린이공원</td>\n",
       "      <td>광주광역시 광산구 풍영로 63</td>\n",
       "      <td>광주광역시 광산구 월곡동 681-1</td>\n",
       "      <td>35.178777</td>\n",
       "      <td>126.810674</td>\n",
       "      <td>1500.1</td>\n",
       "      <td>NaN</td>\n",
       "      <td>조합놀이, 기타놀이기구</td>\n",
       "      <td>NaN</td>\n",
       "      <td>NaN</td>\n",
       "      <td>NaN</td>\n",
       "      <td>1997-08-12</td>\n",
       "      <td>광주광역시 광산구청</td>\n",
       "      <td>062-960-8712</td>\n",
       "      <td>2020-07-16</td>\n",
       "      <td>3630000</td>\n",
       "      <td>광주광역시 광산구</td>\n",
       "      <td>광주광역시</td>\n",
       "    </tr>\n",
       "    <tr>\n",
       "      <th>3</th>\n",
       "      <td>29200-00063</td>\n",
       "      <td>야호숲</td>\n",
       "      <td>어린이공원</td>\n",
       "      <td>광주광역시 광산구 월곡동 685-2 (운남 2지구)</td>\n",
       "      <td>광주광역시 광산구 월곡동 685-2 (운남 2지구)</td>\n",
       "      <td>35.173388</td>\n",
       "      <td>126.810754</td>\n",
       "      <td>1500.3</td>\n",
       "      <td>NaN</td>\n",
       "      <td>그네, 조합놀이, 기타놀이기구</td>\n",
       "      <td>NaN</td>\n",
       "      <td>NaN</td>\n",
       "      <td>NaN</td>\n",
       "      <td>1997-08-12</td>\n",
       "      <td>광주광역시 광산구청</td>\n",
       "      <td>062-960-8712</td>\n",
       "      <td>2020-07-16</td>\n",
       "      <td>3630000</td>\n",
       "      <td>광주광역시 광산구</td>\n",
       "      <td>광주광역시</td>\n",
       "    </tr>\n",
       "    <tr>\n",
       "      <th>4</th>\n",
       "      <td>29200-00064</td>\n",
       "      <td>풍영정천</td>\n",
       "      <td>어린이공원</td>\n",
       "      <td>광주광역시 광산구 운남동 781-2 (운남 2지구)</td>\n",
       "      <td>광주광역시 광산구 운남동 781-2 (운남 2지구)</td>\n",
       "      <td>35.177946</td>\n",
       "      <td>126.814155</td>\n",
       "      <td>1520</td>\n",
       "      <td>NaN</td>\n",
       "      <td>조합놀이</td>\n",
       "      <td>NaN</td>\n",
       "      <td>NaN</td>\n",
       "      <td>NaN</td>\n",
       "      <td>1997-08-12</td>\n",
       "      <td>광주광역시 광산구청</td>\n",
       "      <td>062-960-8712</td>\n",
       "      <td>2020-07-16</td>\n",
       "      <td>3630000</td>\n",
       "      <td>광주광역시 광산구</td>\n",
       "      <td>광주광역시</td>\n",
       "    </tr>\n",
       "  </tbody>\n",
       "</table>\n",
       "</div>"
      ],
      "text/plain": [
       "          관리번호    공원명   공원구분                      소재지도로명주소  \\\n",
       "0  41135-00098   샘터공원  어린이공원            경기도 성남시 분당구 구미동 87   \n",
       "1  29200-00061  제2풍영정   근린공원    광주광역시 광산구 운남동 793-1, 780-1   \n",
       "2  29200-00062    맑은샘  어린이공원              광주광역시 광산구 풍영로 63   \n",
       "3  29200-00063    야호숲  어린이공원  광주광역시 광산구 월곡동 685-2 (운남 2지구)   \n",
       "4  29200-00064   풍영정천  어린이공원  광주광역시 광산구 운남동 781-2 (운남 2지구)   \n",
       "\n",
       "                        소재지지번주소         위도          경도     공원면적 공원보유시설(운동시설)  \\\n",
       "0            경기도 성남시 분당구 구미동 87  37.348802  127.118613   3620.1          NaN   \n",
       "1    광주광역시 광산구 운남동 793-1, 780-1  35.177519  126.811916  26200.7   배드민턴장, 농구장   \n",
       "2           광주광역시 광산구 월곡동 681-1  35.178777  126.810674   1500.1          NaN   \n",
       "3  광주광역시 광산구 월곡동 685-2 (운남 2지구)  35.173388  126.810754   1500.3          NaN   \n",
       "4  광주광역시 광산구 운남동 781-2 (운남 2지구)  35.177946  126.814155     1520          NaN   \n",
       "\n",
       "       공원보유시설(유희시설) 공원보유시설(편익시설) 공원보유시설(교양시설) 공원보유시설(기타시설)       지정고시일  \\\n",
       "0            어린이놀이터           벤치          NaN          NaN  1991-01-08   \n",
       "1     조합놀이대, 기타놀이기구          NaN         야외무대        관리사무소  1997-08-12   \n",
       "2      조합놀이, 기타놀이기구          NaN          NaN          NaN  1997-08-12   \n",
       "3  그네, 조합놀이, 기타놀이기구          NaN          NaN          NaN  1997-08-12   \n",
       "4              조합놀이          NaN          NaN          NaN  1997-08-12   \n",
       "\n",
       "        관리기관명          전화번호     데이터기준일자   제공기관코드      제공기관명     시도  \n",
       "0    분당구녹지공원과  031-729-7461  2020-01-17  3780000    경기도 성남시    경기도  \n",
       "1  광주광역시 광산구청  062-960-8704  2020-07-16  3630000  광주광역시 광산구  광주광역시  \n",
       "2  광주광역시 광산구청  062-960-8712  2020-07-16  3630000  광주광역시 광산구  광주광역시  \n",
       "3  광주광역시 광산구청  062-960-8712  2020-07-16  3630000  광주광역시 광산구  광주광역시  \n",
       "4  광주광역시 광산구청  062-960-8712  2020-07-16  3630000  광주광역시 광산구  광주광역시  "
      ]
     },
     "execution_count": 19,
     "metadata": {},
     "output_type": "execute_result"
    }
   ],
   "source": [
    "# 소재지도로명주소로 시도, 구군 변수 생성하기\n",
    "# .str.split(' ', expand=True)[0] 을 통해 공백문자로 분리하고 리스트의 첫번째 값을 가져오도록 하기\n",
    "df['시도']= df['소재지도로명주소'].str.split(expand=True)[0]\n",
    "df.head()"
   ]
  },
  {
   "cell_type": "code",
   "execution_count": 20,
   "metadata": {
    "scrolled": true
   },
   "outputs": [
    {
     "data": {
      "text/html": [
       "<div>\n",
       "<style scoped>\n",
       "    .dataframe tbody tr th:only-of-type {\n",
       "        vertical-align: middle;\n",
       "    }\n",
       "\n",
       "    .dataframe tbody tr th {\n",
       "        vertical-align: top;\n",
       "    }\n",
       "\n",
       "    .dataframe thead th {\n",
       "        text-align: right;\n",
       "    }\n",
       "</style>\n",
       "<table border=\"1\" class=\"dataframe\">\n",
       "  <thead>\n",
       "    <tr style=\"text-align: right;\">\n",
       "      <th></th>\n",
       "      <th>소재지도로명주소</th>\n",
       "      <th>시도</th>\n",
       "      <th>구군</th>\n",
       "    </tr>\n",
       "  </thead>\n",
       "  <tbody>\n",
       "    <tr>\n",
       "      <th>19341</th>\n",
       "      <td>전라남도 여수시 국동 193-413</td>\n",
       "      <td>전라남도</td>\n",
       "      <td>여수시</td>\n",
       "    </tr>\n",
       "    <tr>\n",
       "      <th>12310</th>\n",
       "      <td>경상남도 창원시 의창구 명서동 114-1</td>\n",
       "      <td>경상남도</td>\n",
       "      <td>창원시</td>\n",
       "    </tr>\n",
       "    <tr>\n",
       "      <th>1626</th>\n",
       "      <td>대전광역시 유성구 하기동 550</td>\n",
       "      <td>대전광역시</td>\n",
       "      <td>유성구</td>\n",
       "    </tr>\n",
       "    <tr>\n",
       "      <th>2468</th>\n",
       "      <td>충청북도 충주시 호암동 681-8 일원</td>\n",
       "      <td>충청북도</td>\n",
       "      <td>충주시</td>\n",
       "    </tr>\n",
       "    <tr>\n",
       "      <th>6616</th>\n",
       "      <td>경기도 평택시 비전동 867</td>\n",
       "      <td>경기도</td>\n",
       "      <td>평택시</td>\n",
       "    </tr>\n",
       "  </tbody>\n",
       "</table>\n",
       "</div>"
      ],
      "text/plain": [
       "                     소재지도로명주소     시도   구군\n",
       "19341     전라남도 여수시 국동 193-413   전라남도  여수시\n",
       "12310  경상남도 창원시 의창구 명서동 114-1   경상남도  창원시\n",
       "1626        대전광역시 유성구 하기동 550  대전광역시  유성구\n",
       "2468    충청북도 충주시 호암동 681-8 일원   충청북도  충주시\n",
       "6616          경기도 평택시 비전동 867    경기도  평택시"
      ]
     },
     "execution_count": 20,
     "metadata": {},
     "output_type": "execute_result"
    }
   ],
   "source": [
    "# 구군 가져오기\n",
    "df['구군']= df['소재지도로명주소'].str.split(expand=True)[1]\n",
    "df[['소재지도로명주소', '시도','구군']].sample(5)"
   ]
  },
  {
   "cell_type": "code",
   "execution_count": 21,
   "metadata": {},
   "outputs": [
    {
     "data": {
      "text/plain": [
       "경기도        3900\n",
       "전라남도       2036\n",
       "경상남도       1860\n",
       "서울특별시      1856\n",
       "충청남도       1691\n",
       "전라북도       1117\n",
       "충청북도        915\n",
       "울산광역시       883\n",
       "경상북도        880\n",
       "광주광역시       856\n",
       "강원도         754\n",
       "부산광역시       689\n",
       "인천광역시       687\n",
       "대구광역시       614\n",
       "대전광역시       499\n",
       "제주특별자치도     245\n",
       "세종특별자치시      70\n",
       "-            40\n",
       "부산시           1\n",
       "Name: 시도, dtype: int64"
      ]
     },
     "execution_count": 21,
     "metadata": {},
     "output_type": "execute_result"
    }
   ],
   "source": [
    "# 시도 데이터의 빈도수 세어보기\n",
    "df['시도'].value_counts()\n"
   ]
  },
  {
   "cell_type": "code",
   "execution_count": 22,
   "metadata": {},
   "outputs": [
    {
     "data": {
      "text/plain": [
       "경기도        3900\n",
       "전라남도       2036\n",
       "경상남도       1860\n",
       "서울특별시      1856\n",
       "충청남도       1691\n",
       "전라북도       1117\n",
       "충청북도        915\n",
       "울산광역시       883\n",
       "경상북도        880\n",
       "광주광역시       856\n",
       "강원도         754\n",
       "부산광역시       690\n",
       "인천광역시       687\n",
       "대구광역시       614\n",
       "대전광역시       499\n",
       "제주특별자치도     245\n",
       "세종특별자치시      70\n",
       "-            40\n",
       "Name: 시도, dtype: int64"
      ]
     },
     "execution_count": 22,
     "metadata": {},
     "output_type": "execute_result"
    }
   ],
   "source": [
    "# 강원은 \"강원도\"로 변경해줄 필요가 보입니다.\n",
    "df['시도'] = df['시도'].replace(\"부산시\",\"부산광역시\")\n",
    "#df['시도'] = df['시도'].replace(\"강원\",\"강원도\")\n",
    "df['시도'].value_counts()"
   ]
  },
  {
   "cell_type": "markdown",
   "metadata": {},
   "source": [
    "## 이상치 제거\n",
    "* 경도, 위도의 이상치 처리하기"
   ]
  },
  {
   "cell_type": "code",
   "execution_count": 23,
   "metadata": {
    "scrolled": false
   },
   "outputs": [
    {
     "data": {
      "text/plain": [
       "<matplotlib.axes._subplots.AxesSubplot at 0x24383ad8208>"
      ]
     },
     "execution_count": 23,
     "metadata": {},
     "output_type": "execute_result"
    },
    {
     "data": {
      "image/png": "[encoded data removed]",
      "text/plain": [
       "<Figure size 432x288 with 1 Axes>"
      ]
     },
     "metadata": {
      "image/png": {
       "height": 268,
       "width": 387
      }
     },
     "output_type": "display_data"
    }
   ],
   "source": [
    "# 위경도 시각화\n",
    "sns.scatterplot(data = df, x=\"경도\", y=\"위도\")\n"
   ]
  },
  {
   "cell_type": "code",
   "execution_count": 24,
   "metadata": {},
   "outputs": [],
   "source": [
    "# 위 지도로 위도와 경도의 아웃라이어 데이터를 제외하고 출력해 봅니다.\n",
    "# 좀 더 정확하게 출력하려면 대한민국 위경도 데이터 범위를 다시 넣어줍니다. \n",
    "# 이상치를 제거한 데이터를 df_park 라는 새로운 변수에 담습니다.\n",
    "df_park = df[(df['경도'] < 132) & (df['위도'] > 32)].copy()"
   ]
  },
  {
   "cell_type": "code",
   "execution_count": 25,
   "metadata": {},
   "outputs": [
    {
     "data": {
      "text/plain": [
       "<matplotlib.axes._subplots.AxesSubplot at 0x24383959088>"
      ]
     },
     "execution_count": 25,
     "metadata": {},
     "output_type": "execute_result"
    },
    {
     "data": {
      "image/png": "[encoded data removed]",
      "text/plain": [
       "<Figure size 432x288 with 1 Axes>"
      ]
     },
     "metadata": {
      "image/png": {
       "height": 268,
       "width": 387
      }
     },
     "output_type": "display_data"
    }
   ],
   "source": [
    "# 위도 경도의 아웃라이어 데이터가 제거되었는지 확인함\n",
    "sns.scatterplot(data = df_park, x=\"경도\", y=\"위도\")"
   ]
  },
  {
   "cell_type": "code",
   "execution_count": 26,
   "metadata": {},
   "outputs": [
    {
     "data": {
      "text/html": [
       "<div>\n",
       "<style scoped>\n",
       "    .dataframe tbody tr th:only-of-type {\n",
       "        vertical-align: middle;\n",
       "    }\n",
       "\n",
       "    .dataframe tbody tr th {\n",
       "        vertical-align: top;\n",
       "    }\n",
       "\n",
       "    .dataframe thead th {\n",
       "        text-align: right;\n",
       "    }\n",
       "</style>\n",
       "<table border=\"1\" class=\"dataframe\">\n",
       "  <thead>\n",
       "    <tr style=\"text-align: right;\">\n",
       "      <th></th>\n",
       "      <th>위도</th>\n",
       "      <th>경도</th>\n",
       "    </tr>\n",
       "  </thead>\n",
       "  <tbody>\n",
       "    <tr>\n",
       "      <th>count</th>\n",
       "      <td>19593.000000</td>\n",
       "      <td>19593.000000</td>\n",
       "    </tr>\n",
       "    <tr>\n",
       "      <th>mean</th>\n",
       "      <td>36.338749</td>\n",
       "      <td>127.524585</td>\n",
       "    </tr>\n",
       "    <tr>\n",
       "      <th>std</th>\n",
       "      <td>1.064608</td>\n",
       "      <td>0.875285</td>\n",
       "    </tr>\n",
       "    <tr>\n",
       "      <th>min</th>\n",
       "      <td>27.551606</td>\n",
       "      <td>125.430955</td>\n",
       "    </tr>\n",
       "    <tr>\n",
       "      <th>25%</th>\n",
       "      <td>35.255135</td>\n",
       "      <td>126.881875</td>\n",
       "    </tr>\n",
       "    <tr>\n",
       "      <th>50%</th>\n",
       "      <td>36.374582</td>\n",
       "      <td>127.123134</td>\n",
       "    </tr>\n",
       "    <tr>\n",
       "      <th>75%</th>\n",
       "      <td>37.400372</td>\n",
       "      <td>128.353493</td>\n",
       "    </tr>\n",
       "    <tr>\n",
       "      <th>max</th>\n",
       "      <td>38.350990</td>\n",
       "      <td>137.202661</td>\n",
       "    </tr>\n",
       "  </tbody>\n",
       "</table>\n",
       "</div>"
      ],
      "text/plain": [
       "                 위도            경도\n",
       "count  19593.000000  19593.000000\n",
       "mean      36.338749    127.524585\n",
       "std        1.064608      0.875285\n",
       "min       27.551606    125.430955\n",
       "25%       35.255135    126.881875\n",
       "50%       36.374582    127.123134\n",
       "75%       37.400372    128.353493\n",
       "max       38.350990    137.202661"
      ]
     },
     "execution_count": 26,
     "metadata": {},
     "output_type": "execute_result"
    }
   ],
   "source": [
    "# 위도와 경도의 요약값을 describe 로 봅니다.\n",
    "df[['위도','경도']].describe()\n"
   ]
  },
  {
   "cell_type": "code",
   "execution_count": 27,
   "metadata": {},
   "outputs": [
    {
     "data": {
      "text/html": [
       "<div>\n",
       "<style scoped>\n",
       "    .dataframe tbody tr th:only-of-type {\n",
       "        vertical-align: middle;\n",
       "    }\n",
       "\n",
       "    .dataframe tbody tr th {\n",
       "        vertical-align: top;\n",
       "    }\n",
       "\n",
       "    .dataframe thead th {\n",
       "        text-align: right;\n",
       "    }\n",
       "</style>\n",
       "<table border=\"1\" class=\"dataframe\">\n",
       "  <thead>\n",
       "    <tr style=\"text-align: right;\">\n",
       "      <th></th>\n",
       "      <th>관리번호</th>\n",
       "      <th>공원명</th>\n",
       "      <th>공원구분</th>\n",
       "      <th>소재지도로명주소</th>\n",
       "      <th>소재지지번주소</th>\n",
       "      <th>위도</th>\n",
       "      <th>경도</th>\n",
       "      <th>공원면적</th>\n",
       "      <th>공원보유시설(운동시설)</th>\n",
       "      <th>공원보유시설(유희시설)</th>\n",
       "      <th>...</th>\n",
       "      <th>공원보유시설(교양시설)</th>\n",
       "      <th>공원보유시설(기타시설)</th>\n",
       "      <th>지정고시일</th>\n",
       "      <th>관리기관명</th>\n",
       "      <th>전화번호</th>\n",
       "      <th>데이터기준일자</th>\n",
       "      <th>제공기관코드</th>\n",
       "      <th>제공기관명</th>\n",
       "      <th>시도</th>\n",
       "      <th>구군</th>\n",
       "    </tr>\n",
       "  </thead>\n",
       "  <tbody>\n",
       "    <tr>\n",
       "      <th>1647</th>\n",
       "      <td>43113-00080</td>\n",
       "      <td>근린공원5(만수공원)</td>\n",
       "      <td>근린공원</td>\n",
       "      <td>충청북도 청주시 흥덕구 오송읍 만수리 512</td>\n",
       "      <td>충청북도 청주시 흥덕구 오송읍 만수리 512</td>\n",
       "      <td>36.374204</td>\n",
       "      <td>137.202661</td>\n",
       "      <td>33258</td>\n",
       "      <td>NaN</td>\n",
       "      <td>NaN</td>\n",
       "      <td>...</td>\n",
       "      <td>NaN</td>\n",
       "      <td>NaN</td>\n",
       "      <td>2003-04-18</td>\n",
       "      <td>충청북도 청주시 푸른도시사업본부 공원관리과</td>\n",
       "      <td>043-201-4433</td>\n",
       "      <td>2020-07-16</td>\n",
       "      <td>5710000</td>\n",
       "      <td>충청북도 청주시</td>\n",
       "      <td>충청북도</td>\n",
       "      <td>청주시</td>\n",
       "    </tr>\n",
       "    <tr>\n",
       "      <th>16859</th>\n",
       "      <td>11440-00004</td>\n",
       "      <td>와우공원</td>\n",
       "      <td>근린공원</td>\n",
       "      <td>서울특별시 마포구 창전동3-231 등 59필지</td>\n",
       "      <td>서울특별시 마포구 창전동3-231 등 59필지</td>\n",
       "      <td>27.551606</td>\n",
       "      <td>126.929047</td>\n",
       "      <td>73590</td>\n",
       "      <td>NaN</td>\n",
       "      <td>NaN</td>\n",
       "      <td>...</td>\n",
       "      <td>NaN</td>\n",
       "      <td>NaN</td>\n",
       "      <td>1940-03-12</td>\n",
       "      <td>서울특별시 마포구</td>\n",
       "      <td>02-3153-9553</td>\n",
       "      <td>2019-07-22</td>\n",
       "      <td>3130000</td>\n",
       "      <td>서울특별시 마포구</td>\n",
       "      <td>서울특별시</td>\n",
       "      <td>마포구</td>\n",
       "    </tr>\n",
       "  </tbody>\n",
       "</table>\n",
       "<p>2 rows × 21 columns</p>\n",
       "</div>"
      ],
      "text/plain": [
       "              관리번호          공원명  공원구분                   소재지도로명주소  \\\n",
       "1647   43113-00080  근린공원5(만수공원)  근린공원   충청북도 청주시 흥덕구 오송읍 만수리 512   \n",
       "16859  11440-00004         와우공원  근린공원  서울특별시 마포구 창전동3-231 등 59필지   \n",
       "\n",
       "                         소재지지번주소         위도          경도   공원면적 공원보유시설(운동시설)  \\\n",
       "1647    충청북도 청주시 흥덕구 오송읍 만수리 512  36.374204  137.202661  33258          NaN   \n",
       "16859  서울특별시 마포구 창전동3-231 등 59필지  27.551606  126.929047  73590          NaN   \n",
       "\n",
       "      공원보유시설(유희시설)  ... 공원보유시설(교양시설) 공원보유시설(기타시설)       지정고시일  \\\n",
       "1647           NaN  ...          NaN          NaN  2003-04-18   \n",
       "16859          NaN  ...          NaN          NaN  1940-03-12   \n",
       "\n",
       "                         관리기관명          전화번호     데이터기준일자   제공기관코드      제공기관명  \\\n",
       "1647   충청북도 청주시 푸른도시사업본부 공원관리과  043-201-4433  2020-07-16  5710000   충청북도 청주시   \n",
       "16859                서울특별시 마포구  02-3153-9553  2019-07-22  3130000  서울특별시 마포구   \n",
       "\n",
       "          시도   구군  \n",
       "1647    충청북도  청주시  \n",
       "16859  서울특별시  마포구  \n",
       "\n",
       "[2 rows x 21 columns]"
      ]
     },
     "execution_count": 27,
     "metadata": {},
     "output_type": "execute_result"
    }
   ],
   "source": [
    "# 위경도가 잘못입력된 데이터를 봅니다.\n",
    "# 주소가 잘못되지는 않았습니다.\n",
    "# 주소를 통해 위경도를 다시 받아올 필요가 있습니다.\n",
    "df[(df['경도'] > 132) | (df['위도'] < 32)]\n"
   ]
  },
  {
   "cell_type": "markdown",
   "metadata": {},
   "source": [
    "## 날짜 데이터 다루기"
   ]
  },
  {
   "cell_type": "code",
   "execution_count": 28,
   "metadata": {},
   "outputs": [
    {
     "data": {
      "text/plain": [
       "0    1991-01-08\n",
       "1    1997-08-12\n",
       "2    1997-08-12\n",
       "3    1997-08-12\n",
       "4    1997-08-12\n",
       "Name: 지정고시일, dtype: object"
      ]
     },
     "execution_count": 28,
     "metadata": {},
     "output_type": "execute_result"
    }
   ],
   "source": [
    "# 지정고시일의 데이터 타입을 봅니다.\n",
    "df['지정고시일'].head()\n"
   ]
  },
  {
   "cell_type": "code",
   "execution_count": 29,
   "metadata": {},
   "outputs": [
    {
     "data": {
      "text/plain": [
       "0   1991-01-08\n",
       "1   1997-08-12\n",
       "2   1997-08-12\n",
       "3   1997-08-12\n",
       "4   1997-08-12\n",
       "Name: 지정고시일, dtype: datetime64[ns]"
      ]
     },
     "execution_count": 29,
     "metadata": {},
     "output_type": "execute_result"
    }
   ],
   "source": [
    "# 지정고시일의 데이터 타입을 datetime 형태로 변경합니다.\n",
    "df['지정고시일']= pd.to_datetime(df['지정고시일'])\n",
    "df['지정고시일'].head()"
   ]
  },
  {
   "cell_type": "code",
   "execution_count": 30,
   "metadata": {},
   "outputs": [
    {
     "data": {
      "text/html": [
       "<div>\n",
       "<style scoped>\n",
       "    .dataframe tbody tr th:only-of-type {\n",
       "        vertical-align: middle;\n",
       "    }\n",
       "\n",
       "    .dataframe tbody tr th {\n",
       "        vertical-align: top;\n",
       "    }\n",
       "\n",
       "    .dataframe thead th {\n",
       "        text-align: right;\n",
       "    }\n",
       "</style>\n",
       "<table border=\"1\" class=\"dataframe\">\n",
       "  <thead>\n",
       "    <tr style=\"text-align: right;\">\n",
       "      <th></th>\n",
       "      <th>지정고시일</th>\n",
       "      <th>고시연도</th>\n",
       "      <th>고시월</th>\n",
       "    </tr>\n",
       "  </thead>\n",
       "  <tbody>\n",
       "    <tr>\n",
       "      <th>0</th>\n",
       "      <td>1991-01-08</td>\n",
       "      <td>1991.0</td>\n",
       "      <td>1.0</td>\n",
       "    </tr>\n",
       "    <tr>\n",
       "      <th>1</th>\n",
       "      <td>1997-08-12</td>\n",
       "      <td>1997.0</td>\n",
       "      <td>8.0</td>\n",
       "    </tr>\n",
       "    <tr>\n",
       "      <th>2</th>\n",
       "      <td>1997-08-12</td>\n",
       "      <td>1997.0</td>\n",
       "      <td>8.0</td>\n",
       "    </tr>\n",
       "    <tr>\n",
       "      <th>3</th>\n",
       "      <td>1997-08-12</td>\n",
       "      <td>1997.0</td>\n",
       "      <td>8.0</td>\n",
       "    </tr>\n",
       "    <tr>\n",
       "      <th>4</th>\n",
       "      <td>1997-08-12</td>\n",
       "      <td>1997.0</td>\n",
       "      <td>8.0</td>\n",
       "    </tr>\n",
       "  </tbody>\n",
       "</table>\n",
       "</div>"
      ],
      "text/plain": [
       "       지정고시일    고시연도  고시월\n",
       "0 1991-01-08  1991.0  1.0\n",
       "1 1997-08-12  1997.0  8.0\n",
       "2 1997-08-12  1997.0  8.0\n",
       "3 1997-08-12  1997.0  8.0\n",
       "4 1997-08-12  1997.0  8.0"
      ]
     },
     "execution_count": 30,
     "metadata": {},
     "output_type": "execute_result"
    }
   ],
   "source": [
    "# 고시연도와 고시월을 지정고시일에서 추출해서 파생변수를 만듭니다.\n",
    "df['고시연도'] = df['지정고시일'].dt.year\n",
    "df['고시월'] = df['지정고시일'].dt.month\n",
    "\n",
    "df[['지정고시일', '고시연도' ,'고시월']].head()"
   ]
  },
  {
   "cell_type": "code",
   "execution_count": 31,
   "metadata": {},
   "outputs": [
    {
     "data": {
      "text/html": [
       "<div>\n",
       "<style scoped>\n",
       "    .dataframe tbody tr th:only-of-type {\n",
       "        vertical-align: middle;\n",
       "    }\n",
       "\n",
       "    .dataframe tbody tr th {\n",
       "        vertical-align: top;\n",
       "    }\n",
       "\n",
       "    .dataframe thead th {\n",
       "        text-align: right;\n",
       "    }\n",
       "</style>\n",
       "<table border=\"1\" class=\"dataframe\">\n",
       "  <thead>\n",
       "    <tr style=\"text-align: right;\">\n",
       "      <th></th>\n",
       "      <th>공원명</th>\n",
       "      <th>고시연도</th>\n",
       "    </tr>\n",
       "  </thead>\n",
       "  <tbody>\n",
       "    <tr>\n",
       "      <th>465</th>\n",
       "      <td>송정소공원</td>\n",
       "      <td>2007.0</td>\n",
       "    </tr>\n",
       "    <tr>\n",
       "      <th>816</th>\n",
       "      <td>송정1공원</td>\n",
       "      <td>2010.0</td>\n",
       "    </tr>\n",
       "    <tr>\n",
       "      <th>2143</th>\n",
       "      <td>송정5공원</td>\n",
       "      <td>2015.0</td>\n",
       "    </tr>\n",
       "    <tr>\n",
       "      <th>2144</th>\n",
       "      <td>송정4공원</td>\n",
       "      <td>2015.0</td>\n",
       "    </tr>\n",
       "    <tr>\n",
       "      <th>2145</th>\n",
       "      <td>송정3공원</td>\n",
       "      <td>2015.0</td>\n",
       "    </tr>\n",
       "    <tr>\n",
       "      <th>2146</th>\n",
       "      <td>송정2공원</td>\n",
       "      <td>2015.0</td>\n",
       "    </tr>\n",
       "    <tr>\n",
       "      <th>2147</th>\n",
       "      <td>송정1공원</td>\n",
       "      <td>2015.0</td>\n",
       "    </tr>\n",
       "    <tr>\n",
       "      <th>2850</th>\n",
       "      <td>송정제1공원</td>\n",
       "      <td>2014.0</td>\n",
       "    </tr>\n",
       "    <tr>\n",
       "      <th>2851</th>\n",
       "      <td>송정제2공원</td>\n",
       "      <td>2014.0</td>\n",
       "    </tr>\n",
       "    <tr>\n",
       "      <th>2852</th>\n",
       "      <td>송정제3공원</td>\n",
       "      <td>2014.0</td>\n",
       "    </tr>\n",
       "    <tr>\n",
       "      <th>2853</th>\n",
       "      <td>송정제4공원</td>\n",
       "      <td>2014.0</td>\n",
       "    </tr>\n",
       "    <tr>\n",
       "      <th>2854</th>\n",
       "      <td>송정제5공원</td>\n",
       "      <td>2014.0</td>\n",
       "    </tr>\n",
       "    <tr>\n",
       "      <th>3999</th>\n",
       "      <td>송정어린이공원</td>\n",
       "      <td>1991.0</td>\n",
       "    </tr>\n",
       "    <tr>\n",
       "      <th>5194</th>\n",
       "      <td>송정</td>\n",
       "      <td>1991.0</td>\n",
       "    </tr>\n",
       "    <tr>\n",
       "      <th>5282</th>\n",
       "      <td>송정</td>\n",
       "      <td>1975.0</td>\n",
       "    </tr>\n",
       "    <tr>\n",
       "      <th>5988</th>\n",
       "      <td>송정공원</td>\n",
       "      <td>1971.0</td>\n",
       "    </tr>\n",
       "    <tr>\n",
       "      <th>7069</th>\n",
       "      <td>송정</td>\n",
       "      <td>2001.0</td>\n",
       "    </tr>\n",
       "    <tr>\n",
       "      <th>7116</th>\n",
       "      <td>송정공원</td>\n",
       "      <td>NaN</td>\n",
       "    </tr>\n",
       "    <tr>\n",
       "      <th>8512</th>\n",
       "      <td>송정</td>\n",
       "      <td>NaN</td>\n",
       "    </tr>\n",
       "    <tr>\n",
       "      <th>8659</th>\n",
       "      <td>송정공원</td>\n",
       "      <td>2007.0</td>\n",
       "    </tr>\n",
       "    <tr>\n",
       "      <th>8741</th>\n",
       "      <td>송정공원</td>\n",
       "      <td>1991.0</td>\n",
       "    </tr>\n",
       "    <tr>\n",
       "      <th>9944</th>\n",
       "      <td>공원:106(당진:05 송정공원)</td>\n",
       "      <td>1968.0</td>\n",
       "    </tr>\n",
       "    <tr>\n",
       "      <th>11059</th>\n",
       "      <td>송정공원</td>\n",
       "      <td>1989.0</td>\n",
       "    </tr>\n",
       "    <tr>\n",
       "      <th>12929</th>\n",
       "      <td>강송정공원</td>\n",
       "      <td>2002.0</td>\n",
       "    </tr>\n",
       "    <tr>\n",
       "      <th>13272</th>\n",
       "      <td>송정공원</td>\n",
       "      <td>1986.0</td>\n",
       "    </tr>\n",
       "    <tr>\n",
       "      <th>14567</th>\n",
       "      <td>송정산단수변공원</td>\n",
       "      <td>2008.0</td>\n",
       "    </tr>\n",
       "    <tr>\n",
       "      <th>14570</th>\n",
       "      <td>송정4호공원</td>\n",
       "      <td>1996.0</td>\n",
       "    </tr>\n",
       "    <tr>\n",
       "      <th>14571</th>\n",
       "      <td>송정5호공원</td>\n",
       "      <td>1996.0</td>\n",
       "    </tr>\n",
       "    <tr>\n",
       "      <th>14572</th>\n",
       "      <td>송정6호공원</td>\n",
       "      <td>1996.0</td>\n",
       "    </tr>\n",
       "    <tr>\n",
       "      <th>14595</th>\n",
       "      <td>송정2호공원</td>\n",
       "      <td>1987.0</td>\n",
       "    </tr>\n",
       "    <tr>\n",
       "      <th>14620</th>\n",
       "      <td>송정3호공원</td>\n",
       "      <td>1987.0</td>\n",
       "    </tr>\n",
       "    <tr>\n",
       "      <th>14625</th>\n",
       "      <td>송정7호공원</td>\n",
       "      <td>2005.0</td>\n",
       "    </tr>\n",
       "    <tr>\n",
       "      <th>14638</th>\n",
       "      <td>송정산단소공원</td>\n",
       "      <td>2008.0</td>\n",
       "    </tr>\n",
       "    <tr>\n",
       "      <th>15164</th>\n",
       "      <td>송정공원</td>\n",
       "      <td>2001.0</td>\n",
       "    </tr>\n",
       "    <tr>\n",
       "      <th>16974</th>\n",
       "      <td>송정공원</td>\n",
       "      <td>1986.0</td>\n",
       "    </tr>\n",
       "    <tr>\n",
       "      <th>17993</th>\n",
       "      <td>송정공원</td>\n",
       "      <td>1991.0</td>\n",
       "    </tr>\n",
       "    <tr>\n",
       "      <th>18849</th>\n",
       "      <td>공원:106(당진:05 송정공원)</td>\n",
       "      <td>1968.0</td>\n",
       "    </tr>\n",
       "    <tr>\n",
       "      <th>19108</th>\n",
       "      <td>소공원11(송정지구)</td>\n",
       "      <td>2012.0</td>\n",
       "    </tr>\n",
       "    <tr>\n",
       "      <th>19121</th>\n",
       "      <td>소공원3(송정지구)</td>\n",
       "      <td>2012.0</td>\n",
       "    </tr>\n",
       "    <tr>\n",
       "      <th>19126</th>\n",
       "      <td>제1호어린이공원(송정지구)</td>\n",
       "      <td>2014.0</td>\n",
       "    </tr>\n",
       "    <tr>\n",
       "      <th>19128</th>\n",
       "      <td>공원17(송정지구)</td>\n",
       "      <td>2007.0</td>\n",
       "    </tr>\n",
       "    <tr>\n",
       "      <th>19135</th>\n",
       "      <td>공원22(송정지구)</td>\n",
       "      <td>2007.0</td>\n",
       "    </tr>\n",
       "  </tbody>\n",
       "</table>\n",
       "</div>"
      ],
      "text/plain": [
       "                      공원명    고시연도\n",
       "465                 송정소공원  2007.0\n",
       "816                 송정1공원  2010.0\n",
       "2143                송정5공원  2015.0\n",
       "2144                송정4공원  2015.0\n",
       "2145                송정3공원  2015.0\n",
       "2146                송정2공원  2015.0\n",
       "2147                송정1공원  2015.0\n",
       "2850               송정제1공원  2014.0\n",
       "2851               송정제2공원  2014.0\n",
       "2852               송정제3공원  2014.0\n",
       "2853               송정제4공원  2014.0\n",
       "2854               송정제5공원  2014.0\n",
       "3999              송정어린이공원  1991.0\n",
       "5194                   송정  1991.0\n",
       "5282                   송정  1975.0\n",
       "5988                 송정공원  1971.0\n",
       "7069                   송정  2001.0\n",
       "7116                 송정공원     NaN\n",
       "8512                   송정     NaN\n",
       "8659                 송정공원  2007.0\n",
       "8741                 송정공원  1991.0\n",
       "9944   공원:106(당진:05 송정공원)  1968.0\n",
       "11059                송정공원  1989.0\n",
       "12929               강송정공원  2002.0\n",
       "13272                송정공원  1986.0\n",
       "14567            송정산단수변공원  2008.0\n",
       "14570              송정4호공원  1996.0\n",
       "14571              송정5호공원  1996.0\n",
       "14572              송정6호공원  1996.0\n",
       "14595              송정2호공원  1987.0\n",
       "14620              송정3호공원  1987.0\n",
       "14625              송정7호공원  2005.0\n",
       "14638             송정산단소공원  2008.0\n",
       "15164                송정공원  2001.0\n",
       "16974                송정공원  1986.0\n",
       "17993                송정공원  1991.0\n",
       "18849  공원:106(당진:05 송정공원)  1968.0\n",
       "19108         소공원11(송정지구)  2012.0\n",
       "19121          소공원3(송정지구)  2012.0\n",
       "19126      제1호어린이공원(송정지구)  2014.0\n",
       "19128          공원17(송정지구)  2007.0\n",
       "19135          공원22(송정지구)  2007.0"
      ]
     },
     "execution_count": 31,
     "metadata": {},
     "output_type": "execute_result"
    }
   ],
   "source": [
    "# 송정공원의 고시연도를 찾아봅니다. 데이터 전처리가 맞게 되었는지 확인해 봅니다.\n",
    "df.loc[df['공원명'].str.contains(\"송정\") , ['공원명', '고시연도']]\n"
   ]
  },
  {
   "cell_type": "code",
   "execution_count": 32,
   "metadata": {},
   "outputs": [
    {
     "data": {
      "text/plain": [
       "<matplotlib.axes._subplots.AxesSubplot at 0x24382e46508>"
      ]
     },
     "execution_count": 32,
     "metadata": {},
     "output_type": "execute_result"
    },
    {
     "data": {
      "image/png": "[encoded data removed]",
      "text/plain": [
       "<Figure size 432x288 with 1 Axes>"
      ]
     },
     "metadata": {
      "image/png": {
       "height": 268,
       "width": 379
      }
     },
     "output_type": "display_data"
    }
   ],
   "source": [
    "# 고시연도의 분포를 distplot 으로 그립니다.\n",
    "# 이 때, 결측치가 있으면 오류가 나기 때문에 결측치가 없는 데이터만 따로 모아 그립니다.\n",
    "sns.distplot(df.loc[df[\"고시연도\"].notnull(), \"고시연도\"])\n"
   ]
  },
  {
   "cell_type": "markdown",
   "metadata": {},
   "source": [
    "* 판다스 스타일링 : [Styling — pandas documentation](https://pandas.pydata.org/pandas-docs/stable/user_guide/style.html)\n",
    "* 숫자의 많고 적음에 따라 heatmap 처럼 스타일을 표현 가능 합니다."
   ]
  },
  {
   "cell_type": "code",
   "execution_count": 33,
   "metadata": {
    "scrolled": false
   },
   "outputs": [
    {
     "data": {
      "text/html": [
       "<style  type=\"text/css\" >\n",
       "    #T_b54972fa_0f48_11eb_9830_645d86cd684brow0_col0 {\n",
       "            background-color:  #c5cce3;\n",
       "            color:  #000000;\n",
       "        }    #T_b54972fa_0f48_11eb_9830_645d86cd684brow0_col1 {\n",
       "            background-color:  #045f95;\n",
       "            color:  #f1f1f1;\n",
       "        }    #T_b54972fa_0f48_11eb_9830_645d86cd684brow0_col2 {\n",
       "            background-color:  #fdf5fa;\n",
       "            color:  #000000;\n",
       "        }    #T_b54972fa_0f48_11eb_9830_645d86cd684brow0_col3 {\n",
       "            background-color:  #69a5cc;\n",
       "            color:  #000000;\n",
       "        }    #T_b54972fa_0f48_11eb_9830_645d86cd684brow0_col4 {\n",
       "            background-color:  #e0dded;\n",
       "            color:  #000000;\n",
       "        }    #T_b54972fa_0f48_11eb_9830_645d86cd684brow0_col5 {\n",
       "            background-color:  #f6eff7;\n",
       "            color:  #000000;\n",
       "        }    #T_b54972fa_0f48_11eb_9830_645d86cd684brow0_col6 {\n",
       "            background-color:  #f2ecf5;\n",
       "            color:  #000000;\n",
       "        }    #T_b54972fa_0f48_11eb_9830_645d86cd684brow0_col7 {\n",
       "            background-color:  #e0dded;\n",
       "            color:  #000000;\n",
       "        }    #T_b54972fa_0f48_11eb_9830_645d86cd684brow0_col8 {\n",
       "            background-color:  #c5cce3;\n",
       "            color:  #000000;\n",
       "        }    #T_b54972fa_0f48_11eb_9830_645d86cd684brow0_col9 {\n",
       "            background-color:  #dcdaeb;\n",
       "            color:  #000000;\n",
       "        }    #T_b54972fa_0f48_11eb_9830_645d86cd684brow0_col10 {\n",
       "            background-color:  #e8e4f0;\n",
       "            color:  #000000;\n",
       "        }    #T_b54972fa_0f48_11eb_9830_645d86cd684brow0_col11 {\n",
       "            background-color:  #d0d1e6;\n",
       "            color:  #000000;\n",
       "        }    #T_b54972fa_0f48_11eb_9830_645d86cd684brow1_col0 {\n",
       "            background-color:  #dbdaeb;\n",
       "            color:  #000000;\n",
       "        }    #T_b54972fa_0f48_11eb_9830_645d86cd684brow1_col1 {\n",
       "            background-color:  #acc0dd;\n",
       "            color:  #000000;\n",
       "        }    #T_b54972fa_0f48_11eb_9830_645d86cd684brow1_col2 {\n",
       "            background-color:  #f2ecf5;\n",
       "            color:  #000000;\n",
       "        }    #T_b54972fa_0f48_11eb_9830_645d86cd684brow1_col3 {\n",
       "            background-color:  #f7f0f7;\n",
       "            color:  #000000;\n",
       "        }    #T_b54972fa_0f48_11eb_9830_645d86cd684brow1_col4 {\n",
       "            background-color:  #adc1dd;\n",
       "            color:  #000000;\n",
       "        }    #T_b54972fa_0f48_11eb_9830_645d86cd684brow1_col5 {\n",
       "            background-color:  #f6eff7;\n",
       "            color:  #000000;\n",
       "        }    #T_b54972fa_0f48_11eb_9830_645d86cd684brow1_col6 {\n",
       "            background-color:  #2182b9;\n",
       "            color:  #000000;\n",
       "        }    #T_b54972fa_0f48_11eb_9830_645d86cd684brow1_col7 {\n",
       "            background-color:  #d7d6e9;\n",
       "            color:  #000000;\n",
       "        }    #T_b54972fa_0f48_11eb_9830_645d86cd684brow1_col8 {\n",
       "            background-color:  #fff7fb;\n",
       "            color:  #000000;\n",
       "        }    #T_b54972fa_0f48_11eb_9830_645d86cd684brow1_col9 {\n",
       "            background-color:  #d8d7e9;\n",
       "            color:  #000000;\n",
       "        }    #T_b54972fa_0f48_11eb_9830_645d86cd684brow1_col10 {\n",
       "            background-color:  #d4d4e8;\n",
       "            color:  #000000;\n",
       "        }    #T_b54972fa_0f48_11eb_9830_645d86cd684brow1_col11 {\n",
       "            background-color:  #c8cde4;\n",
       "            color:  #000000;\n",
       "        }    #T_b54972fa_0f48_11eb_9830_645d86cd684brow2_col0 {\n",
       "            background-color:  #d7d6e9;\n",
       "            color:  #000000;\n",
       "        }    #T_b54972fa_0f48_11eb_9830_645d86cd684brow2_col1 {\n",
       "            background-color:  #d7d6e9;\n",
       "            color:  #000000;\n",
       "        }    #T_b54972fa_0f48_11eb_9830_645d86cd684brow2_col2 {\n",
       "            background-color:  #f2ecf5;\n",
       "            color:  #000000;\n",
       "        }    #T_b54972fa_0f48_11eb_9830_645d86cd684brow2_col3 {\n",
       "            background-color:  #ede7f2;\n",
       "            color:  #000000;\n",
       "        }    #T_b54972fa_0f48_11eb_9830_645d86cd684brow2_col4 {\n",
       "            background-color:  #e6e2ef;\n",
       "            color:  #000000;\n",
       "        }    #T_b54972fa_0f48_11eb_9830_645d86cd684brow2_col5 {\n",
       "            background-color:  #d5d5e8;\n",
       "            color:  #000000;\n",
       "        }    #T_b54972fa_0f48_11eb_9830_645d86cd684brow2_col6 {\n",
       "            background-color:  #f4eef6;\n",
       "            color:  #000000;\n",
       "        }    #T_b54972fa_0f48_11eb_9830_645d86cd684brow2_col7 {\n",
       "            background-color:  #f9f2f8;\n",
       "            color:  #000000;\n",
       "        }    #T_b54972fa_0f48_11eb_9830_645d86cd684brow2_col8 {\n",
       "            background-color:  #fff7fb;\n",
       "            color:  #000000;\n",
       "        }    #T_b54972fa_0f48_11eb_9830_645d86cd684brow2_col9 {\n",
       "            background-color:  #f5eff6;\n",
       "            color:  #000000;\n",
       "        }    #T_b54972fa_0f48_11eb_9830_645d86cd684brow2_col10 {\n",
       "            background-color:  #d7d6e9;\n",
       "            color:  #000000;\n",
       "        }    #T_b54972fa_0f48_11eb_9830_645d86cd684brow2_col11 {\n",
       "            background-color:  #d0d1e6;\n",
       "            color:  #000000;\n",
       "        }    #T_b54972fa_0f48_11eb_9830_645d86cd684brow3_col0 {\n",
       "            background-color:  #abbfdc;\n",
       "            color:  #000000;\n",
       "        }    #T_b54972fa_0f48_11eb_9830_645d86cd684brow3_col1 {\n",
       "            background-color:  #6fa7ce;\n",
       "            color:  #000000;\n",
       "        }    #T_b54972fa_0f48_11eb_9830_645d86cd684brow3_col2 {\n",
       "            background-color:  #f0eaf4;\n",
       "            color:  #000000;\n",
       "        }    #T_b54972fa_0f48_11eb_9830_645d86cd684brow3_col3 {\n",
       "            background-color:  #e2dfee;\n",
       "            color:  #000000;\n",
       "        }    #T_b54972fa_0f48_11eb_9830_645d86cd684brow3_col4 {\n",
       "            background-color:  #ece7f2;\n",
       "            color:  #000000;\n",
       "        }    #T_b54972fa_0f48_11eb_9830_645d86cd684brow3_col5 {\n",
       "            background-color:  #ebe6f2;\n",
       "            color:  #000000;\n",
       "        }    #T_b54972fa_0f48_11eb_9830_645d86cd684brow3_col6 {\n",
       "            background-color:  #eee9f3;\n",
       "            color:  #000000;\n",
       "        }    #T_b54972fa_0f48_11eb_9830_645d86cd684brow3_col7 {\n",
       "            background-color:  #034369;\n",
       "            color:  #f1f1f1;\n",
       "        }    #T_b54972fa_0f48_11eb_9830_645d86cd684brow3_col8 {\n",
       "            background-color:  #fbf4f9;\n",
       "            color:  #000000;\n",
       "        }    #T_b54972fa_0f48_11eb_9830_645d86cd684brow3_col9 {\n",
       "            background-color:  #ece7f2;\n",
       "            color:  #000000;\n",
       "        }    #T_b54972fa_0f48_11eb_9830_645d86cd684brow3_col10 {\n",
       "            background-color:  #ced0e6;\n",
       "            color:  #000000;\n",
       "        }    #T_b54972fa_0f48_11eb_9830_645d86cd684brow3_col11 {\n",
       "            background-color:  #0569a5;\n",
       "            color:  #f1f1f1;\n",
       "        }    #T_b54972fa_0f48_11eb_9830_645d86cd684brow4_col0 {\n",
       "            background-color:  #93b5d6;\n",
       "            color:  #000000;\n",
       "        }    #T_b54972fa_0f48_11eb_9830_645d86cd684brow4_col1 {\n",
       "            background-color:  #63a2cb;\n",
       "            color:  #000000;\n",
       "        }    #T_b54972fa_0f48_11eb_9830_645d86cd684brow4_col2 {\n",
       "            background-color:  #f8f1f8;\n",
       "            color:  #000000;\n",
       "        }    #T_b54972fa_0f48_11eb_9830_645d86cd684brow4_col3 {\n",
       "            background-color:  #e6e2ef;\n",
       "            color:  #000000;\n",
       "        }    #T_b54972fa_0f48_11eb_9830_645d86cd684brow4_col4 {\n",
       "            background-color:  #62a2cb;\n",
       "            color:  #000000;\n",
       "        }    #T_b54972fa_0f48_11eb_9830_645d86cd684brow4_col5 {\n",
       "            background-color:  #d2d3e7;\n",
       "            color:  #000000;\n",
       "        }    #T_b54972fa_0f48_11eb_9830_645d86cd684brow4_col6 {\n",
       "            background-color:  #d9d8ea;\n",
       "            color:  #000000;\n",
       "        }    #T_b54972fa_0f48_11eb_9830_645d86cd684brow4_col7 {\n",
       "            background-color:  #6da6cd;\n",
       "            color:  #000000;\n",
       "        }    #T_b54972fa_0f48_11eb_9830_645d86cd684brow4_col8 {\n",
       "            background-color:  #eae6f1;\n",
       "            color:  #000000;\n",
       "        }    #T_b54972fa_0f48_11eb_9830_645d86cd684brow4_col9 {\n",
       "            background-color:  #d9d8ea;\n",
       "            color:  #000000;\n",
       "        }    #T_b54972fa_0f48_11eb_9830_645d86cd684brow4_col10 {\n",
       "            background-color:  #d2d2e7;\n",
       "            color:  #000000;\n",
       "        }    #T_b54972fa_0f48_11eb_9830_645d86cd684brow4_col11 {\n",
       "            background-color:  #05659f;\n",
       "            color:  #f1f1f1;\n",
       "        }    #T_b54972fa_0f48_11eb_9830_645d86cd684brow5_col0 {\n",
       "            background-color:  #6da6cd;\n",
       "            color:  #000000;\n",
       "        }    #T_b54972fa_0f48_11eb_9830_645d86cd684brow5_col1 {\n",
       "            background-color:  #1379b5;\n",
       "            color:  #f1f1f1;\n",
       "        }    #T_b54972fa_0f48_11eb_9830_645d86cd684brow5_col2 {\n",
       "            background-color:  #d9d8ea;\n",
       "            color:  #000000;\n",
       "        }    #T_b54972fa_0f48_11eb_9830_645d86cd684brow5_col3 {\n",
       "            background-color:  #d3d4e7;\n",
       "            color:  #000000;\n",
       "        }    #T_b54972fa_0f48_11eb_9830_645d86cd684brow5_col4 {\n",
       "            background-color:  #056ba9;\n",
       "            color:  #f1f1f1;\n",
       "        }    #T_b54972fa_0f48_11eb_9830_645d86cd684brow5_col5 {\n",
       "            background-color:  #abbfdc;\n",
       "            color:  #000000;\n",
       "        }    #T_b54972fa_0f48_11eb_9830_645d86cd684brow5_col6 {\n",
       "            background-color:  #9fbad9;\n",
       "            color:  #000000;\n",
       "        }    #T_b54972fa_0f48_11eb_9830_645d86cd684brow5_col7 {\n",
       "            background-color:  #8fb4d6;\n",
       "            color:  #000000;\n",
       "        }    #T_b54972fa_0f48_11eb_9830_645d86cd684brow5_col8 {\n",
       "            background-color:  #e1dfed;\n",
       "            color:  #000000;\n",
       "        }    #T_b54972fa_0f48_11eb_9830_645d86cd684brow5_col9 {\n",
       "            background-color:  #c2cbe2;\n",
       "            color:  #000000;\n",
       "        }    #T_b54972fa_0f48_11eb_9830_645d86cd684brow5_col10 {\n",
       "            background-color:  #67a4cc;\n",
       "            color:  #000000;\n",
       "        }    #T_b54972fa_0f48_11eb_9830_645d86cd684brow5_col11 {\n",
       "            background-color:  #045a8d;\n",
       "            color:  #f1f1f1;\n",
       "        }    #T_b54972fa_0f48_11eb_9830_645d86cd684brow6_col0 {\n",
       "            background-color:  #8fb4d6;\n",
       "            color:  #000000;\n",
       "        }    #T_b54972fa_0f48_11eb_9830_645d86cd684brow6_col1 {\n",
       "            background-color:  #dbdaeb;\n",
       "            color:  #000000;\n",
       "        }    #T_b54972fa_0f48_11eb_9830_645d86cd684brow6_col2 {\n",
       "            background-color:  #f8f1f8;\n",
       "            color:  #000000;\n",
       "        }    #T_b54972fa_0f48_11eb_9830_645d86cd684brow6_col3 {\n",
       "            background-color:  #b1c2de;\n",
       "            color:  #000000;\n",
       "        }    #T_b54972fa_0f48_11eb_9830_645d86cd684brow6_col4 {\n",
       "            background-color:  #dcdaeb;\n",
       "            color:  #000000;\n",
       "        }    #T_b54972fa_0f48_11eb_9830_645d86cd684brow6_col5 {\n",
       "            background-color:  #84b0d3;\n",
       "            color:  #000000;\n",
       "        }    #T_b54972fa_0f48_11eb_9830_645d86cd684brow6_col6 {\n",
       "            background-color:  #034e7b;\n",
       "            color:  #f1f1f1;\n",
       "        }    #T_b54972fa_0f48_11eb_9830_645d86cd684brow6_col7 {\n",
       "            background-color:  #023858;\n",
       "            color:  #f1f1f1;\n",
       "        }    #T_b54972fa_0f48_11eb_9830_645d86cd684brow6_col8 {\n",
       "            background-color:  #2081b9;\n",
       "            color:  #000000;\n",
       "        }    #T_b54972fa_0f48_11eb_9830_645d86cd684brow6_col9 {\n",
       "            background-color:  #023858;\n",
       "            color:  #f1f1f1;\n",
       "        }    #T_b54972fa_0f48_11eb_9830_645d86cd684brow6_col10 {\n",
       "            background-color:  #023858;\n",
       "            color:  #f1f1f1;\n",
       "        }    #T_b54972fa_0f48_11eb_9830_645d86cd684brow6_col11 {\n",
       "            background-color:  #187cb6;\n",
       "            color:  #000000;\n",
       "        }    #T_b54972fa_0f48_11eb_9830_645d86cd684brow7_col0 {\n",
       "            background-color:  #023858;\n",
       "            color:  #f1f1f1;\n",
       "        }    #T_b54972fa_0f48_11eb_9830_645d86cd684brow7_col1 {\n",
       "            background-color:  #023858;\n",
       "            color:  #f1f1f1;\n",
       "        }    #T_b54972fa_0f48_11eb_9830_645d86cd684brow7_col2 {\n",
       "            background-color:  #80aed2;\n",
       "            color:  #000000;\n",
       "        }    #T_b54972fa_0f48_11eb_9830_645d86cd684brow7_col3 {\n",
       "            background-color:  #b7c5df;\n",
       "            color:  #000000;\n",
       "        }    #T_b54972fa_0f48_11eb_9830_645d86cd684brow7_col4 {\n",
       "            background-color:  #a9bfdc;\n",
       "            color:  #000000;\n",
       "        }    #T_b54972fa_0f48_11eb_9830_645d86cd684brow7_col5 {\n",
       "            background-color:  #023858;\n",
       "            color:  #f1f1f1;\n",
       "        }    #T_b54972fa_0f48_11eb_9830_645d86cd684brow7_col6 {\n",
       "            background-color:  #d2d3e7;\n",
       "            color:  #000000;\n",
       "        }    #T_b54972fa_0f48_11eb_9830_645d86cd684brow7_col7 {\n",
       "            background-color:  #056ba7;\n",
       "            color:  #f1f1f1;\n",
       "        }    #T_b54972fa_0f48_11eb_9830_645d86cd684brow7_col8 {\n",
       "            background-color:  #d3d4e7;\n",
       "            color:  #000000;\n",
       "        }    #T_b54972fa_0f48_11eb_9830_645d86cd684brow7_col9 {\n",
       "            background-color:  #eae6f1;\n",
       "            color:  #000000;\n",
       "        }    #T_b54972fa_0f48_11eb_9830_645d86cd684brow7_col10 {\n",
       "            background-color:  #f7f0f7;\n",
       "            color:  #000000;\n",
       "        }    #T_b54972fa_0f48_11eb_9830_645d86cd684brow7_col11 {\n",
       "            background-color:  #023858;\n",
       "            color:  #f1f1f1;\n",
       "        }    #T_b54972fa_0f48_11eb_9830_645d86cd684brow8_col0 {\n",
       "            background-color:  #a4bcda;\n",
       "            color:  #000000;\n",
       "        }    #T_b54972fa_0f48_11eb_9830_645d86cd684brow8_col1 {\n",
       "            background-color:  #1c7fb8;\n",
       "            color:  #000000;\n",
       "        }    #T_b54972fa_0f48_11eb_9830_645d86cd684brow8_col2 {\n",
       "            background-color:  #023858;\n",
       "            color:  #f1f1f1;\n",
       "        }    #T_b54972fa_0f48_11eb_9830_645d86cd684brow8_col3 {\n",
       "            background-color:  #023858;\n",
       "            color:  #f1f1f1;\n",
       "        }    #T_b54972fa_0f48_11eb_9830_645d86cd684brow8_col4 {\n",
       "            background-color:  #023858;\n",
       "            color:  #f1f1f1;\n",
       "        }    #T_b54972fa_0f48_11eb_9830_645d86cd684brow8_col5 {\n",
       "            background-color:  #69a5cc;\n",
       "            color:  #000000;\n",
       "        }    #T_b54972fa_0f48_11eb_9830_645d86cd684brow8_col6 {\n",
       "            background-color:  #69a5cc;\n",
       "            color:  #000000;\n",
       "        }    #T_b54972fa_0f48_11eb_9830_645d86cd684brow8_col7 {\n",
       "            background-color:  #65a3cb;\n",
       "            color:  #000000;\n",
       "        }    #T_b54972fa_0f48_11eb_9830_645d86cd684brow8_col8 {\n",
       "            background-color:  #023858;\n",
       "            color:  #f1f1f1;\n",
       "        }    #T_b54972fa_0f48_11eb_9830_645d86cd684brow8_col9 {\n",
       "            background-color:  #e9e5f1;\n",
       "            color:  #000000;\n",
       "        }    #T_b54972fa_0f48_11eb_9830_645d86cd684brow8_col10 {\n",
       "            background-color:  #b9c6e0;\n",
       "            color:  #000000;\n",
       "        }    #T_b54972fa_0f48_11eb_9830_645d86cd684brow8_col11 {\n",
       "            background-color:  #034973;\n",
       "            color:  #f1f1f1;\n",
       "        }    #T_b54972fa_0f48_11eb_9830_645d86cd684brow9_col0 {\n",
       "            background-color:  #e3e0ee;\n",
       "            color:  #000000;\n",
       "        }    #T_b54972fa_0f48_11eb_9830_645d86cd684brow9_col1 {\n",
       "            background-color:  #1c7fb8;\n",
       "            color:  #000000;\n",
       "        }    #T_b54972fa_0f48_11eb_9830_645d86cd684brow9_col2 {\n",
       "            background-color:  #65a3cb;\n",
       "            color:  #000000;\n",
       "        }    #T_b54972fa_0f48_11eb_9830_645d86cd684brow9_col3 {\n",
       "            background-color:  #7dacd1;\n",
       "            color:  #000000;\n",
       "        }    #T_b54972fa_0f48_11eb_9830_645d86cd684brow9_col4 {\n",
       "            background-color:  #3991c1;\n",
       "            color:  #000000;\n",
       "        }    #T_b54972fa_0f48_11eb_9830_645d86cd684brow9_col5 {\n",
       "            background-color:  #99b8d8;\n",
       "            color:  #000000;\n",
       "        }    #T_b54972fa_0f48_11eb_9830_645d86cd684brow9_col6 {\n",
       "            background-color:  #328dbf;\n",
       "            color:  #000000;\n",
       "        }    #T_b54972fa_0f48_11eb_9830_645d86cd684brow9_col7 {\n",
       "            background-color:  #b0c2de;\n",
       "            color:  #000000;\n",
       "        }    #T_b54972fa_0f48_11eb_9830_645d86cd684brow9_col8 {\n",
       "            background-color:  #ced0e6;\n",
       "            color:  #000000;\n",
       "        }    #T_b54972fa_0f48_11eb_9830_645d86cd684brow9_col9 {\n",
       "            background-color:  #dbdaeb;\n",
       "            color:  #000000;\n",
       "        }    #T_b54972fa_0f48_11eb_9830_645d86cd684brow9_col10 {\n",
       "            background-color:  #a2bcda;\n",
       "            color:  #000000;\n",
       "        }    #T_b54972fa_0f48_11eb_9830_645d86cd684brow9_col11 {\n",
       "            background-color:  #6da6cd;\n",
       "            color:  #000000;\n",
       "        }    #T_b54972fa_0f48_11eb_9830_645d86cd684brow10_col0 {\n",
       "            background-color:  #e0deed;\n",
       "            color:  #000000;\n",
       "        }    #T_b54972fa_0f48_11eb_9830_645d86cd684brow10_col1 {\n",
       "            background-color:  #8bb2d4;\n",
       "            color:  #000000;\n",
       "        }    #T_b54972fa_0f48_11eb_9830_645d86cd684brow10_col2 {\n",
       "            background-color:  #efe9f3;\n",
       "            color:  #000000;\n",
       "        }    #T_b54972fa_0f48_11eb_9830_645d86cd684brow10_col3 {\n",
       "            background-color:  #e7e3f0;\n",
       "            color:  #000000;\n",
       "        }    #T_b54972fa_0f48_11eb_9830_645d86cd684brow10_col4 {\n",
       "            background-color:  #d9d8ea;\n",
       "            color:  #000000;\n",
       "        }    #T_b54972fa_0f48_11eb_9830_645d86cd684brow10_col5 {\n",
       "            background-color:  #e9e5f1;\n",
       "            color:  #000000;\n",
       "        }    #T_b54972fa_0f48_11eb_9830_645d86cd684brow10_col6 {\n",
       "            background-color:  #4e9ac6;\n",
       "            color:  #000000;\n",
       "        }    #T_b54972fa_0f48_11eb_9830_645d86cd684brow10_col7 {\n",
       "            background-color:  #4a98c5;\n",
       "            color:  #000000;\n",
       "        }    #T_b54972fa_0f48_11eb_9830_645d86cd684brow10_col8 {\n",
       "            background-color:  #d9d8ea;\n",
       "            color:  #000000;\n",
       "        }    #T_b54972fa_0f48_11eb_9830_645d86cd684brow10_col9 {\n",
       "            background-color:  #c0c9e2;\n",
       "            color:  #000000;\n",
       "        }    #T_b54972fa_0f48_11eb_9830_645d86cd684brow10_col10 {\n",
       "            background-color:  #e8e4f0;\n",
       "            color:  #000000;\n",
       "        }    #T_b54972fa_0f48_11eb_9830_645d86cd684brow10_col11 {\n",
       "            background-color:  #8fb4d6;\n",
       "            color:  #000000;\n",
       "        }    #T_b54972fa_0f48_11eb_9830_645d86cd684brow11_col0 {\n",
       "            background-color:  #f2ecf5;\n",
       "            color:  #000000;\n",
       "        }    #T_b54972fa_0f48_11eb_9830_645d86cd684brow11_col1 {\n",
       "            background-color:  #4e9ac6;\n",
       "            color:  #000000;\n",
       "        }    #T_b54972fa_0f48_11eb_9830_645d86cd684brow11_col2 {\n",
       "            background-color:  #eee8f3;\n",
       "            color:  #000000;\n",
       "        }    #T_b54972fa_0f48_11eb_9830_645d86cd684brow11_col3 {\n",
       "            background-color:  #e7e3f0;\n",
       "            color:  #000000;\n",
       "        }    #T_b54972fa_0f48_11eb_9830_645d86cd684brow11_col4 {\n",
       "            background-color:  #dcdaeb;\n",
       "            color:  #000000;\n",
       "        }    #T_b54972fa_0f48_11eb_9830_645d86cd684brow11_col5 {\n",
       "            background-color:  #8cb3d5;\n",
       "            color:  #000000;\n",
       "        }    #T_b54972fa_0f48_11eb_9830_645d86cd684brow11_col6 {\n",
       "            background-color:  #023858;\n",
       "            color:  #f1f1f1;\n",
       "        }    #T_b54972fa_0f48_11eb_9830_645d86cd684brow11_col7 {\n",
       "            background-color:  #8fb4d6;\n",
       "            color:  #000000;\n",
       "        }    #T_b54972fa_0f48_11eb_9830_645d86cd684brow11_col8 {\n",
       "            background-color:  #f7f0f7;\n",
       "            color:  #000000;\n",
       "        }    #T_b54972fa_0f48_11eb_9830_645d86cd684brow11_col9 {\n",
       "            background-color:  #f2ecf5;\n",
       "            color:  #000000;\n",
       "        }    #T_b54972fa_0f48_11eb_9830_645d86cd684brow11_col10 {\n",
       "            background-color:  #e8e4f0;\n",
       "            color:  #000000;\n",
       "        }    #T_b54972fa_0f48_11eb_9830_645d86cd684brow11_col11 {\n",
       "            background-color:  #d7d6e9;\n",
       "            color:  #000000;\n",
       "        }    #T_b54972fa_0f48_11eb_9830_645d86cd684brow12_col0 {\n",
       "            background-color:  #b1c2de;\n",
       "            color:  #000000;\n",
       "        }    #T_b54972fa_0f48_11eb_9830_645d86cd684brow12_col1 {\n",
       "            background-color:  #c4cbe3;\n",
       "            color:  #000000;\n",
       "        }    #T_b54972fa_0f48_11eb_9830_645d86cd684brow12_col2 {\n",
       "            background-color:  #f2ecf5;\n",
       "            color:  #000000;\n",
       "        }    #T_b54972fa_0f48_11eb_9830_645d86cd684brow12_col3 {\n",
       "            background-color:  #cacee5;\n",
       "            color:  #000000;\n",
       "        }    #T_b54972fa_0f48_11eb_9830_645d86cd684brow12_col4 {\n",
       "            background-color:  #b3c3de;\n",
       "            color:  #000000;\n",
       "        }    #T_b54972fa_0f48_11eb_9830_645d86cd684brow12_col5 {\n",
       "            background-color:  #ede8f3;\n",
       "            color:  #000000;\n",
       "        }    #T_b54972fa_0f48_11eb_9830_645d86cd684brow12_col6 {\n",
       "            background-color:  #167bb6;\n",
       "            color:  #000000;\n",
       "        }    #T_b54972fa_0f48_11eb_9830_645d86cd684brow12_col7 {\n",
       "            background-color:  #eee9f3;\n",
       "            color:  #000000;\n",
       "        }    #T_b54972fa_0f48_11eb_9830_645d86cd684brow12_col8 {\n",
       "            background-color:  #f0eaf4;\n",
       "            color:  #000000;\n",
       "        }    #T_b54972fa_0f48_11eb_9830_645d86cd684brow12_col9 {\n",
       "            background-color:  #bfc9e1;\n",
       "            color:  #000000;\n",
       "        }    #T_b54972fa_0f48_11eb_9830_645d86cd684brow12_col10 {\n",
       "            background-color:  #f3edf5;\n",
       "            color:  #000000;\n",
       "        }    #T_b54972fa_0f48_11eb_9830_645d86cd684brow12_col11 {\n",
       "            background-color:  #abbfdc;\n",
       "            color:  #000000;\n",
       "        }    #T_b54972fa_0f48_11eb_9830_645d86cd684brow13_col0 {\n",
       "            background-color:  #f1ebf4;\n",
       "            color:  #000000;\n",
       "        }    #T_b54972fa_0f48_11eb_9830_645d86cd684brow13_col1 {\n",
       "            background-color:  #8bb2d4;\n",
       "            color:  #000000;\n",
       "        }    #T_b54972fa_0f48_11eb_9830_645d86cd684brow13_col2 {\n",
       "            background-color:  #eee8f3;\n",
       "            color:  #000000;\n",
       "        }    #T_b54972fa_0f48_11eb_9830_645d86cd684brow13_col3 {\n",
       "            background-color:  #efe9f3;\n",
       "            color:  #000000;\n",
       "        }    #T_b54972fa_0f48_11eb_9830_645d86cd684brow13_col4 {\n",
       "            background-color:  #d6d6e9;\n",
       "            color:  #000000;\n",
       "        }    #T_b54972fa_0f48_11eb_9830_645d86cd684brow13_col5 {\n",
       "            background-color:  #fff7fb;\n",
       "            color:  #000000;\n",
       "        }    #T_b54972fa_0f48_11eb_9830_645d86cd684brow13_col6 {\n",
       "            background-color:  #d9d8ea;\n",
       "            color:  #000000;\n",
       "        }    #T_b54972fa_0f48_11eb_9830_645d86cd684brow13_col7 {\n",
       "            background-color:  #f1ebf4;\n",
       "            color:  #000000;\n",
       "        }    #T_b54972fa_0f48_11eb_9830_645d86cd684brow13_col8 {\n",
       "            background-color:  #f4eef6;\n",
       "            color:  #000000;\n",
       "        }    #T_b54972fa_0f48_11eb_9830_645d86cd684brow13_col9 {\n",
       "            background-color:  #f5eef6;\n",
       "            color:  #000000;\n",
       "        }    #T_b54972fa_0f48_11eb_9830_645d86cd684brow13_col10 {\n",
       "            background-color:  #f5eef6;\n",
       "            color:  #000000;\n",
       "        }    #T_b54972fa_0f48_11eb_9830_645d86cd684brow13_col11 {\n",
       "            background-color:  #348ebf;\n",
       "            color:  #000000;\n",
       "        }    #T_b54972fa_0f48_11eb_9830_645d86cd684brow14_col0 {\n",
       "            background-color:  #cdd0e5;\n",
       "            color:  #000000;\n",
       "        }    #T_b54972fa_0f48_11eb_9830_645d86cd684brow14_col1 {\n",
       "            background-color:  #e0deed;\n",
       "            color:  #000000;\n",
       "        }    #T_b54972fa_0f48_11eb_9830_645d86cd684brow14_col2 {\n",
       "            background-color:  #f2ecf5;\n",
       "            color:  #000000;\n",
       "        }    #T_b54972fa_0f48_11eb_9830_645d86cd684brow14_col3 {\n",
       "            background-color:  #c8cde4;\n",
       "            color:  #000000;\n",
       "        }    #T_b54972fa_0f48_11eb_9830_645d86cd684brow14_col4 {\n",
       "            background-color:  #f0eaf4;\n",
       "            color:  #000000;\n",
       "        }    #T_b54972fa_0f48_11eb_9830_645d86cd684brow14_col5 {\n",
       "            background-color:  #eee9f3;\n",
       "            color:  #000000;\n",
       "        }    #T_b54972fa_0f48_11eb_9830_645d86cd684brow14_col6 {\n",
       "            background-color:  #e0dded;\n",
       "            color:  #000000;\n",
       "        }    #T_b54972fa_0f48_11eb_9830_645d86cd684brow14_col7 {\n",
       "            background-color:  #f2ecf5;\n",
       "            color:  #000000;\n",
       "        }    #T_b54972fa_0f48_11eb_9830_645d86cd684brow14_col8 {\n",
       "            background-color:  #f4eef6;\n",
       "            color:  #000000;\n",
       "        }    #T_b54972fa_0f48_11eb_9830_645d86cd684brow14_col9 {\n",
       "            background-color:  #fef6fb;\n",
       "            color:  #000000;\n",
       "        }    #T_b54972fa_0f48_11eb_9830_645d86cd684brow14_col10 {\n",
       "            background-color:  #f2ecf5;\n",
       "            color:  #000000;\n",
       "        }    #T_b54972fa_0f48_11eb_9830_645d86cd684brow14_col11 {\n",
       "            background-color:  #f2ecf5;\n",
       "            color:  #000000;\n",
       "        }    #T_b54972fa_0f48_11eb_9830_645d86cd684brow15_col0 {\n",
       "            background-color:  #e0deed;\n",
       "            color:  #000000;\n",
       "        }    #T_b54972fa_0f48_11eb_9830_645d86cd684brow15_col1 {\n",
       "            background-color:  #4295c3;\n",
       "            color:  #000000;\n",
       "        }    #T_b54972fa_0f48_11eb_9830_645d86cd684brow15_col2 {\n",
       "            background-color:  #faf3f9;\n",
       "            color:  #000000;\n",
       "        }    #T_b54972fa_0f48_11eb_9830_645d86cd684brow15_col3 {\n",
       "            background-color:  #e7e3f0;\n",
       "            color:  #000000;\n",
       "        }    #T_b54972fa_0f48_11eb_9830_645d86cd684brow15_col4 {\n",
       "            background-color:  #d6d6e9;\n",
       "            color:  #000000;\n",
       "        }    #T_b54972fa_0f48_11eb_9830_645d86cd684brow15_col5 {\n",
       "            background-color:  #e9e5f1;\n",
       "            color:  #000000;\n",
       "        }    #T_b54972fa_0f48_11eb_9830_645d86cd684brow15_col6 {\n",
       "            background-color:  #dcdaeb;\n",
       "            color:  #000000;\n",
       "        }    #T_b54972fa_0f48_11eb_9830_645d86cd684brow15_col7 {\n",
       "            background-color:  #eee9f3;\n",
       "            color:  #000000;\n",
       "        }    #T_b54972fa_0f48_11eb_9830_645d86cd684brow15_col8 {\n",
       "            background-color:  #d8d7e9;\n",
       "            color:  #000000;\n",
       "        }    #T_b54972fa_0f48_11eb_9830_645d86cd684brow15_col9 {\n",
       "            background-color:  #f4edf6;\n",
       "            color:  #000000;\n",
       "        }    #T_b54972fa_0f48_11eb_9830_645d86cd684brow15_col10 {\n",
       "            background-color:  #fbf4f9;\n",
       "            color:  #000000;\n",
       "        }    #T_b54972fa_0f48_11eb_9830_645d86cd684brow15_col11 {\n",
       "            background-color:  #c8cde4;\n",
       "            color:  #000000;\n",
       "        }    #T_b54972fa_0f48_11eb_9830_645d86cd684brow16_col0 {\n",
       "            background-color:  #fbf4f9;\n",
       "            color:  #000000;\n",
       "        }    #T_b54972fa_0f48_11eb_9830_645d86cd684brow16_col1 {\n",
       "            background-color:  #fff7fb;\n",
       "            color:  #000000;\n",
       "        }    #T_b54972fa_0f48_11eb_9830_645d86cd684brow16_col2 {\n",
       "            background-color:  #f8f1f8;\n",
       "            color:  #000000;\n",
       "        }    #T_b54972fa_0f48_11eb_9830_645d86cd684brow16_col3 {\n",
       "            background-color:  #e9e5f1;\n",
       "            color:  #000000;\n",
       "        }    #T_b54972fa_0f48_11eb_9830_645d86cd684brow16_col4 {\n",
       "            background-color:  #fff7fb;\n",
       "            color:  #000000;\n",
       "        }    #T_b54972fa_0f48_11eb_9830_645d86cd684brow16_col5 {\n",
       "            background-color:  #f0eaf4;\n",
       "            color:  #000000;\n",
       "        }    #T_b54972fa_0f48_11eb_9830_645d86cd684brow16_col6 {\n",
       "            background-color:  #dcdaeb;\n",
       "            color:  #000000;\n",
       "        }    #T_b54972fa_0f48_11eb_9830_645d86cd684brow16_col7 {\n",
       "            background-color:  #f5eef6;\n",
       "            color:  #000000;\n",
       "        }    #T_b54972fa_0f48_11eb_9830_645d86cd684brow16_col8 {\n",
       "            background-color:  #f8f1f8;\n",
       "            color:  #000000;\n",
       "        }    #T_b54972fa_0f48_11eb_9830_645d86cd684brow16_col9 {\n",
       "            background-color:  #fff7fb;\n",
       "            color:  #000000;\n",
       "        }    #T_b54972fa_0f48_11eb_9830_645d86cd684brow16_col10 {\n",
       "            background-color:  #f2ecf5;\n",
       "            color:  #000000;\n",
       "        }    #T_b54972fa_0f48_11eb_9830_645d86cd684brow16_col11 {\n",
       "            background-color:  #fff7fb;\n",
       "            color:  #000000;\n",
       "        }    #T_b54972fa_0f48_11eb_9830_645d86cd684brow17_col0 {\n",
       "            background-color:  #fff7fb;\n",
       "            color:  #000000;\n",
       "        }    #T_b54972fa_0f48_11eb_9830_645d86cd684brow17_col1 {\n",
       "            background-color:  #eae6f1;\n",
       "            color:  #000000;\n",
       "        }    #T_b54972fa_0f48_11eb_9830_645d86cd684brow17_col2 {\n",
       "            background-color:  #fff7fb;\n",
       "            color:  #000000;\n",
       "        }    #T_b54972fa_0f48_11eb_9830_645d86cd684brow17_col3 {\n",
       "            background-color:  #fff7fb;\n",
       "            color:  #000000;\n",
       "        }    #T_b54972fa_0f48_11eb_9830_645d86cd684brow17_col4 {\n",
       "            background-color:  #f7f0f7;\n",
       "            color:  #000000;\n",
       "        }    #T_b54972fa_0f48_11eb_9830_645d86cd684brow17_col5 {\n",
       "            background-color:  #f6eff7;\n",
       "            color:  #000000;\n",
       "        }    #T_b54972fa_0f48_11eb_9830_645d86cd684brow17_col6 {\n",
       "            background-color:  #fff7fb;\n",
       "            color:  #000000;\n",
       "        }    #T_b54972fa_0f48_11eb_9830_645d86cd684brow17_col7 {\n",
       "            background-color:  #fff7fb;\n",
       "            color:  #000000;\n",
       "        }    #T_b54972fa_0f48_11eb_9830_645d86cd684brow17_col8 {\n",
       "            background-color:  #e7e3f0;\n",
       "            color:  #000000;\n",
       "        }    #T_b54972fa_0f48_11eb_9830_645d86cd684brow17_col9 {\n",
       "            background-color:  #ece7f2;\n",
       "            color:  #000000;\n",
       "        }    #T_b54972fa_0f48_11eb_9830_645d86cd684brow17_col10 {\n",
       "            background-color:  #fff7fb;\n",
       "            color:  #000000;\n",
       "        }    #T_b54972fa_0f48_11eb_9830_645d86cd684brow17_col11 {\n",
       "            background-color:  #e5e1ef;\n",
       "            color:  #000000;\n",
       "        }</style><table id=\"T_b54972fa_0f48_11eb_9830_645d86cd684b\" ><thead>    <tr>        <th class=\"index_name level0\" >고시월</th>        <th class=\"col_heading level0 col0\" >1.0</th>        <th class=\"col_heading level0 col1\" >2.0</th>        <th class=\"col_heading level0 col2\" >3.0</th>        <th class=\"col_heading level0 col3\" >4.0</th>        <th class=\"col_heading level0 col4\" >5.0</th>        <th class=\"col_heading level0 col5\" >6.0</th>        <th class=\"col_heading level0 col6\" >7.0</th>        <th class=\"col_heading level0 col7\" >8.0</th>        <th class=\"col_heading level0 col8\" >9.0</th>        <th class=\"col_heading level0 col9\" >10.0</th>        <th class=\"col_heading level0 col10\" >11.0</th>        <th class=\"col_heading level0 col11\" >12.0</th>    </tr>    <tr>        <th class=\"index_name level0\" >고시연도</th>        <th class=\"blank\" ></th>        <th class=\"blank\" ></th>        <th class=\"blank\" ></th>        <th class=\"blank\" ></th>        <th class=\"blank\" ></th>        <th class=\"blank\" ></th>        <th class=\"blank\" ></th>        <th class=\"blank\" ></th>        <th class=\"blank\" ></th>        <th class=\"blank\" ></th>        <th class=\"blank\" ></th>        <th class=\"blank\" ></th>    </tr></thead><tbody>\n",
       "                <tr>\n",
       "                        <th id=\"T_b54972fa_0f48_11eb_9830_645d86cd684blevel0_row0\" class=\"row_heading level0 row0\" >2001.0</th>\n",
       "                        <td id=\"T_b54972fa_0f48_11eb_9830_645d86cd684brow0_col0\" class=\"data row0 col0\" >50.000000</td>\n",
       "                        <td id=\"T_b54972fa_0f48_11eb_9830_645d86cd684brow0_col1\" class=\"data row0 col1\" >41.000000</td>\n",
       "                        <td id=\"T_b54972fa_0f48_11eb_9830_645d86cd684brow0_col2\" class=\"data row0 col2\" >7.000000</td>\n",
       "                        <td id=\"T_b54972fa_0f48_11eb_9830_645d86cd684brow0_col3\" class=\"data row0 col3\" >67.000000</td>\n",
       "                        <td id=\"T_b54972fa_0f48_11eb_9830_645d86cd684brow0_col4\" class=\"data row0 col4\" >17.000000</td>\n",
       "                        <td id=\"T_b54972fa_0f48_11eb_9830_645d86cd684brow0_col5\" class=\"data row0 col5\" >17.000000</td>\n",
       "                        <td id=\"T_b54972fa_0f48_11eb_9830_645d86cd684brow0_col6\" class=\"data row0 col6\" >7.000000</td>\n",
       "                        <td id=\"T_b54972fa_0f48_11eb_9830_645d86cd684brow0_col7\" class=\"data row0 col7\" >18.000000</td>\n",
       "                        <td id=\"T_b54972fa_0f48_11eb_9830_645d86cd684brow0_col8\" class=\"data row0 col8\" >38.000000</td>\n",
       "                        <td id=\"T_b54972fa_0f48_11eb_9830_645d86cd684brow0_col9\" class=\"data row0 col9\" >37.000000</td>\n",
       "                        <td id=\"T_b54972fa_0f48_11eb_9830_645d86cd684brow0_col10\" class=\"data row0 col10\" >38.000000</td>\n",
       "                        <td id=\"T_b54972fa_0f48_11eb_9830_645d86cd684brow0_col11\" class=\"data row0 col11\" >52.000000</td>\n",
       "            </tr>\n",
       "            <tr>\n",
       "                        <th id=\"T_b54972fa_0f48_11eb_9830_645d86cd684blevel0_row1\" class=\"row_heading level0 row1\" >2002.0</th>\n",
       "                        <td id=\"T_b54972fa_0f48_11eb_9830_645d86cd684brow1_col0\" class=\"data row1 col0\" >37.000000</td>\n",
       "                        <td id=\"T_b54972fa_0f48_11eb_9830_645d86cd684brow1_col1\" class=\"data row1 col1\" >19.000000</td>\n",
       "                        <td id=\"T_b54972fa_0f48_11eb_9830_645d86cd684brow1_col2\" class=\"data row1 col2\" >18.000000</td>\n",
       "                        <td id=\"T_b54972fa_0f48_11eb_9830_645d86cd684brow1_col3\" class=\"data row1 col3\" >10.000000</td>\n",
       "                        <td id=\"T_b54972fa_0f48_11eb_9830_645d86cd684brow1_col4\" class=\"data row1 col4\" >29.000000</td>\n",
       "                        <td id=\"T_b54972fa_0f48_11eb_9830_645d86cd684brow1_col5\" class=\"data row1 col5\" >17.000000</td>\n",
       "                        <td id=\"T_b54972fa_0f48_11eb_9830_645d86cd684brow1_col6\" class=\"data row1 col6\" >49.000000</td>\n",
       "                        <td id=\"T_b54972fa_0f48_11eb_9830_645d86cd684brow1_col7\" class=\"data row1 col7\" >21.000000</td>\n",
       "                        <td id=\"T_b54972fa_0f48_11eb_9830_645d86cd684brow1_col8\" class=\"data row1 col8\" >7.000000</td>\n",
       "                        <td id=\"T_b54972fa_0f48_11eb_9830_645d86cd684brow1_col9\" class=\"data row1 col9\" >40.000000</td>\n",
       "                        <td id=\"T_b54972fa_0f48_11eb_9830_645d86cd684brow1_col10\" class=\"data row1 col10\" >59.000000</td>\n",
       "                        <td id=\"T_b54972fa_0f48_11eb_9830_645d86cd684brow1_col11\" class=\"data row1 col11\" >55.000000</td>\n",
       "            </tr>\n",
       "            <tr>\n",
       "                        <th id=\"T_b54972fa_0f48_11eb_9830_645d86cd684blevel0_row2\" class=\"row_heading level0 row2\" >2003.0</th>\n",
       "                        <td id=\"T_b54972fa_0f48_11eb_9830_645d86cd684brow2_col0\" class=\"data row2 col0\" >40.000000</td>\n",
       "                        <td id=\"T_b54972fa_0f48_11eb_9830_645d86cd684brow2_col1\" class=\"data row2 col1\" >13.000000</td>\n",
       "                        <td id=\"T_b54972fa_0f48_11eb_9830_645d86cd684brow2_col2\" class=\"data row2 col2\" >17.000000</td>\n",
       "                        <td id=\"T_b54972fa_0f48_11eb_9830_645d86cd684brow2_col3\" class=\"data row2 col3\" >18.000000</td>\n",
       "                        <td id=\"T_b54972fa_0f48_11eb_9830_645d86cd684brow2_col4\" class=\"data row2 col4\" >15.000000</td>\n",
       "                        <td id=\"T_b54972fa_0f48_11eb_9830_645d86cd684brow2_col5\" class=\"data row2 col5\" >34.000000</td>\n",
       "                        <td id=\"T_b54972fa_0f48_11eb_9830_645d86cd684brow2_col6\" class=\"data row2 col6\" >6.000000</td>\n",
       "                        <td id=\"T_b54972fa_0f48_11eb_9830_645d86cd684brow2_col7\" class=\"data row2 col7\" >8.000000</td>\n",
       "                        <td id=\"T_b54972fa_0f48_11eb_9830_645d86cd684brow2_col8\" class=\"data row2 col8\" >7.000000</td>\n",
       "                        <td id=\"T_b54972fa_0f48_11eb_9830_645d86cd684brow2_col9\" class=\"data row2 col9\" >16.000000</td>\n",
       "                        <td id=\"T_b54972fa_0f48_11eb_9830_645d86cd684brow2_col10\" class=\"data row2 col10\" >56.000000</td>\n",
       "                        <td id=\"T_b54972fa_0f48_11eb_9830_645d86cd684brow2_col11\" class=\"data row2 col11\" >52.000000</td>\n",
       "            </tr>\n",
       "            <tr>\n",
       "                        <th id=\"T_b54972fa_0f48_11eb_9830_645d86cd684blevel0_row3\" class=\"row_heading level0 row3\" >2004.0</th>\n",
       "                        <td id=\"T_b54972fa_0f48_11eb_9830_645d86cd684brow3_col0\" class=\"data row3 col0\" >62.000000</td>\n",
       "                        <td id=\"T_b54972fa_0f48_11eb_9830_645d86cd684brow3_col1\" class=\"data row3 col1\" >26.000000</td>\n",
       "                        <td id=\"T_b54972fa_0f48_11eb_9830_645d86cd684brow3_col2\" class=\"data row3 col2\" >20.000000</td>\n",
       "                        <td id=\"T_b54972fa_0f48_11eb_9830_645d86cd684brow3_col3\" class=\"data row3 col3\" >24.000000</td>\n",
       "                        <td id=\"T_b54972fa_0f48_11eb_9830_645d86cd684brow3_col4\" class=\"data row3 col4\" >13.000000</td>\n",
       "                        <td id=\"T_b54972fa_0f48_11eb_9830_645d86cd684brow3_col5\" class=\"data row3 col5\" >24.000000</td>\n",
       "                        <td id=\"T_b54972fa_0f48_11eb_9830_645d86cd684brow3_col6\" class=\"data row3 col6\" >9.000000</td>\n",
       "                        <td id=\"T_b54972fa_0f48_11eb_9830_645d86cd684brow3_col7\" class=\"data row3 col7\" >74.000000</td>\n",
       "                        <td id=\"T_b54972fa_0f48_11eb_9830_645d86cd684brow3_col8\" class=\"data row3 col8\" >10.000000</td>\n",
       "                        <td id=\"T_b54972fa_0f48_11eb_9830_645d86cd684brow3_col9\" class=\"data row3 col9\" >26.000000</td>\n",
       "                        <td id=\"T_b54972fa_0f48_11eb_9830_645d86cd684brow3_col10\" class=\"data row3 col10\" >64.000000</td>\n",
       "                        <td id=\"T_b54972fa_0f48_11eb_9830_645d86cd684brow3_col11\" class=\"data row3 col11\" >120.000000</td>\n",
       "            </tr>\n",
       "            <tr>\n",
       "                        <th id=\"T_b54972fa_0f48_11eb_9830_645d86cd684blevel0_row4\" class=\"row_heading level0 row4\" >2005.0</th>\n",
       "                        <td id=\"T_b54972fa_0f48_11eb_9830_645d86cd684brow4_col0\" class=\"data row4 col0\" >72.000000</td>\n",
       "                        <td id=\"T_b54972fa_0f48_11eb_9830_645d86cd684brow4_col1\" class=\"data row4 col1\" >27.000000</td>\n",
       "                        <td id=\"T_b54972fa_0f48_11eb_9830_645d86cd684brow4_col2\" class=\"data row4 col2\" >11.000000</td>\n",
       "                        <td id=\"T_b54972fa_0f48_11eb_9830_645d86cd684brow4_col3\" class=\"data row4 col3\" >22.000000</td>\n",
       "                        <td id=\"T_b54972fa_0f48_11eb_9830_645d86cd684brow4_col4\" class=\"data row4 col4\" >42.000000</td>\n",
       "                        <td id=\"T_b54972fa_0f48_11eb_9830_645d86cd684brow4_col5\" class=\"data row4 col5\" >35.000000</td>\n",
       "                        <td id=\"T_b54972fa_0f48_11eb_9830_645d86cd684brow4_col6\" class=\"data row4 col6\" >16.000000</td>\n",
       "                        <td id=\"T_b54972fa_0f48_11eb_9830_645d86cd684brow4_col7\" class=\"data row4 col7\" >42.000000</td>\n",
       "                        <td id=\"T_b54972fa_0f48_11eb_9830_645d86cd684brow4_col8\" class=\"data row4 col8\" >22.000000</td>\n",
       "                        <td id=\"T_b54972fa_0f48_11eb_9830_645d86cd684brow4_col9\" class=\"data row4 col9\" >39.000000</td>\n",
       "                        <td id=\"T_b54972fa_0f48_11eb_9830_645d86cd684brow4_col10\" class=\"data row4 col10\" >62.000000</td>\n",
       "                        <td id=\"T_b54972fa_0f48_11eb_9830_645d86cd684brow4_col11\" class=\"data row4 col11\" >123.000000</td>\n",
       "            </tr>\n",
       "            <tr>\n",
       "                        <th id=\"T_b54972fa_0f48_11eb_9830_645d86cd684blevel0_row5\" class=\"row_heading level0 row5\" >2006.0</th>\n",
       "                        <td id=\"T_b54972fa_0f48_11eb_9830_645d86cd684brow5_col0\" class=\"data row5 col0\" >86.000000</td>\n",
       "                        <td id=\"T_b54972fa_0f48_11eb_9830_645d86cd684brow5_col1\" class=\"data row5 col1\" >35.000000</td>\n",
       "                        <td id=\"T_b54972fa_0f48_11eb_9830_645d86cd684brow5_col2\" class=\"data row5 col2\" >37.000000</td>\n",
       "                        <td id=\"T_b54972fa_0f48_11eb_9830_645d86cd684brow5_col3\" class=\"data row5 col3\" >32.000000</td>\n",
       "                        <td id=\"T_b54972fa_0f48_11eb_9830_645d86cd684brow5_col4\" class=\"data row5 col4\" >59.000000</td>\n",
       "                        <td id=\"T_b54972fa_0f48_11eb_9830_645d86cd684brow5_col5\" class=\"data row5 col5\" >47.000000</td>\n",
       "                        <td id=\"T_b54972fa_0f48_11eb_9830_645d86cd684brow5_col6\" class=\"data row5 col6\" >29.000000</td>\n",
       "                        <td id=\"T_b54972fa_0f48_11eb_9830_645d86cd684brow5_col7\" class=\"data row5 col7\" >36.000000</td>\n",
       "                        <td id=\"T_b54972fa_0f48_11eb_9830_645d86cd684brow5_col8\" class=\"data row5 col8\" >26.000000</td>\n",
       "                        <td id=\"T_b54972fa_0f48_11eb_9830_645d86cd684brow5_col9\" class=\"data row5 col9\" >52.000000</td>\n",
       "                        <td id=\"T_b54972fa_0f48_11eb_9830_645d86cd684brow5_col10\" class=\"data row5 col10\" >128.000000</td>\n",
       "                        <td id=\"T_b54972fa_0f48_11eb_9830_645d86cd684brow5_col11\" class=\"data row5 col11\" >131.000000</td>\n",
       "            </tr>\n",
       "            <tr>\n",
       "                        <th id=\"T_b54972fa_0f48_11eb_9830_645d86cd684blevel0_row6\" class=\"row_heading level0 row6\" >2007.0</th>\n",
       "                        <td id=\"T_b54972fa_0f48_11eb_9830_645d86cd684brow6_col0\" class=\"data row6 col0\" >73.000000</td>\n",
       "                        <td id=\"T_b54972fa_0f48_11eb_9830_645d86cd684brow6_col1\" class=\"data row6 col1\" >12.000000</td>\n",
       "                        <td id=\"T_b54972fa_0f48_11eb_9830_645d86cd684brow6_col2\" class=\"data row6 col2\" >11.000000</td>\n",
       "                        <td id=\"T_b54972fa_0f48_11eb_9830_645d86cd684brow6_col3\" class=\"data row6 col3\" >45.000000</td>\n",
       "                        <td id=\"T_b54972fa_0f48_11eb_9830_645d86cd684brow6_col4\" class=\"data row6 col4\" >18.000000</td>\n",
       "                        <td id=\"T_b54972fa_0f48_11eb_9830_645d86cd684brow6_col5\" class=\"data row6 col5\" >57.000000</td>\n",
       "                        <td id=\"T_b54972fa_0f48_11eb_9830_645d86cd684brow6_col6\" class=\"data row6 col6\" >66.000000</td>\n",
       "                        <td id=\"T_b54972fa_0f48_11eb_9830_645d86cd684brow6_col7\" class=\"data row6 col7\" >77.000000</td>\n",
       "                        <td id=\"T_b54972fa_0f48_11eb_9830_645d86cd684brow6_col8\" class=\"data row6 col8\" >82.000000</td>\n",
       "                        <td id=\"T_b54972fa_0f48_11eb_9830_645d86cd684brow6_col9\" class=\"data row6 col9\" >164.000000</td>\n",
       "                        <td id=\"T_b54972fa_0f48_11eb_9830_645d86cd684brow6_col10\" class=\"data row6 col10\" >240.000000</td>\n",
       "                        <td id=\"T_b54972fa_0f48_11eb_9830_645d86cd684brow6_col11\" class=\"data row6 col11\" >109.000000</td>\n",
       "            </tr>\n",
       "            <tr>\n",
       "                        <th id=\"T_b54972fa_0f48_11eb_9830_645d86cd684blevel0_row7\" class=\"row_heading level0 row7\" >2008.0</th>\n",
       "                        <td id=\"T_b54972fa_0f48_11eb_9830_645d86cd684brow7_col0\" class=\"data row7 col0\" >163.000000</td>\n",
       "                        <td id=\"T_b54972fa_0f48_11eb_9830_645d86cd684brow7_col1\" class=\"data row7 col1\" >48.000000</td>\n",
       "                        <td id=\"T_b54972fa_0f48_11eb_9830_645d86cd684brow7_col2\" class=\"data row7 col2\" >78.000000</td>\n",
       "                        <td id=\"T_b54972fa_0f48_11eb_9830_645d86cd684brow7_col3\" class=\"data row7 col3\" >43.000000</td>\n",
       "                        <td id=\"T_b54972fa_0f48_11eb_9830_645d86cd684brow7_col4\" class=\"data row7 col4\" >30.000000</td>\n",
       "                        <td id=\"T_b54972fa_0f48_11eb_9830_645d86cd684brow7_col5\" class=\"data row7 col5\" >111.000000</td>\n",
       "                        <td id=\"T_b54972fa_0f48_11eb_9830_645d86cd684brow7_col6\" class=\"data row7 col6\" >18.000000</td>\n",
       "                        <td id=\"T_b54972fa_0f48_11eb_9830_645d86cd684brow7_col7\" class=\"data row7 col7\" >61.000000</td>\n",
       "                        <td id=\"T_b54972fa_0f48_11eb_9830_645d86cd684brow7_col8\" class=\"data row7 col8\" >33.000000</td>\n",
       "                        <td id=\"T_b54972fa_0f48_11eb_9830_645d86cd684brow7_col9\" class=\"data row7 col9\" >27.000000</td>\n",
       "                        <td id=\"T_b54972fa_0f48_11eb_9830_645d86cd684brow7_col10\" class=\"data row7 col10\" >16.000000</td>\n",
       "                        <td id=\"T_b54972fa_0f48_11eb_9830_645d86cd684brow7_col11\" class=\"data row7 col11\" >147.000000</td>\n",
       "            </tr>\n",
       "            <tr>\n",
       "                        <th id=\"T_b54972fa_0f48_11eb_9830_645d86cd684blevel0_row8\" class=\"row_heading level0 row8\" >2009.0</th>\n",
       "                        <td id=\"T_b54972fa_0f48_11eb_9830_645d86cd684brow8_col0\" class=\"data row8 col0\" >65.000000</td>\n",
       "                        <td id=\"T_b54972fa_0f48_11eb_9830_645d86cd684brow8_col1\" class=\"data row8 col1\" >34.000000</td>\n",
       "                        <td id=\"T_b54972fa_0f48_11eb_9830_645d86cd684brow8_col2\" class=\"data row8 col2\" >161.000000</td>\n",
       "                        <td id=\"T_b54972fa_0f48_11eb_9830_645d86cd684brow8_col3\" class=\"data row8 col3\" >126.000000</td>\n",
       "                        <td id=\"T_b54972fa_0f48_11eb_9830_645d86cd684brow8_col4\" class=\"data row8 col4\" >75.000000</td>\n",
       "                        <td id=\"T_b54972fa_0f48_11eb_9830_645d86cd684brow8_col5\" class=\"data row8 col5\" >63.000000</td>\n",
       "                        <td id=\"T_b54972fa_0f48_11eb_9830_645d86cd684brow8_col6\" class=\"data row8 col6\" >38.000000</td>\n",
       "                        <td id=\"T_b54972fa_0f48_11eb_9830_645d86cd684brow8_col7\" class=\"data row8 col7\" >43.000000</td>\n",
       "                        <td id=\"T_b54972fa_0f48_11eb_9830_645d86cd684brow8_col8\" class=\"data row8 col8\" >117.000000</td>\n",
       "                        <td id=\"T_b54972fa_0f48_11eb_9830_645d86cd684brow8_col9\" class=\"data row8 col9\" >28.000000</td>\n",
       "                        <td id=\"T_b54972fa_0f48_11eb_9830_645d86cd684brow8_col10\" class=\"data row8 col10\" >79.000000</td>\n",
       "                        <td id=\"T_b54972fa_0f48_11eb_9830_645d86cd684brow8_col11\" class=\"data row8 col11\" >139.000000</td>\n",
       "            </tr>\n",
       "            <tr>\n",
       "                        <th id=\"T_b54972fa_0f48_11eb_9830_645d86cd684blevel0_row9\" class=\"row_heading level0 row9\" >2010.0</th>\n",
       "                        <td id=\"T_b54972fa_0f48_11eb_9830_645d86cd684brow9_col0\" class=\"data row9 col0\" >31.000000</td>\n",
       "                        <td id=\"T_b54972fa_0f48_11eb_9830_645d86cd684brow9_col1\" class=\"data row9 col1\" >34.000000</td>\n",
       "                        <td id=\"T_b54972fa_0f48_11eb_9830_645d86cd684brow9_col2\" class=\"data row9 col2\" >87.000000</td>\n",
       "                        <td id=\"T_b54972fa_0f48_11eb_9830_645d86cd684brow9_col3\" class=\"data row9 col3\" >62.000000</td>\n",
       "                        <td id=\"T_b54972fa_0f48_11eb_9830_645d86cd684brow9_col4\" class=\"data row9 col4\" >48.000000</td>\n",
       "                        <td id=\"T_b54972fa_0f48_11eb_9830_645d86cd684brow9_col5\" class=\"data row9 col5\" >52.000000</td>\n",
       "                        <td id=\"T_b54972fa_0f48_11eb_9830_645d86cd684brow9_col6\" class=\"data row9 col6\" >46.000000</td>\n",
       "                        <td id=\"T_b54972fa_0f48_11eb_9830_645d86cd684brow9_col7\" class=\"data row9 col7\" >30.000000</td>\n",
       "                        <td id=\"T_b54972fa_0f48_11eb_9830_645d86cd684brow9_col8\" class=\"data row9 col8\" >35.000000</td>\n",
       "                        <td id=\"T_b54972fa_0f48_11eb_9830_645d86cd684brow9_col9\" class=\"data row9 col9\" >38.000000</td>\n",
       "                        <td id=\"T_b54972fa_0f48_11eb_9830_645d86cd684brow9_col10\" class=\"data row9 col10\" >95.000000</td>\n",
       "                        <td id=\"T_b54972fa_0f48_11eb_9830_645d86cd684brow9_col11\" class=\"data row9 col11\" >85.000000</td>\n",
       "            </tr>\n",
       "            <tr>\n",
       "                        <th id=\"T_b54972fa_0f48_11eb_9830_645d86cd684blevel0_row10\" class=\"row_heading level0 row10\" >2011.0</th>\n",
       "                        <td id=\"T_b54972fa_0f48_11eb_9830_645d86cd684brow10_col0\" class=\"data row10 col0\" >33.000000</td>\n",
       "                        <td id=\"T_b54972fa_0f48_11eb_9830_645d86cd684brow10_col1\" class=\"data row10 col1\" >23.000000</td>\n",
       "                        <td id=\"T_b54972fa_0f48_11eb_9830_645d86cd684brow10_col2\" class=\"data row10 col2\" >21.000000</td>\n",
       "                        <td id=\"T_b54972fa_0f48_11eb_9830_645d86cd684brow10_col3\" class=\"data row10 col3\" >21.000000</td>\n",
       "                        <td id=\"T_b54972fa_0f48_11eb_9830_645d86cd684brow10_col4\" class=\"data row10 col4\" >19.000000</td>\n",
       "                        <td id=\"T_b54972fa_0f48_11eb_9830_645d86cd684brow10_col5\" class=\"data row10 col5\" >25.000000</td>\n",
       "                        <td id=\"T_b54972fa_0f48_11eb_9830_645d86cd684brow10_col6\" class=\"data row10 col6\" >42.000000</td>\n",
       "                        <td id=\"T_b54972fa_0f48_11eb_9830_645d86cd684brow10_col7\" class=\"data row10 col7\" >47.000000</td>\n",
       "                        <td id=\"T_b54972fa_0f48_11eb_9830_645d86cd684brow10_col8\" class=\"data row10 col8\" >30.000000</td>\n",
       "                        <td id=\"T_b54972fa_0f48_11eb_9830_645d86cd684brow10_col9\" class=\"data row10 col9\" >53.000000</td>\n",
       "                        <td id=\"T_b54972fa_0f48_11eb_9830_645d86cd684brow10_col10\" class=\"data row10 col10\" >38.000000</td>\n",
       "                        <td id=\"T_b54972fa_0f48_11eb_9830_645d86cd684brow10_col11\" class=\"data row10 col11\" >75.000000</td>\n",
       "            </tr>\n",
       "            <tr>\n",
       "                        <th id=\"T_b54972fa_0f48_11eb_9830_645d86cd684blevel0_row11\" class=\"row_heading level0 row11\" >2012.0</th>\n",
       "                        <td id=\"T_b54972fa_0f48_11eb_9830_645d86cd684brow11_col0\" class=\"data row11 col0\" >19.000000</td>\n",
       "                        <td id=\"T_b54972fa_0f48_11eb_9830_645d86cd684brow11_col1\" class=\"data row11 col1\" >29.000000</td>\n",
       "                        <td id=\"T_b54972fa_0f48_11eb_9830_645d86cd684brow11_col2\" class=\"data row11 col2\" >22.000000</td>\n",
       "                        <td id=\"T_b54972fa_0f48_11eb_9830_645d86cd684brow11_col3\" class=\"data row11 col3\" >21.000000</td>\n",
       "                        <td id=\"T_b54972fa_0f48_11eb_9830_645d86cd684brow11_col4\" class=\"data row11 col4\" >18.000000</td>\n",
       "                        <td id=\"T_b54972fa_0f48_11eb_9830_645d86cd684brow11_col5\" class=\"data row11 col5\" >55.000000</td>\n",
       "                        <td id=\"T_b54972fa_0f48_11eb_9830_645d86cd684brow11_col6\" class=\"data row11 col6\" >72.000000</td>\n",
       "                        <td id=\"T_b54972fa_0f48_11eb_9830_645d86cd684brow11_col7\" class=\"data row11 col7\" >36.000000</td>\n",
       "                        <td id=\"T_b54972fa_0f48_11eb_9830_645d86cd684brow11_col8\" class=\"data row11 col8\" >13.000000</td>\n",
       "                        <td id=\"T_b54972fa_0f48_11eb_9830_645d86cd684brow11_col9\" class=\"data row11 col9\" >20.000000</td>\n",
       "                        <td id=\"T_b54972fa_0f48_11eb_9830_645d86cd684brow11_col10\" class=\"data row11 col10\" >38.000000</td>\n",
       "                        <td id=\"T_b54972fa_0f48_11eb_9830_645d86cd684brow11_col11\" class=\"data row11 col11\" >48.000000</td>\n",
       "            </tr>\n",
       "            <tr>\n",
       "                        <th id=\"T_b54972fa_0f48_11eb_9830_645d86cd684blevel0_row12\" class=\"row_heading level0 row12\" >2013.0</th>\n",
       "                        <td id=\"T_b54972fa_0f48_11eb_9830_645d86cd684brow12_col0\" class=\"data row12 col0\" >59.000000</td>\n",
       "                        <td id=\"T_b54972fa_0f48_11eb_9830_645d86cd684brow12_col1\" class=\"data row12 col1\" >16.000000</td>\n",
       "                        <td id=\"T_b54972fa_0f48_11eb_9830_645d86cd684brow12_col2\" class=\"data row12 col2\" >18.000000</td>\n",
       "                        <td id=\"T_b54972fa_0f48_11eb_9830_645d86cd684brow12_col3\" class=\"data row12 col3\" >36.000000</td>\n",
       "                        <td id=\"T_b54972fa_0f48_11eb_9830_645d86cd684brow12_col4\" class=\"data row12 col4\" >28.000000</td>\n",
       "                        <td id=\"T_b54972fa_0f48_11eb_9830_645d86cd684brow12_col5\" class=\"data row12 col5\" >23.000000</td>\n",
       "                        <td id=\"T_b54972fa_0f48_11eb_9830_645d86cd684brow12_col6\" class=\"data row12 col6\" >51.000000</td>\n",
       "                        <td id=\"T_b54972fa_0f48_11eb_9830_645d86cd684brow12_col7\" class=\"data row12 col7\" >13.000000</td>\n",
       "                        <td id=\"T_b54972fa_0f48_11eb_9830_645d86cd684brow12_col8\" class=\"data row12 col8\" >18.000000</td>\n",
       "                        <td id=\"T_b54972fa_0f48_11eb_9830_645d86cd684brow12_col9\" class=\"data row12 col9\" >54.000000</td>\n",
       "                        <td id=\"T_b54972fa_0f48_11eb_9830_645d86cd684brow12_col10\" class=\"data row12 col10\" >23.000000</td>\n",
       "                        <td id=\"T_b54972fa_0f48_11eb_9830_645d86cd684brow12_col11\" class=\"data row12 col11\" >66.000000</td>\n",
       "            </tr>\n",
       "            <tr>\n",
       "                        <th id=\"T_b54972fa_0f48_11eb_9830_645d86cd684blevel0_row13\" class=\"row_heading level0 row13\" >2014.0</th>\n",
       "                        <td id=\"T_b54972fa_0f48_11eb_9830_645d86cd684brow13_col0\" class=\"data row13 col0\" >20.000000</td>\n",
       "                        <td id=\"T_b54972fa_0f48_11eb_9830_645d86cd684brow13_col1\" class=\"data row13 col1\" >23.000000</td>\n",
       "                        <td id=\"T_b54972fa_0f48_11eb_9830_645d86cd684brow13_col2\" class=\"data row13 col2\" >22.000000</td>\n",
       "                        <td id=\"T_b54972fa_0f48_11eb_9830_645d86cd684brow13_col3\" class=\"data row13 col3\" >16.000000</td>\n",
       "                        <td id=\"T_b54972fa_0f48_11eb_9830_645d86cd684brow13_col4\" class=\"data row13 col4\" >20.000000</td>\n",
       "                        <td id=\"T_b54972fa_0f48_11eb_9830_645d86cd684brow13_col5\" class=\"data row13 col5\" >11.000000</td>\n",
       "                        <td id=\"T_b54972fa_0f48_11eb_9830_645d86cd684brow13_col6\" class=\"data row13 col6\" >16.000000</td>\n",
       "                        <td id=\"T_b54972fa_0f48_11eb_9830_645d86cd684brow13_col7\" class=\"data row13 col7\" >12.000000</td>\n",
       "                        <td id=\"T_b54972fa_0f48_11eb_9830_645d86cd684brow13_col8\" class=\"data row13 col8\" >15.000000</td>\n",
       "                        <td id=\"T_b54972fa_0f48_11eb_9830_645d86cd684brow13_col9\" class=\"data row13 col9\" >17.000000</td>\n",
       "                        <td id=\"T_b54972fa_0f48_11eb_9830_645d86cd684brow13_col10\" class=\"data row13 col10\" >20.000000</td>\n",
       "                        <td id=\"T_b54972fa_0f48_11eb_9830_645d86cd684brow13_col11\" class=\"data row13 col11\" >100.000000</td>\n",
       "            </tr>\n",
       "            <tr>\n",
       "                        <th id=\"T_b54972fa_0f48_11eb_9830_645d86cd684blevel0_row14\" class=\"row_heading level0 row14\" >2015.0</th>\n",
       "                        <td id=\"T_b54972fa_0f48_11eb_9830_645d86cd684brow14_col0\" class=\"data row14 col0\" >46.000000</td>\n",
       "                        <td id=\"T_b54972fa_0f48_11eb_9830_645d86cd684brow14_col1\" class=\"data row14 col1\" >11.000000</td>\n",
       "                        <td id=\"T_b54972fa_0f48_11eb_9830_645d86cd684brow14_col2\" class=\"data row14 col2\" >17.000000</td>\n",
       "                        <td id=\"T_b54972fa_0f48_11eb_9830_645d86cd684brow14_col3\" class=\"data row14 col3\" >37.000000</td>\n",
       "                        <td id=\"T_b54972fa_0f48_11eb_9830_645d86cd684brow14_col4\" class=\"data row14 col4\" >11.000000</td>\n",
       "                        <td id=\"T_b54972fa_0f48_11eb_9830_645d86cd684brow14_col5\" class=\"data row14 col5\" >22.000000</td>\n",
       "                        <td id=\"T_b54972fa_0f48_11eb_9830_645d86cd684brow14_col6\" class=\"data row14 col6\" >14.000000</td>\n",
       "                        <td id=\"T_b54972fa_0f48_11eb_9830_645d86cd684brow14_col7\" class=\"data row14 col7\" >11.000000</td>\n",
       "                        <td id=\"T_b54972fa_0f48_11eb_9830_645d86cd684brow14_col8\" class=\"data row14 col8\" >15.000000</td>\n",
       "                        <td id=\"T_b54972fa_0f48_11eb_9830_645d86cd684brow14_col9\" class=\"data row14 col9\" >7.000000</td>\n",
       "                        <td id=\"T_b54972fa_0f48_11eb_9830_645d86cd684brow14_col10\" class=\"data row14 col10\" >24.000000</td>\n",
       "                        <td id=\"T_b54972fa_0f48_11eb_9830_645d86cd684brow14_col11\" class=\"data row14 col11\" >31.000000</td>\n",
       "            </tr>\n",
       "            <tr>\n",
       "                        <th id=\"T_b54972fa_0f48_11eb_9830_645d86cd684blevel0_row15\" class=\"row_heading level0 row15\" >2016.0</th>\n",
       "                        <td id=\"T_b54972fa_0f48_11eb_9830_645d86cd684brow15_col0\" class=\"data row15 col0\" >33.000000</td>\n",
       "                        <td id=\"T_b54972fa_0f48_11eb_9830_645d86cd684brow15_col1\" class=\"data row15 col1\" >30.000000</td>\n",
       "                        <td id=\"T_b54972fa_0f48_11eb_9830_645d86cd684brow15_col2\" class=\"data row15 col2\" >9.000000</td>\n",
       "                        <td id=\"T_b54972fa_0f48_11eb_9830_645d86cd684brow15_col3\" class=\"data row15 col3\" >21.000000</td>\n",
       "                        <td id=\"T_b54972fa_0f48_11eb_9830_645d86cd684brow15_col4\" class=\"data row15 col4\" >20.000000</td>\n",
       "                        <td id=\"T_b54972fa_0f48_11eb_9830_645d86cd684brow15_col5\" class=\"data row15 col5\" >25.000000</td>\n",
       "                        <td id=\"T_b54972fa_0f48_11eb_9830_645d86cd684brow15_col6\" class=\"data row15 col6\" >15.000000</td>\n",
       "                        <td id=\"T_b54972fa_0f48_11eb_9830_645d86cd684brow15_col7\" class=\"data row15 col7\" >13.000000</td>\n",
       "                        <td id=\"T_b54972fa_0f48_11eb_9830_645d86cd684brow15_col8\" class=\"data row15 col8\" >31.000000</td>\n",
       "                        <td id=\"T_b54972fa_0f48_11eb_9830_645d86cd684brow15_col9\" class=\"data row15 col9\" >18.000000</td>\n",
       "                        <td id=\"T_b54972fa_0f48_11eb_9830_645d86cd684brow15_col10\" class=\"data row15 col10\" >10.000000</td>\n",
       "                        <td id=\"T_b54972fa_0f48_11eb_9830_645d86cd684brow15_col11\" class=\"data row15 col11\" >55.000000</td>\n",
       "            </tr>\n",
       "            <tr>\n",
       "                        <th id=\"T_b54972fa_0f48_11eb_9830_645d86cd684blevel0_row16\" class=\"row_heading level0 row16\" >2017.0</th>\n",
       "                        <td id=\"T_b54972fa_0f48_11eb_9830_645d86cd684brow16_col0\" class=\"data row16 col0\" >9.000000</td>\n",
       "                        <td id=\"T_b54972fa_0f48_11eb_9830_645d86cd684brow16_col1\" class=\"data row16 col1\" >3.000000</td>\n",
       "                        <td id=\"T_b54972fa_0f48_11eb_9830_645d86cd684brow16_col2\" class=\"data row16 col2\" >11.000000</td>\n",
       "                        <td id=\"T_b54972fa_0f48_11eb_9830_645d86cd684brow16_col3\" class=\"data row16 col3\" >20.000000</td>\n",
       "                        <td id=\"T_b54972fa_0f48_11eb_9830_645d86cd684brow16_col4\" class=\"data row16 col4\" >4.000000</td>\n",
       "                        <td id=\"T_b54972fa_0f48_11eb_9830_645d86cd684brow16_col5\" class=\"data row16 col5\" >21.000000</td>\n",
       "                        <td id=\"T_b54972fa_0f48_11eb_9830_645d86cd684brow16_col6\" class=\"data row16 col6\" >15.000000</td>\n",
       "                        <td id=\"T_b54972fa_0f48_11eb_9830_645d86cd684brow16_col7\" class=\"data row16 col7\" >10.000000</td>\n",
       "                        <td id=\"T_b54972fa_0f48_11eb_9830_645d86cd684brow16_col8\" class=\"data row16 col8\" >12.000000</td>\n",
       "                        <td id=\"T_b54972fa_0f48_11eb_9830_645d86cd684brow16_col9\" class=\"data row16 col9\" >6.000000</td>\n",
       "                        <td id=\"T_b54972fa_0f48_11eb_9830_645d86cd684brow16_col10\" class=\"data row16 col10\" >25.000000</td>\n",
       "                        <td id=\"T_b54972fa_0f48_11eb_9830_645d86cd684brow16_col11\" class=\"data row16 col11\" >20.000000</td>\n",
       "            </tr>\n",
       "            <tr>\n",
       "                        <th id=\"T_b54972fa_0f48_11eb_9830_645d86cd684blevel0_row17\" class=\"row_heading level0 row17\" >2018.0</th>\n",
       "                        <td id=\"T_b54972fa_0f48_11eb_9830_645d86cd684brow17_col0\" class=\"data row17 col0\" >5.000000</td>\n",
       "                        <td id=\"T_b54972fa_0f48_11eb_9830_645d86cd684brow17_col1\" class=\"data row17 col1\" >9.000000</td>\n",
       "                        <td id=\"T_b54972fa_0f48_11eb_9830_645d86cd684brow17_col2\" class=\"data row17 col2\" >4.000000</td>\n",
       "                        <td id=\"T_b54972fa_0f48_11eb_9830_645d86cd684brow17_col3\" class=\"data row17 col3\" >3.000000</td>\n",
       "                        <td id=\"T_b54972fa_0f48_11eb_9830_645d86cd684brow17_col4\" class=\"data row17 col4\" >8.000000</td>\n",
       "                        <td id=\"T_b54972fa_0f48_11eb_9830_645d86cd684brow17_col5\" class=\"data row17 col5\" >17.000000</td>\n",
       "                        <td id=\"T_b54972fa_0f48_11eb_9830_645d86cd684brow17_col6\" class=\"data row17 col6\" >1.000000</td>\n",
       "                        <td id=\"T_b54972fa_0f48_11eb_9830_645d86cd684brow17_col7\" class=\"data row17 col7\" >5.000000</td>\n",
       "                        <td id=\"T_b54972fa_0f48_11eb_9830_645d86cd684brow17_col8\" class=\"data row17 col8\" >23.000000</td>\n",
       "                        <td id=\"T_b54972fa_0f48_11eb_9830_645d86cd684brow17_col9\" class=\"data row17 col9\" >26.000000</td>\n",
       "                        <td id=\"T_b54972fa_0f48_11eb_9830_645d86cd684brow17_col10\" class=\"data row17 col10\" >4.000000</td>\n",
       "                        <td id=\"T_b54972fa_0f48_11eb_9830_645d86cd684brow17_col11\" class=\"data row17 col11\" >40.000000</td>\n",
       "            </tr>\n",
       "    </tbody></table>"
      ],
      "text/plain": [
       "<pandas.io.formats.style.Styler at 0x243839e83c8>"
      ]
     },
     "execution_count": 33,
     "metadata": {},
     "output_type": "execute_result"
    }
   ],
   "source": [
    "# 연도와 월별 고시 현황을 pivot_table로 그려봅니다.\n",
    "# year_month 라는 변수에 담아 재사용 합니다.\n",
    "# 데이터가 많기 때문에 2000년보다 크고 2019년보다 작은 연도의 데이터만 봅니다.\n",
    "year_month = pd.pivot_table(df, index=\"고시연도\", columns=\"고시월\", \n",
    "               values=\"공원명\", aggfunc=\"count\")\n",
    "year_month = year_month[(year_month.index > 2000) & \n",
    "                        (year_month.index < 2019)]\n",
    "year_month.style.background_gradient()\n"
   ]
  },
  {
   "cell_type": "markdown",
   "metadata": {},
   "source": [
    "## 텍스트 데이터 다루기\n",
    "### 정규표현식 \n",
    "\n",
    "* [정규 표현식 - 위키백과, 우리 모두의 백과사전](https://ko.wikipedia.org/wiki/%EC%A0%95%EA%B7%9C_%ED%91%9C%ED%98%84%EC%8B%9D)\n",
    "\n",
    "\n",
    "* 파이썬 공식문서 정규표현식 참고하기 : \n",
    "    * https://docs.python.org/3.8/library/re.html#re.sub\n",
    "    \n",
    "    \n",
    "* 문자열 바꾸기 : re.sub(\"규칙\", \"패턴\", \"데이터\")\n",
    "    * https://docs.python.org/3.8/library/re.html#text-munging\n",
    "\n",
    "\n",
    "* 정규표현식 문자열 패턴\n",
    "    * https://docs.python.org/3.8/howto/regex.html#matching-characters\n",
    "\n",
    "    \n",
    "    \n",
    "* [    ] : 일치시킬 문자 세트의 패턴\n",
    "* [가나다] : 가 or 나 or 다 중에 하나를 포함하고 있는지\n",
    "* [가-힣] : 한글 가부터 힣까의 문자 중 하나를 포함하고 있는지\n",
    "* [0-9] : 0~9까지의 숫자 중 하나를 포함하고 있는지\n",
    "* [^0-9] : 숫자를 포함하고 있지 않음\n",
    "* [^가-힣] : 한글이 포함되어 있지 않음\n",
    "* [가-힣+] : 한글이 하나 이상 포함되는지\n",
    "\n",
    "\n",
    "| 클래스 | 표현식 | 설명 |\n",
    "|----|-----|----|\n",
    "|\\d | [0-9]|십진수와 일치|\n",
    "|\\D| [^0-9] | 숫자가 아닌 문자와 일치|\n",
    "|\\s |[\\t\\n\\r\\f\\v] | 공백 문자와 일치 |\n",
    "|\\S |[^\\t\\n\\r\\f\\v]| 공백이 아닌 문자와 일치|\n",
    "| \\w| [a-zA-Z0-9_] | 모든 숫자 영문자와 일치|\n",
    "| \\W| [^a-zA-Z0-9_]| 영문자, 숫자가 아닌 것과 일치|\n",
    "\n",
    "\n",
    "표현식\t설명\n",
    "\n",
    "|표현식 | 설명 |\t\n",
    "|----|-----|\n",
    "|^x\t| 문자열의 시작을 표현하며 x 문자로 시작|\n",
    "|x$\t| 문자열의 종료를 표현하며 x 문자로 종료|\n",
    "|.x\t| 임의의 한 문자의 자리수를 표현하며 문자열이 x 로 끝남|\n",
    "|x+\t| 반복을 표현하며 x 문자가 한번 이상 반복됨|\n",
    "|x*\t| 반복여부를 표현하며 x 문자가 0번 또는 그 이상 반복됨|\n",
    "|x?\t| 존재여부를 표현하며 x 문자가 존재할 수도, 존재하지 않을 수도 있음|\n",
    "|x\\|y\t| or 를 표현하며 x 또는 y 문자가 존재함|\n",
    "|(x)\t| 그룹을 표현하며 x 를 그룹으로 처리함|\n",
    "|(x)(y)\t| 그룹들의 집합을 표현하며 순서대로 번호를 부여하여 x, y 는 각 그룹의 데이터로 관리|\n",
    "|(x)(?:y)\t| 그룹들의 집합에 대한 예외를 표현하며 그룹 집합으로 관리되지 않음|\n",
    "|x{n}\t| 반복을 표현하며 x 문자가 n번 반복됨|\n",
    "|x{n,}\t| 반복을 표현하며 x 문자가 n번 이상 반복됨\n",
    "|x{n,m}\t| 반복을 표현하며 x 문자가 최소 n번 이상 최대 m 번 이하로 반복됨|\n"
   ]
  },
  {
   "cell_type": "code",
   "execution_count": 69,
   "metadata": {},
   "outputs": [],
   "source": [
    "# 정규표현식 라이브러리를 로드합니다.\n",
    "# 설치가 필요 없이 파이썬에 내장되어 있는 라이브러리 입니다.\n",
    "# 파이썬에 배터리 포함됨 이라는 특징이 있는데 이런 여러 표준 라이브러리가 잘 갖춰져 있습니다.\n",
    "import re"
   ]
  },
  {
   "cell_type": "markdown",
   "metadata": {},
   "source": [
    "### 공원 보유시설"
   ]
  },
  {
   "cell_type": "code",
   "execution_count": 71,
   "metadata": {},
   "outputs": [],
   "source": [
    "# 컬럼이 너무 많으면 끝까지 보이지 않습니다. \n",
    "# options.display 를 사용해 max_columns 값을 채워줍니다.\n",
    "pd.options.display.max_columns = 100\n"
   ]
  },
  {
   "cell_type": "code",
   "execution_count": 72,
   "metadata": {
    "scrolled": false
   },
   "outputs": [
    {
     "data": {
      "text/html": [
       "<div>\n",
       "<style scoped>\n",
       "    .dataframe tbody tr th:only-of-type {\n",
       "        vertical-align: middle;\n",
       "    }\n",
       "\n",
       "    .dataframe tbody tr th {\n",
       "        vertical-align: top;\n",
       "    }\n",
       "\n",
       "    .dataframe thead th {\n",
       "        text-align: right;\n",
       "    }\n",
       "</style>\n",
       "<table border=\"1\" class=\"dataframe\">\n",
       "  <thead>\n",
       "    <tr style=\"text-align: right;\">\n",
       "      <th></th>\n",
       "      <th>관리번호</th>\n",
       "      <th>공원명</th>\n",
       "      <th>공원구분</th>\n",
       "      <th>소재지도로명주소</th>\n",
       "      <th>소재지지번주소</th>\n",
       "      <th>위도</th>\n",
       "      <th>경도</th>\n",
       "      <th>공원면적</th>\n",
       "      <th>공원보유시설(운동시설)</th>\n",
       "      <th>공원보유시설(유희시설)</th>\n",
       "      <th>공원보유시설(편익시설)</th>\n",
       "      <th>공원보유시설(교양시설)</th>\n",
       "      <th>공원보유시설(기타시설)</th>\n",
       "      <th>지정고시일</th>\n",
       "      <th>관리기관명</th>\n",
       "      <th>전화번호</th>\n",
       "      <th>데이터기준일자</th>\n",
       "      <th>제공기관코드</th>\n",
       "      <th>제공기관명</th>\n",
       "      <th>시도</th>\n",
       "      <th>구군</th>\n",
       "      <th>고시연도</th>\n",
       "      <th>고시월</th>\n",
       "    </tr>\n",
       "  </thead>\n",
       "  <tbody>\n",
       "    <tr>\n",
       "      <th>0</th>\n",
       "      <td>41135-00098</td>\n",
       "      <td>샘터공원</td>\n",
       "      <td>어린이공원</td>\n",
       "      <td>경기도 성남시 분당구 구미동 87</td>\n",
       "      <td>경기도 성남시 분당구 구미동 87</td>\n",
       "      <td>37.348802</td>\n",
       "      <td>127.118613</td>\n",
       "      <td>3620.1</td>\n",
       "      <td>NaN</td>\n",
       "      <td>어린이놀이터</td>\n",
       "      <td>벤치</td>\n",
       "      <td>NaN</td>\n",
       "      <td>NaN</td>\n",
       "      <td>1991-01-08</td>\n",
       "      <td>분당구녹지공원과</td>\n",
       "      <td>031-729-7461</td>\n",
       "      <td>2020-01-17</td>\n",
       "      <td>3780000</td>\n",
       "      <td>경기도 성남시</td>\n",
       "      <td>경기도</td>\n",
       "      <td>성남시</td>\n",
       "      <td>1991.0</td>\n",
       "      <td>1.0</td>\n",
       "    </tr>\n",
       "    <tr>\n",
       "      <th>1</th>\n",
       "      <td>29200-00061</td>\n",
       "      <td>제2풍영정</td>\n",
       "      <td>근린공원</td>\n",
       "      <td>광주광역시 광산구 운남동 793-1, 780-1</td>\n",
       "      <td>광주광역시 광산구 운남동 793-1, 780-1</td>\n",
       "      <td>35.177519</td>\n",
       "      <td>126.811916</td>\n",
       "      <td>26200.7</td>\n",
       "      <td>배드민턴장, 농구장</td>\n",
       "      <td>조합놀이대, 기타놀이기구</td>\n",
       "      <td>NaN</td>\n",
       "      <td>야외무대</td>\n",
       "      <td>관리사무소</td>\n",
       "      <td>1997-08-12</td>\n",
       "      <td>광주광역시 광산구청</td>\n",
       "      <td>062-960-8704</td>\n",
       "      <td>2020-07-16</td>\n",
       "      <td>3630000</td>\n",
       "      <td>광주광역시 광산구</td>\n",
       "      <td>광주광역시</td>\n",
       "      <td>광산구</td>\n",
       "      <td>1997.0</td>\n",
       "      <td>8.0</td>\n",
       "    </tr>\n",
       "    <tr>\n",
       "      <th>2</th>\n",
       "      <td>29200-00062</td>\n",
       "      <td>맑은샘</td>\n",
       "      <td>어린이공원</td>\n",
       "      <td>광주광역시 광산구 풍영로 63</td>\n",
       "      <td>광주광역시 광산구 월곡동 681-1</td>\n",
       "      <td>35.178777</td>\n",
       "      <td>126.810674</td>\n",
       "      <td>1500.1</td>\n",
       "      <td>NaN</td>\n",
       "      <td>조합놀이, 기타놀이기구</td>\n",
       "      <td>NaN</td>\n",
       "      <td>NaN</td>\n",
       "      <td>NaN</td>\n",
       "      <td>1997-08-12</td>\n",
       "      <td>광주광역시 광산구청</td>\n",
       "      <td>062-960-8712</td>\n",
       "      <td>2020-07-16</td>\n",
       "      <td>3630000</td>\n",
       "      <td>광주광역시 광산구</td>\n",
       "      <td>광주광역시</td>\n",
       "      <td>광산구</td>\n",
       "      <td>1997.0</td>\n",
       "      <td>8.0</td>\n",
       "    </tr>\n",
       "    <tr>\n",
       "      <th>3</th>\n",
       "      <td>29200-00063</td>\n",
       "      <td>야호숲</td>\n",
       "      <td>어린이공원</td>\n",
       "      <td>광주광역시 광산구 월곡동 685-2 (운남 2지구)</td>\n",
       "      <td>광주광역시 광산구 월곡동 685-2 (운남 2지구)</td>\n",
       "      <td>35.173388</td>\n",
       "      <td>126.810754</td>\n",
       "      <td>1500.3</td>\n",
       "      <td>NaN</td>\n",
       "      <td>그네, 조합놀이, 기타놀이기구</td>\n",
       "      <td>NaN</td>\n",
       "      <td>NaN</td>\n",
       "      <td>NaN</td>\n",
       "      <td>1997-08-12</td>\n",
       "      <td>광주광역시 광산구청</td>\n",
       "      <td>062-960-8712</td>\n",
       "      <td>2020-07-16</td>\n",
       "      <td>3630000</td>\n",
       "      <td>광주광역시 광산구</td>\n",
       "      <td>광주광역시</td>\n",
       "      <td>광산구</td>\n",
       "      <td>1997.0</td>\n",
       "      <td>8.0</td>\n",
       "    </tr>\n",
       "    <tr>\n",
       "      <th>4</th>\n",
       "      <td>29200-00064</td>\n",
       "      <td>풍영정천</td>\n",
       "      <td>어린이공원</td>\n",
       "      <td>광주광역시 광산구 운남동 781-2 (운남 2지구)</td>\n",
       "      <td>광주광역시 광산구 운남동 781-2 (운남 2지구)</td>\n",
       "      <td>35.177946</td>\n",
       "      <td>126.814155</td>\n",
       "      <td>1520</td>\n",
       "      <td>NaN</td>\n",
       "      <td>조합놀이</td>\n",
       "      <td>NaN</td>\n",
       "      <td>NaN</td>\n",
       "      <td>NaN</td>\n",
       "      <td>1997-08-12</td>\n",
       "      <td>광주광역시 광산구청</td>\n",
       "      <td>062-960-8712</td>\n",
       "      <td>2020-07-16</td>\n",
       "      <td>3630000</td>\n",
       "      <td>광주광역시 광산구</td>\n",
       "      <td>광주광역시</td>\n",
       "      <td>광산구</td>\n",
       "      <td>1997.0</td>\n",
       "      <td>8.0</td>\n",
       "    </tr>\n",
       "  </tbody>\n",
       "</table>\n",
       "</div>"
      ],
      "text/plain": [
       "          관리번호    공원명   공원구분                      소재지도로명주소  \\\n",
       "0  41135-00098   샘터공원  어린이공원            경기도 성남시 분당구 구미동 87   \n",
       "1  29200-00061  제2풍영정   근린공원    광주광역시 광산구 운남동 793-1, 780-1   \n",
       "2  29200-00062    맑은샘  어린이공원              광주광역시 광산구 풍영로 63   \n",
       "3  29200-00063    야호숲  어린이공원  광주광역시 광산구 월곡동 685-2 (운남 2지구)   \n",
       "4  29200-00064   풍영정천  어린이공원  광주광역시 광산구 운남동 781-2 (운남 2지구)   \n",
       "\n",
       "                        소재지지번주소         위도          경도     공원면적 공원보유시설(운동시설)  \\\n",
       "0            경기도 성남시 분당구 구미동 87  37.348802  127.118613   3620.1          NaN   \n",
       "1    광주광역시 광산구 운남동 793-1, 780-1  35.177519  126.811916  26200.7   배드민턴장, 농구장   \n",
       "2           광주광역시 광산구 월곡동 681-1  35.178777  126.810674   1500.1          NaN   \n",
       "3  광주광역시 광산구 월곡동 685-2 (운남 2지구)  35.173388  126.810754   1500.3          NaN   \n",
       "4  광주광역시 광산구 운남동 781-2 (운남 2지구)  35.177946  126.814155     1520          NaN   \n",
       "\n",
       "       공원보유시설(유희시설) 공원보유시설(편익시설) 공원보유시설(교양시설) 공원보유시설(기타시설)      지정고시일  \\\n",
       "0            어린이놀이터           벤치          NaN          NaN 1991-01-08   \n",
       "1     조합놀이대, 기타놀이기구          NaN         야외무대        관리사무소 1997-08-12   \n",
       "2      조합놀이, 기타놀이기구          NaN          NaN          NaN 1997-08-12   \n",
       "3  그네, 조합놀이, 기타놀이기구          NaN          NaN          NaN 1997-08-12   \n",
       "4              조합놀이          NaN          NaN          NaN 1997-08-12   \n",
       "\n",
       "        관리기관명          전화번호     데이터기준일자   제공기관코드      제공기관명     시도   구군  \\\n",
       "0    분당구녹지공원과  031-729-7461  2020-01-17  3780000    경기도 성남시    경기도  성남시   \n",
       "1  광주광역시 광산구청  062-960-8704  2020-07-16  3630000  광주광역시 광산구  광주광역시  광산구   \n",
       "2  광주광역시 광산구청  062-960-8712  2020-07-16  3630000  광주광역시 광산구  광주광역시  광산구   \n",
       "3  광주광역시 광산구청  062-960-8712  2020-07-16  3630000  광주광역시 광산구  광주광역시  광산구   \n",
       "4  광주광역시 광산구청  062-960-8712  2020-07-16  3630000  광주광역시 광산구  광주광역시  광산구   \n",
       "\n",
       "     고시연도  고시월  \n",
       "0  1991.0  1.0  \n",
       "1  1997.0  8.0  \n",
       "2  1997.0  8.0  \n",
       "3  1997.0  8.0  \n",
       "4  1997.0  8.0  "
      ]
     },
     "execution_count": 72,
     "metadata": {},
     "output_type": "execute_result"
    }
   ],
   "source": [
    "# 데이터를 미리보기 합니다.\n",
    "df.head()\n"
   ]
  },
  {
   "cell_type": "markdown",
   "metadata": {},
   "source": [
    "### 운동시설\n",
    "* 텍스트 데이터의 빈도수를 구합니다.\n",
    "* 한 컬럼에 여러 텍스트가 , 혹은 - 등의 특수문자로 구분되어 있습니다.\n",
    "* 데이터 전처리를 통해 텍스트의 빈도수를 구합니다."
   ]
  },
  {
   "cell_type": "code",
   "execution_count": 75,
   "metadata": {},
   "outputs": [
    {
     "data": {
      "text/plain": [
       "농구대,배드민턴장,게이트볼구장,운동기구                                    1\n",
       "배드민턴장,생활체육시설 등                                           1\n",
       "자전거발전기, 근육풀기발전기, 허리돌리기발전기, 파도타기발전기                       3\n",
       "하늘걷기1,온몸허리돌리기1,옆파도타기1                                    2\n",
       "족구장, 허리돌리기, 공중걷기 등                                       1\n",
       "                                                        ..\n",
       "농구대,배드민턴장,운동기구                                           1\n",
       "평행봉외 7종                                                  1\n",
       "마라톤운동기,배드민턴장,배드민턴지주대,어깨근육풀기,옆파도타기,온몸근육풀기,온몸허리돌리기,하늘걷기    1\n",
       "배드민턴장, 야외헬스기구                                            1\n",
       "배드민터장 1개소, 체력단련시설 1개소 6개                                 1\n",
       "Name: 공원보유시설(운동시설), Length: 1660, dtype: int64"
      ]
     },
     "execution_count": 75,
     "metadata": {},
     "output_type": "execute_result"
    }
   ],
   "source": [
    "# \"공원보유시설(운동시설)\" 의 빈도수를 세어 아래에서 5개만 봅니다.\n",
    "df[\"공원보유시설(운동시설)\"].value_counts(sort=False)"
   ]
  },
  {
   "cell_type": "code",
   "execution_count": 80,
   "metadata": {},
   "outputs": [
    {
     "data": {
      "text/plain": [
       "\"[nan, '배드민턴장, 농구장', '배드민턴장', '배드민턴장, 게이트볼장, 인라인스케이트장', '배드민턴장, 운동장, 농구장', '다목적운동장외 10종', '게이트볼장', '농구대', '배드민턴장, 게이트볼장', '롤러스케이트장', '다목적운동장', '운동장', '다목적광장, 체력단련시설 5종', '풋살경기장, 족구장, 게이트볼장', '체력단련장', '체력단련시설', '게이트볼장,농구장', '테니스장', '인조잔디구장', '천연잔디구장', '축구장, 농구장', '농구장', '운동장, 게이트볼장', '축구장, 테니스장, 다목적운동장', '다목적운동장, 테니스장, 배드민턴장', '배드민턴장, 게이트볼장, 농구장', '테니스장, 축구장, 다목적운동장', '궁도장, 테니스장', '체련단련장', '다목적운동장, 롤러스케이트장', '다목적운동장, 체력단련장', '야외헬스형운동기구 7개', '야외헬스형운동기구 3개', '야외헬스형운동기구 4개', '야외헬스형운동기구 6개', '야외헬스형운동기구 5개', '다목적구장', '테니스장, 암벽등반', '다목적운동장, 배구장', '배드민턴장, 골프연습장', '국궁장, 골프연습장', '체육시설물', '체력단련장, 배드민턴장', '체력단련장, 게이트볼잘', '생활체육시설지', '실내체육관, 체력단련장', '운동장, 배드민턴장', '놀이터', '게이트볼장, 배드민턴장', '운동체육시설', '테니스장 배구장', '체육센타, 게이트볼장', '배드민턴장4, 게이트볼장, 체력단련장', '노르딕머신외5종', '노르딕머신외 5종', '트위스트외3종', '평행봉 외7종', '싸이클링외 3종', '크로스컨트리외4종', '풋살경기장, 운동시설물', '운동시설지, 농구장', '철봉외6종', '철봉 외 8종', '팔굽혀펴기 외8종', '허리돌리기 외4종', '스트레칭로라외4종', '농구대외6종', '철봉외 7종', '0', '4', '7', '10', '5', '9', '4조8종', '6', '윗몸일으키기 외3종', '윗몸일으키기 외5종', '다리굽혀펴기 외3종', '크로스컨트리 외5종', '공중걷기 외2종', '게이트볼장 외6종', '에어서핑 외2종', '2', '11', '8', '6조8종', '2조3종', '3', '5조7종', '3조4종', '5조8종', '12', '10조12종', '5조9종', '11조14종', '개방형 체육관, 체력단련장, 축구장', '체력단련장(A~C), 다목적구장', '농구장, 배드민턴장', '운동공간', '족구장, 배구장', '배드민턴장,체력단련시설', '인라인스케이트장', '운동장, 족구장, 농구장', '체력단련시설+운동장', '축구장+체력단련시설', '실내배드민턴장+게이트볼장+체력단련시설', '농구장, 롤러스케이트장', '농구장, 스포츠파크', '배드민턴장, 인라인스케이트장', '축구장, 씨름장, 배구, 배스민턴', '축구장', '1', '야외헬스형운동기구 8개', '야외헬스형운동기구 2개', '야외헬스형운동기구 1개', '야외운동기구', '축구장, 테니스장, 배구, 배드민턴', '야외운동기구, 농구장, 배드민턴장', '야외운동기구, 게이트볼장', '다목적운동장, 야외운동기구', '야외운동기구, 배드민턴장', '농구장+체력단련시설', '다목적운동장+게이트볼장+인라인스케이트장+체력단련시설', '다목적운동장, 야외운동기구, 배드민턴장', '야외운동기구.', '-', '야외배드민턴장+체력단련시설', '오금펴기 외11종', '워밍업 외5종', '롤링웨이스트 외3종', '노르딕머신외 3종', '노르딕머신외 4종', '등치기', '크로스컨트리오 3종', '스텝싸이클외 7종', '하늘걷기 외2종', '에어워킹 외4종', '등펴기외 6종', '위밍쇼울더 외3종', '싸이클링 외5종', '온몸근육풀기 외2종', '노르딕머신+에어위킹', '레그프레스 외 5종', '에어서핑 외 2종', '스텝싸이클 등 3종', '워밍암 외4종', '트윈트위스트 외3종', '허리돌리기 외5종', '싸이클링 외 7종', '마레트골프장', '생활체육시설', '종합체육관 외3종', '농구장 외3종', '농구대 외5종', '마레트골프장 외 5종', '운동시설', '야외체육시설3', '야외체육시설4', '게이트볼장 외 4종', '게이트볼장 외3종', '철봉 외7종', '체력단련장 외2종', '야외체육시설', '운동시설물 외1종', '게이트볼장 외4종', '웨밍암 외4종', '서핑롤링머신 외2종', '지압보도외6종', '농구대외3종', '에어워킹 외2종', '어깨관절놀이 외2종', '어깨관절놀이 외3종', '농구대외 5종', '평행봉외 7종', '야외체육시설물', '윗몸일으키기외7종', '평행봉외1종', '스텝싸이클 등 5', '싸이클링 외 3종', '트위스트외 4종', '다목적구장외1종', '운동시설물', '축구장 외5종', '배드민턴장 외1종', '생활체육시설 외2종', '축구장 외4종', '평행봉 외2종', '스텝싸이클외4종', '농구대외 8종', '바디실업외 5종', '노르딕머신외1종', '베드민턴장외3종', '노르딕머신외2종', '허리돌리기외5종', '싸이클링 외 5종', '싸이클링 외2종', '싸아클링 외2종', '베드민턴및 포스트', '싸이클링외 6종', '미니축구장', '미니축구장, 농구장', '축구장,농구장,배구장,인라인장', '농구장, 게이트볼장,체력단련시설', '운동장, 게이트볼장, 체력단련장', '배드민턴장, 체력단련장', '배드민턴장,운동장,체력단련시설', '게이트볼장, 농구장, 족구장,체력단련시설', '실내 게이트볼장,체력단련시설', '배드민턴장, 야외헬스장', '농구장, 체력단련시설', '다목적운동장2, 인라인장, 축구장,풋살장,배드민턴장, 족구장, 게이트볼장2,농구장,체력단련시설', '다목적운동장, 생홀체육관, 배드민턴장', '게이트볼장, 농구대, 체력단련시설', '게이트볼장, 농구장,체력단련시설', '운동기구 5종', '운동기구 4종', '운동기구 6종', '운동기구 10종', '체력단련장, 체력단련시설, 국궁장', '농구장, 배드민턴장,체력단련시설', '배드민턴장, 체력단련시설', '배드민턴장, 다목적운동장,체력단련시설', '19', '잔디운동장', '축구장,풋살장,족구장,농구장', '족구장', '다목적운동장,족구장,축구장', '운동장,축구장, 배드민턴장', '농구대 1', '배드민턴장 1', '인라인장, 농구대 1', '운동기구2종', '운동장, 배구장,농구장', '농구대 2', '풋살구장,체력단련장,체육관 (게이트볼삭제요청)', '운동장, 체력단련장', '게이트볼장, 운동기구 2종', '다목적운동장,수영장,실내베드민턴장, 웅동기구12종', '체력단련시설 8개', '게이트볼장,멀티코트', '운동장,게이트볼장', '체력단련장,배구장,게이트볼장,베드민턴장', '체력단련장, 다이나트랙,베드민턴장', '배드민턴장, 운동장', '다목적운동장,베드민턴장,체력단련장', '농구장,다목적운동장,운동기구 6종', '골프연습장, 눈썰매장,체력단련장,궁도장,실내베드민턴장,인라인스케이트장', '농구장,족구장', '운동기구 8', '운동기구 3', '운동기구 9', '체력단련시설+운동장(농구대)', '실내다목적체육관+체력단련시설', '야외헬스형운동기구 21개', '야외헬스형운동기구 20개, 다목적운동장, 조깅트랙', '배드민턴장, 게이트볼장, 야외헬스형 운동기구 98개', '야외헬스형운동기구 14개', '야외헬스형운동기구 25개', '테니스장, 골프장, 승마장', '벤치', '실내체육관', '생활운동시설', '축구장+실내배드민턴장+체력단련시설', '하늘걷기+마라톤운동', '하늘걷기, 마라톤운동', '생활체육관', '농구장,베트민턴장', '풋살장, 농구장, 족구장', '배드민턴장 2개소', '야구장, 축구장, 다목적구장', '베드민턴장', '축구장, 베드민턴장, 농구장, 족구장,게이트볼장,다목적구장', '운동기구 등', '축구장+실내배드민턴장+배구장+씨름장+농구장+체력단련장', '다목적운동장+체력단련시설', '농구장, 배드민턴장, 축구장 등', '허리돌리기, 철봉, 평행봉, 역기올리기 등', '철봉, 평행봉 공중걷기, 허리돌리기 등', '철봉, 평행봉, 허리돌리기, 공중걷기 등', '허리돌리기, 다리흔들기, 다리올리기, 온몸펴기 등', '농구장, 배드민턴장 등', '풋살장, 배드민턴장, 족구장', '배드민턴장, 발지압장', '게이트볼장, 농구장', '궁도장, 신체단련장', '테니스장, 실내체육관', '다목적운동장, 야외운동장', '배드민턴장, 운동기구', '풋살장, 배드민턴장, 다목적구장', '맨발공원, 농구장, 족구장', '암벽등반, 실내체육관, 배드민턴장', '야외헬스형운동기구 30개, 농구장', '야외헬스형운동기구 7개, 게이트볼장, 다목적운동장', '야외헬스형운동기구 10개', '야외헬스형운동기구 24개', '야외헬스형운동기구 25개, 게이트볼장, 배드민턴장', '야외헬스형운동기구 20개 배드민턴장, 다목적운동장', '야외헬스형운동기구 52개', '야외헬스형운동기구 20개', '야외헬스형운동기구 86개', '야외헬스형운동기구 17개', '야외헬스형운동기구 9개', '야외체력단련시설', '야외체력단련시설, 테니스장', '야외체력단련시설, 게이트볼장', '야외체력단련시설, 족구장, 농구장', '테니스장, 골프연습장, 궁도장, 게이트볼장', '골프연습장, 테니스장', '국궁장, 체력단련시설', '운동기구 등 3', '운동기구 등 5', '운동기구 등 25', '운동기구 등 13', '운동기구 등 8', '운동기구 등 7', '운동기구 등 6', '운동기구 등 9', '운동기구 4', '운동기구 등 4', '생활체육공간,지압보도', '생활체육공간', '운동기구 등 10', '다목적운동장+파크골프장+게이트볼장+체력단련시설', '테니스장+게이트볼장+체력단련시설', '농구장, 배드민턴장, 인라인장, 족구장', '풋살장', '풋살장, 농구대', '농구장, 배구장, 배드민턴장, 축구장, 다목적운동장', '배트민턴장, 테니스장, 배구장, 농구장', '농구장, 조깅코스', '체력단련시설+운동장(축구골대,농구대)', '체력단련시설+게이트볼장+농구장', '야외배드민턴장+축구장+테니스장+농구장+게이트볼장+실내배드민턴장+체력단련시설', '국궁장+다목적운동장+농구장+실내배드민턴장+게이트볼장+체력단련시설', '풋살구장', '농구장 족구장', '인라인롤러 경기장', '대구스타디움, 육상진흥센터', '테니스장, 야구장, 두류수영장', '풋살장+인라인스케이트장+게이트볼장+농구장+다목적운동장+배드민턴장+파크골프장+체력단련시설', '게이트볼장+체력단련시설', '농구장+야외배드민턴장+인라인스케이트장+실내배드민턴장+체력단련시설', '멀티코트+체력단련시설', '운동시설물 3', '배드민턴장,농구대,족구대', '농구장,배드민턴장', '배드민턴장,농구장,체력단련장', '운동기구5,게이트볼장', '배드민턴장,농구장 등', '궁도장', '다목적운동장,배드민턴장 등', '운동기구 등 31,체육관', '농구장,체력단련시설', '족구장,체력단련시설', '풋살장,체력단련시설', '풋살장,배드민턴장', '축구장,농구장,족구장,게이트볼장,배드민턴장 등', '옆파도타기, 마라톤운동, 하늘걷기 등', '허리돌리기, 팔돌리기 등', '축구장, 농구장, 족구장 등', '농구장, 허리돌리기, 팔돌리기 등', '테니스장, 허리돌리기, 파도타기, 공중걷기 등', '허리돌리기, 파도타기, 공중걷기 등', '허리돌리기, 윗몸일으키기 등', '공중걷기 등', '공중걷기, 허리돌리기, 파도타기 등', '공중걷기, 허리돌리기', '허리돌리기, 철봉, 평행봉 등', '터닝트위스트, 워밍암, 롤링웨이스트', '허리돌리기, 농구장', '허리돌리기', '허리돌리기, 평행봉, 철봉', '파도타기, 공중걷기, 허리돌리기', '허리돌리기, 공중걷기, 파도타기 등', '농구장, 허리돌리기 등', '오금펴기, 달리기운동, 오금펴기 등', '허리돌리기, 롤링웨이스트 등', '공중걷기, 허리돌리기, 공중걷기, 역기올리기 등', '크로스컨트리, 트윈트위스터, 롤링웨이스트 등', '공중걷기, 파도타기, 허리돌리기', '파도타기, 공중걷기, 팔돌리기 등', '철봉, 허리돌리기, 팔돌리기 등', '공중걷기, 팔돌리기 등', '공중걷기', '트윈트위스트, 롤링웨이스트 등', '트윈트위스트. 롤링웨이스트', '스트레칭로라, 공중걷기, 팔돌리기 등', '평행봉, 철봉, 공중걷기 등', '허리돌리기, 배드민턴장', '허리돌리기, 공중걷기 등', '농구장 등', '농구장, 그라운드골프장 등', '농구장, 헐리돌리기, 공중걷기 등', '평행봉, 다리흔들기, 허리돌리기 등', '온몸펴기, 공중걷기, 허리돌리기 등', '평행봉, 허리돌리기, 팔비틀기 등', '축구장, 철봉, 평행봉, 허리돌리기 등', '평행봉, 트위스트, 허리돌리기 등', '역기올리기, 롤링웨이스트, 트위스터 등', '족구장, 허리돌리기, 공중걷기 등', '풋살장,게이트볼장', '게이트볼장, 다목적구장', '골프연습장, 다목적운동장, 정구장', '농구장, 배드민턴장, 축구장', '게이트볼장,인라인스케이트장,다목적구장', '다목적운동장, 게이트볼장, 농구장', '배구장, 배드민턴장, 농구장', '게이트볼장, 배드민턴장, 다목적운동장', '수영장', '암벽장, 풋살장', '축구장,야구장,농구장,인라이스케이트장', '체력단련시설 5점', '체력단련시설 6점', '체력단련시설 3점', '체력단련시설 9점', '체력단련시설 2점', '체력단련시설 4점', '운동장 1개소, 테니스장 1개소, 체력단력시설 95점', '운동장 1개소, 테니스장 1개소, 수영장 1개소, 배드민턴 2개소, 게이트볼 1개소, 체력단력시설 56점', '체력단련시설 12점', '체력단련시설 7점', '운동장3개소, 배드민턴 2개소, 체력단련시설 84점', '배드민턴장 1개소, 체력단련시설 65점', '체력단련시설 8점', '체력단련시설 11점', '운동장 1개소, 배드민턴 2개소, 체력단력시설 14점', '체력단련시설 15점', '체력단련시설 4점, 태양광벤치, 공원등', '농구골대,평행봉,철봉', '평행봉,철봉', '평행봉,야외운동기구', '평행봉,철봉,농구대', '농구장,철봉,평행봉', '농구장,야외운동기구', '철봉,야외운동기구', '농구대,야외운동기구', '야외운동기구,게이트볼장', '야외운동기구,족구장,농구장', '운동시설,다목적광장', '농구장,게이트볼장,배드민턴장,미니축구장', '농구장,족구장,배구장,인라인트랙', '다목적운동장+실내배드민턴장+체력단련시설', '야외배드민턴장', '게이트볼장+실내배드민턴장+체력단련시설', '족구장+체력단련시설', '축구장+게이트볼장+농구장+인라인스케이트장+테니스장+실내배드민턴장+체력단련시설', '게이트볼장+족구장+체력단련시설', '풋살구장+농구장+족구장+실내배드민턴장+체력단련시설', '배드민턴장+체력단련시설', '족구장+배드민턴장+체력단련시설', '운동기구', '야외운동기구, 다목적구장, 족구장', '야외운동기구, 족구장', '게이트볼장, 농구장, 야외운동기구', '인조잔디구장, 게이트볼장, 야외운동기구', '국궁장, 게이트볼장', '인라인스케이트장, 야외운동기구', '인조잔디구장, 야외운동기구', '베드민턴장, 야외운동기구', '농구장, 야외운동기구', '궁도장,게이트볼장,테니스장', '다리펴기, 허리돌리기, 역기내리기, 어깨돌리기 등', '자전거타기, 허리돌리기 등', '자전거타기 등', '윗몸일으키기, 파도타기, 하늘걷기 등', '하늘걷기, 허리돌리기 등', '하늘걷기, 양팔 밀기', '하늘걷기, 파도타기, 마라톤운동 등', '어깨돌리기, 파도타기, 마라톤운동 등', '하늘걷기, 어깨돌리기 등', '어깨돌리기, 양팔밀기 등', '유아용 운동시설 등', '다리펴기, 자전거타기 등', '등허리지압기, 어깨돌리기, 허리돌리기 등', '허리돌리기 등', '허리돌리기, 하늘걷기 등', '철봉, 허리돌리기 등', '윗몸일으키기 등', '철봉 등', '하늘걷기 등', '허리돌리기, 족구장 등', '철봉, 윗몸일으키기 등', '허리돌리기, 양팔밀기 등', '어깨돌리기, 양팔밀기, 허리돌리기 등', '허리돌리기, 하늘걷기, 등', '윗몸일으키기, 허리돌리기 등', '족구장, 농구장 등', '배드민턴장, 인라인스케이트 장 등', '허리돌리기, 역기 등', '양팔돌리기, 노젓기 등', '철봉, 허리돌리기, 하늘걷기 등', '허리돌리기, 하늘걷기, 파도타기 등', '체력단련장,국궁장,게이트볼장,배드민턴장, 다목적운동장, 테니스장', '농구장, 풋살경기장', '수영장, 게이트볼장', '농구장, 운동기구', '운동기구, 국궁장', '어린이놀이시설', '배드민턴장, 농구장, 체력단련시설', '다목적운동장, 체력단련시설', '베드민턴장, 농구장,체력단련시설', '철봉', '풋살결기장, 체력단련시설', '정구장, 소운동장, 체조장', '풋살구장, 테니스장, 농구장, 족구장', '농구장,운동기구', '게이트볼장2,배드민턴1,족구장1,운동기구89', '게이트볼장1,운동기구37', '게이트볼장1,배드민턴장1,운동기구122', '운동기구48', '농구대2,배드민턴장1운동기구6', '운동기구53', '운동기구29,농구대1,배드민턴3', '운동기구23', '운동기구13', '운동기구14', '운동기구23,농구대1', '운동기구36,농구대1,배드민턴1', '운동기구22,게이트볼장1,농구대2,배드민턴장1,족구장1', '운동기구29,게이트볼장1,농구대2,배드민턴장1', '운동기구28', '운동기구25', '운동기구55,게이트볼장1,배드민턴장3', '운동기구6', '농구대1,테니스장1', '미조성', '운동기구7', '농구대4,배드민턴장1', '운동기구3,다목적운동장1,풋살장1', '운동기구4', '운동기구3', '운동기구5,농구대2,족구장2', '운동기구9', '운동기구16,농구대2,다목적운동장1,족구장3', '운동기구5', '운동기구15', '운동기구24,배드민턴장1,공연장1', '수영장1', '축구장1', '운동기구17,농구대1', '운동기구18,농구대1', '운동기구11,게이트볼장1', '운동기구4,농구대1', '운동기구16', '운동기구10', '운동기구7,농구대1', '운동기구11,농구대1', '운동기구12,농구대1', '운동기구14,배드민턴장1', '운동기구11', '운동기구6,농구대1', '운동기구5,농구대2', '운동기구5,게이트볼장1', '운동기구8', '운동기구8,게이트볼장1', '운동기구5,농구대1', '운동기구8,농구대1', '운동기구6,배드민턴장1', '운동기구5,농구대1,다목적운동장1', '운동기구6,다목적운동장1', '운동기구12', '운동기구10,농구대1,배드민턴장1', '운동기구23,농구대2,배드민턴장1', '운동기구9,농구대1', '농구대2,미니축구골대2', '운동기구3,농구대1', '운동기구8,농구대1,다목적운동장1', '운동기구4,농구대1,다목적운동장1', '운동기구10,다목적운동장1', '운동기구8,농구대1,배드민턴장1', '운동기구2', '운동기구3,농구대2', '운동기구4,농구대2', '운동기구3,게이트볼장1', '운동기구2,농구대1', '운동기구6,농구대2', '운동기구2,농구대3', '운동기구5,농구대1,풋살장1,족구장1', '운동기구23,농구대1,다목적운동장1', '농구대2,배구장1', '농구대1', '운동기구4,배드민턴장1', '운동기구1', '운동기구10,배구장1', '농구대2,다목적구장1,롤러스케이트장1,운동기구5', '축구장1,농구대2,테니스장2,게이트볼장1,체육관1', '축구장, 국궁장, 테니스장, 족구장, 농구장', '야구장, 풋살장, 테니스장', '배드민턴장 다목적실설', '다목적구장, 게이트볼장, 배드민턴장, 농구장', '운동기구, 자전거 보관소 등', '풋살경기장', '산책로', '운동기구 3종', '운동기구 1종', '운동기구 8종', '운동기구 19종', '운동기구 12종', '다목적운동장,족구장,테니스장,농구장', '풋살장, 리틀야구장,, 다목적체육관', '다목적체육관', '풋살장,농구장,테니스장,족구장.배드민턴장,게이트볼장 등', '배드민턴장(족구장겸), 운동시설 등', '배드민턴장, 농구장, 게이트볼장, 체력단련장 등', '족구장, 풋살장', '축구장, 풋살장, 농구장, 축구장, 론볼링장, 궁도장, 썰매장, 간이수영장, 다목적구장', '농구장, 게이트볼장, 배드민턴장', '족구장, 농구장, 배드민턴장, 축구장, 인라인장', '테니스장, 족구장, 다목적운동장', '다목적운동장, 농구장, 체력단련시설 등', '체력단련시설 및 극기훈련시설', '야외체육시설(팔굽혀펴기 등)', '야외체육시설(온몸근육풀기 등), 족구장', '체력단련장, 야외체육시설', '야외체육시설(트윈워밍암 등)', '야외체육시설(온몸허리돌리기 등)', '궁도장,배드민턴장,체력단련시설', '테니스장,농구장,배드민턴장,체력단련시설', '테니스장,배드민턴장,체력단련시설', '농구장,배드민턴장,체력단련시설', '육상경기장·게이트볼장·배구장·배드민턴장·농구장·체력단련장·골프연습장·풋살경기장·자연체험장·국민체육센터·테니스장·역도훈련장', '축구장·트랙·다목적체육시설·씨름장·체력단련시설', '족구장, 배드민턴장', '테니스장, 농구장, 풋살장, 배드민턴장', '게이트볼장, 테니스장', '다목적운동장, 배드민턴장', '게이트볼장, 배드민턴장, 농구장', '다목적은동장', '다목적운동장, 게이트볼장', '다목적운동장, 게이트볼장, 배드민턴장', '다목적운동장, 농구장', '소규모운동장', '족구경기장 4', '실외운동기구 7', '실외운동기구', '농구장, 인라인스케이트장', '풋살장, 축구장, 농구장, 트랙, 배드민턴장, 게이트볼장', '파크골프장', '축구장, 풋살장, 농구장, 트랙, 배드민턴장', '풋살장, 인라인장(X-게임장)', '풋살장, 배드민턴장', '족구장 등2', 'X-게임장', '농구장+배드민턴장', '농구장+배드민턴장+인라인스케이트장', '축구장+농구장', '배드민턴장+족구장', '농구장+족구장', '족구장+배드민턴장+게이트볼장', '축구장 등4', '테니스장+농구장+족구장+배드민턴장', '축구장 등6', '농구장+배드민턴장+게이트볼장+X-게임장', '배트민턴장', '축구장+야구장+배드민턴장+테니스장+농구장', '족구장 등3', '배드민턴장+게이트볼장', '배드민턴장+족구장+체력단련장 등 9', '배드민턴장+족구장+그라운드골프장', '다목적구장 등3', '배드민턴장+농구장', '배드민턴장+게이트볼장+농구장', '족구장+배드민턴장+게이트볼장+농구장', '농구장, 게이트볼장', '게이트볼장1,운동시설10', '축구장,족구장', '족구장1', '배드민턴장+운동장', '윗몸일으키기,공중걷기,마라톤운동 등', '마라톤운동,하체돌리기+공중걷기 등', '레그프레스,워밍암 등', '크로스컨트리,스트레칭로라 등', '윗몸일으키기,역기올리기 등', '농구장,하늘걷기,허리돌리기 등', '공중걷기,허리돌리기 등', '농구골대,야외 헬스기구', '트위스트,스카이워킹 등', '공중걷기,자전거타기,윗몸일으키기 등', '철봉,허리돌리기 등', '윗몸일으키기, 다리벌리기, 팔굽혀펴기 등', '윗몸일으키기,자전거타기,공중걷기 등', '베드민턴', '체력단련시설,게이트볼장', '체력단련시설,인조잔디구장', '체력단련시설,배구장', '체력단련시설,농구대', '체력단련시설,족구장', '체력단련시설,X게임장', 'X게임장', '체력단련시설,운동장,풋살장', '체력단련시설,풋살장', '체력단련시설,배드민턴장,농구장,풋살장', '체력단련시설, 배드민턴장', '체력단련시설, 다목적구장', '야외운동기구 등', '시민운동장,실내체육관,씨름장,축구장,궁도장', '게이트볼장,마라톤운동기,심판의자,옆파도타기,온몸근육풀기,온몸노젓기,온몸역기올리기,온몸허리돌리기,윗몸일으키기,족구대,족구장,철봉,평행봉,하늘걷기', '다리뻗치기,등허리지압기,옆파도타기,온몸근육풀기,온몸허리돌리기,평행봉,하늘걷기', '등허리지압기,레그프레스,마라톤운동 장형,배드민턴장,배드민턴지주대,옆파도타기,온몸역기내리기,온몸허리돌리기,윗몸일으키기,파크골프장,하늘걷기', '레그프레스,롤링웨이스트(일반형),바디싣업,스트레칭로라,체어웨이트,크로스컨트리,트윈트위스트', '네트걸이,농구대,농구장,다리걸기,다리뻗치기,등부딪히기,등허리지압기,마라톤운동기,매달리기,미니철봉,배드민턴장,벤치프레스,양팔줄당기기,어깨근육풀기,옆파도타기,온몸근육풀기,온몸노젓기,온몸역기올리기,온몸허리돌리기,원형목재 평균대,윗몸일으키기,지압보도,철기둥,철봉,철봉+링,팔굽혀피기,평균대,평행봉,하늘걷기,하늘사다리,허벅지근육풀기', '게이트볼장,농구대(이동식),다리걸치기,데크관람대,배드민턴장,배드민턴지주대,벤치프레스,어깨근육풀기,옆파도타기,온몸근육풀기,온몸노젓기,온몸허리돌리기,운동장,윗몸일으키기,지압보도,철봉,철봉+링,팔굽혀피기,평행봉,풋살경기장,하늘걷기', '농구대,어깨근육풀기,온몸허리돌리기,운동장,족구대,철봉,평행봉,하늘걷기', '어깨근육풀기,옆파도타기,온몸노젓기,온몸허리돌리기,하늘걷기', '고무칩포장,레그프레스,롤링웨이스트(일반형),바디싣업,스텝싸이클,스트레칭로라,원형뜀틀,체어웨이트,크로스컨트리,트윈트위스트', '고무칩포장,다리뻗치기,등허리지압기,스텝싸이클,어깨근육풀기,옆파도타기,온몸역기올리기,온몸허리돌리기,윗몸일으키기,하늘걷기', '배드민턴장,배드민턴지주대,온몸근육풀기,온몸역기올리기,온몸허리돌리기', '등허리지압기,배드민턴장,배드민턴지주대(이동식),온몸근육풀기,온몸역기올리기,온몸허리돌리기', '어깨근육풀기,옆파도타기,온몸허리돌리기,인라인스케이트장,하늘걷기', '배드민턴 라인마킹,배드민턴 포스트,배드민턴장,옆파도타기운동,오금펴기운동,온몸근육운동,하늘걷기운동,허리돌리기운동', '농구대,농구장,등허리지압기,마라톤운동기,벤치프레스,온몸근육풀기,온몸노젓기,온몸역기올리기,온몸허리돌리기,윗몸일으키기,지압보도,하늘걷기', '농구대,농구장,다목적경기장,등허리지압기,마라톤운동,배드민턴장,온몸노젓기,하늘걷기,허리돌리기', '다리뻗치기,등허리지압기,마라톤운동,옆파도타기,온몸근육풀기,온몸노젓기,온몸역기내리기,온몸역기올리기,온몸허리돌리기,테니스 네트대,테니스장,하늘걷기', '다리근육풀기,등허리지압기,온몸역기올리기,윗몸일으키기,지압보도,하늘걷기', '다리뻗치기,마라톤운동기,옆파도타기,온몸근육풀기,온몸역기내리기,온몸허리돌리기,윗몸일으키기,하늘걷기', '마라톤운동기,옆파도타기,온몸근육풀기,온몸역기내리기,온몸허리돌리기,윗몸일으키기,자유철봉기', '옆파도타기운동,오금펴기운동,온몸근육풀기운동,하늘걷기운동,허리돌리기운동', '네트걸이대,운동장,평행봉,풋살골대', '농구대,농구장,다리뻗치기,마라톤운동기,배드민턴장,양팔줄당기기,어깨근육풀기,옆파도타기,온몸역기내리기,온몸역기올리기,온몸허리돌리기,지압보도,철봉,평행봉,하늘걷기', '네트걸이대,미니축구장골대,어깨근육풀기,온몸허리돌리기,족구장,축구대,축구장,하늘걷기', '레그프레스,옆파도타기,온몸역기올리기,온몸허리돌리기,하늘걷기', '농구대,농구장,미니축구장,어깨근육풀기,옆파도타기,온몸허리돌리기,윗몸일으키기,족구대,족구장,축구대,하늘걷기', '마라톤운동기,배드민턴장,배드민턴지주대,어깨근육풀기,옆파도타기,온몸근육풀기,온몸허리돌리기,하늘걷기', '마라톤운동기,어깨근육풀기,옆파도타기,온몸허리돌리기,하늘걷기', '등허리지압기,옆파도타기,온몸근육풀기,온몸허리돌리기,윗몸일으키기,하늘걷기', '옆파도타기,온몸역기올리기,온몸허리돌리기,윗몸일으키기,하늘걷기', '농구대,배구네트대,어깨근육풀기,옆파도타기,온몸역기내리기,온몸허리돌리기,하늘걷기', '옆파도타기,온몸허리돌리기,하늘걷기', '등허리지압기,온몸근육풀기,온몸역기내리기,하늘걷기', '등허리지압기,온몸근육풀기,온몸역기내리기,온몸허리돌리기,족구대,하늘걷기', '다리뻗치기,등허리지압기,어깨근육풀기,온몸근육풀기,온몸허리돌리기,윗몸일으키기', '옆파도타기,철봉,하늘걷기', '옆파도타기,온몸역기올리기,하늘걷기', '다리뻗치기,등허리지압기,스텝싸이클,옆파도타기,온몸허리돌리기,윗몸일으키기,하늘걷기', '다리뻗치기,등허리지압기,옆파도타기,온몸역기올리기,윗몸일으키기,하늘걷기', '레그프레스,크로스컨트리,트윈트위스트', '레그프레스,트윈트위스트', '옆파도타기,온몸근육풀기,온몸역기올리기,온몸허리돌리기,하늘걷기', '마라톤운동기,옆파도타기,온몸근육풀기,온몸허리돌리기,하늘걷기', '다리뻗치기,온몸노젓기,온몸허리돌리기,윗몸일으키기', '옆파도운동,오금펴기운동,온몸근육운동,하늘걷기운동', '체어웨이트,크로스컨트리,트윈트위스트', '온몸역기올리기,온몸허리돌리기,하늘걷기', '다리뻗치기,온몸근육풀기,온몸역기내리기,윗몸일으키기', '마라톤운동기,윗몸일으키기', '다리뻗치기,마라톤운동기,발바닥지압걷기,온몸돌리기,온몸역기내리기,온몸역기올리기,탄성고무칩포장,하늘걷기', '등허리지압기,온몸근육풀기,온몸허리돌리기,윗몸일으키기', '등허리지압기,마라톤운동기,온몸노젓기', '등허리지압기,온몸노젓기,온몸허리돌리기,하늘걷기', '옆파도타기,온몸근육풀기,온몸허리돌리기,하늘걷기', '옆파도타기,온몸근육풀기,온몸역기내리기,온몸허리돌리기,하늘걷기', '어깨근육풀기,온몸허리돌리기,하늘걷기', '스트레칭로라,크로스컨트리,트윈트위스트', '다리근육풀기,양팔줄당기기,어깨근육풀기,옆파도타기,오금펴기,온몸노젓기,온몸허리돌리기,하늘걷기', '마라톤운동기,온몸근육풀기,윗몸일으키기', '등허리지압기,배드민턴대,배드민턴장,온몸허리돌리기,하늘걷기', '롤링웨이스트(일반형),스텝싸이클,체어웨이트', '등허리지압기,마라톤운동기,온몸노젓기,온몸역기올리기,온몸허리돌리기', '마라톤운동기,어깨근육풀기,온몸허리돌리기', '고무칩포장,마라톤운동기,온몸노젓기,온몸역기올리기,온몸허리돌리기', '게이트볼장,옆파도타기,온몸근육풀기,온몸허리돌리기,하늘걷기', '오금펴기운동,온몸근육운동,하늘걷기운동,허리돌리기운동', '등허리지압기,어깨근육풀기,옆파도타기,온몸허리돌리기,하늘걷기', '마라톤운동기,온몸근육풀기,온몸역기올리기,온몸허리돌리기', '마라톤운동기,옆파도타기,온몸역기올리기,온몸허리돌리기,하늘걷기', '마라톤운동기,배드민턴대,배드민턴장,옆파도타기,온몸허리돌리기,하늘걷기', '온몸노젓기,온몸역기올리기,온몸허리돌리기', '어깨근육풀기,온몸역기내리기,온몸허리돌리기,하늘걷기', '옆파도타기,온몸근육풀기,온몸노젓기,온몸허리돌리기,하늘걷기', '마라톤운동기,옆파도타기,온몸근육풀기,온몸허리돌리기,윗몸일으키기,하늘걷기', '다리뻗치기,등허리지압기,배드민턴장,배드민턴지주대,옆파도타기,하늘걷기', '어깨근육풀기,옆파도타기,온몸역기내리기,온몸허리돌리기,족구장,족구지주,하늘걷기', '다리근육풀기,등허리지압기,옆파도타기,온몸근육풀기,온몸허리돌리기,하늘걷기', '마라톤운동,하늘걷기,허리돌리기', '다리뻗치기,옆파도타기,온몸근육풀기,온몸허리돌리기,윗몸일으키기,하늘걷기', '옆파도운동,오금펴기운동,하늘걷기운동,허리돌리기운동', '마라톤운동기,옆파도타기,하늘걷기', '마라톤운동기,옆파도타기,온몸근육풀기,온몸허리돌리기,이형판석포장,하늘걷기', '마라톤운동기,온몸근육풀기,온몸역기내리기,온몸허리돌리기,윗몸일으키기,탄성고무칩포장', '마라톤운동기,옆파도타기,온몸근육풀기,윗몸일으키기,탄성고무칩포장', '농구대,농구장,옆파도타기,온몸허리돌리기,윗몸일으키기', '농구대,농구장,다리뻗치기,어깨근육풀기,옆파도타기,온몸허리돌리기,하늘걷기', '다리쭉뻗기+허리돌리기,배드민턴장,배드민턴지주대,어깨근육풀기+상체근육풀기,크로스컨츄리+전신하늘걷기', '다리뻗치기+옆파도타기,마라톤운동+온몸허리돌리기,어깨근육풀기+하늘걷기,온몸노젓기,하늘걷기', '롤링웨이스트(일반형),스텝싸이클,체어웨이트,트윈트위스트', '마라톤운동기,옆파도타기,온몸근육풀기,온몸역기올리기,온몸허리돌리기,하늘걷기', '등허리지압기,마라톤운동,옆파도타기,온몸근육풀기,온몸허리돌리기', '온몸근육풀기,하늘걷기,허리돌리기', '농구대,농구장', '축구대,축구장', '마라톤운동기,어깨근육풀기,온몸허리돌리기,윗몸일으키기,하늘걷기', '농구대,농구장,등허리지압기,발바닥지압대(반원형),어깨근육풀기,옆파도타기,온몸역기내리기,온몸허리돌리기,윗몸일으키기,철봉,하늘걷기', '다리근육풀기,마라톤운동기,옆파도타기,온몸근육풀기,온몸노젓기,온몸역기올리기,온몸허리돌리기,철봉,하늘걷기', '농구대,농구장,마라톤운동기,옆파도타기,온몸근육풀기,온몸허리돌리기,하늘걷기', '어깨근육풀기,옆파도타기,온몸허리돌리기,하늘걷기', '롤링웨이스트(일반형),배드민턴장,배드민턴지주대,크로스컨트리,트윈트위스트', '마라톤운동기,어깨근육풀기+상체근육풀기,온몸들어올리기+온몸역기내리기,온몸허리돌리기', '옆파도타기,온몸근육풀기,온몸허리돌리기', '다리뻗치기,마라톤운동기,옆파도타기,온몸노젓기,온몸허리돌리기,운동장,철봉(3인용),하늘걷기', '등허리지압기,온몸허리돌리기,하늘걷기', '마라톤운동기,배드민턴대,배드민턴장,온몸근육풀기,온몸노젓기,온몸허리돌리기,철봉,하늘걷기', '등허리지압기,배드민턴지주대,옆파도타기,온몸근육풀기,온몸노젓기,온몸역기올리기,온몸허리돌리기,운동장,하늘걷기', '체력단련시설,체력단련장1,체력단련장2', '다리뻗치기,마라톤운동,어깨근육풀기,역기내리기,역기올리기,인조잔디 라인마킹(풋살장 시설 및 포장),풋살골대(이동식)(풋살장 시설 및 포장),풋살장,하늘걷기', '게이트볼장,온몸근육풀기,온몸허리돌리기,윗몸일으키기,축구대,축구장,테니스 네트대,테니스 심판대,테니스장,하늘걷기', '다리뻗치기,등허리지압기,배드민턴장,배드민턴지주대,온몸근육풀기,온몸허리돌리기,지압보도', '농구대,등허리지압기+마라톤운동기,옆파도타기,온몸역기올리기+온몸근육풀기,온몸허리돌리기,윗몸일으키기,철봉,평행봉+온몸역기내리기,하늘걷기', '거꾸로매달리기,건너기,다리뻗치기,다리올리기,등치기,등허리지압기,마라톤운동기,벤치프레스,어깨근육풀기,옆파도타기,오금펴기,온몸노젓기,온몸역기올리기,온몸허리돌리기,윗몸일으키기,철봉,평행봉,하늘걷기', '게이트볼장,고무매트포장,넓적다리펴기운동,농구대,다리올리기,등부딪히기,등허리지압기,마라톤운동기,매달리기,배드민턴장,배드민턴지주대,벤치프레스,옆파도타기,오금펴기+온몸노젓기,온몸근육풀기,온몸노젓기,온몸역기내리기,온몸허리돌리기,윗몸일으키기,인라인스케이트장,자유철봉,지압보도,철봉+링,팔굽혀피기,평행봉,하늘걷기', '2단 철봉,게이트볼장,농구대(이동식),농구장,다리뻗치기,등허리지압기,마라톤운동기,벤치프레스,어깨근육풀기,옆파도타기,온몸근육풀기,온몸노젓기,온몸역기올리기,온몸허리돌리기,윗몸일으키기,인라인스케이트장,족구장,족구지주,하늘걷기', '생활체육시설 A(온몸돌리기),생활체육시설 B(마라톤운동),생활체육시설 C(온몸노젖기),생활체육시설 D(윗몸일으키기),생활체육시설 E(공중걷기),생활체육시설 F(옆파도타기)', '농구대,마라톤운동기,배드민턴장,배드민턴지주대,온몸역기내리기,온몸역기올리기,온몸허리돌리기,하늘걷기', '다리뻗치기,마라톤운동기,양팔줄당기기,온몸허리돌리기,윗몸일으키기,지압보도,하늘걷기', '다리올리기,마라톤운동기,옆파도타기,온몸근육풀기,온몸노젓기,평행봉,하늘걷기', '농구대,농구장,온몸역기올리기,온몸허리돌리기,윗몸일으키기,족구네트걸이,풋살골대', '네트걸이대,다리뻗치기,등허리지압기,마라톤운동기,배드민턴장,옆파도타기,윗몸일으키기,지압길 포장,하늘걷기', '2단 매달리기,다리올리기,링 매달리기,철봉,축구대,축구장', 'U형 네트브릿지,경사 사다리,등허리지압기,로그터널,마법다리,버마래더,버켓 브릿지,버티칼 네트,수평네트,스네이크 브릿지,스노우모바일,스윙플랫폼,스카이 버켓,스카이버마,스카이벌룬,스텝 브릿지,스틱타잔스윙,스파이더 웹,아일랜드,어깨근육풀기+온몸근육풀기,엑스크로스,옆파도타기,옆파도타기+하늘걷기,온몸근육풀기,온몸근육풀기+마라톤운동,온몸허리돌리기,윗몸일으키기,인디아나 브릿지,자유철봉,정글로프,지압보도,체스 브릿지,콤플렉스 래더,평행봉,플라이 짚,하늘걷기,', '농구대,온몸근육풀기,온몸허리돌리기,철봉,하늘걷기', '발바닥지압걷기,어깨근육풀기,옆파도타기,온몸노젓기,온몸역기내리기,온몸허리돌리기', '생활체육시설 B,생활체육시설 C,생활체육시설 D', '생활체육시설 A,생활체육시설 E,생활체육시설 F', '마라톤운동기,매달려온몸회전하기,발바닥지압걷기,온몸노젓기,온몸역기올리기', '등허리지압기,발바닥지압걷기,어깨근육풀기,온몸역기내리기,온몸허리돌리기,윗몸일으키기', '다리뻗치기,어깨근육풀기,옆파도타기,온몸허리돌리기,하늘걷기', '벤치프레스,어깨근육풀기,옆파도타기,오금펴기,온몸허리돌리기,윗몸일으키기,하늘걷기', '다리뻗치기,등허리지압기,옆파도타기,온몸근육풀기,온몸역기내리기,온몸허리돌리기', '마라톤운동기,온몸역기내리기,하늘걷기', '다리뻗치기,다목적 운동장,등허리지압기,마라톤운동기,하늘걷기', '옆파도타기,윗몸일으키기,하늘걷기', '손잡이 평행대,온몸역기내리기,온몸허리돌리기,철봉,하늘걷기', '마라톤운동기,배드민턴장,배드민턴지주대,옆파도타기,온몸근육풀기,온몸역기올리기,온몸허리돌리기,윗몸일으키기,하늘걷기', '온몸역기내리기,온몸허리돌리기,하늘걷기', '온몸허리돌리기,철봉,평행봉', '어깨근육풀기,옆파도타기,온몸노젓기,온몸역기올리기,온몸허리돌리기,윗몸일으키기,족구대,족구장,하늘걷기', '마라톤,역기올리기,옆파도타기,온몸근육풀기,온몸역기내리기,온몸허리돌리기,윗몸일으켜기,자유철봉,하늘걷기', '배드민턴지주대,벤치프레스,어깨근육풀기,옆파도타기,온몸허리돌리기,윗몸일으키기,평행봉,하늘걷기', '어깨근육풀기,역기올리기,온몸허리돌리기,하늘걷기,허리펴기', '마라톤운동기,어깨근육풀기,옆파도타기,온몸역기내리기,온몸역기올리기,온몸허리돌리기,윗몸일으키기,평행봉,하늘걷기', '옆타도타기,온몸허리돌리기,하늘걷기', '옆파도타기,온몸허리돌리기,윗몸일으키기,전신달리기,전신올리기,하늘걷기', '옆파도타기,온몸역기올리기,온몸허리돌리기,하늘걷기', '옆파도타기,온몸근육풀기,하늘걷기', '다리뻗치기,마라톤운동기,옆파도타기,온몸근육풀기,온몸노젓기,평행봉,하늘걷기', '양팔줄당기기,어깨근육풀기,옆파도타기,온몸허리돌리기,윗몸일으키기,하늘걷기', '마라톤운동기,배드민턴장,배드민턴지주대,어깨근육풀기,옆파도타기,온몸역기올리기,온몸허리돌리기,지압보도,하늘걷기', '마라톤운동기,온몸허리돌리기', '마라톤운동,어깨근육풀기,허리돌리기', '고무칩포장,마라톤운동기,어깨근육풀기,온몸허리돌리기,윗몸일으키기,철봉', '어깨근육풀기,옆파도타기,온몸허리돌리기', '어깨근육풀기,온몸허리돌리기,윗몸일으키기,하늘걷기', '마라톤운동기,배드민턴장,배드민턴지주대,온몸허리돌리기,자유철봉,하늘걷기', '어깨근육풀기,옆파도타기,온몸역기내리기,온몸허리돌리기,윗몸일으키기,전신사이클,하늘걷기', '마라톤운동기,온몸허리돌리기,자유형철봉,하늘걷기', '3단 다리걸치기,3단 철봉,배드민턴 네트대,배드민턴장,온몸허리돌리기,윗몸일으키기,평행봉', '농구대,어깨근육풀기,옆파도타기,온몸근육풀기,온몸허리돌리기,윗몸일으키기,족구대,족구장', '게이트볼장,다목적 운동장,등허리지압기,발바닥지압걷기 ,어깨근육풀기,온몸노젓기,온몸역기내리기,온몸허리돌리기,하늘걷기', '다리뻗치기,등허리？히기,등허리지압기,마라톤운동기,양팔줄당기기,어깨근육풀기,온몸노젓기,온몸역기내리기,온몸허리돌리기,윗몸일으키기,하늘걷기', '농구대(이동식),농구장,등허리근육풀기,마라톤운동기,배드민턴장,배드민턴지주대,온몸근육풀기,온몸노젓기,온몸역기올리기,족구네트,족구장,족구지주,축구대,축구장,하늘걷기', '다리올리기,등허리펴기,말뚝건너기,사다리오르내리기,옆파도타기,온몸노젓기,온몸역기올리기,온몸허리돌리기,자유평행봉,평행봉,하늘걷기', '어깨근육풀기,옆파도타기,온몸근육풀기,온몸허리돌리기,윗몸일으키기,축구대,축구장,풋살골대', '배드민턴대,배드민턴장', '게이트볼장,농구대,등허리지압기,어깨근육풀기,온몸매달려돌기,온몸역기내리기,온몸역기올리기,온몸허리돌리기,족구대,족구장,축구대,축구장', '농구대(이동식),농구장', '농구대,미니축구대,심판대,야구장,야구장 기록실,온몸허리돌리기,족구대,축구대,테니스 네트대,테니스장,테니스장 라카룸', '등허리지압기,온몸근육풀기,온몸노젓기,온몸역기내리기,온몸역기올리기,윗몸일으키기,하늘걷기,허벅지근육풀기', '3단 다리올리기,3단 철봉,3단건너기,게이트볼 컨테이너,게이트볼장,구름다리,다리근육풀기,배드민턴 네트대,온몸근육풀기,온몸허리돌리기,윗몸일으키기,지압길 포장,평균대,평행봉,하늘걷기', '농구대,다리뻗치기,등허리지압기,땅고르개,링 매달리기,미니축구대,보조골대,사다리오르기,어깨근육풀기,어깨당기기,온몸근육풀기,온몸노젓기,온몸역기내리기,온몸허리돌리기,윗몸일으키기,점수판,족구대,족구장,축구대,축구장,풋살장,하늘걷기', '농구장+풋살장,등허리지압기,마라톤운동기,배드민턴장,배드민턴지주대,벽걸이농구대,옆파도타기,온몸근육풀기,온몸역기올리기,풋살골대,하늘걷기', '등허리지압기,마라톤운동기,온몸근육풀기,온몸노젓기,온몸역기내리기,온몸역기올리기,윗몸일으키기,하늘걷기,허벅지근육풀기', '3단 다리걸치기,3단 철봉,다리뻗치기,등허리지압기,마라톤운동기,온몸근육풀기,온몸노젓기,온몸역기내리기,온몸역기올리기,온몸허리돌리기,윗몸일으키기,자유철봉,지압길 포장,평행봉,하늘걷기,허리젖히기', '2단 철봉,마라톤운동기,배드민턴 네트대,배드민턴장,심판의자,어깨근육풀기,옆파도타기,온몸역기내리기,온몸역기올리기,온몸허리돌리기,윗몸일으키기,자유평행봉,족구(테니스)네트대,족구장,테니스장,테니스장 가림막,팔굽혀피기,하늘걷기', '3단 철봉,농구대,벤치프레스,오르기기구,온몸허리돌리기,윗몸일으키기,족구 네트대,족구장', '다리근육풀기,다리뻗치기,등허리지압기,마라톤운동기,어깨근육풀기,옆파도타기,온몸근육풀기,온몸역기올리기,온몸허리돌리기,윗몸일으키기,자유철봉,지압길 포장,평행봉,하늘걷기', '등허리지압기,온몸근육풀기,온몸허리돌리기,하늘걷기', '농구대,등허리지압기,온몸근육풀기,온몸허리돌리기,원형발바닥지압걷기,정구대,정구장', '마라톤운동기,발바닥지압대,옆파도타기,온몸근육풀기,온몸노젓기,온몸허리돌리기,하늘걷기', '마라톤운동기,온몸근육풀기,하늘걷기', '배드민턴장,배드민턴지주대,옆파도타기,온몸근육풀기,온몸허리돌리기,하늘걷기', '고무칩포장,다리근육풀기,어깨근육풀기,온몸허리돌리기', '온몸허리돌리기,철봉 대형,철봉 소형,평행봉', '고무매트포장,옆파도타기,온몸역기내리기,하늘걷기', '옆파도타기,온몸허리돌리기', '자유철봉기,하늘걷기', '농구대,배드민턴장,배드민턴지주대,온몸허리돌리기,철봉,평행봉,하늘걷기,허리다리뻗기', '마라톤운동기,배드민턴장,배드민턴지주대,온몸노젓기,하늘걷기', '발바닥지압걷기', '마라톤,어깨근육풀기,옆파도타기,온몸돌리기(3인용),하늘걷기', '농구대,농구장,배드민턴대,배드민턴장', '등허리지압기,마라톤달리기,배드민턴장,배드민턴지주대,어깨근육풀기,옆파도타기,온몸노젓기,하늘걷기', '다리 근육풀기(철봉형),평행봉', '농구장+풋살장,다리근육풀기,벽걸이농구대,온몸노젓기,온몸역기올리기,온몸허리돌리기,인라인(스케이트보드)장,인라인시설 大,인라인시설 小,인라인평균대,풋살장펜스(의자일체형)', '농구대, 게이트볼장', '농구장, 축구장', '전통그네', '베트민턴장, 게이트볼장', '자가발전(허리돌리기, 근육풀기, 자전거)', '롤링웨이스트, 체어웨이스트, 터닝트위스트,워밍암, 풀웨이트', '터닝트위스트, 워밍암, 풀웨이트', '스트레칭로라, 트윈워밍암, 풀웨이트', '철봉, 농구대', '풋살경기장, 게이트볼장', '허리돌리기, 파도타기, 역기내리기, 공궁걷기', '등허리지압기, 옆파도타기, 역기내리기, 어깨근육풀기', '역기내리기, 허리돌리기, 파도타기', '허리돌리기, 다리들어올리기, 팔운동기구', '허리돌리기, 다리펴기, 팔매달리기', '농구장, 족구장, 배드민턴장', '롤링웨이스트, 체어웨이스트, 크로스컨트리, 입식싸이클', '역기내리기, 공중걷기, 파도타기, 등허리지압기, 어깨유연성운동, 허리돌리기', '허리펴기, 허리돌리기, 좌우뛰기, 평형잡기등', '인라인스케이트장, 농구장 등', '허돌리기, 차도타기, 역기내리기, 공중걷기, 등허리지압기', '허리돌리기, 역기내리기,공중걷기,등허리지압기', '축구장, 농구장 등', '이동식 농구대1개, 운동기구 5개소', '이동식 농구대 1개, 운동기구 6개소', '이동식 농구대1개, 운동기구 7개소', '이동식농구대1개, 운동기구 4개소', '운동기구 3개소', '운동기구 4개소', '농구장 1개소, 배드민턴장 13, 게이트볼장 1개소. 체력단련시설 25개소 189기 등', '배드민턴장 2개소, 체력단련시설 6개소 36개', '배드민턴장 1개소, 농구장 1개소, 체력단련시설 3개소 29개', '다목적체육관 1동, 체력단련시설 1개소 4개', '배드민턴장 1개소, 농구정 1개소, 체력단련시설 1개소 7개', '농구장 1개소, 체력단련시설 1개소 5개', '체력단련시설 1개소 4개', '체력단련시설 1개소 3개', '없음', '배드민터장 1개소, 체력단련시설 1개소 6개', '족구장 1개소, 농구장 1개소, 체력단련시설 1개소 5개', '체력단련시설 1개소 6개', '체력단련시설 1개소 2개', '체력단련시설 1개소 7개', '체력단련시설 1개소 7개, 농구장 1개소', '운동장 1개소, 체력단련시설 1개소 4개', '체력단련시설 1개소 5개', '체력단련시설 2개소 5개', '체력단련시설 1개소', '풋살장, 농구장, 그라운드골프장, 운동기구', '배드민턴장1, 체력단련시설9', '배드민턴장6, 체력단련시설303', '체력단련시설6', '체력단련시설12', '체력단련시설7', '배드민턴장1, 체력단련시설30', '체력단련시설10', '체력단련시설3', '체력단련시설4', '체력단련시설1', '체력단련시설8', '체력단련시설5', '체력단련시설2', 'x-game장', '축구장, 게이트볼장, 테니스장', '농구장/풋살경기장/ 체육시설/인라인트랙', '체육시설', '축구장/ 테니스장/ 체육시설', '야구장. 운동장. 족구장', '테니스장/ 배드민턴장/ 체육시설', '체육시설/ 농구장', '인라인트랙', '다목적운동장/ 체육시설', '체육시설/인라인스케이장/ 농구장', '체육시설/ 축구장', '체육시설물. 농구대', '체율시설물', '족구장. 농구대. 체육시설물', '배드민턴장/ 체육시설', '파크골프장, 수영장, 양궁장', '농구장, 족구장', '축구장, 인공암벽장', '생활체육운동기구6종 ,배드민턴장', '농구대2EA', '생활체육운동기구3종', '생활체육운동기구5종', '농구대1EA, 철봉2EA, 생활체육운동기구1종', '생활체육운동기구2종', '축구장1면, 테니스장4면, 게이트볼장, 암벽장', '생활체육시설3종', '다목적운동장, 농구장2EA, 게이트볼장, 생활체육시설3EA, 배드민턴장', '농구장1면, 게이트볼장, 인라인스케이트장, 풋살장1면, 생활체육운동기구5종', '풋살장2면, 족구장1면, 농구대2EA, 생활체육운동기구2종', '풋살운동장', '배드민턴장, 궁도장', '축구장, 테니스장, 족구장, 농구장, 게이트볼장', '배드민턴장,족구장,농구장', '배드민턴장,족구장,축구장', '배드민턴장,족구장,축구장,농구장', '배드민턴장,족구장', '배드민턴장, 족구장, 테니스장', '배드민턴장,농구장,게이트볼장', '배드민턴장,게이트볼장', '배드민턴장,농구장,멀티코트,파크골프장,족구장', '배드민턴장,농구장,게이트볼장,씨름장,러버가든', 'N', '테니스장,배드민턴장', '농구장,배드민턴장,게이트볼장', '체력단련기구', '미로길', '운동장, 배드민턴장, 게이트볼장 등', '다목적 인조잔디마당', '테니스장, 배드민턴장 등', '테니스장 등', '축구장+배드민턴장+농구장', '배드민턴장+농구대', '다목적운동장+배드민턴장+농구장', '농구대 2점', '농구대 외 1종 2점', '농구대 1점', '족구장,농구장', '축구장, 인라인스케이트장, 밸런스바이크장', '게이트볼장,농구장,운동장,인조잔디구장', '소운동장', '배드민턴,다목적구장,농구대', '농구장,축구장,테니스장', '축구장,테니스장', '운동장,체육시설', '배드민턴,족구,농구장,운동장,테니스장,풋살', '배드민턴장(족구장겸용)', '게이트볼장,농구장,배드민턴장,테니스장', '체육시설,농구대', '골프연습장,농구장,테니스장,인조잔디구장', '간이체육시설,산책로,자전거도로', '풋살장, 간이운동시설', '배드민턴장, 온몸근육풀기, 허리돌리기, 파도타기', '윗몸일으키기, 파도타기, 허리돌리기, 온몸근육풀기', '온몸근육풀기, 허리돌리기, 파도타기, 공중걷기', '축구장,배드민턴장,테니스장', '배드민턴장, 족구장', '테니스장, 족구장, 운동기구', '족구장, 운동기구', '풋살장, 배구장', '배구장', '테니스장, 게이트볼장', '유소년축구장, 축구장관리실', '유소년축구장', '인라인장, 운동기구', '농구장, 족구장, 운동기구', '농구장, 배드민턴장, 족구장, 운동기구', '농구장, 배드민턴장, 운동기구', '윗몸일으키기 1, 수평대 1, 다리말아올리기 1, 몸체말아올리기 1, 허리돌리기 1, 의자겸팔굽혀펴기 1, 족구장 1, 농구대 1, 철봉 1, 어깨근육풀기 1, 허리돌리기+파도타기 1, 윗몸일으키기+공중걷기 1, 평행봉 1', '공중걷기 1, 파도타기 1, 어깨근육풀기 1, 윗몸일으키기 1', '허리돌리기 1, 윗몸일으키기 1, 팔굽혀펴기 1, 철봉 1, 평형대 1', '허리돌리기 1, 파도타기 1, 농구대 2', '역기내리기 1, 달리기 1, 하늘걷기 1, 파도타기 1', '허리돌리기 1, 파도타기 1', '허리돌리기 1, 공중걷기 1', '씨름경기장 1', '허리돌리기 1, 공중걷기 1, 파도타기 1', '평행봉 1, 윗몸일으키기 1, 달리기 2, 허리돌리기 2, 파도타기 1, 공중걷기 1, 노젓기 1, 역기내리기 1, 어깨근육풀기 1', '공중걷기+파도타기 1, 오금펴기+허리돌리기 1, 어깨근육풀기 1', '파도타기 1, 허리돌리기 1, 공중걷기 1, 윗몸일으키기 1, 오금펴기 1, 등허리지압기 1', '파도타기 1, 공중걷기 1, 어깨근육풀기 1, 허리돌리기 1', '어깨유연성운동 1, 공중걷기 1, 등허리지압기 1, 허리돌리기 1, 달리기운동 1, 역기내리기 1', '어깨유연성운동 1, 공중걷기 1, 자전거타기 1, 허리돌리기 1', '파도타기 1, 윗몸일으키기 1, 공중걷기 1, 어깨근육풀기 1, 허리돌리기 1', '허리돌리기+어깨근육풀기 1, 파도타기 1, 윗몸일으키기 1, 공중걷기 1', '농구장,', '인라인', '족구장, 베드민턴장, 농구장', '농구장, 족구장, 베드민턴장', '운동시설 5종', '운동시설 7종', '운동시설 9종', '운동시설 10종', '베드민턴장, 운동시설 3종', '운동시설 4종', '농구장, 운동시설 5종', '농구장, 운동시설 7종', '게이트볼장, 운동시설 5종', '운동시설 3종', '농구장, 운동시설 10종', '운동시설 16종', '운동시설 2종', '운동시설 1종', '농구장1', '배드민턴장1', '농구장1,배구장1,족구장1', '게이트볼장1', '축구장1,농구장1', '게이트볼장1,운동기구10', '대성묘지', '운동기구, 농구장', '운동기구, 족구장', '미집행', '조성중', '다목적구장 등', '족구장 등', '축구장 등', '운동기구 7개', '운동기구 8개소', '농구대1,운동기구5개', '농구대1,운동기구6개', '농구대1,운동기구7개', '농구대1,운동기구4개', '운동기구 4개', '운동기구 5', '족구장,운동기구', '운동기구 4, 철봉 2', '야외운동기구 10', '야외운동기구 6', '야외운동기구 4', '축구장 1, 다목적구장 2, 야외운동기구 13', '야외운동기구 4, 축구장(인조)1, 배구장 1, 족구장 1', '테니스장 1, 야외운동기구 1', '풋살 1, 족구장 2', '테니스장 1,', '야외운동기구 3', '야외운동기구 3, 농구장 1', '야외운동기구 3, 게이트볼장', '축구장1, 게이트볼장1,  파크골프장1, 실내체육관1, 체력단련실 1, 실내수영장1, 야외농구장 1, 야외운동기구 1식', '야외운동기구 6, 농구장 1', '축구장 1, 족구장1, 농구장 1,  야외운동기구 10', '축구장 1, 그라운드골프장 1, 야외운동기구 11', '배드민턴장 1, 야외운동기구 4', '야외운동기구 7', '야외운동기구 18', '야외운동기구 12', '야외운동기구 14', '지압로 32㎡', '지압로 23㎡', '등의자 6', '족구장, 농구장', '정구장,육상트랙,축구장', '풋살장,론볼장게이트볼장', '산책데크시설', '배드민턴장,운동기구', '다목적구장운동기구', '체육시설지구', '축구장,테니스장,파크골프장,산악자전거,체육관', '게이트볼장,족구장,농구장,운동기구', '축구장,테니스장,운동기구', '배드민턴장,체육시설지구족구장', '스포츠센타,게이트볼장,테니장,국궁장,다목적체육관', '다목적운동장, 체련단련장', '족구장,배드민턴장', '배드민턴,탁구,헬스,정구', '헬스,배드민턴,궁터', '운동장,배드민턴', '축구장 2, 족구장 18, 조정경기장 1', '엑스게임장 1', '배드민턴장 2, 농구장 1', '배드민턴장 3, 게이트볼장 1', '농구장 1', '게이트볼장 1', '배드민턴장 게이트볼장 족구장', '실내배드민턴장, 구민운동장, 다목적체육관, 골프연습장', '운동기구 1식', '체력단련장, 농구장, 족구장, 배드민턴장, 풋살장, 발맛사지장', '허리돌리기 1대윗몸일으키기 1대오금펴기 1대파도타기 1대공중걷기 1대역기올리기 1대달리기운동 1대', '14', '30', '13', '40', '17', '사격장', '철봉 등 6종', '철봉 2', '간이운동시설 17, 야외농구대 1', '야외운동기구 5', '체력단련시설 4', '트윈트위스트2,바웨이트2', '트윈트위스트2,트윈바디싣업1,트윈워밍암2,레그프레스1,크로스컨트리1,스텝싸이클1,워밍암1,풀웨이트1', '파워프레스6,풀웨이트3,러닝싸이클4,레그프레스2,트위스트8,바디싣업2,', '풀웨이트1,파워프레스1,트위스트1,', '배드민턴코트2,푸쉬웨이트1,터닝암1,파워프레스+풀웨이트1,', '농구대6,스트레칭로라3,크로스컨트리4,체어웨이트2,스텝싸이클4,체어풀3,워밍암3,트윈바디싣업5,풀웨이트5,트윈트위스트2,바웨이트2,레그프레스2,트윈워밍암1,', '달리기1,온몸당기기1,팔올리기1,어깨근육1,좌우흔들기1,다리걷기1,등허리안마1', '스트레칭로라1,크로스컨트리2,스텝싸이클2,워밍암2,풀웨이트3,', '달리기1,팔올리기2,팔내리기1,어깨근육1,다리밀기1,좌우흔들기2,다리걷기1,허리돌리기1,등허리안마1,온몸근육1', '온몸노젓기1, 하늘걷기1, 옆파도타기1, 온몸허리돌리기1, 등허리지압기, 1', '다리뻗치기1, 온몸근육풀기1, 온몸허리돌리기1, 등허리지압기1, 옆타도타기1', '크로스컨트리1,스텝싸이클1,워밍암1', '크로스컨트리2,체어웨이트1,체어풀1,트윈바디싣업1,풀웨이트2,', '배드민턴네트및포스트1,스트레칭로라1,크로스컨트리1,체어웨이트1,스텝싸이클2,체어풀1,워밍암2,트윈바디싣업1,풀웨이트1', '크로스컨트리1,체어풀1,워밍암1,', '생활체육시설4, 배드민턴장1', '풋살구장, 농구장, 인라인스케이트장', '지압보도', '농구장 1면, 마라톤 1면, 게이트볼장 1면, 테니스장 1면, 다목적구장 1면', '농구대 2개', '농구대 1개, 지압보도', '농구대 1개', '족구장 1면', '정구장1, 지압보도1,', '게이트볼장1, 축구장1, 테니스장1, 족구장1,', '다목적구장1', '농구장, 배드민턴장, 족구장, 테니스장, X게임장', '농구장, 배드민턴장, 족구장, 인라인스케이트장', '농구장, 배드민턴장, 족구장, 축구장, 테니스장', '족구장 1면, 배더민턴장 2면', '농구장 1면', '테니스장 3면, 배더민턴장', '농구장 1면, 족구장 1면, 배더민턴장 2면, 인라인스케이트장', '족구장 1면, 정구장 3면', '배더민턴장 1면', '게이터볼장 1면', '족구장 1면, 배더민턴장 1면', '농구장 1면, 족구장 1면, 배더민턴장 1면', '농구장 1면, 족구장 2면, 테니스장 1면, 배더민턴장 2면', '게이트볼장, 배드민턴장, 족구장', '족구장, 배드민턴장, 운동장', '풋살경기장, 축구장, 농구장', '농구장 1면, 파크골프장1면, 게이트볼장1면, 테니스장1면, 다목적구장1면, 지압보도', '마라톤 1면', '농구대 2개, 마라톤, 지압보도', '농구대 4개, 지압보도', '농구장 1면, 마라톤 1면, 인라인스케이트장 1면, 게이트볼장 1면, 테니스장 1면, 미니축구장 1면', '베드민턴장 등', '농구장, 베드민턴장 등', '축구장, 농구장, 베드민턴장 등', '인라인장, 베드민턴장 등', '게이트볼장, 농구장 등', '운동장, 수영장, 야외운동시설', '베드민턴장, 야외운동시설', '베드민턴장, 테니스장, 야외운동시설 등', '테니스장, 야외운동시설', '게이트볼장, 야외운동기구', '농구장, 족구장, 인라인스케이트장', '농구장, 베드민턴장, 다목적구장', '온몸근육풀기외 2종', '온몸노젓기외 4종', '양팔줄당기기외 10종', '오팔펴기 외 19종', '달리기 외 7종', '하늘걷기 외 3종', '배드민턴지주 등', '하늘걷기 외 8종', '하늘걷기 외 7종', '크로스켠트리외 3종', '윗몸일으키기외 2종', '평행봉 외 9종', '배근력대 외 2종', '배근력대 외 4종', '크로스켠트리 외 12종', '농구대 외 16종', '농구대 외 2종', '평행잡기 외 13종', '배드민턴네트 외 7종', '2단철봉 외 12종', '평행봉 5종', '3단철봉 7종', '허리돌리기 외 4종', '옆파도 외 6종', '3단 철봉 외 3종', '양팔줄당기기2인 외 1종', '배드민턴장 외 3종', '3단철봉 외 6종', '평행봉 외 8종', '배드민턴 외 9종', '어깨근육2인 외 3종', '양팔줄당기기 외 6종', '평행봉 외 7종', '3단철봉 외 1종', '윗몸일으키기 외 12종', '평행봉 외 6종', '윗몸일으키기 외 3종', '거꾸리 외 7종', '어깨근육풀기 외 3종', '농구대 등', '온몸허리돌리기 외 15종', '3단철봉 외 2종', '어께근육풀기 외 7종', '양팔줄당기기 외 7종', '윗몸일으키기 외 7종', '하체흔들기 외 3종', '3단철봉 등', '온몸허리돌리기 외 9종', '윗몸일으키기 외 10종', '평행봉 외 2종', '족구지주 외 3종', '허리돌리기 외 2종', '배드민터코트 외 4종', '농구대 외 4종', '배근력대 외 3종', '어깨근육풀기 외 2종', '배드민턴 지주대  등', '하체흔들기 외 12종', '양팔줄당기기외 5종', '하체흔들기 외 7종', '허리돌리기 외 8종', '온몸근육풀기 외 20종', '에어서핑, 노르딕머신+에어워킹, 트위스트, 워밍쇼울더, 바디싯업', '에어워킹, 에어서핑, 바디싯업', '에어워킹, 트위스트+바디싯업, 마사지롤라, 에어서핑', '노르딕머신, 마사지롤라, 트위스트, 에어서핑, 에어워킹, 워밍쇼울더', '레그프레스, 워밍암, 트윈트위스트, 에어서핑, 마사지롤라, 에어워킹, 노르딕머신, 오리다리펴기+흔들코끼리, 캥거루허리돌리기+흔들코끼리, 사자스텝퍼+오리다리펴기', '스트레칭롤라, 트윈바디싯업, 워밍암, 체어웨이트, 트윈트위스트, 롤링웨이스트, 크로스컨트리', '마사지롤라, 트위스트, 캥거루허리돌리기+흔들코끼리, 사자스텝퍼+오리다리펴기, 오리다리펴기+흔들코끼리, 에어워킹, 노르딕머신, 워밍쇼울더, 에어서핑, 레그프레스', '트윈바디싯업, 에어서핑, 노르딕머신, 사자스텝퍼+흔들코끼리, 캥거루허리돌리기+오리다리펴기, 흔들코끼리, 마사지롤라, 트윈트위스트, 워밍암, 에어워킹', '하늘걷기, 등허리지압기, 에어서핑2, 에어워킹, 트위스트', '온몸허리돌리기, 옆파도타기, 하늘걷기', '트위스트, 워밍쇼울더, 에어서핑, 철봉, 평행봉', '트위스트, 에어워킹, 에어서핑', '마라톤운동, 옆파도타기, 온몸허리돌리기', '크로스컨트리, 트윈바디싯업, 트윈트위스트, 스트레칭로라, 레그프레스, 롤링웨이스트, 워밍암', '에어워킹, 싸이클링, 에어서핑, 체어웨이트, 풀웨이트, 스트레칭로라, 레그프레스, 하체마사지기, 좌식자전거, 트윈전신지압기, 전신스트레칭머신', '풀웨이트, 트윈트위스트, 워밍암, 크로스컨트리', '워밍쇼울더, 사이클링, 에어워킹, 마사지롤라, 트위스트', '해당없음', '트윈트위스트, 싸이클링, 워밍쇼울더', '에어워킹, 워밍쇼울더, 에어서핑, 로우잉머신', '자전거발전기, 근육풀기발전기, 허리돌리기발전기, 파도타기발전기', '롤링웨이스트, 바디싯업, 체어풀, 스트레칭롤라, 체어웨이트, 워밍암', '트위스트, 마사지롤라, 에어워킹, 싸이클링, 워밍쇼울더, 로우잉머신, 노르딕머신', '스트레칭롤라, 롤링웨이스트, 트윈트위스트, 풀웨이트, 크로스컨트리', '크로스컨트리, 풀웨이트, 트위스트', '트윈바디싯업, 스트레칭롤라, 롤링웨이스트, 트윈트위스트, 크로스컨트리, 체어웨이트', '워밍쇼울더, 에어서핑, 체어웨이트', '레그프레스, 워밍암, 스텝사이클, 롤링웨이스트, 체어풀', '스트레칭롤러, 트윈트위스트, 레그프레스, 크로스컨트리, 풀웨이트', '25', '29', '71', '배드민터장, 운동기구3종', '운동기구 9종', '운동기구 16종', '테니스장, 베드민턴장, 게이트볼장, 농구장', '배드민턴장, 족구장, 체력단련시설', '체력단련시설, 배드민턴장, 풋살장, 게이트볼장, 인라인장, 농구장, 인공암벽, 파크볼장', '체련단련시설', '좌식사이클, 배드민턴장', '풀웨이트', '체어웨이트', '배드민턴, 체력단련시설', '게이트볼장, 농구장, 배드민턴장', '체력단련시설, 족구장, 배드민턴장', '체력단련시설, 지압보도', '좌식사이클', '트리플트위스트, 스텝사이클', '허리돌리기, 마라톤운동, 몸통돌리기', '전신하늘걷기, 다리쭉뻗치기', '온몸역기내리기, 등허리지압기, 온몸역기올리기', '온몸노젓기, 등허리지압기, 어깨근육풀기, 마라톤운동, 하체근육운동, 하늘걷기', '축구장, 족구장겸농구장, 육상트랙', '농구장, 다리말아올리기, 몸체말아올리기, 윗몸일으키기, 허리돌리기, 역기대, 의자겸팔굽혀펴기', '팔굽혀펴기, 허리돌리기, 배드민턴코드, 철봉, 인라인트랙, 자전거발전기', '복합형운동기구, 온몸노젓기', '플웨이트, 스텝사이클, 크라임스템퍼', '에어로빅장, 농구장', '테니스장, 씨름장, 농구장', '그라운드골프장', '축구장, 테니스장', '게이트볼, 농구, 테니스, 풋살, 족구', '테니스, 운동기구', '배드민턴장,농구대,운동기구', '농구대,운동기구', '게이트볼구장,운동기구', '족구장,핸드볼장,농구대,운동기구', '축구장,농구대,운동기구', '배구장,운동기구', '농구대,배드민턴장,운동기구', '농구대,다목적구장,운동기구', '농구대,배드민턴장,게이트볼구장,운동기구', '빙상경기장,배드민턴장,운동기구', '족구장,농구대,운동기구', '다목적구장,운동기구', '배드민턴장,게이트볼구장,이라인스케이트장,운동기구', '배드민턴장,게이트볼구장,테니스장,운동기구', '농구대,배드민턴장,게이트볼구장,X게임장,운동기구', '배드민턴장,축구장,풋살구장', '배구장,족구장,축구장,운동기구', '농구대,게이트볼구장', '회전무대,정글집,농구대,배드민턴장,운동기구', '배구장,축구장,농구대,운동기구', '족구장,게이트볼구장,운동기구', '족구장,게이트볼구장,농구대,운동기구', '배드민턴장, 농구장,궁도장,양궁장', '다목적 운동시설', '국궁장, 체력단련시설, 배드민턴장', '체력단련시설, 배드민턴장, 족구장', '체력단련시설, 농구장, 게이트볼장', '체육시설5', '체육시설4', '체육시설8, 농구대2', '체육시설6, 풋살구장1', '체육시설8', '체육시설2', '풋살구장1', '체육시설11, 미니골대2', '체육시설5, 농구대1, 풋살구장1', '다목적구장1, 농구대1, 체육시설16', '체육시설3', '체육시설6', '체육시설6, 농구대1', '체육시설10', '체육시설물4', '체육시설물9', '체육시설물3', '바디싣업1,스트레칭롤러1,전신돌리기1,허리안마기1,허리비틀기1', 'TM스탭사이클1,TM체어웨이트1,TM트윈바디싣업1,TM트윈트위스트1,TM크로스컨트리1,TM풀웨이트1', '철봉1', '하늘걷기1,마라톤운동1,허리돌리기1,3단철봉,윗몸일으키기1', '철봉1,팔굽혀펴기1,몸통돌리기1,허리좌우로흔들기1', '스트레칭롤러1,풀웨이트1,바웨이트1', '하늘걷기1,온몸허리돌리기1,스트레칭기1,거꾸로매달리기1', '하늘걷기1,온몸허리돌리기1,등허리지압기1,철봉3', '스탭싸이클1,풀웨이트1,트리플트위스트2,트윈바디싣업1,크로스컨트리1,스트레칭롤러1,트윈워밍암1', '하늘걷기2,스탭싸이클1,체어폴1,철봉1,트리플트위스트2,트윈바디싣업1', '윗몸일으키기1,온몸허리돌리기1,팔굽혀펴기1,다리뻗치기1,온몸허리돌리기1,거꾸로매달리기1', '하늘걷기1,온몸허리돌리기1,옆파도타기1', '크로스워킹+스카이워킹1,파워프레스+풀웨이트1,싸이클론+트위스트1,스탠드업+마사지롤1,사이드스윙+터닝암1,푸시웨이트+레그프레스1', '평행봉1', '트윈바디싣업1,트윈트위스트1,스탭싸이클1,크로스컨트리1,체어풀1', '크로스컨트리1,자전거팔뻗기2,등안마기1,트윈워밍암1,체어웨이트1,오버턴스트레칭1', '크로스컨트리1,롤링웨이스트1,레그프레스1,트윈트위스트1,체어웨이트1', '족구장1,역기1', '등지압기1,마라톤운동+공중걷기운동1,허리돌리기+온몸돌리기1, 온몸역기올리기+온몸근육풀기1', '트리플트위스트1,트윈바디싣업1,크로스컨트리1,체어웨이트1,롤링웨이스트1,레그프레스1,오버턴스트레칭1', '윗몸일으키기2,트리플트위스트2,평행봉1', '크로스컨트리1, 레그프레스1,체어웨이트1,롤링웨이스트1,트윈바디싣업1,레그스트레칭1', '크로스컨트리1,어깨근육풀기1,체어웨이트1,트윈바디싣업1(구형),트리플트위스트1(구형)', '헬스형 운동기구 등', '미끄럼틀, 그네 등', '게이트볼장, 풋살경기장', '조기체육장 등', '다목적운동장 등', '실내체육관, 인조잔디구장3, 풋살장, 체력단련장', '축구장, 농구장, 게이트볼장, 체력단련장', '테니스장, 축구장', '주민체육시설, 운동시설', '운동기구(18)', '배드민턴장(1), 운동기구(6)', '운동기구(4)', '운동기구(8)', '운동기구(5)', '농구대(1), 운동기구(5)', '운동기구(7)', '농구대(2), 풋살장(1), 운동기구(5)', '운동기구(6)', '농구대(1)', '농구대(1), 운동기구(6)', '운동기구(9)', '농구대(1), 운동기구(11)', '운동기구(11)', '농구대(1), 운동기구(10)', '운동기구(3)', '농구대(1), 운동기구(9)', '인라인스케이트장(1), 운동기구(5)', '농구대(2), 운동기구(6)', '농구대(2),운동기구(4)', '배드민턴장(2), 운동기구(4)', '게이트볼장(1), 운동기구(4)', '미니축구장(1)', '농구대(2), 운동기구(8)', '농구대(2)', '배드민턴장(1), 운동기구(10)', '농구대(1), 운동기구(19)', '운동기구(10)', '운동기구(20)', '풋살구장(1)', '배드민턴장(2), 운동기구(6)', '운동기구(1)', '씨름장(1), 운동기구(6)', '족구장(2), 배드민턴장겸농구장(1)', '국국장(1), 농구대(2), 운동기구(4)', '운동기구(2)', '체력단련시설, 농구장', '체력단련시설, 농구장, 배드민턴장, 축구장', '체력단련시설, 농구장, 배드민턴장', '배드민턴장, 농구장, 체력단련시설, xgame시설', '체력단련시설, 축구장, 배드민턴장', 'xgame시설', '체력단련시설, 농구장, 배드민턴장, 추구장', '파크골프장, 조깅트랙', '실내체육관, 테니스장, xgame시설', '체력단련시설, 다목적운동장', '스케이트장', '풋살구장외4종', '축구장 외 2종', '배드민턴장외2종', '축구,족구,테니스,게이트볼장', '풋살구장외2종', '야외헬스기구', '배드민턴장, 야외헬스기구', '멀티스포츠센터', '족구장, 야외헬스기구', '인라인스케이트장, 야외헬스기구', '배드민턴장_농구장', '다목적구장(농구_풋살)', '축구장_테니스_배드민턴장_다목적구장', '파크골프장_배드민턴장', '풋살장_게이트볼장', '배드민턴장_엑스게임장', '게이트볼장, 테니스장, 다목적구장', '배드민턴장, 농구장, 족구장', '축구장, 족구장, 농구장', '축구장, 족구장, 풋살장, 농구장', '배드민턴장, 테니스장', '배드민턴장, 족구장, 게이트볼장, 농구장 반코트', '배드민턴장, 지압보도', '체력단련', '철봉/팔굽혀펴기/평행봉/허리돌리기/배근력대', '스텝싸이클/체어플/트윈바디싣업', '역기내리기운동/역기올리기운동/노젓기운동/허리돌리기운동/양다리운동/옆파도타기운동/원그리기운동', '달리기/아래로당기기/앞으로밀기/체어풀/허리돌리기/공중걷기/윗몽일으키기/등허리지압기/하체흔들기/온몸근육풀기', '등허리지압기/온몸근육풀기', '마라톤운동/양다리운동/등허리근육풀기운동/옆파도타기운동', '회전놀이기구1개,흔들놀이기구5개,조합놀이대1개', '역기올리기운동/양다리운동/옆파도타기운동/원그리기운동', '노젓기운동/허리돌리기운동/양다리운동/옆파도타기운동/원그리기운동', '역기내리운동/역기올리기운동/양다리운동/옆파도타기운동', '역기내리기운동/역기올리기운동/양다리운동/옆파도타기운동/원그리기운동', '역기내리기운동/역기올리기운동/양다리운동/옆파도타기운동', '그네1개,흔들놀이기구6개,조합놀이대1개', '운동시설1', '운동시설6', '풋살장1', '농구대1, 운동기구6', '운동기구3, 베드민턴장1', '운동시설4', '체육시설7', '체육시설9', '체육시설3, 운동기구3', '체육시설8, 운동기구1, 농구대1', '체육시설4, 운동기구12', '체육시설6, 운동기구1, 농구대2', '체육시설5, 농구대1', '체육시설3, 운동기구2', '체육시설4, 철봉1', '체육시설3, 운동기구3, 농구대2조합놀이대1, 시소2, 철봉1', '체육시설5, 농구대2', '운동시설2', '배드민턴장, 농구장, 다목적 운동장', '축구장,배드민턴장', '배드민턴장,테니스장', '다목적운동장,농구장,배드민턴장', '게이트볼장,풋살경기장', '농구장,배드민턴장,역기,윗몸일으키기 등', '축구장,족구장,배드민턴장,농구장', '윗몸일으키기,팔굽혀펴기,철봉,평행봉', '농구장,배드민턴장,테니스장', '윗몸일으키기,허리돌리기', '농구장,배드민턴장,생활체육시설 등', '체력단련장,게이트볼장,인라인장', '농구장,생활체육시설 등', '철봉,평행봉', '게이트볼장,생활체육시설,철봉', '농구대,생활체육시설,철봉,평행봉', '게이트볼장,생활체육시설,윗몸일으키기,팔굽혀펴기', '철봉,생활체육시설,팔굽혀펴기', '조합놀이대,가위말차기', '농구대,철봉', '게이트볼장,테니스장,윗몸일으키기,평행봉,생활체육시설등', '농구장,테니스장,게이트볼장,윗몸일으키기,평행봉 등', '배드민턴장,생활체육시설', '게이트볼장,배드민턴장,농구장,철봉등', '농구대,생활체육시설', '농구대,철봉,평행봉', '생활체육시설,철봉,평행봉', '배드민턴장,생활체육시설 등', '농구대,배드민턴장,생활체육시설', '배드민턴장,농구대,생활체육시설,철봉', '운동기구14개, 농구장2개소, 족구장1개소', '운동기구6개, 족구장1개소', '운동기구10개', '운동기구4개', '운동기구7개', '체력단련시설 3기', '체육관(실내 배드민턴장) 1개동, 배드민턴장 2개소, 체력단련시설 23기', '체력단련시설 8기', '체력단련시설 4기', '운동장 1개소, 배드민턴장 3개소, 골프연습장 1개소, 체력단련시설 81기', '체력단련시설 2기', '배드민턴장 1개소, 체력단련시설 8기', '농구장 1개소, 배드민턴장 1개소, 체력단련시설 30기', '배드민턴장 1개소, 체력단련시설 5기', '배드민턴장 1개소, 체력단련시설 11기', '체력단련시설 6기', '다목적운동장 1개소, 배드민턴장 1개소, 체력단련시설 8기', '농구장 1개소', '체력단련시설 5기', '배드민턴장 1개소', '배드민턴장 1개소, 체력단련시설 3기', '간이운동기구', '간이운동기구 농구장', '간이운동기구 게이트볼장', '간이운동기구 족구장', '1.체스트업머신 2.트위스트머신 3.평행봉 4.철봉', '1.트위스트머신 2.원그리기머신 3.하늘걷기머신', '1.철봉 2.그네 3.시소 4.양회전운동머신 5.마라톤운동머신 6.노젖기운동머신 7.양다리운동머신 8.다리운동머신 9.옆회전운동머신', '1.앉아서팔올리기머신 2.역기내리기 머신 3.마라톤 머신', '1.철봉 2.체스트업머신 3.트위스트머신 4.평행봉', '1.철봉 2.역기 3.지압머신 4.하늘걷기머신 5.앉아서팔올리기머신 6.역기내리기 머신 7. 옆회전운동머신 8.마라톤머신 9.양회전머신 10.체스트업머신 11.원그리기머신 12.말타기머신 13.다리밀기머신 14.트위스트머신', '게이트볼장, 수영장', '야외체력단련기구', '체육관', '족구장  농구장', '공중가로젓기, 달리기, 역기밀기', '인라인스케이트장, 실내체육관, 축구장, 족구장, 테니스장', '베드민턴장,운동기구', '회전무대,정글집,농구대,베드민턴장,운동기구', '베드민턴장,농구대,운동기구', '농구대,베드민턴장,게이트볼구장,운동기구', '베드민턴장,게이트볼구장,이라인스케이트장,운동기구', '베드민턴장,게이트볼구장,테니스장,운동기구', '농구대,베드민턴장,게이트볼구장,X게임장,운동기구', '농구대,베드민턴장,운동기구', '베드민턴장,축구장,풋살구장', '야외운동기구 3, 농구대', '축구장, 족구장, 야외운동기구 10', '축구장, 야외운동기구 11', '배드민턴장, 야외운동기구 4', '지압로 1', '축구장, 풋살장, 야외운동기구 13', '빙상경기장,베드민턴장,운동기구', '운동공원 1개소, 체력단련시설 17개소', '농구장 1개소, 족구장 1개소, 운동기구 4개소', '체력단련장 1개소, 체력단련시설 6개소', '국궁장(영주정) 1개소, 체력단련시설 5개소', '국궁장 2동, 운동장 1기, 체력단련장 1기', '체력단련시설 4개소', '체력단련시설 3개소', '국궁장1 1개소, 국궁장2 1개소, 체력단력장1 1개소, 체력단련장2 1개소, 체력단련시설 19개소', '조성계획 미수립', '야외형 운동기구', '게이트볼장,야외형 운동기구', '옥외수영장, 실내수영장(아쿠아시스), 다목적운동장, 길거리농구장, 풋살경기장, 파크골프장', '축구경기장, 야구경기장, 수영장, 헬스장, 테니스장, 스쿼시장, 인라인장, 사격장, 궁도장, 론볼장', '체력단련장 3개소', '도시개발', '체육진흥', '관광개발', '양궁장', '자연체험장', '체력단련장, 다목적운동장, 게이트볼장 등', '어린이운동시설', '배드민턴장, 체력단련기구', '농구장, 체력단련기구', '배드민턴장, 족구장, 체력단련기구', '농구장, 배드민턴장, 체력단련기구', '축구장, 농구장, 배드민턴장, 게이트볼장, 체력단련기구', '테니스장, 배드민턴장, 골프연습장, 체력단련기구', '배드민턴장, 게이트볼장, 체력단련기구', '농구장, 게이트볼장, 체력단련기구', '운동장, 농구장', '체력단련장, 체력단련시설, 턱걸이, 윗몸일으키기, 팔굽혀펴기, 역기들기', '농구장, 게이트볼장, 체력단련시설', '다목적운동장, 농구장, 잔디볼링장, 배구장, 테니스장, 게이트볼장, 배드민턴장, 체력단련장', '다목적운동장, 농구장, 테니스장, 게이트볼장, 체력단련장, 조깅코스, 배드민턴장, 인라인스케이트장', '레일바이크, 이색자전거길', '배드민턴장6', '배드민턴장1, 게이트볼장1', '운동장1, 축구장2, 농구장2, 배구장1, 배드민턴장8, 기타4', '농구장1, 배드민턴장4', '축구장1, 농구장1, 배드민턴장3', '배드민턴장1, 기타1', '운동장1, 테니스장1, 축구장1, 배드민턴장2', '배드민턴장1, 게이트볼장1, 기타2', '배드민턴장2', '농구장1,게이트볼장1', '농구장1+운동기구5', '천연잔디구장, 육상트랙, 인조잔디구장, 중앙광장, 휘트니스센터 및 궁도장', '배드민턴장,다목적구장,농구장', '다목적 운동마당', '다목적 운동장', '테니스장, 배드민턴장', '체력단력장']\""
      ]
     },
     "execution_count": 80,
     "metadata": {},
     "output_type": "execute_result"
    }
   ],
   "source": [
    "# \"공원보유시설(운동시설)\"의 unique 값을 구하고 리스트 형태로 만듭니다.\n",
    "# 그리고 다시 str 형태로 변경하고 gym 이라는 변수에 담습니다.\n",
    "gym = df[\"공원보유시설(운동시설)\"].unique().tolist()\n",
    "gym =str(gym)\n",
    "gym\n"
   ]
  },
  {
   "cell_type": "code",
   "execution_count": 84,
   "metadata": {},
   "outputs": [
    {
     "data": {
      "text/plain": [
       "'[nan,,,배드민턴장,,농구장,,,,배드민턴장,,,,배드민턴장,,게이트볼장,,인라인스케이트장,,,,배드민턴장,,운동장,,농구장,,,,다목적운동장외,10종,,,,게이트볼장,,,,농구대,,,,배드민턴장,,게이트볼장,,,,롤러스케이트장,,,,다목적운동장,,,,운동장,,,,다목적광장,,체력단련시설,5종,,,,풋살경기장,,족구장,,게이트볼장,,,,체력단련장,,,,체력단련시설,,,,게이트볼장,농구장,,,,테니스장,,,,인조잔디구장,,,,천연잔디구장,,,,축구장,,농구장,,,,농구장,,,,운동장,,게이트볼장,,,,축구장,,테니스장,,다목적운동장,,,,다목적운동장,,테니스장,,배드민턴장,,,,배드민턴장,,게이트볼장,,농구장,,,,테니스장,,축구장,,다목적운동장,,,,궁도장,,테니스장,,,,체련단련장,,,,다목적운동장,,롤러스케이트장,,,,다목적운동장,,체력단련장,,,,야외헬스형운동기구,7개,,,,야외헬스형운동기구,3개,,,,야외헬스형운동기구,4개,,,,야외헬스형운동기구,6개,,,,야외헬스형운동기구,5개,,,,다목적구장,,,,테니스장,,암벽등반,,,,다목적운동장,,배구장,,,,배드민턴장,,골프연습장,,,,국궁장,,골프연습장,,,,체육시설물,,,,체력단련장,,배드민턴장,,,,체력단련장,,게이트볼잘,,,,생활체육시설지,,,,실내체육관,,체력단련장,,,,운동장,,배드민턴장,,,,놀이터,,,,게이트볼장,,배드민턴장,,,,운동체육시설,,,,테니스장,배구장,,,,체육센타,,게이트볼장,,,,배드민턴장4,,게이트볼장,,체력단련장,,,,노르딕머신외5종,,,,노르딕머신외,5종,,,,트위스트외3종,,,,평행봉,외7종,,,,싸이클링외,3종,,,,크로스컨트리외4종,,,,풋살경기장,,운동시설물,,,,운동시설지,,농구장,,,,철봉외6종,,,,철봉,외,8종,,,,팔굽혀펴기,외8종,,,,허리돌리기,외4종,,,,스트레칭로라외4종,,,,농구대외6종,,,,철봉외,7종,,,,0,,,,4,,,,7,,,,10,,,,5,,,,9,,,,4조8종,,,,6,,,,윗몸일으키기,외3종,,,,윗몸일으키기,외5종,,,,다리굽혀펴기,외3종,,,,크로스컨트리,외5종,,,,공중걷기,외2종,,,,게이트볼장,외6종,,,,에어서핑,외2종,,,,2,,,,11,,,,8,,,,6조8종,,,,2조3종,,,,3,,,,5조7종,,,,3조4종,,,,5조8종,,,,12,,,,10조12종,,,,5조9종,,,,11조14종,,,,개방형,체육관,,체력단련장,,축구장,,,,체력단련장(A~C),,다목적구장,,,,농구장,,배드민턴장,,,,운동공간,,,,족구장,,배구장,,,,배드민턴장,체력단련시설,,,,인라인스케이트장,,,,운동장,,족구장,,농구장,,,,체력단련시설,운동장,,,,축구장,체력단련시설,,,,실내배드민턴장,게이트볼장,체력단련시설,,,,농구장,,롤러스케이트장,,,,농구장,,스포츠파크,,,,배드민턴장,,인라인스케이트장,,,,축구장,,씨름장,,배구,,배스민턴,,,,축구장,,,,1,,,,야외헬스형운동기구,8개,,,,야외헬스형운동기구,2개,,,,야외헬스형운동기구,1개,,,,야외운동기구,,,,축구장,,테니스장,,배구,,배드민턴,,,,야외운동기구,,농구장,,배드민턴장,,,,야외운동기구,,게이트볼장,,,,다목적운동장,,야외운동기구,,,,야외운동기구,,배드민턴장,,,,농구장,체력단련시설,,,,다목적운동장,게이트볼장,인라인스케이트장,체력단련시설,,,,다목적운동장,,야외운동기구,,배드민턴장,,,,야외운동기구.,,,,-,,,,야외배드민턴장,체력단련시설,,,,오금펴기,외11종,,,,워밍업,외5종,,,,롤링웨이스트,외3종,,,,노르딕머신외,3종,,,,노르딕머신외,4종,,,,등치기,,,,크로스컨트리오,3종,,,,스텝싸이클외,7종,,,,하늘걷기,외2종,,,,에어워킹,외4종,,,,등펴기외,6종,,,,위밍쇼울더,외3종,,,,싸이클링,외5종,,,,온몸근육풀기,외2종,,,,노르딕머신,에어위킹,,,,레그프레스,외,5종,,,,에어서핑,외,2종,,,,스텝싸이클,등,3종,,,,워밍암,외4종,,,,트윈트위스트,외3종,,,,허리돌리기,외5종,,,,싸이클링,외,7종,,,,마레트골프장,,,,생활체육시설,,,,종합체육관,외3종,,,,농구장,외3종,,,,농구대,외5종,,,,마레트골프장,외,5종,,,,운동시설,,,,야외체육시설3,,,,야외체육시설4,,,,게이트볼장,외,4종,,,,게이트볼장,외3종,,,,철봉,외7종,,,,체력단련장,외2종,,,,야외체육시설,,,,운동시설물,외1종,,,,게이트볼장,외4종,,,,웨밍암,외4종,,,,서핑롤링머신,외2종,,,,지압보도외6종,,,,농구대외3종,,,,에어워킹,외2종,,,,어깨관절놀이,외2종,,,,어깨관절놀이,외3종,,,,농구대외,5종,,,,평행봉외,7종,,,,야외체육시설물,,,,윗몸일으키기외7종,,,,평행봉외1종,,,,스텝싸이클,등,5,,,,싸이클링,외,3종,,,,트위스트외,4종,,,,다목적구장외1종,,,,운동시설물,,,,축구장,외5종,,,,배드민턴장,외1종,,,,생활체육시설,외2종,,,,축구장,외4종,,,,평행봉,외2종,,,,스텝싸이클외4종,,,,농구대외,8종,,,,바디실업외,5종,,,,노르딕머신외1종,,,,베드민턴장외3종,,,,노르딕머신외2종,,,,허리돌리기외5종,,,,싸이클링,외,5종,,,,싸이클링,외2종,,,,싸아클링,외2종,,,,베드민턴및,포스트,,,,싸이클링외,6종,,,,미니축구장,,,,미니축구장,,농구장,,,,축구장,농구장,배구장,인라인장,,,,농구장,,게이트볼장,체력단련시설,,,,운동장,,게이트볼장,,체력단련장,,,,배드민턴장,,체력단련장,,,,배드민턴장,운동장,체력단련시설,,,,게이트볼장,,농구장,,족구장,체력단련시설,,,,실내,게이트볼장,체력단련시설,,,,배드민턴장,,야외헬스장,,,,농구장,,체력단련시설,,,,다목적운동장2,,인라인장,,축구장,풋살장,배드민턴장,,족구장,,게이트볼장2,농구장,체력단련시설,,,,다목적운동장,,생홀체육관,,배드민턴장,,,,게이트볼장,,농구대,,체력단련시설,,,,게이트볼장,,농구장,체력단련시설,,,,운동기구,5종,,,,운동기구,4종,,,,운동기구,6종,,,,운동기구,10종,,,,체력단련장,,체력단련시설,,국궁장,,,,농구장,,배드민턴장,체력단련시설,,,,배드민턴장,,체력단련시설,,,,배드민턴장,,다목적운동장,체력단련시설,,,,19,,,,잔디운동장,,,,축구장,풋살장,족구장,농구장,,,,족구장,,,,다목적운동장,족구장,축구장,,,,운동장,축구장,,배드민턴장,,,,농구대,1,,,,배드민턴장,1,,,,인라인장,,농구대,1,,,,운동기구2종,,,,운동장,,배구장,농구장,,,,농구대,2,,,,풋살구장,체력단련장,체육관,(게이트볼삭제요청),,,,운동장,,체력단련장,,,,게이트볼장,,운동기구,2종,,,,다목적운동장,수영장,실내베드민턴장,,웅동기구12종,,,,체력단련시설,8개,,,,게이트볼장,멀티코트,,,,운동장,게이트볼장,,,,체력단련장,배구장,게이트볼장,베드민턴장,,,,체력단련장,,다이나트랙,베드민턴장,,,,배드민턴장,,운동장,,,,다목적운동장,베드민턴장,체력단련장,,,,농구장,다목적운동장,운동기구,6종,,,,골프연습장,,눈썰매장,체력단련장,궁도장,실내베드민턴장,인라인스케이트장,,,,농구장,족구장,,,,운동기구,8,,,,운동기구,3,,,,운동기구,9,,,,체력단련시설,운동장(농구대),,,,실내다목적체육관,체력단련시설,,,,야외헬스형운동기구,21개,,,,야외헬스형운동기구,20개,,다목적운동장,,조깅트랙,,,,배드민턴장,,게이트볼장,,야외헬스형,운동기구,98개,,,,야외헬스형운동기구,14개,,,,야외헬스형운동기구,25개,,,,테니스장,,골프장,,승마장,,,,벤치,,,,실내체육관,,,,생활운동시설,,,,축구장,실내배드민턴장,체력단련시설,,,,하늘걷기,마라톤운동,,,,하늘걷기,,마라톤운동,,,,생활체육관,,,,농구장,베트민턴장,,,,풋살장,,농구장,,족구장,,,,배드민턴장,2개소,,,,야구장,,축구장,,다목적구장,,,,베드민턴장,,,,축구장,,베드민턴장,,농구장,,족구장,게이트볼장,다목적구장,,,,운동기구,등,,,,축구장,실내배드민턴장,배구장,씨름장,농구장,체력단련장,,,,다목적운동장,체력단련시설,,,,농구장,,배드민턴장,,축구장,등,,,,허리돌리기,,철봉,,평행봉,,역기올리기,등,,,,철봉,,평행봉,공중걷기,,허리돌리기,등,,,,철봉,,평행봉,,허리돌리기,,공중걷기,등,,,,허리돌리기,,다리흔들기,,다리올리기,,온몸펴기,등,,,,농구장,,배드민턴장,등,,,,풋살장,,배드민턴장,,족구장,,,,배드민턴장,,발지압장,,,,게이트볼장,,농구장,,,,궁도장,,신체단련장,,,,테니스장,,실내체육관,,,,다목적운동장,,야외운동장,,,,배드민턴장,,운동기구,,,,풋살장,,배드민턴장,,다목적구장,,,,맨발공원,,농구장,,족구장,,,,암벽등반,,실내체육관,,배드민턴장,,,,야외헬스형운동기구,30개,,농구장,,,,야외헬스형운동기구,7개,,게이트볼장,,다목적운동장,,,,야외헬스형운동기구,10개,,,,야외헬스형운동기구,24개,,,,야외헬스형운동기구,25개,,게이트볼장,,배드민턴장,,,,야외헬스형운동기구,20개,배드민턴장,,다목적운동장,,,,야외헬스형운동기구,52개,,,,야외헬스형운동기구,20개,,,,야외헬스형운동기구,86개,,,,야외헬스형운동기구,17개,,,,야외헬스형운동기구,9개,,,,야외체력단련시설,,,,야외체력단련시설,,테니스장,,,,야외체력단련시설,,게이트볼장,,,,야외체력단련시설,,족구장,,농구장,,,,테니스장,,골프연습장,,궁도장,,게이트볼장,,,,골프연습장,,테니스장,,,,국궁장,,체력단련시설,,,,운동기구,등,3,,,,운동기구,등,5,,,,운동기구,등,25,,,,운동기구,등,13,,,,운동기구,등,8,,,,운동기구,등,7,,,,운동기구,등,6,,,,운동기구,등,9,,,,운동기구,4,,,,운동기구,등,4,,,,생활체육공간,지압보도,,,,생활체육공간,,,,운동기구,등,10,,,,다목적운동장,파크골프장,게이트볼장,체력단련시설,,,,테니스장,게이트볼장,체력단련시설,,,,농구장,,배드민턴장,,인라인장,,족구장,,,,풋살장,,,,풋살장,,농구대,,,,농구장,,배구장,,배드민턴장,,축구장,,다목적운동장,,,,배트민턴장,,테니스장,,배구장,,농구장,,,,농구장,,조깅코스,,,,체력단련시설,운동장(축구골대,농구대),,,,체력단련시설,게이트볼장,농구장,,,,야외배드민턴장,축구장,테니스장,농구장,게이트볼장,실내배드민턴장,체력단련시설,,,,국궁장,다목적운동장,농구장,실내배드민턴장,게이트볼장,체력단련시설,,,,풋살구장,,,,농구장,족구장,,,,인라인롤러,경기장,,,,대구스타디움,,육상진흥센터,,,,테니스장,,야구장,,두류수영장,,,,풋살장,인라인스케이트장,게이트볼장,농구장,다목적운동장,배드민턴장,파크골프장,체력단련시설,,,,게이트볼장,체력단련시설,,,,농구장,야외배드민턴장,인라인스케이트장,실내배드민턴장,체력단련시설,,,,멀티코트,체력단련시설,,,,운동시설물,3,,,,배드민턴장,농구대,족구대,,,,농구장,배드민턴장,,,,배드민턴장,농구장,체력단련장,,,,운동기구5,게이트볼장,,,,배드민턴장,농구장,등,,,,궁도장,,,,다목적운동장,배드민턴장,등,,,,운동기구,등,31,체육관,,,,농구장,체력단련시설,,,,족구장,체력단련시설,,,,풋살장,체력단련시설,,,,풋살장,배드민턴장,,,,축구장,농구장,족구장,게이트볼장,배드민턴장,등,,,,옆파도타기,,마라톤운동,,하늘걷기,등,,,,허리돌리기,,팔돌리기,등,,,,축구장,,농구장,,족구장,등,,,,농구장,,허리돌리기,,팔돌리기,등,,,,테니스장,,허리돌리기,,파도타기,,공중걷기,등,,,,허리돌리기,,파도타기,,공중걷기,등,,,,허리돌리기,,윗몸일으키기,등,,,,공중걷기,등,,,,공중걷기,,허리돌리기,,파도타기,등,,,,공중걷기,,허리돌리기,,,,허리돌리기,,철봉,,평행봉,등,,,,터닝트위스트,,워밍암,,롤링웨이스트,,,,허리돌리기,,농구장,,,,허리돌리기,,,,허리돌리기,,평행봉,,철봉,,,,파도타기,,공중걷기,,허리돌리기,,,,허리돌리기,,공중걷기,,파도타기,등,,,,농구장,,허리돌리기,등,,,,오금펴기,,달리기운동,,오금펴기,등,,,,허리돌리기,,롤링웨이스트,등,,,,공중걷기,,허리돌리기,,공중걷기,,역기올리기,등,,,,크로스컨트리,,트윈트위스터,,롤링웨이스트,등,,,,공중걷기,,파도타기,,허리돌리기,,,,파도타기,,공중걷기,,팔돌리기,등,,,,철봉,,허리돌리기,,팔돌리기,등,,,,공중걷기,,팔돌리기,등,,,,공중걷기,,,,트윈트위스트,,롤링웨이스트,등,,,,트윈트위스트.,롤링웨이스트,,,,스트레칭로라,,공중걷기,,팔돌리기,등,,,,평행봉,,철봉,,공중걷기,등,,,,허리돌리기,,배드민턴장,,,,허리돌리기,,공중걷기,등,,,,농구장,등,,,,농구장,,그라운드골프장,등,,,,농구장,,헐리돌리기,,공중걷기,등,,,,평행봉,,다리흔들기,,허리돌리기,등,,,,온몸펴기,,공중걷기,,허리돌리기,등,,,,평행봉,,허리돌리기,,팔비틀기,등,,,,축구장,,철봉,,평행봉,,허리돌리기,등,,,,평행봉,,트위스트,,허리돌리기,등,,,,역기올리기,,롤링웨이스트,,트위스터,등,,,,족구장,,허리돌리기,,공중걷기,등,,,,풋살장,게이트볼장,,,,게이트볼장,,다목적구장,,,,골프연습장,,다목적운동장,,정구장,,,,농구장,,배드민턴장,,축구장,,,,게이트볼장,인라인스케이트장,다목적구장,,,,다목적운동장,,게이트볼장,,농구장,,,,배구장,,배드민턴장,,농구장,,,,게이트볼장,,배드민턴장,,다목적운동장,,,,수영장,,,,암벽장,,풋살장,,,,축구장,야구장,농구장,인라이스케이트장,,,,체력단련시설,5점,,,,체력단련시설,6점,,,,체력단련시설,3점,,,,체력단련시설,9점,,,,체력단련시설,2점,,,,체력단련시설,4점,,,,운동장,1개소,,테니스장,1개소,,체력단력시설,95점,,,,운동장,1개소,,테니스장,1개소,,수영장,1개소,,배드민턴,2개소,,게이트볼,1개소,,체력단력시설,56점,,,,체력단련시설,12점,,,,체력단련시설,7점,,,,운동장3개소,,배드민턴,2개소,,체력단련시설,84점,,,,배드민턴장,1개소,,체력단련시설,65점,,,,체력단련시설,8점,,,,체력단련시설,11점,,,,운동장,1개소,,배드민턴,2개소,,체력단력시설,14점,,,,체력단련시설,15점,,,,체력단련시설,4점,,태양광벤치,,공원등,,,,농구골대,평행봉,철봉,,,,평행봉,철봉,,,,평행봉,야외운동기구,,,,평행봉,철봉,농구대,,,,농구장,철봉,평행봉,,,,농구장,야외운동기구,,,,철봉,야외운동기구,,,,농구대,야외운동기구,,,,야외운동기구,게이트볼장,,,,야외운동기구,족구장,농구장,,,,운동시설,다목적광장,,,,농구장,게이트볼장,배드민턴장,미니축구장,,,,농구장,족구장,배구장,인라인트랙,,,,다목적운동장,실내배드민턴장,체력단련시설,,,,야외배드민턴장,,,,게이트볼장,실내배드민턴장,체력단련시설,,,,족구장,체력단련시설,,,,축구장,게이트볼장,농구장,인라인스케이트장,테니스장,실내배드민턴장,체력단련시설,,,,게이트볼장,족구장,체력단련시설,,,,풋살구장,농구장,족구장,실내배드민턴장,체력단련시설,,,,배드민턴장,체력단련시설,,,,족구장,배드민턴장,체력단련시설,,,,운동기구,,,,야외운동기구,,다목적구장,,족구장,,,,야외운동기구,,족구장,,,,게이트볼장,,농구장,,야외운동기구,,,,인조잔디구장,,게이트볼장,,야외운동기구,,,,국궁장,,게이트볼장,,,,인라인스케이트장,,야외운동기구,,,,인조잔디구장,,야외운동기구,,,,베드민턴장,,야외운동기구,,,,농구장,,야외운동기구,,,,궁도장,게이트볼장,테니스장,,,,다리펴기,,허리돌리기,,역기내리기,,어깨돌리기,등,,,,자전거타기,,허리돌리기,등,,,,자전거타기,등,,,,윗몸일으키기,,파도타기,,하늘걷기,등,,,,하늘걷기,,허리돌리기,등,,,,하늘걷기,,양팔,밀기,,,,하늘걷기,,파도타기,,마라톤운동,등,,,,어깨돌리기,,파도타기,,마라톤운동,등,,,,하늘걷기,,어깨돌리기,등,,,,어깨돌리기,,양팔밀기,등,,,,유아용,운동시설,등,,,,다리펴기,,자전거타기,등,,,,등허리지압기,,어깨돌리기,,허리돌리기,등,,,,허리돌리기,등,,,,허리돌리기,,하늘걷기,등,,,,철봉,,허리돌리기,등,,,,윗몸일으키기,등,,,,철봉,등,,,,하늘걷기,등,,,,허리돌리기,,족구장,등,,,,철봉,,윗몸일으키기,등,,,,허리돌리기,,양팔밀기,등,,,,어깨돌리기,,양팔밀기,,허리돌리기,등,,,,허리돌리기,,하늘걷기,,등,,,,윗몸일으키기,,허리돌리기,등,,,,족구장,,농구장,등,,,,배드민턴장,,인라인스케이트,장,등,,,,허리돌리기,,역기,등,,,,양팔돌리기,,노젓기,등,,,,철봉,,허리돌리기,,하늘걷기,등,,,,허리돌리기,,하늘걷기,,파도타기,등,,,,체력단련장,국궁장,게이트볼장,배드민턴장,,다목적운동장,,테니스장,,,,농구장,,풋살경기장,,,,수영장,,게이트볼장,,,,농구장,,운동기구,,,,운동기구,,국궁장,,,,어린이놀이시설,,,,배드민턴장,,농구장,,체력단련시설,,,,다목적운동장,,체력단련시설,,,,베드민턴장,,농구장,체력단련시설,,,,철봉,,,,풋살결기장,,체력단련시설,,,,정구장,,소운동장,,체조장,,,,풋살구장,,테니스장,,농구장,,족구장,,,,농구장,운동기구,,,,게이트볼장2,배드민턴1,족구장1,운동기구89,,,,게이트볼장1,운동기구37,,,,게이트볼장1,배드민턴장1,운동기구122,,,,운동기구48,,,,농구대2,배드민턴장1운동기구6,,,,운동기구53,,,,운동기구29,농구대1,배드민턴3,,,,운동기구23,,,,운동기구13,,,,운동기구14,,,,운동기구23,농구대1,,,,운동기구36,농구대1,배드민턴1,,,,운동기구22,게이트볼장1,농구대2,배드민턴장1,족구장1,,,,운동기구29,게이트볼장1,농구대2,배드민턴장1,,,,운동기구28,,,,운동기구25,,,,운동기구55,게이트볼장1,배드민턴장3,,,,운동기구6,,,,농구대1,테니스장1,,,,미조성,,,,운동기구7,,,,농구대4,배드민턴장1,,,,운동기구3,다목적운동장1,풋살장1,,,,운동기구4,,,,운동기구3,,,,운동기구5,농구대2,족구장2,,,,운동기구9,,,,운동기구16,농구대2,다목적운동장1,족구장3,,,,운동기구5,,,,운동기구15,,,,운동기구24,배드민턴장1,공연장1,,,,수영장1,,,,축구장1,,,,운동기구17,농구대1,,,,운동기구18,농구대1,,,,운동기구11,게이트볼장1,,,,운동기구4,농구대1,,,,운동기구16,,,,운동기구10,,,,운동기구7,농구대1,,,,운동기구11,농구대1,,,,운동기구12,농구대1,,,,운동기구14,배드민턴장1,,,,운동기구11,,,,운동기구6,농구대1,,,,운동기구5,농구대2,,,,운동기구5,게이트볼장1,,,,운동기구8,,,,운동기구8,게이트볼장1,,,,운동기구5,농구대1,,,,운동기구8,농구대1,,,,운동기구6,배드민턴장1,,,,운동기구5,농구대1,다목적운동장1,,,,운동기구6,다목적운동장1,,,,운동기구12,,,,운동기구10,농구대1,배드민턴장1,,,,운동기구23,농구대2,배드민턴장1,,,,운동기구9,농구대1,,,,농구대2,미니축구골대2,,,,운동기구3,농구대1,,,,운동기구8,농구대1,다목적운동장1,,,,운동기구4,농구대1,다목적운동장1,,,,운동기구10,다목적운동장1,,,,운동기구8,농구대1,배드민턴장1,,,,운동기구2,,,,운동기구3,농구대2,,,,운동기구4,농구대2,,,,운동기구3,게이트볼장1,,,,운동기구2,농구대1,,,,운동기구6,농구대2,,,,운동기구2,농구대3,,,,운동기구5,농구대1,풋살장1,족구장1,,,,운동기구23,농구대1,다목적운동장1,,,,농구대2,배구장1,,,,농구대1,,,,운동기구4,배드민턴장1,,,,운동기구1,,,,운동기구10,배구장1,,,,농구대2,다목적구장1,롤러스케이트장1,운동기구5,,,,축구장1,농구대2,테니스장2,게이트볼장1,체육관1,,,,축구장,,국궁장,,테니스장,,족구장,,농구장,,,,야구장,,풋살장,,테니스장,,,,배드민턴장,다목적실설,,,,다목적구장,,게이트볼장,,배드민턴장,,농구장,,,,운동기구,,자전거,보관소,등,,,,풋살경기장,,,,산책로,,,,운동기구,3종,,,,운동기구,1종,,,,운동기구,8종,,,,운동기구,19종,,,,운동기구,12종,,,,다목적운동장,족구장,테니스장,농구장,,,,풋살장,,리틀야구장,,,다목적체육관,,,,다목적체육관,,,,풋살장,농구장,테니스장,족구장.배드민턴장,게이트볼장,등,,,,배드민턴장(족구장겸),,운동시설,등,,,,배드민턴장,,농구장,,게이트볼장,,체력단련장,등,,,,족구장,,풋살장,,,,축구장,,풋살장,,농구장,,축구장,,론볼링장,,궁도장,,썰매장,,간이수영장,,다목적구장,,,,농구장,,게이트볼장,,배드민턴장,,,,족구장,,농구장,,배드민턴장,,축구장,,인라인장,,,,테니스장,,족구장,,다목적운동장,,,,다목적운동장,,농구장,,체력단련시설,등,,,,체력단련시설,및,극기훈련시설,,,,야외체육시설(팔굽혀펴기,등),,,,야외체육시설(온몸근육풀기,등),,족구장,,,,체력단련장,,야외체육시설,,,,야외체육시설(트윈워밍암,등),,,,야외체육시설(온몸허리돌리기,등),,,,궁도장,배드민턴장,체력단련시설,,,,테니스장,농구장,배드민턴장,체력단련시설,,,,테니스장,배드민턴장,체력단련시설,,,,농구장,배드민턴장,체력단련시설,,,,육상경기장·게이트볼장·배구장·배드민턴장·농구장·체력단련장·골프연습장·풋살경기장·자연체험장·국민체육센터·테니스장·역도훈련장,,,,축구장·트랙·다목적체육시설·씨름장·체력단련시설,,,,족구장,,배드민턴장,,,,테니스장,,농구장,,풋살장,,배드민턴장,,,,게이트볼장,,테니스장,,,,다목적운동장,,배드민턴장,,,,게이트볼장,,배드민턴장,,농구장,,,,다목적은동장,,,,다목적운동장,,게이트볼장,,,,다목적운동장,,게이트볼장,,배드민턴장,,,,다목적운동장,,농구장,,,,소규모운동장,,,,족구경기장,4,,,,실외운동기구,7,,,,실외운동기구,,,,농구장,,인라인스케이트장,,,,풋살장,,축구장,,농구장,,트랙,,배드민턴장,,게이트볼장,,,,파크골프장,,,,축구장,,풋살장,,농구장,,트랙,,배드민턴장,,,,풋살장,,인라인장(X-게임장),,,,풋살장,,배드민턴장,,,,족구장,등2,,,,X-게임장,,,,농구장,배드민턴장,,,,농구장,배드민턴장,인라인스케이트장,,,,축구장,농구장,,,,배드민턴장,족구장,,,,농구장,족구장,,,,족구장,배드민턴장,게이트볼장,,,,축구장,등4,,,,테니스장,농구장,족구장,배드민턴장,,,,축구장,등6,,,,농구장,배드민턴장,게이트볼장,X-게임장,,,,배트민턴장,,,,축구장,야구장,배드민턴장,테니스장,농구장,,,,족구장,등3,,,,배드민턴장,게이트볼장,,,,배드민턴장,족구장,체력단련장,등,9,,,,배드민턴장,족구장,그라운드골프장,,,,다목적구장,등3,,,,배드민턴장,농구장,,,,배드민턴장,게이트볼장,농구장,,,,족구장,배드민턴장,게이트볼장,농구장,,,,농구장,,게이트볼장,,,,게이트볼장1,운동시설10,,,,축구장,족구장,,,,족구장1,,,,배드민턴장,운동장,,,,윗몸일으키기,공중걷기,마라톤운동,등,,,,마라톤운동,하체돌리기,공중걷기,등,,,,레그프레스,워밍암,등,,,,크로스컨트리,스트레칭로라,등,,,,윗몸일으키기,역기올리기,등,,,,농구장,하늘걷기,허리돌리기,등,,,,공중걷기,허리돌리기,등,,,,농구골대,야외,헬스기구,,,,트위스트,스카이워킹,등,,,,공중걷기,자전거타기,윗몸일으키기,등,,,,철봉,허리돌리기,등,,,,윗몸일으키기,,다리벌리기,,팔굽혀펴기,등,,,,윗몸일으키기,자전거타기,공중걷기,등,,,,베드민턴,,,,체력단련시설,게이트볼장,,,,체력단련시설,인조잔디구장,,,,체력단련시설,배구장,,,,체력단련시설,농구대,,,,체력단련시설,족구장,,,,체력단련시설,X게임장,,,,X게임장,,,,체력단련시설,운동장,풋살장,,,,체력단련시설,풋살장,,,,체력단련시설,배드민턴장,농구장,풋살장,,,,체력단련시설,,배드민턴장,,,,체력단련시설,,다목적구장,,,,야외운동기구,등,,,,시민운동장,실내체육관,씨름장,축구장,궁도장,,,,게이트볼장,마라톤운동기,심판의자,옆파도타기,온몸근육풀기,온몸노젓기,온몸역기올리기,온몸허리돌리기,윗몸일으키기,족구대,족구장,철봉,평행봉,하늘걷기,,,,다리뻗치기,등허리지압기,옆파도타기,온몸근육풀기,온몸허리돌리기,평행봉,하늘걷기,,,,등허리지압기,레그프레스,마라톤운동,장형,배드민턴장,배드민턴지주대,옆파도타기,온몸역기내리기,온몸허리돌리기,윗몸일으키기,파크골프장,하늘걷기,,,,레그프레스,롤링웨이스트(일반형),바디싣업,스트레칭로라,체어웨이트,크로스컨트리,트윈트위스트,,,,네트걸이,농구대,농구장,다리걸기,다리뻗치기,등부딪히기,등허리지압기,마라톤운동기,매달리기,미니철봉,배드민턴장,벤치프레스,양팔줄당기기,어깨근육풀기,옆파도타기,온몸근육풀기,온몸노젓기,온몸역기올리기,온몸허리돌리기,원형목재,평균대,윗몸일으키기,지압보도,철기둥,철봉,철봉,링,팔굽혀피기,평균대,평행봉,하늘걷기,하늘사다리,허벅지근육풀기,,,,게이트볼장,농구대(이동식),다리걸치기,데크관람대,배드민턴장,배드민턴지주대,벤치프레스,어깨근육풀기,옆파도타기,온몸근육풀기,온몸노젓기,온몸허리돌리기,운동장,윗몸일으키기,지압보도,철봉,철봉,링,팔굽혀피기,평행봉,풋살경기장,하늘걷기,,,,농구대,어깨근육풀기,온몸허리돌리기,운동장,족구대,철봉,평행봉,하늘걷기,,,,어깨근육풀기,옆파도타기,온몸노젓기,온몸허리돌리기,하늘걷기,,,,고무칩포장,레그프레스,롤링웨이스트(일반형),바디싣업,스텝싸이클,스트레칭로라,원형뜀틀,체어웨이트,크로스컨트리,트윈트위스트,,,,고무칩포장,다리뻗치기,등허리지압기,스텝싸이클,어깨근육풀기,옆파도타기,온몸역기올리기,온몸허리돌리기,윗몸일으키기,하늘걷기,,,,배드민턴장,배드민턴지주대,온몸근육풀기,온몸역기올리기,온몸허리돌리기,,,,등허리지압기,배드민턴장,배드민턴지주대(이동식),온몸근육풀기,온몸역기올리기,온몸허리돌리기,,,,어깨근육풀기,옆파도타기,온몸허리돌리기,인라인스케이트장,하늘걷기,,,,배드민턴,라인마킹,배드민턴,포스트,배드민턴장,옆파도타기운동,오금펴기운동,온몸근육운동,하늘걷기운동,허리돌리기운동,,,,농구대,농구장,등허리지압기,마라톤운동기,벤치프레스,온몸근육풀기,온몸노젓기,온몸역기올리기,온몸허리돌리기,윗몸일으키기,지압보도,하늘걷기,,,,농구대,농구장,다목적경기장,등허리지압기,마라톤운동,배드민턴장,온몸노젓기,하늘걷기,허리돌리기,,,,다리뻗치기,등허리지압기,마라톤운동,옆파도타기,온몸근육풀기,온몸노젓기,온몸역기내리기,온몸역기올리기,온몸허리돌리기,테니스,네트대,테니스장,하늘걷기,,,,다리근육풀기,등허리지압기,온몸역기올리기,윗몸일으키기,지압보도,하늘걷기,,,,다리뻗치기,마라톤운동기,옆파도타기,온몸근육풀기,온몸역기내리기,온몸허리돌리기,윗몸일으키기,하늘걷기,,,,마라톤운동기,옆파도타기,온몸근육풀기,온몸역기내리기,온몸허리돌리기,윗몸일으키기,자유철봉기,,,,옆파도타기운동,오금펴기운동,온몸근육풀기운동,하늘걷기운동,허리돌리기운동,,,,네트걸이대,운동장,평행봉,풋살골대,,,,농구대,농구장,다리뻗치기,마라톤운동기,배드민턴장,양팔줄당기기,어깨근육풀기,옆파도타기,온몸역기내리기,온몸역기올리기,온몸허리돌리기,지압보도,철봉,평행봉,하늘걷기,,,,네트걸이대,미니축구장골대,어깨근육풀기,온몸허리돌리기,족구장,축구대,축구장,하늘걷기,,,,레그프레스,옆파도타기,온몸역기올리기,온몸허리돌리기,하늘걷기,,,,농구대,농구장,미니축구장,어깨근육풀기,옆파도타기,온몸허리돌리기,윗몸일으키기,족구대,족구장,축구대,하늘걷기,,,,마라톤운동기,배드민턴장,배드민턴지주대,어깨근육풀기,옆파도타기,온몸근육풀기,온몸허리돌리기,하늘걷기,,,,마라톤운동기,어깨근육풀기,옆파도타기,온몸허리돌리기,하늘걷기,,,,등허리지압기,옆파도타기,온몸근육풀기,온몸허리돌리기,윗몸일으키기,하늘걷기,,,,옆파도타기,온몸역기올리기,온몸허리돌리기,윗몸일으키기,하늘걷기,,,,농구대,배구네트대,어깨근육풀기,옆파도타기,온몸역기내리기,온몸허리돌리기,하늘걷기,,,,옆파도타기,온몸허리돌리기,하늘걷기,,,,등허리지압기,온몸근육풀기,온몸역기내리기,하늘걷기,,,,등허리지압기,온몸근육풀기,온몸역기내리기,온몸허리돌리기,족구대,하늘걷기,,,,다리뻗치기,등허리지압기,어깨근육풀기,온몸근육풀기,온몸허리돌리기,윗몸일으키기,,,,옆파도타기,철봉,하늘걷기,,,,옆파도타기,온몸역기올리기,하늘걷기,,,,다리뻗치기,등허리지압기,스텝싸이클,옆파도타기,온몸허리돌리기,윗몸일으키기,하늘걷기,,,,다리뻗치기,등허리지압기,옆파도타기,온몸역기올리기,윗몸일으키기,하늘걷기,,,,레그프레스,크로스컨트리,트윈트위스트,,,,레그프레스,트윈트위스트,,,,옆파도타기,온몸근육풀기,온몸역기올리기,온몸허리돌리기,하늘걷기,,,,마라톤운동기,옆파도타기,온몸근육풀기,온몸허리돌리기,하늘걷기,,,,다리뻗치기,온몸노젓기,온몸허리돌리기,윗몸일으키기,,,,옆파도운동,오금펴기운동,온몸근육운동,하늘걷기운동,,,,체어웨이트,크로스컨트리,트윈트위스트,,,,온몸역기올리기,온몸허리돌리기,하늘걷기,,,,다리뻗치기,온몸근육풀기,온몸역기내리기,윗몸일으키기,,,,마라톤운동기,윗몸일으키기,,,,다리뻗치기,마라톤운동기,발바닥지압걷기,온몸돌리기,온몸역기내리기,온몸역기올리기,탄성고무칩포장,하늘걷기,,,,등허리지압기,온몸근육풀기,온몸허리돌리기,윗몸일으키기,,,,등허리지압기,마라톤운동기,온몸노젓기,,,,등허리지압기,온몸노젓기,온몸허리돌리기,하늘걷기,,,,옆파도타기,온몸근육풀기,온몸허리돌리기,하늘걷기,,,,옆파도타기,온몸근육풀기,온몸역기내리기,온몸허리돌리기,하늘걷기,,,,어깨근육풀기,온몸허리돌리기,하늘걷기,,,,스트레칭로라,크로스컨트리,트윈트위스트,,,,다리근육풀기,양팔줄당기기,어깨근육풀기,옆파도타기,오금펴기,온몸노젓기,온몸허리돌리기,하늘걷기,,,,마라톤운동기,온몸근육풀기,윗몸일으키기,,,,등허리지압기,배드민턴대,배드민턴장,온몸허리돌리기,하늘걷기,,,,롤링웨이스트(일반형),스텝싸이클,체어웨이트,,,,등허리지압기,마라톤운동기,온몸노젓기,온몸역기올리기,온몸허리돌리기,,,,마라톤운동기,어깨근육풀기,온몸허리돌리기,,,,고무칩포장,마라톤운동기,온몸노젓기,온몸역기올리기,온몸허리돌리기,,,,게이트볼장,옆파도타기,온몸근육풀기,온몸허리돌리기,하늘걷기,,,,오금펴기운동,온몸근육운동,하늘걷기운동,허리돌리기운동,,,,등허리지압기,어깨근육풀기,옆파도타기,온몸허리돌리기,하늘걷기,,,,마라톤운동기,온몸근육풀기,온몸역기올리기,온몸허리돌리기,,,,마라톤운동기,옆파도타기,온몸역기올리기,온몸허리돌리기,하늘걷기,,,,마라톤운동기,배드민턴대,배드민턴장,옆파도타기,온몸허리돌리기,하늘걷기,,,,온몸노젓기,온몸역기올리기,온몸허리돌리기,,,,어깨근육풀기,온몸역기내리기,온몸허리돌리기,하늘걷기,,,,옆파도타기,온몸근육풀기,온몸노젓기,온몸허리돌리기,하늘걷기,,,,마라톤운동기,옆파도타기,온몸근육풀기,온몸허리돌리기,윗몸일으키기,하늘걷기,,,,다리뻗치기,등허리지압기,배드민턴장,배드민턴지주대,옆파도타기,하늘걷기,,,,어깨근육풀기,옆파도타기,온몸역기내리기,온몸허리돌리기,족구장,족구지주,하늘걷기,,,,다리근육풀기,등허리지압기,옆파도타기,온몸근육풀기,온몸허리돌리기,하늘걷기,,,,마라톤운동,하늘걷기,허리돌리기,,,,다리뻗치기,옆파도타기,온몸근육풀기,온몸허리돌리기,윗몸일으키기,하늘걷기,,,,옆파도운동,오금펴기운동,하늘걷기운동,허리돌리기운동,,,,마라톤운동기,옆파도타기,하늘걷기,,,,마라톤운동기,옆파도타기,온몸근육풀기,온몸허리돌리기,이형판석포장,하늘걷기,,,,마라톤운동기,온몸근육풀기,온몸역기내리기,온몸허리돌리기,윗몸일으키기,탄성고무칩포장,,,,마라톤운동기,옆파도타기,온몸근육풀기,윗몸일으키기,탄성고무칩포장,,,,농구대,농구장,옆파도타기,온몸허리돌리기,윗몸일으키기,,,,농구대,농구장,다리뻗치기,어깨근육풀기,옆파도타기,온몸허리돌리기,하늘걷기,,,,다리쭉뻗기,허리돌리기,배드민턴장,배드민턴지주대,어깨근육풀기,상체근육풀기,크로스컨츄리,전신하늘걷기,,,,다리뻗치기,옆파도타기,마라톤운동,온몸허리돌리기,어깨근육풀기,하늘걷기,온몸노젓기,하늘걷기,,,,롤링웨이스트(일반형),스텝싸이클,체어웨이트,트윈트위스트,,,,마라톤운동기,옆파도타기,온몸근육풀기,온몸역기올리기,온몸허리돌리기,하늘걷기,,,,등허리지압기,마라톤운동,옆파도타기,온몸근육풀기,온몸허리돌리기,,,,온몸근육풀기,하늘걷기,허리돌리기,,,,농구대,농구장,,,,축구대,축구장,,,,마라톤운동기,어깨근육풀기,온몸허리돌리기,윗몸일으키기,하늘걷기,,,,농구대,농구장,등허리지압기,발바닥지압대(반원형),어깨근육풀기,옆파도타기,온몸역기내리기,온몸허리돌리기,윗몸일으키기,철봉,하늘걷기,,,,다리근육풀기,마라톤운동기,옆파도타기,온몸근육풀기,온몸노젓기,온몸역기올리기,온몸허리돌리기,철봉,하늘걷기,,,,농구대,농구장,마라톤운동기,옆파도타기,온몸근육풀기,온몸허리돌리기,하늘걷기,,,,어깨근육풀기,옆파도타기,온몸허리돌리기,하늘걷기,,,,롤링웨이스트(일반형),배드민턴장,배드민턴지주대,크로스컨트리,트윈트위스트,,,,마라톤운동기,어깨근육풀기,상체근육풀기,온몸들어올리기,온몸역기내리기,온몸허리돌리기,,,,옆파도타기,온몸근육풀기,온몸허리돌리기,,,,다리뻗치기,마라톤운동기,옆파도타기,온몸노젓기,온몸허리돌리기,운동장,철봉(3인용),하늘걷기,,,,등허리지압기,온몸허리돌리기,하늘걷기,,,,마라톤운동기,배드민턴대,배드민턴장,온몸근육풀기,온몸노젓기,온몸허리돌리기,철봉,하늘걷기,,,,등허리지압기,배드민턴지주대,옆파도타기,온몸근육풀기,온몸노젓기,온몸역기올리기,온몸허리돌리기,운동장,하늘걷기,,,,체력단련시설,체력단련장1,체력단련장2,,,,다리뻗치기,마라톤운동,어깨근육풀기,역기내리기,역기올리기,인조잔디,라인마킹(풋살장,시설,및,포장),풋살골대(이동식)(풋살장,시설,및,포장),풋살장,하늘걷기,,,,게이트볼장,온몸근육풀기,온몸허리돌리기,윗몸일으키기,축구대,축구장,테니스,네트대,테니스,심판대,테니스장,하늘걷기,,,,다리뻗치기,등허리지압기,배드민턴장,배드민턴지주대,온몸근육풀기,온몸허리돌리기,지압보도,,,,농구대,등허리지압기,마라톤운동기,옆파도타기,온몸역기올리기,온몸근육풀기,온몸허리돌리기,윗몸일으키기,철봉,평행봉,온몸역기내리기,하늘걷기,,,,거꾸로매달리기,건너기,다리뻗치기,다리올리기,등치기,등허리지압기,마라톤운동기,벤치프레스,어깨근육풀기,옆파도타기,오금펴기,온몸노젓기,온몸역기올리기,온몸허리돌리기,윗몸일으키기,철봉,평행봉,하늘걷기,,,,게이트볼장,고무매트포장,넓적다리펴기운동,농구대,다리올리기,등부딪히기,등허리지압기,마라톤운동기,매달리기,배드민턴장,배드민턴지주대,벤치프레스,옆파도타기,오금펴기,온몸노젓기,온몸근육풀기,온몸노젓기,온몸역기내리기,온몸허리돌리기,윗몸일으키기,인라인스케이트장,자유철봉,지압보도,철봉,링,팔굽혀피기,평행봉,하늘걷기,,,,2단,철봉,게이트볼장,농구대(이동식),농구장,다리뻗치기,등허리지압기,마라톤운동기,벤치프레스,어깨근육풀기,옆파도타기,온몸근육풀기,온몸노젓기,온몸역기올리기,온몸허리돌리기,윗몸일으키기,인라인스케이트장,족구장,족구지주,하늘걷기,,,,생활체육시설,A(온몸돌리기),생활체육시설,B(마라톤운동),생활체육시설,C(온몸노젖기),생활체육시설,D(윗몸일으키기),생활체육시설,E(공중걷기),생활체육시설,F(옆파도타기),,,,농구대,마라톤운동기,배드민턴장,배드민턴지주대,온몸역기내리기,온몸역기올리기,온몸허리돌리기,하늘걷기,,,,다리뻗치기,마라톤운동기,양팔줄당기기,온몸허리돌리기,윗몸일으키기,지압보도,하늘걷기,,,,다리올리기,마라톤운동기,옆파도타기,온몸근육풀기,온몸노젓기,평행봉,하늘걷기,,,,농구대,농구장,온몸역기올리기,온몸허리돌리기,윗몸일으키기,족구네트걸이,풋살골대,,,,네트걸이대,다리뻗치기,등허리지압기,마라톤운동기,배드민턴장,옆파도타기,윗몸일으키기,지압길,포장,하늘걷기,,,,2단,매달리기,다리올리기,링,매달리기,철봉,축구대,축구장,,,,U형,네트브릿지,경사,사다리,등허리지압기,로그터널,마법다리,버마래더,버켓,브릿지,버티칼,네트,수평네트,스네이크,브릿지,스노우모바일,스윙플랫폼,스카이,버켓,스카이버마,스카이벌룬,스텝,브릿지,스틱타잔스윙,스파이더,웹,아일랜드,어깨근육풀기,온몸근육풀기,엑스크로스,옆파도타기,옆파도타기,하늘걷기,온몸근육풀기,온몸근육풀기,마라톤운동,온몸허리돌리기,윗몸일으키기,인디아나,브릿지,자유철봉,정글로프,지압보도,체스,브릿지,콤플렉스,래더,평행봉,플라이,짚,하늘걷기,,,,,농구대,온몸근육풀기,온몸허리돌리기,철봉,하늘걷기,,,,발바닥지압걷기,어깨근육풀기,옆파도타기,온몸노젓기,온몸역기내리기,온몸허리돌리기,,,,생활체육시설,B,생활체육시설,C,생활체육시설,D,,,,생활체육시설,A,생활체육시설,E,생활체육시설,F,,,,마라톤운동기,매달려온몸회전하기,발바닥지압걷기,온몸노젓기,온몸역기올리기,,,,등허리지압기,발바닥지압걷기,어깨근육풀기,온몸역기내리기,온몸허리돌리기,윗몸일으키기,,,,다리뻗치기,어깨근육풀기,옆파도타기,온몸허리돌리기,하늘걷기,,,,벤치프레스,어깨근육풀기,옆파도타기,오금펴기,온몸허리돌리기,윗몸일으키기,하늘걷기,,,,다리뻗치기,등허리지압기,옆파도타기,온몸근육풀기,온몸역기내리기,온몸허리돌리기,,,,마라톤운동기,온몸역기내리기,하늘걷기,,,,다리뻗치기,다목적,운동장,등허리지압기,마라톤운동기,하늘걷기,,,,옆파도타기,윗몸일으키기,하늘걷기,,,,손잡이,평행대,온몸역기내리기,온몸허리돌리기,철봉,하늘걷기,,,,마라톤운동기,배드민턴장,배드민턴지주대,옆파도타기,온몸근육풀기,온몸역기올리기,온몸허리돌리기,윗몸일으키기,하늘걷기,,,,온몸역기내리기,온몸허리돌리기,하늘걷기,,,,온몸허리돌리기,철봉,평행봉,,,,어깨근육풀기,옆파도타기,온몸노젓기,온몸역기올리기,온몸허리돌리기,윗몸일으키기,족구대,족구장,하늘걷기,,,,마라톤,역기올리기,옆파도타기,온몸근육풀기,온몸역기내리기,온몸허리돌리기,윗몸일으켜기,자유철봉,하늘걷기,,,,배드민턴지주대,벤치프레스,어깨근육풀기,옆파도타기,온몸허리돌리기,윗몸일으키기,평행봉,하늘걷기,,,,어깨근육풀기,역기올리기,온몸허리돌리기,하늘걷기,허리펴기,,,,마라톤운동기,어깨근육풀기,옆파도타기,온몸역기내리기,온몸역기올리기,온몸허리돌리기,윗몸일으키기,평행봉,하늘걷기,,,,옆타도타기,온몸허리돌리기,하늘걷기,,,,옆파도타기,온몸허리돌리기,윗몸일으키기,전신달리기,전신올리기,하늘걷기,,,,옆파도타기,온몸역기올리기,온몸허리돌리기,하늘걷기,,,,옆파도타기,온몸근육풀기,하늘걷기,,,,다리뻗치기,마라톤운동기,옆파도타기,온몸근육풀기,온몸노젓기,평행봉,하늘걷기,,,,양팔줄당기기,어깨근육풀기,옆파도타기,온몸허리돌리기,윗몸일으키기,하늘걷기,,,,마라톤운동기,배드민턴장,배드민턴지주대,어깨근육풀기,옆파도타기,온몸역기올리기,온몸허리돌리기,지압보도,하늘걷기,,,,마라톤운동기,온몸허리돌리기,,,,마라톤운동,어깨근육풀기,허리돌리기,,,,고무칩포장,마라톤운동기,어깨근육풀기,온몸허리돌리기,윗몸일으키기,철봉,,,,어깨근육풀기,옆파도타기,온몸허리돌리기,,,,어깨근육풀기,온몸허리돌리기,윗몸일으키기,하늘걷기,,,,마라톤운동기,배드민턴장,배드민턴지주대,온몸허리돌리기,자유철봉,하늘걷기,,,,어깨근육풀기,옆파도타기,온몸역기내리기,온몸허리돌리기,윗몸일으키기,전신사이클,하늘걷기,,,,마라톤운동기,온몸허리돌리기,자유형철봉,하늘걷기,,,,3단,다리걸치기,3단,철봉,배드민턴,네트대,배드민턴장,온몸허리돌리기,윗몸일으키기,평행봉,,,,농구대,어깨근육풀기,옆파도타기,온몸근육풀기,온몸허리돌리기,윗몸일으키기,족구대,족구장,,,,게이트볼장,다목적,운동장,등허리지압기,발바닥지압걷기,,어깨근육풀기,온몸노젓기,온몸역기내리기,온몸허리돌리기,하늘걷기,,,,다리뻗치기,등허리？히기,등허리지압기,마라톤운동기,양팔줄당기기,어깨근육풀기,온몸노젓기,온몸역기내리기,온몸허리돌리기,윗몸일으키기,하늘걷기,,,,농구대(이동식),농구장,등허리근육풀기,마라톤운동기,배드민턴장,배드민턴지주대,온몸근육풀기,온몸노젓기,온몸역기올리기,족구네트,족구장,족구지주,축구대,축구장,하늘걷기,,,,다리올리기,등허리펴기,말뚝건너기,사다리오르내리기,옆파도타기,온몸노젓기,온몸역기올리기,온몸허리돌리기,자유평행봉,평행봉,하늘걷기,,,,어깨근육풀기,옆파도타기,온몸근육풀기,온몸허리돌리기,윗몸일으키기,축구대,축구장,풋살골대,,,,배드민턴대,배드민턴장,,,,게이트볼장,농구대,등허리지압기,어깨근육풀기,온몸매달려돌기,온몸역기내리기,온몸역기올리기,온몸허리돌리기,족구대,족구장,축구대,축구장,,,,농구대(이동식),농구장,,,,농구대,미니축구대,심판대,야구장,야구장,기록실,온몸허리돌리기,족구대,축구대,테니스,네트대,테니스장,테니스장,라카룸,,,,등허리지압기,온몸근육풀기,온몸노젓기,온몸역기내리기,온몸역기올리기,윗몸일으키기,하늘걷기,허벅지근육풀기,,,,3단,다리올리기,3단,철봉,3단건너기,게이트볼,컨테이너,게이트볼장,구름다리,다리근육풀기,배드민턴,네트대,온몸근육풀기,온몸허리돌리기,윗몸일으키기,지압길,포장,평균대,평행봉,하늘걷기,,,,농구대,다리뻗치기,등허리지압기,땅고르개,링,매달리기,미니축구대,보조골대,사다리오르기,어깨근육풀기,어깨당기기,온몸근육풀기,온몸노젓기,온몸역기내리기,온몸허리돌리기,윗몸일으키기,점수판,족구대,족구장,축구대,축구장,풋살장,하늘걷기,,,,농구장,풋살장,등허리지압기,마라톤운동기,배드민턴장,배드민턴지주대,벽걸이농구대,옆파도타기,온몸근육풀기,온몸역기올리기,풋살골대,하늘걷기,,,,등허리지압기,마라톤운동기,온몸근육풀기,온몸노젓기,온몸역기내리기,온몸역기올리기,윗몸일으키기,하늘걷기,허벅지근육풀기,,,,3단,다리걸치기,3단,철봉,다리뻗치기,등허리지압기,마라톤운동기,온몸근육풀기,온몸노젓기,온몸역기내리기,온몸역기올리기,온몸허리돌리기,윗몸일으키기,자유철봉,지압길,포장,평행봉,하늘걷기,허리젖히기,,,,2단,철봉,마라톤운동기,배드민턴,네트대,배드민턴장,심판의자,어깨근육풀기,옆파도타기,온몸역기내리기,온몸역기올리기,온몸허리돌리기,윗몸일으키기,자유평행봉,족구(테니스)네트대,족구장,테니스장,테니스장,가림막,팔굽혀피기,하늘걷기,,,,3단,철봉,농구대,벤치프레스,오르기기구,온몸허리돌리기,윗몸일으키기,족구,네트대,족구장,,,,다리근육풀기,다리뻗치기,등허리지압기,마라톤운동기,어깨근육풀기,옆파도타기,온몸근육풀기,온몸역기올리기,온몸허리돌리기,윗몸일으키기,자유철봉,지압길,포장,평행봉,하늘걷기,,,,등허리지압기,온몸근육풀기,온몸허리돌리기,하늘걷기,,,,농구대,등허리지압기,온몸근육풀기,온몸허리돌리기,원형발바닥지압걷기,정구대,정구장,,,,마라톤운동기,발바닥지압대,옆파도타기,온몸근육풀기,온몸노젓기,온몸허리돌리기,하늘걷기,,,,마라톤운동기,온몸근육풀기,하늘걷기,,,,배드민턴장,배드민턴지주대,옆파도타기,온몸근육풀기,온몸허리돌리기,하늘걷기,,,,고무칩포장,다리근육풀기,어깨근육풀기,온몸허리돌리기,,,,온몸허리돌리기,철봉,대형,철봉,소형,평행봉,,,,고무매트포장,옆파도타기,온몸역기내리기,하늘걷기,,,,옆파도타기,온몸허리돌리기,,,,자유철봉기,하늘걷기,,,,농구대,배드민턴장,배드민턴지주대,온몸허리돌리기,철봉,평행봉,하늘걷기,허리다리뻗기,,,,마라톤운동기,배드민턴장,배드민턴지주대,온몸노젓기,하늘걷기,,,,발바닥지압걷기,,,,마라톤,어깨근육풀기,옆파도타기,온몸돌리기(3인용),하늘걷기,,,,농구대,농구장,배드민턴대,배드민턴장,,,,등허리지압기,마라톤달리기,배드민턴장,배드민턴지주대,어깨근육풀기,옆파도타기,온몸노젓기,하늘걷기,,,,다리,근육풀기(철봉형),평행봉,,,,농구장,풋살장,다리근육풀기,벽걸이농구대,온몸노젓기,온몸역기올리기,온몸허리돌리기,인라인(스케이트보드)장,인라인시설,大,인라인시설,小,인라인평균대,풋살장펜스(의자일체형),,,,농구대,,게이트볼장,,,,농구장,,축구장,,,,전통그네,,,,베트민턴장,,게이트볼장,,,,자가발전(허리돌리기,,근육풀기,,자전거),,,,롤링웨이스트,,체어웨이스트,,터닝트위스트,워밍암,,풀웨이트,,,,터닝트위스트,,워밍암,,풀웨이트,,,,스트레칭로라,,트윈워밍암,,풀웨이트,,,,철봉,,농구대,,,,풋살경기장,,게이트볼장,,,,허리돌리기,,파도타기,,역기내리기,,공궁걷기,,,,등허리지압기,,옆파도타기,,역기내리기,,어깨근육풀기,,,,역기내리기,,허리돌리기,,파도타기,,,,허리돌리기,,다리들어올리기,,팔운동기구,,,,허리돌리기,,다리펴기,,팔매달리기,,,,농구장,,족구장,,배드민턴장,,,,롤링웨이스트,,체어웨이스트,,크로스컨트리,,입식싸이클,,,,역기내리기,,공중걷기,,파도타기,,등허리지압기,,어깨유연성운동,,허리돌리기,,,,허리펴기,,허리돌리기,,좌우뛰기,,평형잡기등,,,,인라인스케이트장,,농구장,등,,,,허돌리기,,차도타기,,역기내리기,,공중걷기,,등허리지압기,,,,허리돌리기,,역기내리기,공중걷기,등허리지압기,,,,축구장,,농구장,등,,,,이동식,농구대1개,,운동기구,5개소,,,,이동식,농구대,1개,,운동기구,6개소,,,,이동식,농구대1개,,운동기구,7개소,,,,이동식농구대1개,,운동기구,4개소,,,,운동기구,3개소,,,,운동기구,4개소,,,,농구장,1개소,,배드민턴장,13,,게이트볼장,1개소.,체력단련시설,25개소,189기,등,,,,배드민턴장,2개소,,체력단련시설,6개소,36개,,,,배드민턴장,1개소,,농구장,1개소,,체력단련시설,3개소,29개,,,,다목적체육관,1동,,체력단련시설,1개소,4개,,,,배드민턴장,1개소,,농구정,1개소,,체력단련시설,1개소,7개,,,,농구장,1개소,,체력단련시설,1개소,5개,,,,체력단련시설,1개소,4개,,,,체력단련시설,1개소,3개,,,,없음,,,,배드민터장,1개소,,체력단련시설,1개소,6개,,,,족구장,1개소,,농구장,1개소,,체력단련시설,1개소,5개,,,,체력단련시설,1개소,6개,,,,체력단련시설,1개소,2개,,,,체력단련시설,1개소,7개,,,,체력단련시설,1개소,7개,,농구장,1개소,,,,운동장,1개소,,체력단련시설,1개소,4개,,,,체력단련시설,1개소,5개,,,,체력단련시설,2개소,5개,,,,체력단련시설,1개소,,,,풋살장,,농구장,,그라운드골프장,,운동기구,,,,배드민턴장1,,체력단련시설9,,,,배드민턴장6,,체력단련시설303,,,,체력단련시설6,,,,체력단련시설12,,,,체력단련시설7,,,,배드민턴장1,,체력단련시설30,,,,체력단련시설10,,,,체력단련시설3,,,,체력단련시설4,,,,체력단련시설1,,,,체력단련시설8,,,,체력단련시설5,,,,체력단련시설2,,,,x-game장,,,,축구장,,게이트볼장,,테니스장,,,,농구장,풋살경기장,,체육시설,인라인트랙,,,,체육시설,,,,축구장,,테니스장,,체육시설,,,,야구장.,운동장.,족구장,,,,테니스장,,배드민턴장,,체육시설,,,,체육시설,,농구장,,,,인라인트랙,,,,다목적운동장,,체육시설,,,,체육시설,인라인스케이장,,농구장,,,,체육시설,,축구장,,,,체육시설물.,농구대,,,,체율시설물,,,,족구장.,농구대.,체육시설물,,,,배드민턴장,,체육시설,,,,파크골프장,,수영장,,양궁장,,,,농구장,,족구장,,,,축구장,,인공암벽장,,,,생활체육운동기구6종,,배드민턴장,,,,농구대2EA,,,,생활체육운동기구3종,,,,생활체육운동기구5종,,,,농구대1EA,,철봉2EA,,생활체육운동기구1종,,,,생활체육운동기구2종,,,,축구장1면,,테니스장4면,,게이트볼장,,암벽장,,,,생활체육시설3종,,,,다목적운동장,,농구장2EA,,게이트볼장,,생활체육시설3EA,,배드민턴장,,,,농구장1면,,게이트볼장,,인라인스케이트장,,풋살장1면,,생활체육운동기구5종,,,,풋살장2면,,족구장1면,,농구대2EA,,생활체육운동기구2종,,,,풋살운동장,,,,배드민턴장,,궁도장,,,,축구장,,테니스장,,족구장,,농구장,,게이트볼장,,,,배드민턴장,족구장,농구장,,,,배드민턴장,족구장,축구장,,,,배드민턴장,족구장,축구장,농구장,,,,배드민턴장,족구장,,,,배드민턴장,,족구장,,테니스장,,,,배드민턴장,농구장,게이트볼장,,,,배드민턴장,게이트볼장,,,,배드민턴장,농구장,멀티코트,파크골프장,족구장,,,,배드민턴장,농구장,게이트볼장,씨름장,러버가든,,,,N,,,,테니스장,배드민턴장,,,,농구장,배드민턴장,게이트볼장,,,,체력단련기구,,,,미로길,,,,운동장,,배드민턴장,,게이트볼장,등,,,,다목적,인조잔디마당,,,,테니스장,,배드민턴장,등,,,,테니스장,등,,,,축구장,배드민턴장,농구장,,,,배드민턴장,농구대,,,,다목적운동장,배드민턴장,농구장,,,,농구대,2점,,,,농구대,외,1종,2점,,,,농구대,1점,,,,족구장,농구장,,,,축구장,,인라인스케이트장,,밸런스바이크장,,,,게이트볼장,농구장,운동장,인조잔디구장,,,,소운동장,,,,배드민턴,다목적구장,농구대,,,,농구장,축구장,테니스장,,,,축구장,테니스장,,,,운동장,체육시설,,,,배드민턴,족구,농구장,운동장,테니스장,풋살,,,,배드민턴장(족구장겸용),,,,게이트볼장,농구장,배드민턴장,테니스장,,,,체육시설,농구대,,,,골프연습장,농구장,테니스장,인조잔디구장,,,,간이체육시설,산책로,자전거도로,,,,풋살장,,간이운동시설,,,,배드민턴장,,온몸근육풀기,,허리돌리기,,파도타기,,,,윗몸일으키기,,파도타기,,허리돌리기,,온몸근육풀기,,,,온몸근육풀기,,허리돌리기,,파도타기,,공중걷기,,,,축구장,배드민턴장,테니스장,,,,배드민턴장,,족구장,,,,테니스장,,족구장,,운동기구,,,,족구장,,운동기구,,,,풋살장,,배구장,,,,배구장,,,,테니스장,,게이트볼장,,,,유소년축구장,,축구장관리실,,,,유소년축구장,,,,인라인장,,운동기구,,,,농구장,,족구장,,운동기구,,,,농구장,,배드민턴장,,족구장,,운동기구,,,,농구장,,배드민턴장,,운동기구,,,,윗몸일으키기,1,,수평대,1,,다리말아올리기,1,,몸체말아올리기,1,,허리돌리기,1,,의자겸팔굽혀펴기,1,,족구장,1,,농구대,1,,철봉,1,,어깨근육풀기,1,,허리돌리기,파도타기,1,,윗몸일으키기,공중걷기,1,,평행봉,1,,,,공중걷기,1,,파도타기,1,,어깨근육풀기,1,,윗몸일으키기,1,,,,허리돌리기,1,,윗몸일으키기,1,,팔굽혀펴기,1,,철봉,1,,평형대,1,,,,허리돌리기,1,,파도타기,1,,농구대,2,,,,역기내리기,1,,달리기,1,,하늘걷기,1,,파도타기,1,,,,허리돌리기,1,,파도타기,1,,,,허리돌리기,1,,공중걷기,1,,,,씨름경기장,1,,,,허리돌리기,1,,공중걷기,1,,파도타기,1,,,,평행봉,1,,윗몸일으키기,1,,달리기,2,,허리돌리기,2,,파도타기,1,,공중걷기,1,,노젓기,1,,역기내리기,1,,어깨근육풀기,1,,,,공중걷기,파도타기,1,,오금펴기,허리돌리기,1,,어깨근육풀기,1,,,,파도타기,1,,허리돌리기,1,,공중걷기,1,,윗몸일으키기,1,,오금펴기,1,,등허리지압기,1,,,,파도타기,1,,공중걷기,1,,어깨근육풀기,1,,허리돌리기,1,,,,어깨유연성운동,1,,공중걷기,1,,등허리지압기,1,,허리돌리기,1,,달리기운동,1,,역기내리기,1,,,,어깨유연성운동,1,,공중걷기,1,,자전거타기,1,,허리돌리기,1,,,,파도타기,1,,윗몸일으키기,1,,공중걷기,1,,어깨근육풀기,1,,허리돌리기,1,,,,허리돌리기,어깨근육풀기,1,,파도타기,1,,윗몸일으키기,1,,공중걷기,1,,,,농구장,,,,,인라인,,,,족구장,,베드민턴장,,농구장,,,,농구장,,족구장,,베드민턴장,,,,운동시설,5종,,,,운동시설,7종,,,,운동시설,9종,,,,운동시설,10종,,,,베드민턴장,,운동시설,3종,,,,운동시설,4종,,,,농구장,,운동시설,5종,,,,농구장,,운동시설,7종,,,,게이트볼장,,운동시설,5종,,,,운동시설,3종,,,,농구장,,운동시설,10종,,,,운동시설,16종,,,,운동시설,2종,,,,운동시설,1종,,,,농구장1,,,,배드민턴장1,,,,농구장1,배구장1,족구장1,,,,게이트볼장1,,,,축구장1,농구장1,,,,게이트볼장1,운동기구10,,,,대성묘지,,,,운동기구,,농구장,,,,운동기구,,족구장,,,,미집행,,,,조성중,,,,다목적구장,등,,,,족구장,등,,,,축구장,등,,,,운동기구,7개,,,,운동기구,8개소,,,,농구대1,운동기구5개,,,,농구대1,운동기구6개,,,,농구대1,운동기구7개,,,,농구대1,운동기구4개,,,,운동기구,4개,,,,운동기구,5,,,,족구장,운동기구,,,,운동기구,4,,철봉,2,,,,야외운동기구,10,,,,야외운동기구,6,,,,야외운동기구,4,,,,축구장,1,,다목적구장,2,,야외운동기구,13,,,,야외운동기구,4,,축구장(인조)1,,배구장,1,,족구장,1,,,,테니스장,1,,야외운동기구,1,,,,풋살,1,,족구장,2,,,,테니스장,1,,,,,야외운동기구,3,,,,야외운동기구,3,,농구장,1,,,,야외운동기구,3,,게이트볼장,,,,축구장1,,게이트볼장1,,,파크골프장1,,실내체육관1,,체력단련실,1,,실내수영장1,,야외농구장,1,,야외운동기구,1식,,,,야외운동기구,6,,농구장,1,,,,축구장,1,,족구장1,,농구장,1,,,야외운동기구,10,,,,축구장,1,,그라운드골프장,1,,야외운동기구,11,,,,배드민턴장,1,,야외운동기구,4,,,,야외운동기구,7,,,,야외운동기구,18,,,,야외운동기구,12,,,,야외운동기구,14,,,,지압로,32㎡,,,,지압로,23㎡,,,,등의자,6,,,,족구장,,농구장,,,,정구장,육상트랙,축구장,,,,풋살장,론볼장게이트볼장,,,,산책데크시설,,,,배드민턴장,운동기구,,,,다목적구장운동기구,,,,체육시설지구,,,,축구장,테니스장,파크골프장,산악자전거,체육관,,,,게이트볼장,족구장,농구장,운동기구,,,,축구장,테니스장,운동기구,,,,배드민턴장,체육시설지구족구장,,,,스포츠센타,게이트볼장,테니장,국궁장,다목적체육관,,,,다목적운동장,,체련단련장,,,,족구장,배드민턴장,,,,배드민턴,탁구,헬스,정구,,,,헬스,배드민턴,궁터,,,,운동장,배드민턴,,,,축구장,2,,족구장,18,,조정경기장,1,,,,엑스게임장,1,,,,배드민턴장,2,,농구장,1,,,,배드민턴장,3,,게이트볼장,1,,,,농구장,1,,,,게이트볼장,1,,,,배드민턴장,게이트볼장,족구장,,,,실내배드민턴장,,구민운동장,,다목적체육관,,골프연습장,,,,운동기구,1식,,,,체력단련장,,농구장,,족구장,,배드민턴장,,풋살장,,발맛사지장,,,,허리돌리기,1대윗몸일으키기,1대오금펴기,1대파도타기,1대공중걷기,1대역기올리기,1대달리기운동,1대,,,,14,,,,30,,,,13,,,,40,,,,17,,,,사격장,,,,철봉,등,6종,,,,철봉,2,,,,간이운동시설,17,,야외농구대,1,,,,야외운동기구,5,,,,체력단련시설,4,,,,트윈트위스트2,바웨이트2,,,,트윈트위스트2,트윈바디싣업1,트윈워밍암2,레그프레스1,크로스컨트리1,스텝싸이클1,워밍암1,풀웨이트1,,,,파워프레스6,풀웨이트3,러닝싸이클4,레그프레스2,트위스트8,바디싣업2,,,,,풀웨이트1,파워프레스1,트위스트1,,,,,배드민턴코트2,푸쉬웨이트1,터닝암1,파워프레스,풀웨이트1,,,,,농구대6,스트레칭로라3,크로스컨트리4,체어웨이트2,스텝싸이클4,체어풀3,워밍암3,트윈바디싣업5,풀웨이트5,트윈트위스트2,바웨이트2,레그프레스2,트윈워밍암1,,,,,달리기1,온몸당기기1,팔올리기1,어깨근육1,좌우흔들기1,다리걷기1,등허리안마1,,,,스트레칭로라1,크로스컨트리2,스텝싸이클2,워밍암2,풀웨이트3,,,,,달리기1,팔올리기2,팔내리기1,어깨근육1,다리밀기1,좌우흔들기2,다리걷기1,허리돌리기1,등허리안마1,온몸근육1,,,,온몸노젓기1,,하늘걷기1,,옆파도타기1,,온몸허리돌리기1,,등허리지압기,,1,,,,다리뻗치기1,,온몸근육풀기1,,온몸허리돌리기1,,등허리지압기1,,옆타도타기1,,,,크로스컨트리1,스텝싸이클1,워밍암1,,,,크로스컨트리2,체어웨이트1,체어풀1,트윈바디싣업1,풀웨이트2,,,,,배드민턴네트및포스트1,스트레칭로라1,크로스컨트리1,체어웨이트1,스텝싸이클2,체어풀1,워밍암2,트윈바디싣업1,풀웨이트1,,,,크로스컨트리1,체어풀1,워밍암1,,,,,생활체육시설4,,배드민턴장1,,,,풋살구장,,농구장,,인라인스케이트장,,,,지압보도,,,,농구장,1면,,마라톤,1면,,게이트볼장,1면,,테니스장,1면,,다목적구장,1면,,,,농구대,2개,,,,농구대,1개,,지압보도,,,,농구대,1개,,,,족구장,1면,,,,정구장1,,지압보도1,,,,,게이트볼장1,,축구장1,,테니스장1,,족구장1,,,,,다목적구장1,,,,농구장,,배드민턴장,,족구장,,테니스장,,X게임장,,,,농구장,,배드민턴장,,족구장,,인라인스케이트장,,,,농구장,,배드민턴장,,족구장,,축구장,,테니스장,,,,족구장,1면,,배더민턴장,2면,,,,농구장,1면,,,,테니스장,3면,,배더민턴장,,,,농구장,1면,,족구장,1면,,배더민턴장,2면,,인라인스케이트장,,,,족구장,1면,,정구장,3면,,,,배더민턴장,1면,,,,게이터볼장,1면,,,,족구장,1면,,배더민턴장,1면,,,,농구장,1면,,족구장,1면,,배더민턴장,1면,,,,농구장,1면,,족구장,2면,,테니스장,1면,,배더민턴장,2면,,,,게이트볼장,,배드민턴장,,족구장,,,,족구장,,배드민턴장,,운동장,,,,풋살경기장,,축구장,,농구장,,,,농구장,1면,,파크골프장1면,,게이트볼장1면,,테니스장1면,,다목적구장1면,,지압보도,,,,마라톤,1면,,,,농구대,2개,,마라톤,,지압보도,,,,농구대,4개,,지압보도,,,,농구장,1면,,마라톤,1면,,인라인스케이트장,1면,,게이트볼장,1면,,테니스장,1면,,미니축구장,1면,,,,베드민턴장,등,,,,농구장,,베드민턴장,등,,,,축구장,,농구장,,베드민턴장,등,,,,인라인장,,베드민턴장,등,,,,게이트볼장,,농구장,등,,,,운동장,,수영장,,야외운동시설,,,,베드민턴장,,야외운동시설,,,,베드민턴장,,테니스장,,야외운동시설,등,,,,테니스장,,야외운동시설,,,,게이트볼장,,야외운동기구,,,,농구장,,족구장,,인라인스케이트장,,,,농구장,,베드민턴장,,다목적구장,,,,온몸근육풀기외,2종,,,,온몸노젓기외,4종,,,,양팔줄당기기외,10종,,,,오팔펴기,외,19종,,,,달리기,외,7종,,,,하늘걷기,외,3종,,,,배드민턴지주,등,,,,하늘걷기,외,8종,,,,하늘걷기,외,7종,,,,크로스켠트리외,3종,,,,윗몸일으키기외,2종,,,,평행봉,외,9종,,,,배근력대,외,2종,,,,배근력대,외,4종,,,,크로스켠트리,외,12종,,,,농구대,외,16종,,,,농구대,외,2종,,,,평행잡기,외,13종,,,,배드민턴네트,외,7종,,,,2단철봉,외,12종,,,,평행봉,5종,,,,3단철봉,7종,,,,허리돌리기,외,4종,,,,옆파도,외,6종,,,,3단,철봉,외,3종,,,,양팔줄당기기2인,외,1종,,,,배드민턴장,외,3종,,,,3단철봉,외,6종,,,,평행봉,외,8종,,,,배드민턴,외,9종,,,,어깨근육2인,외,3종,,,,양팔줄당기기,외,6종,,,,평행봉,외,7종,,,,3단철봉,외,1종,,,,윗몸일으키기,외,12종,,,,평행봉,외,6종,,,,윗몸일으키기,외,3종,,,,거꾸리,외,7종,,,,어깨근육풀기,외,3종,,,,농구대,등,,,,온몸허리돌리기,외,15종,,,,3단철봉,외,2종,,,,어께근육풀기,외,7종,,,,양팔줄당기기,외,7종,,,,윗몸일으키기,외,7종,,,,하체흔들기,외,3종,,,,3단철봉,등,,,,온몸허리돌리기,외,9종,,,,윗몸일으키기,외,10종,,,,평행봉,외,2종,,,,족구지주,외,3종,,,,허리돌리기,외,2종,,,,배드민터코트,외,4종,,,,농구대,외,4종,,,,배근력대,외,3종,,,,어깨근육풀기,외,2종,,,,배드민턴,지주대,,등,,,,하체흔들기,외,12종,,,,양팔줄당기기외,5종,,,,하체흔들기,외,7종,,,,허리돌리기,외,8종,,,,온몸근육풀기,외,20종,,,,에어서핑,,노르딕머신,에어워킹,,트위스트,,워밍쇼울더,,바디싯업,,,,에어워킹,,에어서핑,,바디싯업,,,,에어워킹,,트위스트,바디싯업,,마사지롤라,,에어서핑,,,,노르딕머신,,마사지롤라,,트위스트,,에어서핑,,에어워킹,,워밍쇼울더,,,,레그프레스,,워밍암,,트윈트위스트,,에어서핑,,마사지롤라,,에어워킹,,노르딕머신,,오리다리펴기,흔들코끼리,,캥거루허리돌리기,흔들코끼리,,사자스텝퍼,오리다리펴기,,,,스트레칭롤라,,트윈바디싯업,,워밍암,,체어웨이트,,트윈트위스트,,롤링웨이스트,,크로스컨트리,,,,마사지롤라,,트위스트,,캥거루허리돌리기,흔들코끼리,,사자스텝퍼,오리다리펴기,,오리다리펴기,흔들코끼리,,에어워킹,,노르딕머신,,워밍쇼울더,,에어서핑,,레그프레스,,,,트윈바디싯업,,에어서핑,,노르딕머신,,사자스텝퍼,흔들코끼리,,캥거루허리돌리기,오리다리펴기,,흔들코끼리,,마사지롤라,,트윈트위스트,,워밍암,,에어워킹,,,,하늘걷기,,등허리지압기,,에어서핑2,,에어워킹,,트위스트,,,,온몸허리돌리기,,옆파도타기,,하늘걷기,,,,트위스트,,워밍쇼울더,,에어서핑,,철봉,,평행봉,,,,트위스트,,에어워킹,,에어서핑,,,,마라톤운동,,옆파도타기,,온몸허리돌리기,,,,크로스컨트리,,트윈바디싯업,,트윈트위스트,,스트레칭로라,,레그프레스,,롤링웨이스트,,워밍암,,,,에어워킹,,싸이클링,,에어서핑,,체어웨이트,,풀웨이트,,스트레칭로라,,레그프레스,,하체마사지기,,좌식자전거,,트윈전신지압기,,전신스트레칭머신,,,,풀웨이트,,트윈트위스트,,워밍암,,크로스컨트리,,,,워밍쇼울더,,사이클링,,에어워킹,,마사지롤라,,트위스트,,,,해당없음,,,,트윈트위스트,,싸이클링,,워밍쇼울더,,,,에어워킹,,워밍쇼울더,,에어서핑,,로우잉머신,,,,자전거발전기,,근육풀기발전기,,허리돌리기발전기,,파도타기발전기,,,,롤링웨이스트,,바디싯업,,체어풀,,스트레칭롤라,,체어웨이트,,워밍암,,,,트위스트,,마사지롤라,,에어워킹,,싸이클링,,워밍쇼울더,,로우잉머신,,노르딕머신,,,,스트레칭롤라,,롤링웨이스트,,트윈트위스트,,풀웨이트,,크로스컨트리,,,,크로스컨트리,,풀웨이트,,트위스트,,,,트윈바디싯업,,스트레칭롤라,,롤링웨이스트,,트윈트위스트,,크로스컨트리,,체어웨이트,,,,워밍쇼울더,,에어서핑,,체어웨이트,,,,레그프레스,,워밍암,,스텝사이클,,롤링웨이스트,,체어풀,,,,스트레칭롤러,,트윈트위스트,,레그프레스,,크로스컨트리,,풀웨이트,,,,25,,,,29,,,,71,,,,배드민터장,,운동기구3종,,,,운동기구,9종,,,,운동기구,16종,,,,테니스장,,베드민턴장,,게이트볼장,,농구장,,,,배드민턴장,,족구장,,체력단련시설,,,,체력단련시설,,배드민턴장,,풋살장,,게이트볼장,,인라인장,,농구장,,인공암벽,,파크볼장,,,,체련단련시설,,,,좌식사이클,,배드민턴장,,,,풀웨이트,,,,체어웨이트,,,,배드민턴,,체력단련시설,,,,게이트볼장,,농구장,,배드민턴장,,,,체력단련시설,,족구장,,배드민턴장,,,,체력단련시설,,지압보도,,,,좌식사이클,,,,트리플트위스트,,스텝사이클,,,,허리돌리기,,마라톤운동,,몸통돌리기,,,,전신하늘걷기,,다리쭉뻗치기,,,,온몸역기내리기,,등허리지압기,,온몸역기올리기,,,,온몸노젓기,,등허리지압기,,어깨근육풀기,,마라톤운동,,하체근육운동,,하늘걷기,,,,축구장,,족구장겸농구장,,육상트랙,,,,농구장,,다리말아올리기,,몸체말아올리기,,윗몸일으키기,,허리돌리기,,역기대,,의자겸팔굽혀펴기,,,,팔굽혀펴기,,허리돌리기,,배드민턴코드,,철봉,,인라인트랙,,자전거발전기,,,,복합형운동기구,,온몸노젓기,,,,플웨이트,,스텝사이클,,크라임스템퍼,,,,에어로빅장,,농구장,,,,테니스장,,씨름장,,농구장,,,,그라운드골프장,,,,축구장,,테니스장,,,,게이트볼,,농구,,테니스,,풋살,,족구,,,,테니스,,운동기구,,,,배드민턴장,농구대,운동기구,,,,농구대,운동기구,,,,게이트볼구장,운동기구,,,,족구장,핸드볼장,농구대,운동기구,,,,축구장,농구대,운동기구,,,,배구장,운동기구,,,,농구대,배드민턴장,운동기구,,,,농구대,다목적구장,운동기구,,,,농구대,배드민턴장,게이트볼구장,운동기구,,,,빙상경기장,배드민턴장,운동기구,,,,족구장,농구대,운동기구,,,,다목적구장,운동기구,,,,배드민턴장,게이트볼구장,이라인스케이트장,운동기구,,,,배드민턴장,게이트볼구장,테니스장,운동기구,,,,농구대,배드민턴장,게이트볼구장,X게임장,운동기구,,,,배드민턴장,축구장,풋살구장,,,,배구장,족구장,축구장,운동기구,,,,농구대,게이트볼구장,,,,회전무대,정글집,농구대,배드민턴장,운동기구,,,,배구장,축구장,농구대,운동기구,,,,족구장,게이트볼구장,운동기구,,,,족구장,게이트볼구장,농구대,운동기구,,,,배드민턴장,,농구장,궁도장,양궁장,,,,다목적,운동시설,,,,국궁장,,체력단련시설,,배드민턴장,,,,체력단련시설,,배드민턴장,,족구장,,,,체력단련시설,,농구장,,게이트볼장,,,,체육시설5,,,,체육시설4,,,,체육시설8,,농구대2,,,,체육시설6,,풋살구장1,,,,체육시설8,,,,체육시설2,,,,풋살구장1,,,,체육시설11,,미니골대2,,,,체육시설5,,농구대1,,풋살구장1,,,,다목적구장1,,농구대1,,체육시설16,,,,체육시설3,,,,체육시설6,,,,체육시설6,,농구대1,,,,체육시설10,,,,체육시설물4,,,,체육시설물9,,,,체육시설물3,,,,바디싣업1,스트레칭롤러1,전신돌리기1,허리안마기1,허리비틀기1,,,,TM스탭사이클1,TM체어웨이트1,TM트윈바디싣업1,TM트윈트위스트1,TM크로스컨트리1,TM풀웨이트1,,,,철봉1,,,,하늘걷기1,마라톤운동1,허리돌리기1,3단철봉,윗몸일으키기1,,,,철봉1,팔굽혀펴기1,몸통돌리기1,허리좌우로흔들기1,,,,스트레칭롤러1,풀웨이트1,바웨이트1,,,,하늘걷기1,온몸허리돌리기1,스트레칭기1,거꾸로매달리기1,,,,하늘걷기1,온몸허리돌리기1,등허리지압기1,철봉3,,,,스탭싸이클1,풀웨이트1,트리플트위스트2,트윈바디싣업1,크로스컨트리1,스트레칭롤러1,트윈워밍암1,,,,하늘걷기2,스탭싸이클1,체어폴1,철봉1,트리플트위스트2,트윈바디싣업1,,,,윗몸일으키기1,온몸허리돌리기1,팔굽혀펴기1,다리뻗치기1,온몸허리돌리기1,거꾸로매달리기1,,,,하늘걷기1,온몸허리돌리기1,옆파도타기1,,,,크로스워킹,스카이워킹1,파워프레스,풀웨이트1,싸이클론,트위스트1,스탠드업,마사지롤1,사이드스윙,터닝암1,푸시웨이트,레그프레스1,,,,평행봉1,,,,트윈바디싣업1,트윈트위스트1,스탭싸이클1,크로스컨트리1,체어풀1,,,,크로스컨트리1,자전거팔뻗기2,등안마기1,트윈워밍암1,체어웨이트1,오버턴스트레칭1,,,,크로스컨트리1,롤링웨이스트1,레그프레스1,트윈트위스트1,체어웨이트1,,,,족구장1,역기1,,,,등지압기1,마라톤운동,공중걷기운동1,허리돌리기,온몸돌리기1,,온몸역기올리기,온몸근육풀기1,,,,트리플트위스트1,트윈바디싣업1,크로스컨트리1,체어웨이트1,롤링웨이스트1,레그프레스1,오버턴스트레칭1,,,,윗몸일으키기2,트리플트위스트2,평행봉1,,,,크로스컨트리1,,레그프레스1,체어웨이트1,롤링웨이스트1,트윈바디싣업1,레그스트레칭1,,,,크로스컨트리1,어깨근육풀기1,체어웨이트1,트윈바디싣업1(구형),트리플트위스트1(구형),,,,헬스형,운동기구,등,,,,미끄럼틀,,그네,등,,,,게이트볼장,,풋살경기장,,,,조기체육장,등,,,,다목적운동장,등,,,,실내체육관,,인조잔디구장3,,풋살장,,체력단련장,,,,축구장,,농구장,,게이트볼장,,체력단련장,,,,테니스장,,축구장,,,,주민체육시설,,운동시설,,,,운동기구(18),,,,배드민턴장(1),,운동기구(6),,,,운동기구(4),,,,운동기구(8),,,,운동기구(5),,,,농구대(1),,운동기구(5),,,,운동기구(7),,,,농구대(2),,풋살장(1),,운동기구(5),,,,운동기구(6),,,,농구대(1),,,,농구대(1),,운동기구(6),,,,운동기구(9),,,,농구대(1),,운동기구(11),,,,운동기구(11),,,,농구대(1),,운동기구(10),,,,운동기구(3),,,,농구대(1),,운동기구(9),,,,인라인스케이트장(1),,운동기구(5),,,,농구대(2),,운동기구(6),,,,농구대(2),운동기구(4),,,,배드민턴장(2),,운동기구(4),,,,게이트볼장(1),,운동기구(4),,,,미니축구장(1),,,,농구대(2),,운동기구(8),,,,농구대(2),,,,배드민턴장(1),,운동기구(10),,,,농구대(1),,운동기구(19),,,,운동기구(10),,,,운동기구(20),,,,풋살구장(1),,,,배드민턴장(2),,운동기구(6),,,,운동기구(1),,,,씨름장(1),,운동기구(6),,,,족구장(2),,배드민턴장겸농구장(1),,,,국국장(1),,농구대(2),,운동기구(4),,,,운동기구(2),,,,체력단련시설,,농구장,,,,체력단련시설,,농구장,,배드민턴장,,축구장,,,,체력단련시설,,농구장,,배드민턴장,,,,배드민턴장,,농구장,,체력단련시설,,xgame시설,,,,체력단련시설,,축구장,,배드민턴장,,,,xgame시설,,,,체력단련시설,,농구장,,배드민턴장,,추구장,,,,파크골프장,,조깅트랙,,,,실내체육관,,테니스장,,xgame시설,,,,체력단련시설,,다목적운동장,,,,스케이트장,,,,풋살구장외4종,,,,축구장,외,2종,,,,배드민턴장외2종,,,,축구,족구,테니스,게이트볼장,,,,풋살구장외2종,,,,야외헬스기구,,,,배드민턴장,,야외헬스기구,,,,멀티스포츠센터,,,,족구장,,야외헬스기구,,,,인라인스케이트장,,야외헬스기구,,,,배드민턴장_농구장,,,,다목적구장(농구_풋살),,,,축구장_테니스_배드민턴장_다목적구장,,,,파크골프장_배드민턴장,,,,풋살장_게이트볼장,,,,배드민턴장_엑스게임장,,,,게이트볼장,,테니스장,,다목적구장,,,,배드민턴장,,농구장,,족구장,,,,축구장,,족구장,,농구장,,,,축구장,,족구장,,풋살장,,농구장,,,,배드민턴장,,테니스장,,,,배드민턴장,,족구장,,게이트볼장,,농구장,반코트,,,,배드민턴장,,지압보도,,,,체력단련,,,,철봉,팔굽혀펴기,평행봉,허리돌리기,배근력대,,,,스텝싸이클,체어플,트윈바디싣업,,,,역기내리기운동,역기올리기운동,노젓기운동,허리돌리기운동,양다리운동,옆파도타기운동,원그리기운동,,,,달리기,아래로당기기,앞으로밀기,체어풀,허리돌리기,공중걷기,윗몽일으키기,등허리지압기,하체흔들기,온몸근육풀기,,,,등허리지압기,온몸근육풀기,,,,마라톤운동,양다리운동,등허리근육풀기운동,옆파도타기운동,,,,회전놀이기구1개,흔들놀이기구5개,조합놀이대1개,,,,역기올리기운동,양다리운동,옆파도타기운동,원그리기운동,,,,노젓기운동,허리돌리기운동,양다리운동,옆파도타기운동,원그리기운동,,,,역기내리운동,역기올리기운동,양다리운동,옆파도타기운동,,,,역기내리기운동,역기올리기운동,양다리운동,옆파도타기운동,원그리기운동,,,,역기내리기운동,역기올리기운동,양다리운동,옆파도타기운동,,,,그네1개,흔들놀이기구6개,조합놀이대1개,,,,운동시설1,,,,운동시설6,,,,풋살장1,,,,농구대1,,운동기구6,,,,운동기구3,,베드민턴장1,,,,운동시설4,,,,체육시설7,,,,체육시설9,,,,체육시설3,,운동기구3,,,,체육시설8,,운동기구1,,농구대1,,,,체육시설4,,운동기구12,,,,체육시설6,,운동기구1,,농구대2,,,,체육시설5,,농구대1,,,,체육시설3,,운동기구2,,,,체육시설4,,철봉1,,,,체육시설3,,운동기구3,,농구대2조합놀이대1,,시소2,,철봉1,,,,체육시설5,,농구대2,,,,운동시설2,,,,배드민턴장,,농구장,,다목적,운동장,,,,축구장,배드민턴장,,,,배드민턴장,테니스장,,,,다목적운동장,농구장,배드민턴장,,,,게이트볼장,풋살경기장,,,,농구장,배드민턴장,역기,윗몸일으키기,등,,,,축구장,족구장,배드민턴장,농구장,,,,윗몸일으키기,팔굽혀펴기,철봉,평행봉,,,,농구장,배드민턴장,테니스장,,,,윗몸일으키기,허리돌리기,,,,농구장,배드민턴장,생활체육시설,등,,,,체력단련장,게이트볼장,인라인장,,,,농구장,생활체육시설,등,,,,철봉,평행봉,,,,게이트볼장,생활체육시설,철봉,,,,농구대,생활체육시설,철봉,평행봉,,,,게이트볼장,생활체육시설,윗몸일으키기,팔굽혀펴기,,,,철봉,생활체육시설,팔굽혀펴기,,,,조합놀이대,가위말차기,,,,농구대,철봉,,,,게이트볼장,테니스장,윗몸일으키기,평행봉,생활체육시설등,,,,농구장,테니스장,게이트볼장,윗몸일으키기,평행봉,등,,,,배드민턴장,생활체육시설,,,,게이트볼장,배드민턴장,농구장,철봉등,,,,농구대,생활체육시설,,,,농구대,철봉,평행봉,,,,생활체육시설,철봉,평행봉,,,,배드민턴장,생활체육시설,등,,,,농구대,배드민턴장,생활체육시설,,,,배드민턴장,농구대,생활체육시설,철봉,,,,운동기구14개,,농구장2개소,,족구장1개소,,,,운동기구6개,,족구장1개소,,,,운동기구10개,,,,운동기구4개,,,,운동기구7개,,,,체력단련시설,3기,,,,체육관(실내,배드민턴장),1개동,,배드민턴장,2개소,,체력단련시설,23기,,,,체력단련시설,8기,,,,체력단련시설,4기,,,,운동장,1개소,,배드민턴장,3개소,,골프연습장,1개소,,체력단련시설,81기,,,,체력단련시설,2기,,,,배드민턴장,1개소,,체력단련시설,8기,,,,농구장,1개소,,배드민턴장,1개소,,체력단련시설,30기,,,,배드민턴장,1개소,,체력단련시설,5기,,,,배드민턴장,1개소,,체력단련시설,11기,,,,체력단련시설,6기,,,,다목적운동장,1개소,,배드민턴장,1개소,,체력단련시설,8기,,,,농구장,1개소,,,,체력단련시설,5기,,,,배드민턴장,1개소,,,,배드민턴장,1개소,,체력단련시설,3기,,,,간이운동기구,,,,간이운동기구,농구장,,,,간이운동기구,게이트볼장,,,,간이운동기구,족구장,,,,1.체스트업머신,2.트위스트머신,3.평행봉,4.철봉,,,,1.트위스트머신,2.원그리기머신,3.하늘걷기머신,,,,1.철봉,2.그네,3.시소,4.양회전운동머신,5.마라톤운동머신,6.노젖기운동머신,7.양다리운동머신,8.다리운동머신,9.옆회전운동머신,,,,1.앉아서팔올리기머신,2.역기내리기,머신,3.마라톤,머신,,,,1.철봉,2.체스트업머신,3.트위스트머신,4.평행봉,,,,1.철봉,2.역기,3.지압머신,4.하늘걷기머신,5.앉아서팔올리기머신,6.역기내리기,머신,7.,옆회전운동머신,8.마라톤머신,9.양회전머신,10.체스트업머신,11.원그리기머신,12.말타기머신,13.다리밀기머신,14.트위스트머신,,,,게이트볼장,,수영장,,,,야외체력단련기구,,,,체육관,,,,족구장,,농구장,,,,공중가로젓기,,달리기,,역기밀기,,,,인라인스케이트장,,실내체육관,,축구장,,족구장,,테니스장,,,,베드민턴장,운동기구,,,,회전무대,정글집,농구대,베드민턴장,운동기구,,,,베드민턴장,농구대,운동기구,,,,농구대,베드민턴장,게이트볼구장,운동기구,,,,베드민턴장,게이트볼구장,이라인스케이트장,운동기구,,,,베드민턴장,게이트볼구장,테니스장,운동기구,,,,농구대,베드민턴장,게이트볼구장,X게임장,운동기구,,,,농구대,베드민턴장,운동기구,,,,베드민턴장,축구장,풋살구장,,,,야외운동기구,3,,농구대,,,,축구장,,족구장,,야외운동기구,10,,,,축구장,,야외운동기구,11,,,,배드민턴장,,야외운동기구,4,,,,지압로,1,,,,축구장,,풋살장,,야외운동기구,13,,,,빙상경기장,베드민턴장,운동기구,,,,운동공원,1개소,,체력단련시설,17개소,,,,농구장,1개소,,족구장,1개소,,운동기구,4개소,,,,체력단련장,1개소,,체력단련시설,6개소,,,,국궁장(영주정),1개소,,체력단련시설,5개소,,,,국궁장,2동,,운동장,1기,,체력단련장,1기,,,,체력단련시설,4개소,,,,체력단련시설,3개소,,,,국궁장1,1개소,,국궁장2,1개소,,체력단력장1,1개소,,체력단련장2,1개소,,체력단련시설,19개소,,,,조성계획,미수립,,,,야외형,운동기구,,,,게이트볼장,야외형,운동기구,,,,옥외수영장,,실내수영장(아쿠아시스),,다목적운동장,,길거리농구장,,풋살경기장,,파크골프장,,,,축구경기장,,야구경기장,,수영장,,헬스장,,테니스장,,스쿼시장,,인라인장,,사격장,,궁도장,,론볼장,,,,체력단련장,3개소,,,,도시개발,,,,체육진흥,,,,관광개발,,,,양궁장,,,,자연체험장,,,,체력단련장,,다목적운동장,,게이트볼장,등,,,,어린이운동시설,,,,배드민턴장,,체력단련기구,,,,농구장,,체력단련기구,,,,배드민턴장,,족구장,,체력단련기구,,,,농구장,,배드민턴장,,체력단련기구,,,,축구장,,농구장,,배드민턴장,,게이트볼장,,체력단련기구,,,,테니스장,,배드민턴장,,골프연습장,,체력단련기구,,,,배드민턴장,,게이트볼장,,체력단련기구,,,,농구장,,게이트볼장,,체력단련기구,,,,운동장,,농구장,,,,체력단련장,,체력단련시설,,턱걸이,,윗몸일으키기,,팔굽혀펴기,,역기들기,,,,농구장,,게이트볼장,,체력단련시설,,,,다목적운동장,,농구장,,잔디볼링장,,배구장,,테니스장,,게이트볼장,,배드민턴장,,체력단련장,,,,다목적운동장,,농구장,,테니스장,,게이트볼장,,체력단련장,,조깅코스,,배드민턴장,,인라인스케이트장,,,,레일바이크,,이색자전거길,,,,배드민턴장6,,,,배드민턴장1,,게이트볼장1,,,,운동장1,,축구장2,,농구장2,,배구장1,,배드민턴장8,,기타4,,,,농구장1,,배드민턴장4,,,,축구장1,,농구장1,,배드민턴장3,,,,배드민턴장1,,기타1,,,,운동장1,,테니스장1,,축구장1,,배드민턴장2,,,,배드민턴장1,,게이트볼장1,,기타2,,,,배드민턴장2,,,,농구장1,게이트볼장1,,,,농구장1,운동기구5,,,,천연잔디구장,,육상트랙,,인조잔디구장,,중앙광장,,휘트니스센터,및,궁도장,,,,배드민턴장,다목적구장,농구장,,,,다목적,운동마당,,,,다목적,운동장,,,,테니스장,,배드민턴장,,,,체력단력장,]'"
      ]
     },
     "execution_count": 84,
     "metadata": {},
     "output_type": "execute_result"
    }
   ],
   "source": [
    "# 특수문자로 구분된 값을 , 로 구분되게 변경합니다.\n",
    "# replace 기능을 사용해서 ,를 빈문자로 공백을 , 로 +를 ,로 변경합니다.\n",
    "gym = gym.replace(\"+\", \",\").replace(\"'\", \",\").replace(\"/\", \",\").replace(\" \", \",\")\n",
    "gym"
   ]
  },
  {
   "cell_type": "code",
   "execution_count": 86,
   "metadata": {
    "scrolled": false
   },
   "outputs": [
    {
     "data": {
      "text/plain": [
       "'nan,배드민턴장,농구장,배드민턴장,배드민턴장,게이트볼장,인라인스케이트장,배드민턴장,운동장,농구장,다목적운동장외,종,게이트볼장,농구대,배드민턴장,게이트볼장,롤러스케이트장,다목적운동장,운동장,다목적광장,체력단련시설,종,풋살경기장,족구장,게이트볼장,체력단련장,체력단련시설,게이트볼장,농구장,테니스장,인조잔디구장,천연잔디구장,축구장,농구장,농구장,운동장,게이트볼장,축구장,테니스장,다목적운동장,다목적운동장,테니스장,배드민턴장,배드민턴장,게이트볼장,농구장,테니스장,축구장,다목적운동장,궁도장,테니스장,체련단련장,다목적운동장,롤러스케이트장,다목적운동장,체력단련장,야외헬스형운동기구,개,야외헬스형운동기구,개,야외헬스형운동기구,개,야외헬스형운동기구,개,야외헬스형운동기구,개,다목적구장,테니스장,암벽등반,다목적운동장,배구장,배드민턴장,골프연습장,국궁장,골프연습장,체육시설물,체력단련장,배드민턴장,체력단련장,게이트볼잘,생활체육시설지,실내체육관,체력단련장,운동장,배드민턴장,놀이터,게이트볼장,배드민턴장,운동체육시설,테니스장,배구장,체육센타,게이트볼장,배드민턴장,게이트볼장,체력단련장,노르딕머신외종,노르딕머신외,종,트위스트외종,평행봉,외종,싸이클링외,종,크로스컨트리외종,풋살경기장,운동시설물,운동시설지,농구장,철봉외종,철봉,외,종,팔굽혀펴기,외종,허리돌리기,외종,스트레칭로라외종,농구대외종,철봉외,종,조종,윗몸일으키기,외종,윗몸일으키기,외종,다리굽혀펴기,외종,크로스컨트리,외종,공중걷기,외종,게이트볼장,외종,에어서핑,외종,조종,조종,조종,조종,조종,조종,조종,조종,개방형,체육관,체력단련장,축구장,체력단련장(A~C),다목적구장,농구장,배드민턴장,운동공간,족구장,배구장,배드민턴장,체력단련시설,인라인스케이트장,운동장,족구장,농구장,체력단련시설,운동장,축구장,체력단련시설,실내배드민턴장,게이트볼장,체력단련시설,농구장,롤러스케이트장,농구장,스포츠파크,배드민턴장,인라인스케이트장,축구장,씨름장,배구,배스민턴,축구장,야외헬스형운동기구,개,야외헬스형운동기구,개,야외헬스형운동기구,개,야외운동기구,축구장,테니스장,배구,배드민턴,야외운동기구,농구장,배드민턴장,야외운동기구,게이트볼장,다목적운동장,야외운동기구,야외운동기구,배드민턴장,농구장,체력단련시설,다목적운동장,게이트볼장,인라인스케이트장,체력단련시설,다목적운동장,야외운동기구,배드민턴장,야외운동기구,야외배드민턴장,체력단련시설,오금펴기,외종,워밍업,외종,롤링웨이스트,외종,노르딕머신외,종,노르딕머신외,종,등치기,크로스컨트리오,종,스텝싸이클외,종,하늘걷기,외종,에어워킹,외종,등펴기외,종,위밍쇼울더,외종,싸이클링,외종,온몸근육풀기,외종,노르딕머신,에어위킹,레그프레스,외,종,에어서핑,외,종,스텝싸이클,등,종,워밍암,외종,트윈트위스트,외종,허리돌리기,외종,싸이클링,외,종,마레트골프장,생활체육시설,종합체육관,외종,농구장,외종,농구대,외종,마레트골프장,외,종,운동시설,야외체육시설,야외체육시설,게이트볼장,외,종,게이트볼장,외종,철봉,외종,체력단련장,외종,야외체육시설,운동시설물,외종,게이트볼장,외종,웨밍암,외종,서핑롤링머신,외종,지압보도외종,농구대외종,에어워킹,외종,어깨관절놀이,외종,어깨관절놀이,외종,농구대외,종,평행봉외,종,야외체육시설물,윗몸일으키기외종,평행봉외종,스텝싸이클,등,싸이클링,외,종,트위스트외,종,다목적구장외종,운동시설물,축구장,외종,배드민턴장,외종,생활체육시설,외종,축구장,외종,평행봉,외종,스텝싸이클외종,농구대외,종,바디실업외,종,노르딕머신외종,베드민턴장외종,노르딕머신외종,허리돌리기외종,싸이클링,외,종,싸이클링,외종,싸아클링,외종,베드민턴및,포스트,싸이클링외,종,미니축구장,미니축구장,농구장,축구장,농구장,배구장,인라인장,농구장,게이트볼장,체력단련시설,운동장,게이트볼장,체력단련장,배드민턴장,체력단련장,배드민턴장,운동장,체력단련시설,게이트볼장,농구장,족구장,체력단련시설,실내,게이트볼장,체력단련시설,배드민턴장,야외헬스장,농구장,체력단련시설,다목적운동장,인라인장,축구장,풋살장,배드민턴장,족구장,게이트볼장,농구장,체력단련시설,다목적운동장,생홀체육관,배드민턴장,게이트볼장,농구대,체력단련시설,게이트볼장,농구장,체력단련시설,운동기구,종,운동기구,종,운동기구,종,운동기구,종,체력단련장,체력단련시설,국궁장,농구장,배드민턴장,체력단련시설,배드민턴장,체력단련시설,배드민턴장,다목적운동장,체력단련시설,잔디운동장,축구장,풋살장,족구장,농구장,족구장,다목적운동장,족구장,축구장,운동장,축구장,배드민턴장,농구대,배드민턴장,인라인장,농구대,운동기구종,운동장,배구장,농구장,농구대,풋살구장,체력단련장,체육관,(게이트볼삭제요청),운동장,체력단련장,게이트볼장,운동기구,종,다목적운동장,수영장,실내베드민턴장,웅동기구종,체력단련시설,개,게이트볼장,멀티코트,운동장,게이트볼장,체력단련장,배구장,게이트볼장,베드민턴장,체력단련장,다이나트랙,베드민턴장,배드민턴장,운동장,다목적운동장,베드민턴장,체력단련장,농구장,다목적운동장,운동기구,종,골프연습장,눈썰매장,체력단련장,궁도장,실내베드민턴장,인라인스케이트장,농구장,족구장,운동기구,운동기구,운동기구,체력단련시설,운동장(농구대),실내다목적체육관,체력단련시설,야외헬스형운동기구,개,야외헬스형운동기구,개,다목적운동장,조깅트랙,배드민턴장,게이트볼장,야외헬스형,운동기구,개,야외헬스형운동기구,개,야외헬스형운동기구,개,테니스장,골프장,승마장,벤치,실내체육관,생활운동시설,축구장,실내배드민턴장,체력단련시설,하늘걷기,마라톤운동,하늘걷기,마라톤운동,생활체육관,농구장,베트민턴장,풋살장,농구장,족구장,배드민턴장,개소,야구장,축구장,다목적구장,베드민턴장,축구장,베드민턴장,농구장,족구장,게이트볼장,다목적구장,운동기구,등,축구장,실내배드민턴장,배구장,씨름장,농구장,체력단련장,다목적운동장,체력단련시설,농구장,배드민턴장,축구장,등,허리돌리기,철봉,평행봉,역기올리기,등,철봉,평행봉,공중걷기,허리돌리기,등,철봉,평행봉,허리돌리기,공중걷기,등,허리돌리기,다리흔들기,다리올리기,온몸펴기,등,농구장,배드민턴장,등,풋살장,배드민턴장,족구장,배드민턴장,발지압장,게이트볼장,농구장,궁도장,신체단련장,테니스장,실내체육관,다목적운동장,야외운동장,배드민턴장,운동기구,풋살장,배드민턴장,다목적구장,맨발공원,농구장,족구장,암벽등반,실내체육관,배드민턴장,야외헬스형운동기구,개,농구장,야외헬스형운동기구,개,게이트볼장,다목적운동장,야외헬스형운동기구,개,야외헬스형운동기구,개,야외헬스형운동기구,개,게이트볼장,배드민턴장,야외헬스형운동기구,개,배드민턴장,다목적운동장,야외헬스형운동기구,개,야외헬스형운동기구,개,야외헬스형운동기구,개,야외헬스형운동기구,개,야외헬스형운동기구,개,야외체력단련시설,야외체력단련시설,테니스장,야외체력단련시설,게이트볼장,야외체력단련시설,족구장,농구장,테니스장,골프연습장,궁도장,게이트볼장,골프연습장,테니스장,국궁장,체력단련시설,운동기구,등,운동기구,등,운동기구,등,운동기구,등,운동기구,등,운동기구,등,운동기구,등,운동기구,등,운동기구,운동기구,등,생활체육공간,지압보도,생활체육공간,운동기구,등,다목적운동장,파크골프장,게이트볼장,체력단련시설,테니스장,게이트볼장,체력단련시설,농구장,배드민턴장,인라인장,족구장,풋살장,풋살장,농구대,농구장,배구장,배드민턴장,축구장,다목적운동장,배트민턴장,테니스장,배구장,농구장,농구장,조깅코스,체력단련시설,운동장(축구골대,농구대),체력단련시설,게이트볼장,농구장,야외배드민턴장,축구장,테니스장,농구장,게이트볼장,실내배드민턴장,체력단련시설,국궁장,다목적운동장,농구장,실내배드민턴장,게이트볼장,체력단련시설,풋살구장,농구장,족구장,인라인롤러,경기장,대구스타디움,육상진흥센터,테니스장,야구장,두류수영장,풋살장,인라인스케이트장,게이트볼장,농구장,다목적운동장,배드민턴장,파크골프장,체력단련시설,게이트볼장,체력단련시설,농구장,야외배드민턴장,인라인스케이트장,실내배드민턴장,체력단련시설,멀티코트,체력단련시설,운동시설물,배드민턴장,농구대,족구대,농구장,배드민턴장,배드민턴장,농구장,체력단련장,운동기구,게이트볼장,배드민턴장,농구장,등,궁도장,다목적운동장,배드민턴장,등,운동기구,등,체육관,농구장,체력단련시설,족구장,체력단련시설,풋살장,체력단련시설,풋살장,배드민턴장,축구장,농구장,족구장,게이트볼장,배드민턴장,등,옆파도타기,마라톤운동,하늘걷기,등,허리돌리기,팔돌리기,등,축구장,농구장,족구장,등,농구장,허리돌리기,팔돌리기,등,테니스장,허리돌리기,파도타기,공중걷기,등,허리돌리기,파도타기,공중걷기,등,허리돌리기,윗몸일으키기,등,공중걷기,등,공중걷기,허리돌리기,파도타기,등,공중걷기,허리돌리기,허리돌리기,철봉,평행봉,등,터닝트위스트,워밍암,롤링웨이스트,허리돌리기,농구장,허리돌리기,허리돌리기,평행봉,철봉,파도타기,공중걷기,허리돌리기,허리돌리기,공중걷기,파도타기,등,농구장,허리돌리기,등,오금펴기,달리기운동,오금펴기,등,허리돌리기,롤링웨이스트,등,공중걷기,허리돌리기,공중걷기,역기올리기,등,크로스컨트리,트윈트위스터,롤링웨이스트,등,공중걷기,파도타기,허리돌리기,파도타기,공중걷기,팔돌리기,등,철봉,허리돌리기,팔돌리기,등,공중걷기,팔돌리기,등,공중걷기,트윈트위스트,롤링웨이스트,등,트윈트위스트,롤링웨이스트,스트레칭로라,공중걷기,팔돌리기,등,평행봉,철봉,공중걷기,등,허리돌리기,배드민턴장,허리돌리기,공중걷기,등,농구장,등,농구장,그라운드골프장,등,농구장,헐리돌리기,공중걷기,등,평행봉,다리흔들기,허리돌리기,등,온몸펴기,공중걷기,허리돌리기,등,평행봉,허리돌리기,팔비틀기,등,축구장,철봉,평행봉,허리돌리기,등,평행봉,트위스트,허리돌리기,등,역기올리기,롤링웨이스트,트위스터,등,족구장,허리돌리기,공중걷기,등,풋살장,게이트볼장,게이트볼장,다목적구장,골프연습장,다목적운동장,정구장,농구장,배드민턴장,축구장,게이트볼장,인라인스케이트장,다목적구장,다목적운동장,게이트볼장,농구장,배구장,배드민턴장,농구장,게이트볼장,배드민턴장,다목적운동장,수영장,암벽장,풋살장,축구장,야구장,농구장,인라이스케이트장,체력단련시설,점,체력단련시설,점,체력단련시설,점,체력단련시설,점,체력단련시설,점,체력단련시설,점,운동장,개소,테니스장,개소,체력단력시설,점,운동장,개소,테니스장,개소,수영장,개소,배드민턴,개소,게이트볼,개소,체력단력시설,점,체력단련시설,점,체력단련시설,점,운동장개소,배드민턴,개소,체력단련시설,점,배드민턴장,개소,체력단련시설,점,체력단련시설,점,체력단련시설,점,운동장,개소,배드민턴,개소,체력단력시설,점,체력단련시설,점,체력단련시설,점,태양광벤치,공원등,농구골대,평행봉,철봉,평행봉,철봉,평행봉,야외운동기구,평행봉,철봉,농구대,농구장,철봉,평행봉,농구장,야외운동기구,철봉,야외운동기구,농구대,야외운동기구,야외운동기구,게이트볼장,야외운동기구,족구장,농구장,운동시설,다목적광장,농구장,게이트볼장,배드민턴장,미니축구장,농구장,족구장,배구장,인라인트랙,다목적운동장,실내배드민턴장,체력단련시설,야외배드민턴장,게이트볼장,실내배드민턴장,체력단련시설,족구장,체력단련시설,축구장,게이트볼장,농구장,인라인스케이트장,테니스장,실내배드민턴장,체력단련시설,게이트볼장,족구장,체력단련시설,풋살구장,농구장,족구장,실내배드민턴장,체력단련시설,배드민턴장,체력단련시설,족구장,배드민턴장,체력단련시설,운동기구,야외운동기구,다목적구장,족구장,야외운동기구,족구장,게이트볼장,농구장,야외운동기구,인조잔디구장,게이트볼장,야외운동기구,국궁장,게이트볼장,인라인스케이트장,야외운동기구,인조잔디구장,야외운동기구,베드민턴장,야외운동기구,농구장,야외운동기구,궁도장,게이트볼장,테니스장,다리펴기,허리돌리기,역기내리기,어깨돌리기,등,자전거타기,허리돌리기,등,자전거타기,등,윗몸일으키기,파도타기,하늘걷기,등,하늘걷기,허리돌리기,등,하늘걷기,양팔,밀기,하늘걷기,파도타기,마라톤운동,등,어깨돌리기,파도타기,마라톤운동,등,하늘걷기,어깨돌리기,등,어깨돌리기,양팔밀기,등,유아용,운동시설,등,다리펴기,자전거타기,등,등허리지압기,어깨돌리기,허리돌리기,등,허리돌리기,등,허리돌리기,하늘걷기,등,철봉,허리돌리기,등,윗몸일으키기,등,철봉,등,하늘걷기,등,허리돌리기,족구장,등,철봉,윗몸일으키기,등,허리돌리기,양팔밀기,등,어깨돌리기,양팔밀기,허리돌리기,등,허리돌리기,하늘걷기,등,윗몸일으키기,허리돌리기,등,족구장,농구장,등,배드민턴장,인라인스케이트,장,등,허리돌리기,역기,등,양팔돌리기,노젓기,등,철봉,허리돌리기,하늘걷기,등,허리돌리기,하늘걷기,파도타기,등,체력단련장,국궁장,게이트볼장,배드민턴장,다목적운동장,테니스장,농구장,풋살경기장,수영장,게이트볼장,농구장,운동기구,운동기구,국궁장,어린이놀이시설,배드민턴장,농구장,체력단련시설,다목적운동장,체력단련시설,베드민턴장,농구장,체력단련시설,철봉,풋살결기장,체력단련시설,정구장,소운동장,체조장,풋살구장,테니스장,농구장,족구장,농구장,운동기구,게이트볼장,배드민턴,족구장,운동기구,게이트볼장,운동기구,게이트볼장,배드민턴장,운동기구,운동기구,농구대,배드민턴장운동기구,운동기구,운동기구,농구대,배드민턴,운동기구,운동기구,운동기구,운동기구,농구대,운동기구,농구대,배드민턴,운동기구,게이트볼장,농구대,배드민턴장,족구장,운동기구,게이트볼장,농구대,배드민턴장,운동기구,운동기구,운동기구,게이트볼장,배드민턴장,운동기구,농구대,테니스장,미조성,운동기구,농구대,배드민턴장,운동기구,다목적운동장,풋살장,운동기구,운동기구,운동기구,농구대,족구장,운동기구,운동기구,농구대,다목적운동장,족구장,운동기구,운동기구,운동기구,배드민턴장,공연장,수영장,축구장,운동기구,농구대,운동기구,농구대,운동기구,게이트볼장,운동기구,농구대,운동기구,운동기구,운동기구,농구대,운동기구,농구대,운동기구,농구대,운동기구,배드민턴장,운동기구,운동기구,농구대,운동기구,농구대,운동기구,게이트볼장,운동기구,운동기구,게이트볼장,운동기구,농구대,운동기구,농구대,운동기구,배드민턴장,운동기구,농구대,다목적운동장,운동기구,다목적운동장,운동기구,운동기구,농구대,배드민턴장,운동기구,농구대,배드민턴장,운동기구,농구대,농구대,미니축구골대,운동기구,농구대,운동기구,농구대,다목적운동장,운동기구,농구대,다목적운동장,운동기구,다목적운동장,운동기구,농구대,배드민턴장,운동기구,운동기구,농구대,운동기구,농구대,운동기구,게이트볼장,운동기구,농구대,운동기구,농구대,운동기구,농구대,운동기구,농구대,풋살장,족구장,운동기구,농구대,다목적운동장,농구대,배구장,농구대,운동기구,배드민턴장,운동기구,운동기구,배구장,농구대,다목적구장,롤러스케이트장,운동기구,축구장,농구대,테니스장,게이트볼장,체육관,축구장,국궁장,테니스장,족구장,농구장,야구장,풋살장,테니스장,배드민턴장,다목적실설,다목적구장,게이트볼장,배드민턴장,농구장,운동기구,자전거,보관소,등,풋살경기장,산책로,운동기구,종,운동기구,종,운동기구,종,운동기구,종,운동기구,종,다목적운동장,족구장,테니스장,농구장,풋살장,리틀야구장,다목적체육관,다목적체육관,풋살장,농구장,테니스장,족구장배드민턴장,게이트볼장,등,배드민턴장(족구장겸),운동시설,등,배드민턴장,농구장,게이트볼장,체력단련장,등,족구장,풋살장,축구장,풋살장,농구장,축구장,론볼링장,궁도장,썰매장,간이수영장,다목적구장,농구장,게이트볼장,배드민턴장,족구장,농구장,배드민턴장,축구장,인라인장,테니스장,족구장,다목적운동장,다목적운동장,농구장,체력단련시설,등,체력단련시설,및,극기훈련시설,야외체육시설(팔굽혀펴기,등),야외체육시설(온몸근육풀기,등),족구장,체력단련장,야외체육시설,야외체육시설(트윈워밍암,등),야외체육시설(온몸허리돌리기,등),궁도장,배드민턴장,체력단련시설,테니스장,농구장,배드민턴장,체력단련시설,테니스장,배드민턴장,체력단련시설,농구장,배드민턴장,체력단련시설,육상경기장·게이트볼장·배구장·배드민턴장·농구장·체력단련장·골프연습장·풋살경기장·자연체험장·국민체육센터·테니스장·역도훈련장,축구장·트랙·다목적체육시설·씨름장·체력단련시설,족구장,배드민턴장,테니스장,농구장,풋살장,배드민턴장,게이트볼장,테니스장,다목적운동장,배드민턴장,게이트볼장,배드민턴장,농구장,다목적은동장,다목적운동장,게이트볼장,다목적운동장,게이트볼장,배드민턴장,다목적운동장,농구장,소규모운동장,족구경기장,실외운동기구,실외운동기구,농구장,인라인스케이트장,풋살장,축구장,농구장,트랙,배드민턴장,게이트볼장,파크골프장,축구장,풋살장,농구장,트랙,배드민턴장,풋살장,인라인장(X게임장),풋살장,배드민턴장,족구장,등,X게임장,농구장,배드민턴장,농구장,배드민턴장,인라인스케이트장,축구장,농구장,배드민턴장,족구장,농구장,족구장,족구장,배드민턴장,게이트볼장,축구장,등,테니스장,농구장,족구장,배드민턴장,축구장,등,농구장,배드민턴장,게이트볼장,X게임장,배트민턴장,축구장,야구장,배드민턴장,테니스장,농구장,족구장,등,배드민턴장,게이트볼장,배드민턴장,족구장,체력단련장,등,배드민턴장,족구장,그라운드골프장,다목적구장,등,배드민턴장,농구장,배드민턴장,게이트볼장,농구장,족구장,배드민턴장,게이트볼장,농구장,농구장,게이트볼장,게이트볼장,운동시설,축구장,족구장,족구장,배드민턴장,운동장,윗몸일으키기,공중걷기,마라톤운동,등,마라톤운동,하체돌리기,공중걷기,등,레그프레스,워밍암,등,크로스컨트리,스트레칭로라,등,윗몸일으키기,역기올리기,등,농구장,하늘걷기,허리돌리기,등,공중걷기,허리돌리기,등,농구골대,야외,헬스기구,트위스트,스카이워킹,등,공중걷기,자전거타기,윗몸일으키기,등,철봉,허리돌리기,등,윗몸일으키기,다리벌리기,팔굽혀펴기,등,윗몸일으키기,자전거타기,공중걷기,등,베드민턴,체력단련시설,게이트볼장,체력단련시설,인조잔디구장,체력단련시설,배구장,체력단련시설,농구대,체력단련시설,족구장,체력단련시설,X게임장,X게임장,체력단련시설,운동장,풋살장,체력단련시설,풋살장,체력단련시설,배드민턴장,농구장,풋살장,체력단련시설,배드민턴장,체력단련시설,다목적구장,야외운동기구,등,시민운동장,실내체육관,씨름장,축구장,궁도장,게이트볼장,마라톤운동기,심판의자,옆파도타기,온몸근육풀기,온몸노젓기,온몸역기올리기,온몸허리돌리기,윗몸일으키기,족구대,족구장,철봉,평행봉,하늘걷기,다리뻗치기,등허리지압기,옆파도타기,온몸근육풀기,온몸허리돌리기,평행봉,하늘걷기,등허리지압기,레그프레스,마라톤운동,장형,배드민턴장,배드민턴지주대,옆파도타기,온몸역기내리기,온몸허리돌리기,윗몸일으키기,파크골프장,하늘걷기,레그프레스,롤링웨이스트(일반형),바디싣업,스트레칭로라,체어웨이트,크로스컨트리,트윈트위스트,네트걸이,농구대,농구장,다리걸기,다리뻗치기,등부딪히기,등허리지압기,마라톤운동기,매달리기,미니철봉,배드민턴장,벤치프레스,양팔줄당기기,어깨근육풀기,옆파도타기,온몸근육풀기,온몸노젓기,온몸역기올리기,온몸허리돌리기,원형목재,평균대,윗몸일으키기,지압보도,철기둥,철봉,철봉,링,팔굽혀피기,평균대,평행봉,하늘걷기,하늘사다리,허벅지근육풀기,게이트볼장,농구대(이동식),다리걸치기,데크관람대,배드민턴장,배드민턴지주대,벤치프레스,어깨근육풀기,옆파도타기,온몸근육풀기,온몸노젓기,온몸허리돌리기,운동장,윗몸일으키기,지압보도,철봉,철봉,링,팔굽혀피기,평행봉,풋살경기장,하늘걷기,농구대,어깨근육풀기,온몸허리돌리기,운동장,족구대,철봉,평행봉,하늘걷기,어깨근육풀기,옆파도타기,온몸노젓기,온몸허리돌리기,하늘걷기,고무칩포장,레그프레스,롤링웨이스트(일반형),바디싣업,스텝싸이클,스트레칭로라,원형뜀틀,체어웨이트,크로스컨트리,트윈트위스트,고무칩포장,다리뻗치기,등허리지압기,스텝싸이클,어깨근육풀기,옆파도타기,온몸역기올리기,온몸허리돌리기,윗몸일으키기,하늘걷기,배드민턴장,배드민턴지주대,온몸근육풀기,온몸역기올리기,온몸허리돌리기,등허리지압기,배드민턴장,배드민턴지주대(이동식),온몸근육풀기,온몸역기올리기,온몸허리돌리기,어깨근육풀기,옆파도타기,온몸허리돌리기,인라인스케이트장,하늘걷기,배드민턴,라인마킹,배드민턴,포스트,배드민턴장,옆파도타기운동,오금펴기운동,온몸근육운동,하늘걷기운동,허리돌리기운동,농구대,농구장,등허리지압기,마라톤운동기,벤치프레스,온몸근육풀기,온몸노젓기,온몸역기올리기,온몸허리돌리기,윗몸일으키기,지압보도,하늘걷기,농구대,농구장,다목적경기장,등허리지압기,마라톤운동,배드민턴장,온몸노젓기,하늘걷기,허리돌리기,다리뻗치기,등허리지압기,마라톤운동,옆파도타기,온몸근육풀기,온몸노젓기,온몸역기내리기,온몸역기올리기,온몸허리돌리기,테니스,네트대,테니스장,하늘걷기,다리근육풀기,등허리지압기,온몸역기올리기,윗몸일으키기,지압보도,하늘걷기,다리뻗치기,마라톤운동기,옆파도타기,온몸근육풀기,온몸역기내리기,온몸허리돌리기,윗몸일으키기,하늘걷기,마라톤운동기,옆파도타기,온몸근육풀기,온몸역기내리기,온몸허리돌리기,윗몸일으키기,자유철봉기,옆파도타기운동,오금펴기운동,온몸근육풀기운동,하늘걷기운동,허리돌리기운동,네트걸이대,운동장,평행봉,풋살골대,농구대,농구장,다리뻗치기,마라톤운동기,배드민턴장,양팔줄당기기,어깨근육풀기,옆파도타기,온몸역기내리기,온몸역기올리기,온몸허리돌리기,지압보도,철봉,평행봉,하늘걷기,네트걸이대,미니축구장골대,어깨근육풀기,온몸허리돌리기,족구장,축구대,축구장,하늘걷기,레그프레스,옆파도타기,온몸역기올리기,온몸허리돌리기,하늘걷기,농구대,농구장,미니축구장,어깨근육풀기,옆파도타기,온몸허리돌리기,윗몸일으키기,족구대,족구장,축구대,하늘걷기,마라톤운동기,배드민턴장,배드민턴지주대,어깨근육풀기,옆파도타기,온몸근육풀기,온몸허리돌리기,하늘걷기,마라톤운동기,어깨근육풀기,옆파도타기,온몸허리돌리기,하늘걷기,등허리지압기,옆파도타기,온몸근육풀기,온몸허리돌리기,윗몸일으키기,하늘걷기,옆파도타기,온몸역기올리기,온몸허리돌리기,윗몸일으키기,하늘걷기,농구대,배구네트대,어깨근육풀기,옆파도타기,온몸역기내리기,온몸허리돌리기,하늘걷기,옆파도타기,온몸허리돌리기,하늘걷기,등허리지압기,온몸근육풀기,온몸역기내리기,하늘걷기,등허리지압기,온몸근육풀기,온몸역기내리기,온몸허리돌리기,족구대,하늘걷기,다리뻗치기,등허리지압기,어깨근육풀기,온몸근육풀기,온몸허리돌리기,윗몸일으키기,옆파도타기,철봉,하늘걷기,옆파도타기,온몸역기올리기,하늘걷기,다리뻗치기,등허리지압기,스텝싸이클,옆파도타기,온몸허리돌리기,윗몸일으키기,하늘걷기,다리뻗치기,등허리지압기,옆파도타기,온몸역기올리기,윗몸일으키기,하늘걷기,레그프레스,크로스컨트리,트윈트위스트,레그프레스,트윈트위스트,옆파도타기,온몸근육풀기,온몸역기올리기,온몸허리돌리기,하늘걷기,마라톤운동기,옆파도타기,온몸근육풀기,온몸허리돌리기,하늘걷기,다리뻗치기,온몸노젓기,온몸허리돌리기,윗몸일으키기,옆파도운동,오금펴기운동,온몸근육운동,하늘걷기운동,체어웨이트,크로스컨트리,트윈트위스트,온몸역기올리기,온몸허리돌리기,하늘걷기,다리뻗치기,온몸근육풀기,온몸역기내리기,윗몸일으키기,마라톤운동기,윗몸일으키기,다리뻗치기,마라톤운동기,발바닥지압걷기,온몸돌리기,온몸역기내리기,온몸역기올리기,탄성고무칩포장,하늘걷기,등허리지압기,온몸근육풀기,온몸허리돌리기,윗몸일으키기,등허리지압기,마라톤운동기,온몸노젓기,등허리지압기,온몸노젓기,온몸허리돌리기,하늘걷기,옆파도타기,온몸근육풀기,온몸허리돌리기,하늘걷기,옆파도타기,온몸근육풀기,온몸역기내리기,온몸허리돌리기,하늘걷기,어깨근육풀기,온몸허리돌리기,하늘걷기,스트레칭로라,크로스컨트리,트윈트위스트,다리근육풀기,양팔줄당기기,어깨근육풀기,옆파도타기,오금펴기,온몸노젓기,온몸허리돌리기,하늘걷기,마라톤운동기,온몸근육풀기,윗몸일으키기,등허리지압기,배드민턴대,배드민턴장,온몸허리돌리기,하늘걷기,롤링웨이스트(일반형),스텝싸이클,체어웨이트,등허리지압기,마라톤운동기,온몸노젓기,온몸역기올리기,온몸허리돌리기,마라톤운동기,어깨근육풀기,온몸허리돌리기,고무칩포장,마라톤운동기,온몸노젓기,온몸역기올리기,온몸허리돌리기,게이트볼장,옆파도타기,온몸근육풀기,온몸허리돌리기,하늘걷기,오금펴기운동,온몸근육운동,하늘걷기운동,허리돌리기운동,등허리지압기,어깨근육풀기,옆파도타기,온몸허리돌리기,하늘걷기,마라톤운동기,온몸근육풀기,온몸역기올리기,온몸허리돌리기,마라톤운동기,옆파도타기,온몸역기올리기,온몸허리돌리기,하늘걷기,마라톤운동기,배드민턴대,배드민턴장,옆파도타기,온몸허리돌리기,하늘걷기,온몸노젓기,온몸역기올리기,온몸허리돌리기,어깨근육풀기,온몸역기내리기,온몸허리돌리기,하늘걷기,옆파도타기,온몸근육풀기,온몸노젓기,온몸허리돌리기,하늘걷기,마라톤운동기,옆파도타기,온몸근육풀기,온몸허리돌리기,윗몸일으키기,하늘걷기,다리뻗치기,등허리지압기,배드민턴장,배드민턴지주대,옆파도타기,하늘걷기,어깨근육풀기,옆파도타기,온몸역기내리기,온몸허리돌리기,족구장,족구지주,하늘걷기,다리근육풀기,등허리지압기,옆파도타기,온몸근육풀기,온몸허리돌리기,하늘걷기,마라톤운동,하늘걷기,허리돌리기,다리뻗치기,옆파도타기,온몸근육풀기,온몸허리돌리기,윗몸일으키기,하늘걷기,옆파도운동,오금펴기운동,하늘걷기운동,허리돌리기운동,마라톤운동기,옆파도타기,하늘걷기,마라톤운동기,옆파도타기,온몸근육풀기,온몸허리돌리기,이형판석포장,하늘걷기,마라톤운동기,온몸근육풀기,온몸역기내리기,온몸허리돌리기,윗몸일으키기,탄성고무칩포장,마라톤운동기,옆파도타기,온몸근육풀기,윗몸일으키기,탄성고무칩포장,농구대,농구장,옆파도타기,온몸허리돌리기,윗몸일으키기,농구대,농구장,다리뻗치기,어깨근육풀기,옆파도타기,온몸허리돌리기,하늘걷기,다리쭉뻗기,허리돌리기,배드민턴장,배드민턴지주대,어깨근육풀기,상체근육풀기,크로스컨츄리,전신하늘걷기,다리뻗치기,옆파도타기,마라톤운동,온몸허리돌리기,어깨근육풀기,하늘걷기,온몸노젓기,하늘걷기,롤링웨이스트(일반형),스텝싸이클,체어웨이트,트윈트위스트,마라톤운동기,옆파도타기,온몸근육풀기,온몸역기올리기,온몸허리돌리기,하늘걷기,등허리지압기,마라톤운동,옆파도타기,온몸근육풀기,온몸허리돌리기,온몸근육풀기,하늘걷기,허리돌리기,농구대,농구장,축구대,축구장,마라톤운동기,어깨근육풀기,온몸허리돌리기,윗몸일으키기,하늘걷기,농구대,농구장,등허리지압기,발바닥지압대(반원형),어깨근육풀기,옆파도타기,온몸역기내리기,온몸허리돌리기,윗몸일으키기,철봉,하늘걷기,다리근육풀기,마라톤운동기,옆파도타기,온몸근육풀기,온몸노젓기,온몸역기올리기,온몸허리돌리기,철봉,하늘걷기,농구대,농구장,마라톤운동기,옆파도타기,온몸근육풀기,온몸허리돌리기,하늘걷기,어깨근육풀기,옆파도타기,온몸허리돌리기,하늘걷기,롤링웨이스트(일반형),배드민턴장,배드민턴지주대,크로스컨트리,트윈트위스트,마라톤운동기,어깨근육풀기,상체근육풀기,온몸들어올리기,온몸역기내리기,온몸허리돌리기,옆파도타기,온몸근육풀기,온몸허리돌리기,다리뻗치기,마라톤운동기,옆파도타기,온몸노젓기,온몸허리돌리기,운동장,철봉(인용),하늘걷기,등허리지압기,온몸허리돌리기,하늘걷기,마라톤운동기,배드민턴대,배드민턴장,온몸근육풀기,온몸노젓기,온몸허리돌리기,철봉,하늘걷기,등허리지압기,배드민턴지주대,옆파도타기,온몸근육풀기,온몸노젓기,온몸역기올리기,온몸허리돌리기,운동장,하늘걷기,체력단련시설,체력단련장,체력단련장,다리뻗치기,마라톤운동,어깨근육풀기,역기내리기,역기올리기,인조잔디,라인마킹(풋살장,시설,및,포장),풋살골대(이동식)(풋살장,시설,및,포장),풋살장,하늘걷기,게이트볼장,온몸근육풀기,온몸허리돌리기,윗몸일으키기,축구대,축구장,테니스,네트대,테니스,심판대,테니스장,하늘걷기,다리뻗치기,등허리지압기,배드민턴장,배드민턴지주대,온몸근육풀기,온몸허리돌리기,지압보도,농구대,등허리지압기,마라톤운동기,옆파도타기,온몸역기올리기,온몸근육풀기,온몸허리돌리기,윗몸일으키기,철봉,평행봉,온몸역기내리기,하늘걷기,거꾸로매달리기,건너기,다리뻗치기,다리올리기,등치기,등허리지압기,마라톤운동기,벤치프레스,어깨근육풀기,옆파도타기,오금펴기,온몸노젓기,온몸역기올리기,온몸허리돌리기,윗몸일으키기,철봉,평행봉,하늘걷기,게이트볼장,고무매트포장,넓적다리펴기운동,농구대,다리올리기,등부딪히기,등허리지압기,마라톤운동기,매달리기,배드민턴장,배드민턴지주대,벤치프레스,옆파도타기,오금펴기,온몸노젓기,온몸근육풀기,온몸노젓기,온몸역기내리기,온몸허리돌리기,윗몸일으키기,인라인스케이트장,자유철봉,지압보도,철봉,링,팔굽혀피기,평행봉,하늘걷기,단,철봉,게이트볼장,농구대(이동식),농구장,다리뻗치기,등허리지압기,마라톤운동기,벤치프레스,어깨근육풀기,옆파도타기,온몸근육풀기,온몸노젓기,온몸역기올리기,온몸허리돌리기,윗몸일으키기,인라인스케이트장,족구장,족구지주,하늘걷기,생활체육시설,A(온몸돌리기),생활체육시설,B(마라톤운동),생활체육시설,C(온몸노젖기),생활체육시설,D(윗몸일으키기),생활체육시설,E(공중걷기),생활체육시설,F(옆파도타기),농구대,마라톤운동기,배드민턴장,배드민턴지주대,온몸역기내리기,온몸역기올리기,온몸허리돌리기,하늘걷기,다리뻗치기,마라톤운동기,양팔줄당기기,온몸허리돌리기,윗몸일으키기,지압보도,하늘걷기,다리올리기,마라톤운동기,옆파도타기,온몸근육풀기,온몸노젓기,평행봉,하늘걷기,농구대,농구장,온몸역기올리기,온몸허리돌리기,윗몸일으키기,족구네트걸이,풋살골대,네트걸이대,다리뻗치기,등허리지압기,마라톤운동기,배드민턴장,옆파도타기,윗몸일으키기,지압길,포장,하늘걷기,단,매달리기,다리올리기,링,매달리기,철봉,축구대,축구장,U형,네트브릿지,경사,사다리,등허리지압기,로그터널,마법다리,버마래더,버켓,브릿지,버티칼,네트,수평네트,스네이크,브릿지,스노우모바일,스윙플랫폼,스카이,버켓,스카이버마,스카이벌룬,스텝,브릿지,스틱타잔스윙,스파이더,웹,아일랜드,어깨근육풀기,온몸근육풀기,엑스크로스,옆파도타기,옆파도타기,하늘걷기,온몸근육풀기,온몸근육풀기,마라톤운동,온몸허리돌리기,윗몸일으키기,인디아나,브릿지,자유철봉,정글로프,지압보도,체스,브릿지,콤플렉스,래더,평행봉,플라이,짚,하늘걷기,농구대,온몸근육풀기,온몸허리돌리기,철봉,하늘걷기,발바닥지압걷기,어깨근육풀기,옆파도타기,온몸노젓기,온몸역기내리기,온몸허리돌리기,생활체육시설,B,생활체육시설,C,생활체육시설,D,생활체육시설,A,생활체육시설,E,생활체육시설,F,마라톤운동기,매달려온몸회전하기,발바닥지압걷기,온몸노젓기,온몸역기올리기,등허리지압기,발바닥지압걷기,어깨근육풀기,온몸역기내리기,온몸허리돌리기,윗몸일으키기,다리뻗치기,어깨근육풀기,옆파도타기,온몸허리돌리기,하늘걷기,벤치프레스,어깨근육풀기,옆파도타기,오금펴기,온몸허리돌리기,윗몸일으키기,하늘걷기,다리뻗치기,등허리지압기,옆파도타기,온몸근육풀기,온몸역기내리기,온몸허리돌리기,마라톤운동기,온몸역기내리기,하늘걷기,다리뻗치기,다목적,운동장,등허리지압기,마라톤운동기,하늘걷기,옆파도타기,윗몸일으키기,하늘걷기,손잡이,평행대,온몸역기내리기,온몸허리돌리기,철봉,하늘걷기,마라톤운동기,배드민턴장,배드민턴지주대,옆파도타기,온몸근육풀기,온몸역기올리기,온몸허리돌리기,윗몸일으키기,하늘걷기,온몸역기내리기,온몸허리돌리기,하늘걷기,온몸허리돌리기,철봉,평행봉,어깨근육풀기,옆파도타기,온몸노젓기,온몸역기올리기,온몸허리돌리기,윗몸일으키기,족구대,족구장,하늘걷기,마라톤,역기올리기,옆파도타기,온몸근육풀기,온몸역기내리기,온몸허리돌리기,윗몸일으켜기,자유철봉,하늘걷기,배드민턴지주대,벤치프레스,어깨근육풀기,옆파도타기,온몸허리돌리기,윗몸일으키기,평행봉,하늘걷기,어깨근육풀기,역기올리기,온몸허리돌리기,하늘걷기,허리펴기,마라톤운동기,어깨근육풀기,옆파도타기,온몸역기내리기,온몸역기올리기,온몸허리돌리기,윗몸일으키기,평행봉,하늘걷기,옆타도타기,온몸허리돌리기,하늘걷기,옆파도타기,온몸허리돌리기,윗몸일으키기,전신달리기,전신올리기,하늘걷기,옆파도타기,온몸역기올리기,온몸허리돌리기,하늘걷기,옆파도타기,온몸근육풀기,하늘걷기,다리뻗치기,마라톤운동기,옆파도타기,온몸근육풀기,온몸노젓기,평행봉,하늘걷기,양팔줄당기기,어깨근육풀기,옆파도타기,온몸허리돌리기,윗몸일으키기,하늘걷기,마라톤운동기,배드민턴장,배드민턴지주대,어깨근육풀기,옆파도타기,온몸역기올리기,온몸허리돌리기,지압보도,하늘걷기,마라톤운동기,온몸허리돌리기,마라톤운동,어깨근육풀기,허리돌리기,고무칩포장,마라톤운동기,어깨근육풀기,온몸허리돌리기,윗몸일으키기,철봉,어깨근육풀기,옆파도타기,온몸허리돌리기,어깨근육풀기,온몸허리돌리기,윗몸일으키기,하늘걷기,마라톤운동기,배드민턴장,배드민턴지주대,온몸허리돌리기,자유철봉,하늘걷기,어깨근육풀기,옆파도타기,온몸역기내리기,온몸허리돌리기,윗몸일으키기,전신사이클,하늘걷기,마라톤운동기,온몸허리돌리기,자유형철봉,하늘걷기,단,다리걸치기,단,철봉,배드민턴,네트대,배드민턴장,온몸허리돌리기,윗몸일으키기,평행봉,농구대,어깨근육풀기,옆파도타기,온몸근육풀기,온몸허리돌리기,윗몸일으키기,족구대,족구장,게이트볼장,다목적,운동장,등허리지압기,발바닥지압걷기,어깨근육풀기,온몸노젓기,온몸역기내리기,온몸허리돌리기,하늘걷기,다리뻗치기,등허리？히기,등허리지압기,마라톤운동기,양팔줄당기기,어깨근육풀기,온몸노젓기,온몸역기내리기,온몸허리돌리기,윗몸일으키기,하늘걷기,농구대(이동식),농구장,등허리근육풀기,마라톤운동기,배드민턴장,배드민턴지주대,온몸근육풀기,온몸노젓기,온몸역기올리기,족구네트,족구장,족구지주,축구대,축구장,하늘걷기,다리올리기,등허리펴기,말뚝건너기,사다리오르내리기,옆파도타기,온몸노젓기,온몸역기올리기,온몸허리돌리기,자유평행봉,평행봉,하늘걷기,어깨근육풀기,옆파도타기,온몸근육풀기,온몸허리돌리기,윗몸일으키기,축구대,축구장,풋살골대,배드민턴대,배드민턴장,게이트볼장,농구대,등허리지압기,어깨근육풀기,온몸매달려돌기,온몸역기내리기,온몸역기올리기,온몸허리돌리기,족구대,족구장,축구대,축구장,농구대(이동식),농구장,농구대,미니축구대,심판대,야구장,야구장,기록실,온몸허리돌리기,족구대,축구대,테니스,네트대,테니스장,테니스장,라카룸,등허리지압기,온몸근육풀기,온몸노젓기,온몸역기내리기,온몸역기올리기,윗몸일으키기,하늘걷기,허벅지근육풀기,단,다리올리기,단,철봉,단건너기,게이트볼,컨테이너,게이트볼장,구름다리,다리근육풀기,배드민턴,네트대,온몸근육풀기,온몸허리돌리기,윗몸일으키기,지압길,포장,평균대,평행봉,하늘걷기,농구대,다리뻗치기,등허리지압기,땅고르개,링,매달리기,미니축구대,보조골대,사다리오르기,어깨근육풀기,어깨당기기,온몸근육풀기,온몸노젓기,온몸역기내리기,온몸허리돌리기,윗몸일으키기,점수판,족구대,족구장,축구대,축구장,풋살장,하늘걷기,농구장,풋살장,등허리지압기,마라톤운동기,배드민턴장,배드민턴지주대,벽걸이농구대,옆파도타기,온몸근육풀기,온몸역기올리기,풋살골대,하늘걷기,등허리지압기,마라톤운동기,온몸근육풀기,온몸노젓기,온몸역기내리기,온몸역기올리기,윗몸일으키기,하늘걷기,허벅지근육풀기,단,다리걸치기,단,철봉,다리뻗치기,등허리지압기,마라톤운동기,온몸근육풀기,온몸노젓기,온몸역기내리기,온몸역기올리기,온몸허리돌리기,윗몸일으키기,자유철봉,지압길,포장,평행봉,하늘걷기,허리젖히기,단,철봉,마라톤운동기,배드민턴,네트대,배드민턴장,심판의자,어깨근육풀기,옆파도타기,온몸역기내리기,온몸역기올리기,온몸허리돌리기,윗몸일으키기,자유평행봉,족구(테니스)네트대,족구장,테니스장,테니스장,가림막,팔굽혀피기,하늘걷기,단,철봉,농구대,벤치프레스,오르기기구,온몸허리돌리기,윗몸일으키기,족구,네트대,족구장,다리근육풀기,다리뻗치기,등허리지압기,마라톤운동기,어깨근육풀기,옆파도타기,온몸근육풀기,온몸역기올리기,온몸허리돌리기,윗몸일으키기,자유철봉,지압길,포장,평행봉,하늘걷기,등허리지압기,온몸근육풀기,온몸허리돌리기,하늘걷기,농구대,등허리지압기,온몸근육풀기,온몸허리돌리기,원형발바닥지압걷기,정구대,정구장,마라톤운동기,발바닥지압대,옆파도타기,온몸근육풀기,온몸노젓기,온몸허리돌리기,하늘걷기,마라톤운동기,온몸근육풀기,하늘걷기,배드민턴장,배드민턴지주대,옆파도타기,온몸근육풀기,온몸허리돌리기,하늘걷기,고무칩포장,다리근육풀기,어깨근육풀기,온몸허리돌리기,온몸허리돌리기,철봉,대형,철봉,소형,평행봉,고무매트포장,옆파도타기,온몸역기내리기,하늘걷기,옆파도타기,온몸허리돌리기,자유철봉기,하늘걷기,농구대,배드민턴장,배드민턴지주대,온몸허리돌리기,철봉,평행봉,하늘걷기,허리다리뻗기,마라톤운동기,배드민턴장,배드민턴지주대,온몸노젓기,하늘걷기,발바닥지압걷기,마라톤,어깨근육풀기,옆파도타기,온몸돌리기(인용),하늘걷기,농구대,농구장,배드민턴대,배드민턴장,등허리지압기,마라톤달리기,배드민턴장,배드민턴지주대,어깨근육풀기,옆파도타기,온몸노젓기,하늘걷기,다리,근육풀기(철봉형),평행봉,농구장,풋살장,다리근육풀기,벽걸이농구대,온몸노젓기,온몸역기올리기,온몸허리돌리기,인라인(스케이트보드)장,인라인시설,大,인라인시설,小,인라인평균대,풋살장펜스(의자일체형),농구대,게이트볼장,농구장,축구장,전통그네,베트민턴장,게이트볼장,자가발전(허리돌리기,근육풀기,자전거),롤링웨이스트,체어웨이스트,터닝트위스트,워밍암,풀웨이트,터닝트위스트,워밍암,풀웨이트,스트레칭로라,트윈워밍암,풀웨이트,철봉,농구대,풋살경기장,게이트볼장,허리돌리기,파도타기,역기내리기,공궁걷기,등허리지압기,옆파도타기,역기내리기,어깨근육풀기,역기내리기,허리돌리기,파도타기,허리돌리기,다리들어올리기,팔운동기구,허리돌리기,다리펴기,팔매달리기,농구장,족구장,배드민턴장,롤링웨이스트,체어웨이스트,크로스컨트리,입식싸이클,역기내리기,공중걷기,파도타기,등허리지압기,어깨유연성운동,허리돌리기,허리펴기,허리돌리기,좌우뛰기,평형잡기등,인라인스케이트장,농구장,등,허돌리기,차도타기,역기내리기,공중걷기,등허리지압기,허리돌리기,역기내리기,공중걷기,등허리지압기,축구장,농구장,등,이동식,농구대개,운동기구,개소,이동식,농구대,개,운동기구,개소,이동식,농구대개,운동기구,개소,이동식농구대개,운동기구,개소,운동기구,개소,운동기구,개소,농구장,개소,배드민턴장,게이트볼장,개소,체력단련시설,개소,기,등,배드민턴장,개소,체력단련시설,개소,개,배드민턴장,개소,농구장,개소,체력단련시설,개소,개,다목적체육관,동,체력단련시설,개소,개,배드민턴장,개소,농구정,개소,체력단련시설,개소,개,농구장,개소,체력단련시설,개소,개,체력단련시설,개소,개,체력단련시설,개소,개,없음,배드민터장,개소,체력단련시설,개소,개,족구장,개소,농구장,개소,체력단련시설,개소,개,체력단련시설,개소,개,체력단련시설,개소,개,체력단련시설,개소,개,체력단련시설,개소,개,농구장,개소,운동장,개소,체력단련시설,개소,개,체력단련시설,개소,개,체력단련시설,개소,개,체력단련시설,개소,풋살장,농구장,그라운드골프장,운동기구,배드민턴장,체력단련시설,배드민턴장,체력단련시설,체력단련시설,체력단련시설,체력단련시설,배드민턴장,체력단련시설,체력단련시설,체력단련시설,체력단련시설,체력단련시설,체력단련시설,체력단련시설,체력단련시설,xgame장,축구장,게이트볼장,테니스장,농구장,풋살경기장,체육시설,인라인트랙,체육시설,축구장,테니스장,체육시설,야구장,운동장,족구장,테니스장,배드민턴장,체육시설,체육시설,농구장,인라인트랙,다목적운동장,체육시설,체육시설,인라인스케이장,농구장,체육시설,축구장,체육시설물,농구대,체율시설물,족구장,농구대,체육시설물,배드민턴장,체육시설,파크골프장,수영장,양궁장,농구장,족구장,축구장,인공암벽장,생활체육운동기구종,배드민턴장,농구대EA,생활체육운동기구종,생활체육운동기구종,농구대EA,철봉EA,생활체육운동기구종,생활체육운동기구종,축구장면,테니스장면,게이트볼장,암벽장,생활체육시설종,다목적운동장,농구장EA,게이트볼장,생활체육시설EA,배드민턴장,농구장면,게이트볼장,인라인스케이트장,풋살장면,생활체육운동기구종,풋살장면,족구장면,농구대EA,생활체육운동기구종,풋살운동장,배드민턴장,궁도장,축구장,테니스장,족구장,농구장,게이트볼장,배드민턴장,족구장,농구장,배드민턴장,족구장,축구장,배드민턴장,족구장,축구장,농구장,배드민턴장,족구장,배드민턴장,족구장,테니스장,배드민턴장,농구장,게이트볼장,배드민턴장,게이트볼장,배드민턴장,농구장,멀티코트,파크골프장,족구장,배드민턴장,농구장,게이트볼장,씨름장,러버가든,N,테니스장,배드민턴장,농구장,배드민턴장,게이트볼장,체력단련기구,미로길,운동장,배드민턴장,게이트볼장,등,다목적,인조잔디마당,테니스장,배드민턴장,등,테니스장,등,축구장,배드민턴장,농구장,배드민턴장,농구대,다목적운동장,배드민턴장,농구장,농구대,점,농구대,외,종,점,농구대,점,족구장,농구장,축구장,인라인스케이트장,밸런스바이크장,게이트볼장,농구장,운동장,인조잔디구장,소운동장,배드민턴,다목적구장,농구대,농구장,축구장,테니스장,축구장,테니스장,운동장,체육시설,배드민턴,족구,농구장,운동장,테니스장,풋살,배드민턴장(족구장겸용),게이트볼장,농구장,배드민턴장,테니스장,체육시설,농구대,골프연습장,농구장,테니스장,인조잔디구장,간이체육시설,산책로,자전거도로,풋살장,간이운동시설,배드민턴장,온몸근육풀기,허리돌리기,파도타기,윗몸일으키기,파도타기,허리돌리기,온몸근육풀기,온몸근육풀기,허리돌리기,파도타기,공중걷기,축구장,배드민턴장,테니스장,배드민턴장,족구장,테니스장,족구장,운동기구,족구장,운동기구,풋살장,배구장,배구장,테니스장,게이트볼장,유소년축구장,축구장관리실,유소년축구장,인라인장,운동기구,농구장,족구장,운동기구,농구장,배드민턴장,족구장,운동기구,농구장,배드민턴장,운동기구,윗몸일으키기,수평대,다리말아올리기,몸체말아올리기,허리돌리기,의자겸팔굽혀펴기,족구장,농구대,철봉,어깨근육풀기,허리돌리기,파도타기,윗몸일으키기,공중걷기,평행봉,공중걷기,파도타기,어깨근육풀기,윗몸일으키기,허리돌리기,윗몸일으키기,팔굽혀펴기,철봉,평형대,허리돌리기,파도타기,농구대,역기내리기,달리기,하늘걷기,파도타기,허리돌리기,파도타기,허리돌리기,공중걷기,씨름경기장,허리돌리기,공중걷기,파도타기,평행봉,윗몸일으키기,달리기,허리돌리기,파도타기,공중걷기,노젓기,역기내리기,어깨근육풀기,공중걷기,파도타기,오금펴기,허리돌리기,어깨근육풀기,파도타기,허리돌리기,공중걷기,윗몸일으키기,오금펴기,등허리지압기,파도타기,공중걷기,어깨근육풀기,허리돌리기,어깨유연성운동,공중걷기,등허리지압기,허리돌리기,달리기운동,역기내리기,어깨유연성운동,공중걷기,자전거타기,허리돌리기,파도타기,윗몸일으키기,공중걷기,어깨근육풀기,허리돌리기,허리돌리기,어깨근육풀기,파도타기,윗몸일으키기,공중걷기,농구장,인라인,족구장,베드민턴장,농구장,농구장,족구장,베드민턴장,운동시설,종,운동시설,종,운동시설,종,운동시설,종,베드민턴장,운동시설,종,운동시설,종,농구장,운동시설,종,농구장,운동시설,종,게이트볼장,운동시설,종,운동시설,종,농구장,운동시설,종,운동시설,종,운동시설,종,운동시설,종,농구장,배드민턴장,농구장,배구장,족구장,게이트볼장,축구장,농구장,게이트볼장,운동기구,대성묘지,운동기구,농구장,운동기구,족구장,미집행,조성중,다목적구장,등,족구장,등,축구장,등,운동기구,개,운동기구,개소,농구대,운동기구개,농구대,운동기구개,농구대,운동기구개,농구대,운동기구개,운동기구,개,운동기구,족구장,운동기구,운동기구,철봉,야외운동기구,야외운동기구,야외운동기구,축구장,다목적구장,야외운동기구,야외운동기구,축구장(인조),배구장,족구장,테니스장,야외운동기구,풋살,족구장,테니스장,야외운동기구,야외운동기구,농구장,야외운동기구,게이트볼장,축구장,게이트볼장,파크골프장,실내체육관,체력단련실,실내수영장,야외농구장,야외운동기구,식,야외운동기구,농구장,축구장,족구장,농구장,야외운동기구,축구장,그라운드골프장,야외운동기구,배드민턴장,야외운동기구,야외운동기구,야외운동기구,야외운동기구,야외운동기구,지압로,㎡,지압로,㎡,등의자,족구장,농구장,정구장,육상트랙,축구장,풋살장,론볼장게이트볼장,산책데크시설,배드민턴장,운동기구,다목적구장운동기구,체육시설지구,축구장,테니스장,파크골프장,산악자전거,체육관,게이트볼장,족구장,농구장,운동기구,축구장,테니스장,운동기구,배드민턴장,체육시설지구족구장,스포츠센타,게이트볼장,테니장,국궁장,다목적체육관,다목적운동장,체련단련장,족구장,배드민턴장,배드민턴,탁구,헬스,정구,헬스,배드민턴,궁터,운동장,배드민턴,축구장,족구장,조정경기장,엑스게임장,배드민턴장,농구장,배드민턴장,게이트볼장,농구장,게이트볼장,배드민턴장,게이트볼장,족구장,실내배드민턴장,구민운동장,다목적체육관,골프연습장,운동기구,식,체력단련장,농구장,족구장,배드민턴장,풋살장,발맛사지장,허리돌리기,대윗몸일으키기,대오금펴기,대파도타기,대공중걷기,대역기올리기,대달리기운동,대,사격장,철봉,등,종,철봉,간이운동시설,야외농구대,야외운동기구,체력단련시설,트윈트위스트,바웨이트,트윈트위스트,트윈바디싣업,트윈워밍암,레그프레스,크로스컨트리,스텝싸이클,워밍암,풀웨이트,파워프레스,풀웨이트,러닝싸이클,레그프레스,트위스트,바디싣업,풀웨이트,파워프레스,트위스트,배드민턴코트,푸쉬웨이트,터닝암,파워프레스,풀웨이트,농구대,스트레칭로라,크로스컨트리,체어웨이트,스텝싸이클,체어풀,워밍암,트윈바디싣업,풀웨이트,트윈트위스트,바웨이트,레그프레스,트윈워밍암,달리기,온몸당기기,팔올리기,어깨근육,좌우흔들기,다리걷기,등허리안마,스트레칭로라,크로스컨트리,스텝싸이클,워밍암,풀웨이트,달리기,팔올리기,팔내리기,어깨근육,다리밀기,좌우흔들기,다리걷기,허리돌리기,등허리안마,온몸근육,온몸노젓기,하늘걷기,옆파도타기,온몸허리돌리기,등허리지압기,다리뻗치기,온몸근육풀기,온몸허리돌리기,등허리지압기,옆타도타기,크로스컨트리,스텝싸이클,워밍암,크로스컨트리,체어웨이트,체어풀,트윈바디싣업,풀웨이트,배드민턴네트및포스트,스트레칭로라,크로스컨트리,체어웨이트,스텝싸이클,체어풀,워밍암,트윈바디싣업,풀웨이트,크로스컨트리,체어풀,워밍암,생활체육시설,배드민턴장,풋살구장,농구장,인라인스케이트장,지압보도,농구장,면,마라톤,면,게이트볼장,면,테니스장,면,다목적구장,면,농구대,개,농구대,개,지압보도,농구대,개,족구장,면,정구장,지압보도,게이트볼장,축구장,테니스장,족구장,다목적구장,농구장,배드민턴장,족구장,테니스장,X게임장,농구장,배드민턴장,족구장,인라인스케이트장,농구장,배드민턴장,족구장,축구장,테니스장,족구장,면,배더민턴장,면,농구장,면,테니스장,면,배더민턴장,농구장,면,족구장,면,배더민턴장,면,인라인스케이트장,족구장,면,정구장,면,배더민턴장,면,게이터볼장,면,족구장,면,배더민턴장,면,농구장,면,족구장,면,배더민턴장,면,농구장,면,족구장,면,테니스장,면,배더민턴장,면,게이트볼장,배드민턴장,족구장,족구장,배드민턴장,운동장,풋살경기장,축구장,농구장,농구장,면,파크골프장면,게이트볼장면,테니스장면,다목적구장면,지압보도,마라톤,면,농구대,개,마라톤,지압보도,농구대,개,지압보도,농구장,면,마라톤,면,인라인스케이트장,면,게이트볼장,면,테니스장,면,미니축구장,면,베드민턴장,등,농구장,베드민턴장,등,축구장,농구장,베드민턴장,등,인라인장,베드민턴장,등,게이트볼장,농구장,등,운동장,수영장,야외운동시설,베드민턴장,야외운동시설,베드민턴장,테니스장,야외운동시설,등,테니스장,야외운동시설,게이트볼장,야외운동기구,농구장,족구장,인라인스케이트장,농구장,베드민턴장,다목적구장,온몸근육풀기외,종,온몸노젓기외,종,양팔줄당기기외,종,오팔펴기,외,종,달리기,외,종,하늘걷기,외,종,배드민턴지주,등,하늘걷기,외,종,하늘걷기,외,종,크로스켠트리외,종,윗몸일으키기외,종,평행봉,외,종,배근력대,외,종,배근력대,외,종,크로스켠트리,외,종,농구대,외,종,농구대,외,종,평행잡기,외,종,배드민턴네트,외,종,단철봉,외,종,평행봉,종,단철봉,종,허리돌리기,외,종,옆파도,외,종,단,철봉,외,종,양팔줄당기기인,외,종,배드민턴장,외,종,단철봉,외,종,평행봉,외,종,배드민턴,외,종,어깨근육인,외,종,양팔줄당기기,외,종,평행봉,외,종,단철봉,외,종,윗몸일으키기,외,종,평행봉,외,종,윗몸일으키기,외,종,거꾸리,외,종,어깨근육풀기,외,종,농구대,등,온몸허리돌리기,외,종,단철봉,외,종,어께근육풀기,외,종,양팔줄당기기,외,종,윗몸일으키기,외,종,하체흔들기,외,종,단철봉,등,온몸허리돌리기,외,종,윗몸일으키기,외,종,평행봉,외,종,족구지주,외,종,허리돌리기,외,종,배드민터코트,외,종,농구대,외,종,배근력대,외,종,어깨근육풀기,외,종,배드민턴,지주대,등,하체흔들기,외,종,양팔줄당기기외,종,하체흔들기,외,종,허리돌리기,외,종,온몸근육풀기,외,종,에어서핑,노르딕머신,에어워킹,트위스트,워밍쇼울더,바디싯업,에어워킹,에어서핑,바디싯업,에어워킹,트위스트,바디싯업,마사지롤라,에어서핑,노르딕머신,마사지롤라,트위스트,에어서핑,에어워킹,워밍쇼울더,레그프레스,워밍암,트윈트위스트,에어서핑,마사지롤라,에어워킹,노르딕머신,오리다리펴기,흔들코끼리,캥거루허리돌리기,흔들코끼리,사자스텝퍼,오리다리펴기,스트레칭롤라,트윈바디싯업,워밍암,체어웨이트,트윈트위스트,롤링웨이스트,크로스컨트리,마사지롤라,트위스트,캥거루허리돌리기,흔들코끼리,사자스텝퍼,오리다리펴기,오리다리펴기,흔들코끼리,에어워킹,노르딕머신,워밍쇼울더,에어서핑,레그프레스,트윈바디싯업,에어서핑,노르딕머신,사자스텝퍼,흔들코끼리,캥거루허리돌리기,오리다리펴기,흔들코끼리,마사지롤라,트윈트위스트,워밍암,에어워킹,하늘걷기,등허리지압기,에어서핑,에어워킹,트위스트,온몸허리돌리기,옆파도타기,하늘걷기,트위스트,워밍쇼울더,에어서핑,철봉,평행봉,트위스트,에어워킹,에어서핑,마라톤운동,옆파도타기,온몸허리돌리기,크로스컨트리,트윈바디싯업,트윈트위스트,스트레칭로라,레그프레스,롤링웨이스트,워밍암,에어워킹,싸이클링,에어서핑,체어웨이트,풀웨이트,스트레칭로라,레그프레스,하체마사지기,좌식자전거,트윈전신지압기,전신스트레칭머신,풀웨이트,트윈트위스트,워밍암,크로스컨트리,워밍쇼울더,사이클링,에어워킹,마사지롤라,트위스트,해당없음,트윈트위스트,싸이클링,워밍쇼울더,에어워킹,워밍쇼울더,에어서핑,로우잉머신,자전거발전기,근육풀기발전기,허리돌리기발전기,파도타기발전기,롤링웨이스트,바디싯업,체어풀,스트레칭롤라,체어웨이트,워밍암,트위스트,마사지롤라,에어워킹,싸이클링,워밍쇼울더,로우잉머신,노르딕머신,스트레칭롤라,롤링웨이스트,트윈트위스트,풀웨이트,크로스컨트리,크로스컨트리,풀웨이트,트위스트,트윈바디싯업,스트레칭롤라,롤링웨이스트,트윈트위스트,크로스컨트리,체어웨이트,워밍쇼울더,에어서핑,체어웨이트,레그프레스,워밍암,스텝사이클,롤링웨이스트,체어풀,스트레칭롤러,트윈트위스트,레그프레스,크로스컨트리,풀웨이트,배드민터장,운동기구종,운동기구,종,운동기구,종,테니스장,베드민턴장,게이트볼장,농구장,배드민턴장,족구장,체력단련시설,체력단련시설,배드민턴장,풋살장,게이트볼장,인라인장,농구장,인공암벽,파크볼장,체련단련시설,좌식사이클,배드민턴장,풀웨이트,체어웨이트,배드민턴,체력단련시설,게이트볼장,농구장,배드민턴장,체력단련시설,족구장,배드민턴장,체력단련시설,지압보도,좌식사이클,트리플트위스트,스텝사이클,허리돌리기,마라톤운동,몸통돌리기,전신하늘걷기,다리쭉뻗치기,온몸역기내리기,등허리지압기,온몸역기올리기,온몸노젓기,등허리지압기,어깨근육풀기,마라톤운동,하체근육운동,하늘걷기,축구장,족구장겸농구장,육상트랙,농구장,다리말아올리기,몸체말아올리기,윗몸일으키기,허리돌리기,역기대,의자겸팔굽혀펴기,팔굽혀펴기,허리돌리기,배드민턴코드,철봉,인라인트랙,자전거발전기,복합형운동기구,온몸노젓기,플웨이트,스텝사이클,크라임스템퍼,에어로빅장,농구장,테니스장,씨름장,농구장,그라운드골프장,축구장,테니스장,게이트볼,농구,테니스,풋살,족구,테니스,운동기구,배드민턴장,농구대,운동기구,농구대,운동기구,게이트볼구장,운동기구,족구장,핸드볼장,농구대,운동기구,축구장,농구대,운동기구,배구장,운동기구,농구대,배드민턴장,운동기구,농구대,다목적구장,운동기구,농구대,배드민턴장,게이트볼구장,운동기구,빙상경기장,배드민턴장,운동기구,족구장,농구대,운동기구,다목적구장,운동기구,배드민턴장,게이트볼구장,이라인스케이트장,운동기구,배드민턴장,게이트볼구장,테니스장,운동기구,농구대,배드민턴장,게이트볼구장,X게임장,운동기구,배드민턴장,축구장,풋살구장,배구장,족구장,축구장,운동기구,농구대,게이트볼구장,회전무대,정글집,농구대,배드민턴장,운동기구,배구장,축구장,농구대,운동기구,족구장,게이트볼구장,운동기구,족구장,게이트볼구장,농구대,운동기구,배드민턴장,농구장,궁도장,양궁장,다목적,운동시설,국궁장,체력단련시설,배드민턴장,체력단련시설,배드민턴장,족구장,체력단련시설,농구장,게이트볼장,체육시설,체육시설,체육시설,농구대,체육시설,풋살구장,체육시설,체육시설,풋살구장,체육시설,미니골대,체육시설,농구대,풋살구장,다목적구장,농구대,체육시설,체육시설,체육시설,체육시설,농구대,체육시설,체육시설물,체육시설물,체육시설물,바디싣업,스트레칭롤러,전신돌리기,허리안마기,허리비틀기,TM스탭사이클,TM체어웨이트,TM트윈바디싣업,TM트윈트위스트,TM크로스컨트리,TM풀웨이트,철봉,하늘걷기,마라톤운동,허리돌리기,단철봉,윗몸일으키기,철봉,팔굽혀펴기,몸통돌리기,허리좌우로흔들기,스트레칭롤러,풀웨이트,바웨이트,하늘걷기,온몸허리돌리기,스트레칭기,거꾸로매달리기,하늘걷기,온몸허리돌리기,등허리지압기,철봉,스탭싸이클,풀웨이트,트리플트위스트,트윈바디싣업,크로스컨트리,스트레칭롤러,트윈워밍암,하늘걷기,스탭싸이클,체어폴,철봉,트리플트위스트,트윈바디싣업,윗몸일으키기,온몸허리돌리기,팔굽혀펴기,다리뻗치기,온몸허리돌리기,거꾸로매달리기,하늘걷기,온몸허리돌리기,옆파도타기,크로스워킹,스카이워킹,파워프레스,풀웨이트,싸이클론,트위스트,스탠드업,마사지롤,사이드스윙,터닝암,푸시웨이트,레그프레스,평행봉,트윈바디싣업,트윈트위스트,스탭싸이클,크로스컨트리,체어풀,크로스컨트리,자전거팔뻗기,등안마기,트윈워밍암,체어웨이트,오버턴스트레칭,크로스컨트리,롤링웨이스트,레그프레스,트윈트위스트,체어웨이트,족구장,역기,등지압기,마라톤운동,공중걷기운동,허리돌리기,온몸돌리기,온몸역기올리기,온몸근육풀기,트리플트위스트,트윈바디싣업,크로스컨트리,체어웨이트,롤링웨이스트,레그프레스,오버턴스트레칭,윗몸일으키기,트리플트위스트,평행봉,크로스컨트리,레그프레스,체어웨이트,롤링웨이스트,트윈바디싣업,레그스트레칭,크로스컨트리,어깨근육풀기,체어웨이트,트윈바디싣업(구형),트리플트위스트(구형),헬스형,운동기구,등,미끄럼틀,그네,등,게이트볼장,풋살경기장,조기체육장,등,다목적운동장,등,실내체육관,인조잔디구장,풋살장,체력단련장,축구장,농구장,게이트볼장,체력단련장,테니스장,축구장,주민체육시설,운동시설,운동기구(),배드민턴장(),운동기구(),운동기구(),운동기구(),운동기구(),농구대(),운동기구(),운동기구(),농구대(),풋살장(),운동기구(),운동기구(),농구대(),농구대(),운동기구(),운동기구(),농구대(),운동기구(),운동기구(),농구대(),운동기구(),운동기구(),농구대(),운동기구(),인라인스케이트장(),운동기구(),농구대(),운동기구(),농구대(),운동기구(),배드민턴장(),운동기구(),게이트볼장(),운동기구(),미니축구장(),농구대(),운동기구(),농구대(),배드민턴장(),운동기구(),농구대(),운동기구(),운동기구(),운동기구(),풋살구장(),배드민턴장(),운동기구(),운동기구(),씨름장(),운동기구(),족구장(),배드민턴장겸농구장(),국국장(),농구대(),운동기구(),운동기구(),체력단련시설,농구장,체력단련시설,농구장,배드민턴장,축구장,체력단련시설,농구장,배드민턴장,배드민턴장,농구장,체력단련시설,xgame시설,체력단련시설,축구장,배드민턴장,xgame시설,체력단련시설,농구장,배드민턴장,추구장,파크골프장,조깅트랙,실내체육관,테니스장,xgame시설,체력단련시설,다목적운동장,스케이트장,풋살구장외종,축구장,외,종,배드민턴장외종,축구,족구,테니스,게이트볼장,풋살구장외종,야외헬스기구,배드민턴장,야외헬스기구,멀티스포츠센터,족구장,야외헬스기구,인라인스케이트장,야외헬스기구,배드민턴장_농구장,다목적구장(농구_풋살),축구장_테니스_배드민턴장_다목적구장,파크골프장_배드민턴장,풋살장_게이트볼장,배드민턴장_엑스게임장,게이트볼장,테니스장,다목적구장,배드민턴장,농구장,족구장,축구장,족구장,농구장,축구장,족구장,풋살장,농구장,배드민턴장,테니스장,배드민턴장,족구장,게이트볼장,농구장,반코트,배드민턴장,지압보도,체력단련,철봉,팔굽혀펴기,평행봉,허리돌리기,배근력대,스텝싸이클,체어플,트윈바디싣업,역기내리기운동,역기올리기운동,노젓기운동,허리돌리기운동,양다리운동,옆파도타기운동,원그리기운동,달리기,아래로당기기,앞으로밀기,체어풀,허리돌리기,공중걷기,윗몽일으키기,등허리지압기,하체흔들기,온몸근육풀기,등허리지압기,온몸근육풀기,마라톤운동,양다리운동,등허리근육풀기운동,옆파도타기운동,회전놀이기구개,흔들놀이기구개,조합놀이대개,역기올리기운동,양다리운동,옆파도타기운동,원그리기운동,노젓기운동,허리돌리기운동,양다리운동,옆파도타기운동,원그리기운동,역기내리운동,역기올리기운동,양다리운동,옆파도타기운동,역기내리기운동,역기올리기운동,양다리운동,옆파도타기운동,원그리기운동,역기내리기운동,역기올리기운동,양다리운동,옆파도타기운동,그네개,흔들놀이기구개,조합놀이대개,운동시설,운동시설,풋살장,농구대,운동기구,운동기구,베드민턴장,운동시설,체육시설,체육시설,체육시설,운동기구,체육시설,운동기구,농구대,체육시설,운동기구,체육시설,운동기구,농구대,체육시설,농구대,체육시설,운동기구,체육시설,철봉,체육시설,운동기구,농구대조합놀이대,시소,철봉,체육시설,농구대,운동시설,배드민턴장,농구장,다목적,운동장,축구장,배드민턴장,배드민턴장,테니스장,다목적운동장,농구장,배드민턴장,게이트볼장,풋살경기장,농구장,배드민턴장,역기,윗몸일으키기,등,축구장,족구장,배드민턴장,농구장,윗몸일으키기,팔굽혀펴기,철봉,평행봉,농구장,배드민턴장,테니스장,윗몸일으키기,허리돌리기,농구장,배드민턴장,생활체육시설,등,체력단련장,게이트볼장,인라인장,농구장,생활체육시설,등,철봉,평행봉,게이트볼장,생활체육시설,철봉,농구대,생활체육시설,철봉,평행봉,게이트볼장,생활체육시설,윗몸일으키기,팔굽혀펴기,철봉,생활체육시설,팔굽혀펴기,조합놀이대,가위말차기,농구대,철봉,게이트볼장,테니스장,윗몸일으키기,평행봉,생활체육시설등,농구장,테니스장,게이트볼장,윗몸일으키기,평행봉,등,배드민턴장,생활체육시설,게이트볼장,배드민턴장,농구장,철봉등,농구대,생활체육시설,농구대,철봉,평행봉,생활체육시설,철봉,평행봉,배드민턴장,생활체육시설,등,농구대,배드민턴장,생활체육시설,배드민턴장,농구대,생활체육시설,철봉,운동기구개,농구장개소,족구장개소,운동기구개,족구장개소,운동기구개,운동기구개,운동기구개,체력단련시설,기,체육관(실내,배드민턴장),개동,배드민턴장,개소,체력단련시설,기,체력단련시설,기,체력단련시설,기,운동장,개소,배드민턴장,개소,골프연습장,개소,체력단련시설,기,체력단련시설,기,배드민턴장,개소,체력단련시설,기,농구장,개소,배드민턴장,개소,체력단련시설,기,배드민턴장,개소,체력단련시설,기,배드민턴장,개소,체력단련시설,기,체력단련시설,기,다목적운동장,개소,배드민턴장,개소,체력단련시설,기,농구장,개소,체력단련시설,기,배드민턴장,개소,배드민턴장,개소,체력단련시설,기,간이운동기구,간이운동기구,농구장,간이운동기구,게이트볼장,간이운동기구,족구장,체스트업머신,트위스트머신,평행봉,철봉,트위스트머신,원그리기머신,하늘걷기머신,철봉,그네,시소,양회전운동머신,마라톤운동머신,노젖기운동머신,양다리운동머신,다리운동머신,옆회전운동머신,앉아서팔올리기머신,역기내리기,머신,마라톤,머신,철봉,체스트업머신,트위스트머신,평행봉,철봉,역기,지압머신,하늘걷기머신,앉아서팔올리기머신,역기내리기,머신,옆회전운동머신,마라톤머신,양회전머신,체스트업머신,원그리기머신,말타기머신,다리밀기머신,트위스트머신,게이트볼장,수영장,야외체력단련기구,체육관,족구장,농구장,공중가로젓기,달리기,역기밀기,인라인스케이트장,실내체육관,축구장,족구장,테니스장,베드민턴장,운동기구,회전무대,정글집,농구대,베드민턴장,운동기구,베드민턴장,농구대,운동기구,농구대,베드민턴장,게이트볼구장,운동기구,베드민턴장,게이트볼구장,이라인스케이트장,운동기구,베드민턴장,게이트볼구장,테니스장,운동기구,농구대,베드민턴장,게이트볼구장,X게임장,운동기구,농구대,베드민턴장,운동기구,베드민턴장,축구장,풋살구장,야외운동기구,농구대,축구장,족구장,야외운동기구,축구장,야외운동기구,배드민턴장,야외운동기구,지압로,축구장,풋살장,야외운동기구,빙상경기장,베드민턴장,운동기구,운동공원,개소,체력단련시설,개소,농구장,개소,족구장,개소,운동기구,개소,체력단련장,개소,체력단련시설,개소,국궁장(영주정),개소,체력단련시설,개소,국궁장,동,운동장,기,체력단련장,기,체력단련시설,개소,체력단련시설,개소,국궁장,개소,국궁장,개소,체력단력장,개소,체력단련장,개소,체력단련시설,개소,조성계획,미수립,야외형,운동기구,게이트볼장,야외형,운동기구,옥외수영장,실내수영장(아쿠아시스),다목적운동장,길거리농구장,풋살경기장,파크골프장,축구경기장,야구경기장,수영장,헬스장,테니스장,스쿼시장,인라인장,사격장,궁도장,론볼장,체력단련장,개소,도시개발,체육진흥,관광개발,양궁장,자연체험장,체력단련장,다목적운동장,게이트볼장,등,어린이운동시설,배드민턴장,체력단련기구,농구장,체력단련기구,배드민턴장,족구장,체력단련기구,농구장,배드민턴장,체력단련기구,축구장,농구장,배드민턴장,게이트볼장,체력단련기구,테니스장,배드민턴장,골프연습장,체력단련기구,배드민턴장,게이트볼장,체력단련기구,농구장,게이트볼장,체력단련기구,운동장,농구장,체력단련장,체력단련시설,턱걸이,윗몸일으키기,팔굽혀펴기,역기들기,농구장,게이트볼장,체력단련시설,다목적운동장,농구장,잔디볼링장,배구장,테니스장,게이트볼장,배드민턴장,체력단련장,다목적운동장,농구장,테니스장,게이트볼장,체력단련장,조깅코스,배드민턴장,인라인스케이트장,레일바이크,이색자전거길,배드민턴장,배드민턴장,게이트볼장,운동장,축구장,농구장,배구장,배드민턴장,기타,농구장,배드민턴장,축구장,농구장,배드민턴장,배드민턴장,기타,운동장,테니스장,축구장,배드민턴장,배드민턴장,게이트볼장,기타,배드민턴장,농구장,게이트볼장,농구장,운동기구,천연잔디구장,육상트랙,인조잔디구장,중앙광장,휘트니스센터,및,궁도장,배드민턴장,다목적구장,농구장,다목적,운동마당,다목적,운동장,테니스장,배드민턴장,체력단력장,'"
      ]
     },
     "execution_count": 86,
     "metadata": {},
     "output_type": "execute_result"
    }
   ],
   "source": [
    "# 제거할 특수문자를 빈문자로 대체합니다.\n",
    "# re.sub('[?.,;:|\\)*~`’!^\\-_+<>@\\#$%&-=#}※]', '', text)\n",
    "# 정규표현식에서 +, *, . 등은 특별한 의미를 갖습니다. \n",
    "# 이런 문자를 제거할 때는 \\를 통해 예외처리를 합니다. \n",
    "# 예를들어 .이라면 \\. 으로 사용합니다.\n",
    "# 여기에서는 숫자와 .을 제거하도록 합니다.\n",
    "gym = re.sub(\"[\\[\\]\\d\\-\\.]\",\"\",gym)\n",
    "gym = re.sub(\",{2,}\", \",\", gym)\n",
    "gym"
   ]
  },
  {
   "cell_type": "code",
   "execution_count": 89,
   "metadata": {},
   "outputs": [
    {
     "data": {
      "text/plain": [
       "배드민턴장     259\n",
       "농구장       238\n",
       "운동기구      176\n",
       "게이트볼장     159\n",
       "하늘걷기      155\n",
       "         ... \n",
       "말타기머신       1\n",
       "러닝싸이클       1\n",
       "어께근육풀기      1\n",
       "허리다리뻗기      1\n",
       "小           1\n",
       "Length: 748, dtype: int64"
      ]
     },
     "execution_count": 89,
     "metadata": {},
     "output_type": "execute_result"
    }
   ],
   "source": [
    "# split을 사용해 문자열을 ,로 리스트형태로 만든 후에 \n",
    "# 판다스의 시리즈 형태로 데이터를 만들면 빈도수를 구할 수 있습니다.\n",
    "# 빈도수는 gym_count 라는 변수에 담습니다.\n",
    "gym_count = pd.Series(gym.split(\",\")).value_counts()\n",
    "gym_count"
   ]
  },
  {
   "cell_type": "code",
   "execution_count": 94,
   "metadata": {},
   "outputs": [
    {
     "data": {
      "text/plain": [
       "<matplotlib.axes._subplots.AxesSubplot at 0x24385cef988>"
      ]
     },
     "execution_count": 94,
     "metadata": {},
     "output_type": "execute_result"
    },
    {
     "data": {
      "image/png": "[encoded data removed]",
      "text/plain": [
       "<Figure size 1080x288 with 1 Axes>"
      ]
     },
     "metadata": {
      "image/png": {
       "height": 340,
       "width": 879
      }
     },
     "output_type": "display_data"
    }
   ],
   "source": [
    "# 빈도수를 구한 gym_count 변수에서 head를 통해 상위 50개 단어에 대한 그래프를 그립니다.\n",
    "gym_count.head(50).plot.bar(figsize=(15,4))\n"
   ]
  },
  {
   "cell_type": "markdown",
   "metadata": {},
   "source": [
    "### 워드클라우드로 빈도수 표현하기\n",
    "[amueller/word_cloud: A little word cloud generator in Python](https://github.com/amueller/word_cloud)\n",
    "\n",
    "* 별도의 설치가 필요합니다. \n",
    "* 다음 명령어로 설치가 가능합니다. conda prompt 혹은 터미널을 열어 설치해 주세요.\n",
    "\n",
    "* conda 사용시 : `conda install -c conda-forge wordcloud`\n",
    "* pip 사용시 : `pip install wordcloud`"
   ]
  },
  {
   "cell_type": "code",
   "execution_count": null,
   "metadata": {},
   "outputs": [],
   "source": [
    "# 공식문서의 튜토리얼을 보고 wordcloud를 그리는 함수를 만들어 봅니다.\n",
    "# 이때 폰트 설정시 폰트명이 아닌 폰트의 설치 경로를 입력해 주셔야 합니다.\n",
    "# 윈도우 : r\"C:\\Windows\\Fonts\\malgun.ttf\" 해당 경로에 폰트가 있는지 확인을 해주세요.\n",
    "# 맥 : r\"/Library/Fonts/AppleGothic.ttf\"\n",
    "# 나눔고딕 등의 폰트를 설치했다면 : '/Library/Fonts/NanumBarunGothic.ttf'\n",
    "from wordcloud import WordCloud\n",
    "\n",
    "word_draw = WordCloud()\n",
    "word_draw.generate(gym)\n",
    "plt.imshow(word_draw)\n",
    "plt.axis(\"off\")\n",
    "plt.show()"
   ]
  },
  {
   "cell_type": "code",
   "execution_count": 44,
   "metadata": {
    "scrolled": false
   },
   "outputs": [],
   "source": [
    "# 위에서 만든 함수에 전처리한 text인 gym을 넣어 그려봅니다.\n",
    "\n",
    "\n"
   ]
  },
  {
   "cell_type": "markdown",
   "metadata": {},
   "source": [
    "### 편익시설"
   ]
  },
  {
   "cell_type": "code",
   "execution_count": 45,
   "metadata": {},
   "outputs": [],
   "source": [
    "# 편익시설에서 필요 없는 문자를 제거하고\n",
    "# 토큰화를 위해 각 시설을 \",\" 로 구분하도록 전처리를 하는 함수를 구현합니다. \n",
    "# 함수명은 get_string 으로 합니다.\n"
   ]
  },
  {
   "cell_type": "code",
   "execution_count": 46,
   "metadata": {
    "scrolled": true
   },
   "outputs": [],
   "source": [
    "# 함수가 잘 구현되었는지 확인해 봅니다.\n",
    "# 다음의 문자를 전처리 했을 때  \n",
    "# \"[1. '화장실' 5, 2. 주차장, -, nan]\" 전처리 후 '화장실,주차장,' 가 출력되는지 확인해 주세요.\n",
    "\n"
   ]
  },
  {
   "cell_type": "code",
   "execution_count": 47,
   "metadata": {},
   "outputs": [],
   "source": [
    "# 결측치를 넣어봅니다. 오류가 나지않는지 확인해 주세요.\n",
    "\n",
    "\n"
   ]
  },
  {
   "cell_type": "code",
   "execution_count": 48,
   "metadata": {
    "scrolled": true
   },
   "outputs": [],
   "source": [
    "# map을 통해 위에서 구현한 함수를 적용해 줍니다.\n",
    "# 원본과 비교해 보기 위해 \"편익시설\"이라는 새로운 컬럼을 만듭니다.\n"
   ]
  },
  {
   "cell_type": "code",
   "execution_count": 49,
   "metadata": {},
   "outputs": [],
   "source": [
    "# 전처리 한 \"편익시설\"의 빈도수를 구하고 \n",
    "# tail 로 끝부분에 있는 데이터를 미리보기 합니다.\n",
    "\n"
   ]
  },
  {
   "cell_type": "code",
   "execution_count": 50,
   "metadata": {},
   "outputs": [],
   "source": [
    "# 문자열을 연결해 주는 join 으로 편익시설을 연결해 주는 방법이 있습니다.\n",
    "# 이 때, 결측치가 있으면 결측치는 숫자형태이기 때문에 문자와 연결되지 않아 오류가 납니다.\n",
    "# 따라서 결측치를 제외한 값만 가져와서 연결합니다.\n",
    "\n"
   ]
  },
  {
   "cell_type": "code",
   "execution_count": 51,
   "metadata": {},
   "outputs": [],
   "source": [
    "# 위에서 전처리한 \"편익시설\" 컬럼을 리스트 형태로 만들고 다시 str 으로 변환 합니다. \n",
    "# 위에서 만든 get_string 함수로 전처리를 합니다.\n",
    "\n"
   ]
  },
  {
   "cell_type": "code",
   "execution_count": 52,
   "metadata": {},
   "outputs": [],
   "source": [
    "# ,가 2개 이상 들어가면 하나로 변경합니다.\n",
    "# '화장실,주차장,,,' 텍스트를 정규표현식으로 바꿔봅니다.\n",
    "\n"
   ]
  },
  {
   "cell_type": "code",
   "execution_count": 53,
   "metadata": {},
   "outputs": [],
   "source": [
    "# 다시 \",\"로 텍스트를 분리하고 판다스의 Series 형태로 만들고 value_counts 로 빈도수를 계산합니다.\n",
    "\n",
    "\n"
   ]
  },
  {
   "cell_type": "code",
   "execution_count": 54,
   "metadata": {},
   "outputs": [],
   "source": [
    "# 상위 50개 단어에 대해 막대그래프를 그려봅니다.\n",
    "\n"
   ]
  },
  {
   "cell_type": "code",
   "execution_count": 55,
   "metadata": {},
   "outputs": [],
   "source": [
    "# 편익시설에 대한 워드클라우드를 위에서 정의한 wordcloud 함수로 그려봅니다.\n",
    "\n"
   ]
  },
  {
   "cell_type": "markdown",
   "metadata": {},
   "source": [
    "### 키워드 별 빈도수 구하기\n",
    "* 위에서 빈도수를 구해보니 \"파고라\", \"파고라등\" 이라는 두 개의 단어가 다른 빈도로 세어졌습니다.\n",
    "* \"화장실\"도 \"화장실동\", \"공중화장실\" 등 다양한 텍스트가 있는 것을 볼 수 있습니다.\n",
    "* 일일이 전처리를 해주면 좋지만 데이터 전처리에는 많은 예외가 등장합니다.\n",
    "* 그래서 때로는 보고자 하는 키워드를 넣고 빈도수를 구하는게 전처리를 하는 작업보다 빠를 때도 있습니다.\n",
    "* 여기에서는 운동시설이나 편의시설이 있는데 특정 시설을 키워드에 넣고 구하는 방법을 사용해 봅니다."
   ]
  },
  {
   "cell_type": "code",
   "execution_count": 56,
   "metadata": {},
   "outputs": [],
   "source": [
    "# \"공원보유시설(편익시설)\" 에서 문자열 처리를 하기 위해 결측치를 제외한 값을 가져옵니다.\n",
    "# df_fac 이라는 변수에 담습니다.\n",
    "\n"
   ]
  },
  {
   "cell_type": "code",
   "execution_count": 57,
   "metadata": {},
   "outputs": [],
   "source": [
    "# facilities 리스트에 있는 값으로 for문을 활용해 컬럼을 만듭니다.\n",
    "# 해당 단어가 들어가면 True, 아니면 False로 값이 표현되도록 합니다.\n",
    "\n"
   ]
  },
  {
   "cell_type": "code",
   "execution_count": 58,
   "metadata": {},
   "outputs": [],
   "source": [
    "# facilities 리스트로 만든 각 컬럼의 빈도수를 구합니다. \n",
    "\n"
   ]
  },
  {
   "cell_type": "markdown",
   "metadata": {},
   "source": [
    "## 특정 정보 마스킹\n",
    "### 전화번호 마스킹"
   ]
  },
  {
   "cell_type": "code",
   "execution_count": 59,
   "metadata": {},
   "outputs": [],
   "source": [
    "# 가운데가 4자리일 때 번호 마스킹 \"010-1234-5678\"\n",
    "# re.sub(\"규칙\", \"패턴\", \"데이터\")\n",
    "# 규칙\n",
    "# (\\d{3}) 는 숫자 3자리를 의미합니다.\n",
    "# (\\d{1,2}) 는 숫자 1~2자리를 의미합니다.\n",
    "# 패턴\n",
    "# r\"\\1-\\2**-**\\5\" 의 \"\\숫자\"는 앞에서 () 안에 정의한 값의 순서를 의미합니다. \n",
    "# 변수의 순서라고 생각해도 됩니다.\n",
    "# 여기에서 \\3, \\4는 쓰지 않고 * 로 대체했습니다.\n",
    "# r은 raw를 의미합니다.\n",
    "\n"
   ]
  },
  {
   "cell_type": "code",
   "execution_count": 60,
   "metadata": {},
   "outputs": [],
   "source": [
    "# 가운데가 3자리일 때 번호 마스킹이 잘 동작하는지 확인 \"010-123-5678\"\n",
    "\n"
   ]
  },
  {
   "cell_type": "code",
   "execution_count": 61,
   "metadata": {},
   "outputs": [],
   "source": [
    "# 가운데가 2자리일 때는 마스킹 없이 보이는지 확인하기 \"010-12-5678\"\n",
    "\n"
   ]
  },
  {
   "cell_type": "code",
   "execution_count": 62,
   "metadata": {},
   "outputs": [],
   "source": [
    "# 국가 번호가 들어갈 때 확인하기 \"+82-10-1234-5678\"\n",
    "# - 가 들어가거나 여러 예외사항이 있을 때 마스킹 되지 않을 수 있음 그렇다면 함수를 만들어서 해결해 보기\n",
    "\n"
   ]
  },
  {
   "cell_type": "code",
   "execution_count": 63,
   "metadata": {},
   "outputs": [],
   "source": [
    "# 함수를 통해 가운데 들어오는 번호를 마스킹 하도록 처리\n",
    "# 국제번호 등 다양한 형식의 번호가 들어왔을 때 \n",
    "# - 를 기준으로 뒤에서 두 번째 항목을 마스킹 처리 하되, \n",
    "# 마지막 자리는 앞 두자리만 마스킹 합니다.\n",
    "# 함수명은 mask_phone_number 로 합니다.\n",
    "\n"
   ]
  },
  {
   "cell_type": "code",
   "execution_count": 64,
   "metadata": {},
   "outputs": [],
   "source": [
    "# 결측치가 들어갔을 때 오류가 날 수 있기 때문에 결측치를 체크합니다.\n",
    "\n"
   ]
  },
  {
   "cell_type": "code",
   "execution_count": 65,
   "metadata": {},
   "outputs": [],
   "source": [
    "# 위에서 만든 함수를 map을 통해 \"전화번호\" 컬럼에 적용합니다.\n",
    "\n"
   ]
  },
  {
   "cell_type": "markdown",
   "metadata": {},
   "source": [
    "### 이메일 주소 마스킹\n",
    "* 해당 데이터에는 이메일 주소가 없지만 정규표현식을 더 연습해 보기 위해 이메일주소도 마스킹처리를 해봅니다."
   ]
  },
  {
   "cell_type": "code",
   "execution_count": 66,
   "metadata": {},
   "outputs": [],
   "source": [
    "# 이메일 주소의 형식만 남기고 모두 마스크처리 합니다.\n",
    "email = \"address@mail.com\"\n"
   ]
  },
  {
   "cell_type": "code",
   "execution_count": 67,
   "metadata": {},
   "outputs": [],
   "source": [
    "# 이메일 주소 아이디의 일부만 마스크처리 합니다. \n",
    "# 이 때 맨 앞과 맨 뒤 문자는 그대로 놔두고 나머지 문자에 대해 마스크 처리리를 합니다.\n",
    "email = \"address@mail.com\"\n",
    "\n"
   ]
  },
  {
   "cell_type": "code",
   "execution_count": 68,
   "metadata": {},
   "outputs": [
    {
     "ename": "NameError",
     "evalue": "name 'mask_email' is not defined",
     "output_type": "error",
     "traceback": [
      "\u001b[1;31m---------------------------------------------------------------------------\u001b[0m",
      "\u001b[1;31mNameError\u001b[0m                                 Traceback (most recent call last)",
      "\u001b[1;32m<ipython-input-68-ddb8fd7102ee>\u001b[0m in \u001b[0;36m<module>\u001b[1;34m\u001b[0m\n\u001b[0;32m      1\u001b[0m \u001b[1;31m# 위에서 작성한 예제를 함수로 만듭니다.\u001b[0m\u001b[1;33m\u001b[0m\u001b[1;33m\u001b[0m\u001b[1;33m\u001b[0m\u001b[0m\n\u001b[0;32m      2\u001b[0m \u001b[1;33m\u001b[0m\u001b[0m\n\u001b[1;32m----> 3\u001b[1;33m \u001b[0mmask_email\u001b[0m\u001b[1;33m(\u001b[0m\u001b[0memail\u001b[0m\u001b[1;33m)\u001b[0m\u001b[1;33m\u001b[0m\u001b[1;33m\u001b[0m\u001b[0m\n\u001b[0m",
      "\u001b[1;31mNameError\u001b[0m: name 'mask_email' is not defined"
     ]
    }
   ],
   "source": [
    "# 위에서 작성한 예제를 함수로 만듭니다.\n",
    "\n",
    "mask_email(email)"
   ]
  },
  {
   "cell_type": "code",
   "execution_count": null,
   "metadata": {},
   "outputs": [],
   "source": [
    "# \"1234address_123@gmail.com\"를 마스킹 처리 합니다.\n"
   ]
  },
  {
   "cell_type": "markdown",
   "metadata": {},
   "source": [
    "### 자동차 등록번호 마스킹\n",
    "* 역시나 해당 데이터에는 자동차 등록번호가 없지만 정규표현식을 더 연습해 보기 위해 마스킹처리를 해봅니다."
   ]
  },
  {
   "cell_type": "code",
   "execution_count": null,
   "metadata": {},
   "outputs": [],
   "source": [
    "# 자동차 등록번호를 마스킹 합니다. \n",
    "# r'*\\2\\3**\\5' 여기에서 \\1 에 해당되는 한글 앞의 숫자는 \n",
    "# 몇 자리가 들어가든 한글 바로 앞의 마지막 한자리만 봅니다.\n",
    "# 따라서 앞에 있는 숫자는 마지막 번호만 마스킹 하게 됩니다.\n",
    "car_num = \"32가1234\"\n",
    "\n"
   ]
  },
  {
   "cell_type": "code",
   "execution_count": null,
   "metadata": {},
   "outputs": [],
   "source": [
    "# 자동차 등록번호를 마스킹 합니다. \n",
    "car_num = \"안녕하세요. 자동차 등록 번호는 132가1234 입니다.\"\n"
   ]
  },
  {
   "cell_type": "markdown",
   "metadata": {},
   "source": [
    "# 데이터 요약하기\n",
    "## 수치형, 범주형 변수 구분하기"
   ]
  },
  {
   "cell_type": "code",
   "execution_count": null,
   "metadata": {},
   "outputs": [],
   "source": [
    "# data_types 변수에 데이터 타입만 따로 모으기\n",
    "\n"
   ]
  },
  {
   "cell_type": "markdown",
   "metadata": {},
   "source": [
    "## 수치형 변수 요약"
   ]
  },
  {
   "cell_type": "code",
   "execution_count": null,
   "metadata": {},
   "outputs": [],
   "source": [
    "# 수치형 변수 구하기\n",
    "# var_numbers 변수에 담습니다.\n",
    "\n"
   ]
  },
  {
   "cell_type": "code",
   "execution_count": null,
   "metadata": {},
   "outputs": [],
   "source": [
    "# 히스토그램을 그리면 수치형 변수에 대한 빈도수 분포를 확인할 수 있습니다.\n",
    "# 빈도수 분포 => 도수 분포표를 시각화 합니다.\n",
    "\n"
   ]
  },
  {
   "cell_type": "code",
   "execution_count": null,
   "metadata": {
    "scrolled": true
   },
   "outputs": [],
   "source": [
    "# describe 를 통해 요약합니다.\n",
    "\n"
   ]
  },
  {
   "cell_type": "markdown",
   "metadata": {},
   "source": [
    "## 범주형 변수 요약"
   ]
  },
  {
   "cell_type": "code",
   "execution_count": null,
   "metadata": {},
   "outputs": [],
   "source": [
    "# 범주형 변수 구하기\n",
    "# var_objects 라는 변수에 저장합니다.\n",
    "\n"
   ]
  },
  {
   "cell_type": "code",
   "execution_count": null,
   "metadata": {},
   "outputs": [],
   "source": [
    "# 문자열 타입의 데이터 describe 로 요약하기\n"
   ]
  },
  {
   "cell_type": "markdown",
   "metadata": {},
   "source": [
    "## crosstab\n",
    "* 범주형 변수끼리의 빈도수 구하기"
   ]
  },
  {
   "cell_type": "code",
   "execution_count": null,
   "metadata": {},
   "outputs": [],
   "source": [
    "# 관리기관과 공원구분에 따른 빈도수를 구합니다.\n",
    "# 결과가 많기 때문에 \"체육공원\"을 5개 이상 관리하는 기관명만 따로 뽑습니다.\n",
    "# 숫자의 많고 적음 표시를 위해 style.background_gradient() 를 사용합니다.\n",
    "# 결과를 manage_category 변수에 담습니다.\n"
   ]
  },
  {
   "cell_type": "code",
   "execution_count": null,
   "metadata": {},
   "outputs": [],
   "source": [
    "# \"시도\" 별 \"공원구분\" 의 수를 구합니다.\n"
   ]
  },
  {
   "cell_type": "markdown",
   "metadata": {},
   "source": [
    "# 시도별 공원 분포"
   ]
  },
  {
   "cell_type": "markdown",
   "metadata": {},
   "source": [
    "## 시도별 공원 비율"
   ]
  },
  {
   "cell_type": "code",
   "execution_count": null,
   "metadata": {},
   "outputs": [],
   "source": [
    "# 시도별로 합계 데이터를 출력\n",
    "\n"
   ]
  },
  {
   "cell_type": "code",
   "execution_count": null,
   "metadata": {},
   "outputs": [],
   "source": [
    "# 합계와 비율을 함께 구합니다.\n",
    "# city 라는 변수에 담습니다.\n",
    "\n"
   ]
  },
  {
   "cell_type": "markdown",
   "metadata": {},
   "source": [
    "## 공원구분별 분포"
   ]
  },
  {
   "cell_type": "code",
   "execution_count": null,
   "metadata": {},
   "outputs": [],
   "source": [
    "# \"공원구분\"별로 색상을 다르게 표현하고 \"공원면적\"에 따라 원의 크기를 다르게 그립니다.\n",
    "# 제주도는 해안선과 유사한 모습으로 공원이 배치되어 있는 모습이 인상적입니다.\n",
    "# df에는 전체 데이터 프레임이 df_park 에는 위경도의 이상치를 제거한 데이터가 들어있습니다.\n",
    "\n"
   ]
  },
  {
   "cell_type": "markdown",
   "metadata": {},
   "source": [
    "## 시도별 공원분포"
   ]
  },
  {
   "cell_type": "code",
   "execution_count": null,
   "metadata": {},
   "outputs": [],
   "source": [
    "# 시도별로 scatterplot 의 색상을 다르게 표현하고 공원면적에 따라 원의 크기를 다르게 그립니다.\n",
    "\n"
   ]
  },
  {
   "cell_type": "markdown",
   "metadata": {},
   "source": [
    "https://matplotlib.org/3.1.0/tutorials/colors/colormaps.html"
   ]
  },
  {
   "cell_type": "code",
   "execution_count": null,
   "metadata": {},
   "outputs": [],
   "source": [
    "# countplot 으로 시도별 빈도수를 그립니다.\n",
    "\n"
   ]
  },
  {
   "cell_type": "markdown",
   "metadata": {},
   "source": [
    "## 특정 공원구분 가져오기"
   ]
  },
  {
   "cell_type": "code",
   "execution_count": null,
   "metadata": {
    "scrolled": true
   },
   "outputs": [],
   "source": [
    "# \"공원구분\"별로 빈도수를 구합니다.\n",
    "\n"
   ]
  },
  {
   "cell_type": "code",
   "execution_count": null,
   "metadata": {},
   "outputs": [],
   "source": [
    "# str.match를 통해 특정 텍스트가 들어가는 공원만 가져오기\n",
    "# \".*\"는 앞뒤로 어떤 문자가 등장하든 상관없다는 의미입니다.\n",
    "# 따라서 아래의 정규표현식 대신 r'(역사|체육|수변|문화)공원'를 사용해도 똑같이 동작합니다.\n",
    "park_type = r'.*((역사|체육|수변|문화)공원).*'\n",
    "\n"
   ]
  },
  {
   "cell_type": "code",
   "execution_count": null,
   "metadata": {},
   "outputs": [],
   "source": [
    "# 위에서 정의한 var_numbers 라는 변수를 가져와 출력해 봅니다.\n",
    "\n"
   ]
  },
  {
   "cell_type": "code",
   "execution_count": null,
   "metadata": {},
   "outputs": [],
   "source": [
    "# 리스트 다루기 - var_pair 라는 변수에 리스트를 만들어서 값을 추가하고 삭제해 봅니다.\n",
    "# 기존 리스트에 \"공원구분\" 원소 추가하기 \"공원구분\"에 따라 색상을 다르게 표현해 보기 위함\n",
    "# var_pair 라는 변수에 담습니다. \n",
    "\n"
   ]
  },
  {
   "cell_type": "code",
   "execution_count": null,
   "metadata": {},
   "outputs": [],
   "source": [
    "# 기존 리스트의 원소를 제거하기 - '지정고시일', '고시연도', '고시월'\n",
    "# 제거 한 후 다시 제거하려고 하면 다음과 같은 오류가 발생할 수 있습니다.\n",
    "# ValueError: list.remove(x): x not in list\n",
    "\n"
   ]
  },
  {
   "cell_type": "code",
   "execution_count": null,
   "metadata": {},
   "outputs": [],
   "source": [
    "# 위에서 가져온 var_pair 라는 변수에 담긴 리스트에 있는 컬럼을 사용해 pairplot을 그립니다.\n"
   ]
  },
  {
   "cell_type": "markdown",
   "metadata": {},
   "source": [
    "## 피봇테이블로 시도별 공원수와 평균면적 구하기"
   ]
  },
  {
   "cell_type": "code",
   "execution_count": null,
   "metadata": {},
   "outputs": [],
   "source": [
    "# 시도별 공원수와 \"공원면적\" 컬럼의 평균값, 중앙값을 구합니다.\n",
    "# style.background_gradient()를 사용해서 값의 많고 적음에 따라 다른 색상으로 표현되도록 합니다.\n",
    "\n"
   ]
  },
  {
   "cell_type": "markdown",
   "metadata": {},
   "source": [
    "## 내가 사는 지역의 공원을 지도에 표시해 보기"
   ]
  },
  {
   "cell_type": "code",
   "execution_count": null,
   "metadata": {},
   "outputs": [],
   "source": [
    "# 광주광역시에 위치한 공원만 출력해 봅니다.\n",
    "# df_sn 이라는 변수에 담아서 재사용 합니다.\n",
    "\n"
   ]
  },
  {
   "cell_type": "code",
   "execution_count": null,
   "metadata": {
    "scrolled": true
   },
   "outputs": [],
   "source": [
    "# \"시도\", \"구군\", \"공원명\" 컬럼만 미리보기 합니다.\n",
    "\n"
   ]
  },
  {
   "cell_type": "markdown",
   "metadata": {},
   "source": [
    "### 특정 공원 정보 찾아보기\n",
    "* 판교의 화랑공원을 찾아봅니다."
   ]
  },
  {
   "cell_type": "code",
   "execution_count": null,
   "metadata": {
    "scrolled": true
   },
   "outputs": [],
   "source": [
    "# str.contains 로 \"공원명\"에 \"화랑\"이 들어가는 데이터를 찾습니다.\n",
    "\n"
   ]
  },
  {
   "cell_type": "code",
   "execution_count": null,
   "metadata": {},
   "outputs": [],
   "source": [
    "# cols 컬럼에 특정 컬럼만 불러와서 봅니다.\n",
    "# '공원보유시설(운동시설)', '공원보유시설(유희시설)', '공원보유시설(편익시설)', '공원보유시설(교양시설)' \n",
    "\n"
   ]
  },
  {
   "cell_type": "markdown",
   "metadata": {},
   "source": [
    "###  지도에 표현하기\n",
    "* 다음의 문서를 활용해서 지도를 표현합니다.\n",
    "* https://nbviewer.jupyter.org/github/python-visualization/folium/blob/master/examples/Quickstart.ipynb\n",
    "* Folium 사용예제 :\n",
    "http://nbviewer.jupyter.org/github/python-visualization/folium/tree/master/examples/"
   ]
  },
  {
   "cell_type": "code",
   "execution_count": null,
   "metadata": {
    "scrolled": false
   },
   "outputs": [],
   "source": [
    "# folium 으로 지도에 표현해 봅니다.\n",
    "# 지도에서 한글이 깨지면 html 문서로 저장해서 보세요\n",
    "\n"
   ]
  },
  {
   "cell_type": "code",
   "execution_count": null,
   "metadata": {},
   "outputs": [],
   "source": []
  },
  {
   "cell_type": "code",
   "execution_count": null,
   "metadata": {},
   "outputs": [],
   "source": []
  },
  {
   "cell_type": "code",
   "execution_count": null,
   "metadata": {},
   "outputs": [],
   "source": []
  },
  {
   "cell_type": "code",
   "execution_count": null,
   "metadata": {},
   "outputs": [],
   "source": []
  },
  {
   "cell_type": "code",
   "execution_count": null,
   "metadata": {},
   "outputs": [],
   "source": []
  }
 ],
 "metadata": {
  "kernelspec": {
   "display_name": "Python 3",
   "language": "python",
   "name": "python3"
  },
  "language_info": {
   "codemirror_mode": {
    "name": "ipython",
    "version": 3
   },
   "file_extension": ".py",
   "mimetype": "text/x-python",
   "name": "python",
   "nbconvert_exporter": "python",
   "pygments_lexer": "ipython3",
   "version": "3.7.6"
  },
  "toc": {
   "base_numbering": 1,
   "nav_menu": {},
   "number_sections": true,
   "sideBar": true,
   "skip_h1_title": false,
   "title_cell": "Table of Contents",
   "title_sidebar": "Contents",
   "toc_cell": false,
   "toc_position": {
    "height": "calc(100% - 180px)",
    "left": "10px",
    "top": "150px",
    "width": "256px"
   },
   "toc_section_display": true,
   "toc_window_display": true
  },
  "varInspector": {
   "cols": {
    "lenName": 16,
    "lenType": 16,
    "lenVar": 40
   },
   "kernels_config": {
    "python": {
     "delete_cmd_postfix": "",
     "delete_cmd_prefix": "del ",
     "library": "var_list.py",
     "varRefreshCmd": "print(var_dic_list())"
    },
    "r": {
     "delete_cmd_postfix": ") ",
     "delete_cmd_prefix": "rm(",
     "library": "var_list.r",
     "varRefreshCmd": "cat(var_dic_list()) "
    }
   },
   "types_to_exclude": [
    "module",
    "function",
    "builtin_function_or_method",
    "instance",
    "_Feature"
   ],
   "window_display": false
  }
 },
 "nbformat": 4,
 "nbformat_minor": 2
}
