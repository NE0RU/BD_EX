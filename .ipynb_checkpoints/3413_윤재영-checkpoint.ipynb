{
 "cells": [
  {
   "cell_type": "markdown",
   "metadata": {},
   "source": [
    "### 1번 문제"
   ]
  },
  {
   "cell_type": "code",
   "execution_count": 1,
   "metadata": {},
   "outputs": [
    {
     "name": "stdout",
     "output_type": "stream",
     "text": [
      "원래 문장 : 미국 로스앤젤레스 캘리포니아대(UCLA) 연구진은 60편 이상의 사람과 포유 동물 수면 연구를 분석한 결과, 출생후 만 2년이 조금 넘은 시기에 수면 패턴과 기능에서 극적인 반전이 일어나는 것으로 나타났다고 밝혔다.\n",
      "'<SUB>'로 대체한 결과 : 미국 로스앤젤레스 캘리포니아대(<SUB>) 연구진은 <SUB>편 이상의 사람과 포유 동물 수면 연구를 분석한 결과, 출생후 만 <SUB>년이 조금 넘은 시기에 수면 패턴과 기능에서 극적인 반전이 일어나는 것으로 나타났다고 밝혔다.\n"
     ]
    }
   ],
   "source": [
    "import re\n",
    "\n",
    "text = \"미국 로스앤젤레스 캘리포니아대(UCLA) 연구진은 60편 이상의 사람과 포유 동물 수면 연구를 분석한 결과, 출생후 만 2년이 조금 넘은 시기에 수면 패턴과 기능에서 극적인 반전이 일어나는 것으로 나타났다고 밝혔다.\"\n",
    "\n",
    "obj_word = '[a-zA-Z0-9]+'\n",
    "sub_word = \"<SUB>\"\n",
    "\n",
    "result = re.sub(obj_word, sub_word, text)\n",
    "\n",
    "print(f'원래 문장 : {text}')\n",
    "print(f\"'{sub_word}'로 대체한 결과 : {result}\")"
   ]
  },
  {
   "cell_type": "markdown",
   "metadata": {},
   "source": [
    "### 2번 문제"
   ]
  },
  {
   "cell_type": "code",
   "execution_count": 41,
   "metadata": {},
   "outputs": [
    {
     "name": "stdout",
     "output_type": "stream",
     "text": [
      "변경한 문장: ['hgd@gsm.hs.kr']\n",
      "변경한 문장: 제 이름은 홍길동 입니다. 제 이메일 주소는 <비공개> 입니다.\n"
     ]
    }
   ],
   "source": [
    "text = \"제 이름은 홍길동 입니다. 제 이메일 주소는 hgd@gsm.hs.kr 입니다.\"\n",
    "\n",
    "sub_word = '<비공개>'\n",
    "\n",
    "mail = '[a-zA-Z0-9\\-_]+@+[a-zA-Z0-9\\-_.]+'\n",
    "name = re.findall(mail, text)\n",
    "\n",
    "compiling = re.compile('[a-zA-Z0-9\\-_]+@+[a-zA-Z0-9\\-_.]+')\n",
    "email = re.sub(compiling, sub_word, text)\n",
    "\n",
    "print(f'변경한 문장: {name}')\n",
    "print(f'변경한 문장: {email}')"
   ]
  },
  {
   "cell_type": "markdown",
   "metadata": {},
   "source": [
    "### 3번 문제"
   ]
  },
  {
   "cell_type": "code",
   "execution_count": 37,
   "metadata": {},
   "outputs": [
    {
     "data": {
      "text/plain": [
       "['100', '200']"
      ]
     },
     "execution_count": 37,
     "metadata": {},
     "output_type": "execute_result"
    }
   ],
   "source": [
    "import re\n",
    "\n",
    "text = \"100원 주세요. 200원 주세요.\"\n",
    "\n",
    "re_expression = re.compile(\"[0-9]+(?=원)\")\n",
    "\n",
    "content = re.compile(re_expression)\n",
    "content.findall(text)"
   ]
  }
 ],
 "metadata": {
  "kernelspec": {
   "display_name": "Python 3",
   "language": "python",
   "name": "python3"
  },
  "language_info": {
   "codemirror_mode": {
    "name": "ipython",
    "version": 3
   },
   "file_extension": ".py",
   "mimetype": "text/x-python",
   "name": "python",
   "nbconvert_exporter": "python",
   "pygments_lexer": "ipython3",
   "version": "3.7.6"
  }
 },
 "nbformat": 4,
 "nbformat_minor": 4
}
