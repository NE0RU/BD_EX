{
 "cells": [
  {
   "cell_type": "code",
   "execution_count": 4,
   "metadata": {},
   "outputs": [],
   "source": [
    "from pytesseract import pytesseract\n",
    "from PIL import Image"
   ]
  },
  {
   "cell_type": "code",
   "execution_count": 5,
   "metadata": {},
   "outputs": [],
   "source": [
    "def load_image(path, mode=''):\n",
    "    return Image.open(path)"
   ]
  },
  {
   "cell_type": "code",
   "execution_count": 6,
   "metadata": {},
   "outputs": [],
   "source": [
    "def run_pytesseract(image, path_engin, config = '-l eng'):\n",
    "    pytesseract.tesseract_cmd = path_engin\n",
    "    result = pytesseract.image_to_string(image, config = config)\n",
    "    return result"
   ]
  },
  {
   "cell_type": "code",
   "execution_count": 9,
   "metadata": {},
   "outputs": [
    {
     "data": {
      "text/plain": [
       "'   \\n \\n\\n \\n\\n  \\n\\nPW >> Shg79eh832\\n\\n \\n\\n'"
      ]
     },
     "execution_count": 9,
     "metadata": {},
     "output_type": "execute_result"
    }
   ],
   "source": [
    "path_engin = r\"C:\\Program Files (x86)\\Tesseract-OCR\\tesseract.exe\"\n",
    "path_image = './image/test.jpg'\n",
    "\n",
    "run_pytesseract(load_image(path_image), path_engin)"
   ]
  },
  {
   "cell_type": "code",
   "execution_count": null,
   "metadata": {},
   "outputs": [],
   "source": []
  }
 ],
 "metadata": {
  "kernelspec": {
   "display_name": "deep",
   "language": "python",
   "name": "deep"
  }
 },
 "nbformat": 4,
 "nbformat_minor": 4
}
