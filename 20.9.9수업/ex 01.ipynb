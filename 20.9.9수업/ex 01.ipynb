{
 "cells": [
  {
   "cell_type": "code",
   "execution_count": 4,
   "metadata": {},
   "outputs": [],
   "source": [
    "from pytesseract import pytesseract\n",
    "from PIL import Image"
   ]
  },
  {
   "cell_type": "code",
   "execution_count": 5,
   "metadata": {},
   "outputs": [],
   "source": [
    "def load_image(path, mode=''):\n",
    "    return Image.open(path)"
   ]
  },
  {
   "cell_type": "code",
   "execution_count": 6,
   "metadata": {},
   "outputs": [],
   "source": [
    "def run_pytesseract(image, path_engin, config = '-l eng'):\n",
    "    pytesseract.tesseract_cmd = path_engin\n",
    "    result = pytesseract.image_to_string(image, config = config)\n",
    "    return result"
   ]
  },
  {
   "cell_type": "code",
   "execution_count": 10,
   "metadata": {},
   "outputs": [
    {
     "data": {
      "text/plain": [
       "'   \\n \\n\\n \\n\\n  \\n\\nPW >> Shg79eh832\\n\\n \\n\\n'"
      ]
     },
     "execution_count": 10,
     "metadata": {},
     "output_type": "execute_result"
    }
   ],
   "source": [
    "path_engin = r\"C:\\Program Files (x86)\\Tesseract-OCR\\tesseract.exe\"\n",
    "path_image = './image/test.jpg'\n",
    "\n",
    "run_pytesseract(load_image(path_image), path_engin)"
   ]
  },
  {
   "cell_type": "code",
   "execution_count": 11,
   "metadata": {},
   "outputs": [],
   "source": [
    "import pandas as pd"
   ]
  },
  {
   "cell_type": "code",
   "execution_count": 12,
   "metadata": {},
   "outputs": [],
   "source": [
    "def image2data(path_img):\n",
    "    data = pytesseract.image_to_data(path_img)\n",
    "    lines = data.split('\\n')\n",
    "    columns, df_data = None, None\n",
    "    for i,line in enumerate(lines):\n",
    "        line = line.split('\\t')\n",
    "        if i==0:\n",
    "            columns = line.copy()\n",
    "            df_data = {col:[] for col in line}\n",
    "            continue\n",
    "        for col, l in zip(columns,line):\n",
    "            df_data[col]+=[l]\n",
    "    \n",
    "    data = pd.DataFrame.from_dict(df_data, orient='index')\n",
    "    df_drop_column = data.dropna(axis=1)\n",
    "    return df_drop_column.T"
   ]
  },
  {
   "cell_type": "code",
   "execution_count": null,
   "metadata": {},
   "outputs": [],
   "source": []
  }
 ],
 "metadata": {
  "kernelspec": {
   "display_name": "deep",
   "language": "python",
   "name": "deep"
  },
  "language_info": {
   "codemirror_mode": {
    "name": "ipython",
    "version": 3
   },
   "file_extension": ".py",
   "mimetype": "text/x-python",
   "name": "python",
   "nbconvert_exporter": "python",
   "pygments_lexer": "ipython3",
   "version": "3.7.7"
  }
 },
 "nbformat": 4,
 "nbformat_minor": 4
}
